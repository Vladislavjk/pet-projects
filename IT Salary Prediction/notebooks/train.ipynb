{
 "nbformat": 4,
 "nbformat_minor": 0,
 "metadata": {
  "colab": {
   "provenance": []
  },
  "kernelspec": {
   "name": "python3",
   "display_name": "Python 3"
  },
  "language_info": {
   "name": "python"
  }
 },
 "cells": [
  {
   "cell_type": "code",
   "source": [
    "! pip install catboost"
   ],
   "metadata": {
    "colab": {
     "base_uri": "https://localhost:8080/"
    },
    "id": "ay06GhwEgNOm",
    "outputId": "ebff5cae-6b6e-4ff7-bb1a-39e67a156152",
    "pycharm": {
     "name": "#%%\n"
    }
   },
   "execution_count": 2,
   "outputs": [
    {
     "output_type": "stream",
     "name": "stdout",
     "text": [
      "Looking in indexes: https://pypi.org/simple, https://us-python.pkg.dev/colab-wheels/public/simple/\n",
      "Collecting catboost\n",
      "  Downloading catboost-1.1.1-cp38-none-manylinux1_x86_64.whl (76.6 MB)\n",
      "\u001B[2K     \u001B[90m━━━━━━━━━━━━━━━━━━━━━━━━━━━━━━━━━━━━━━━━\u001B[0m \u001B[32m76.6/76.6 MB\u001B[0m \u001B[31m11.9 MB/s\u001B[0m eta \u001B[36m0:00:00\u001B[0m\n",
      "\u001B[?25hRequirement already satisfied: graphviz in /usr/local/lib/python3.8/dist-packages (from catboost) (0.10.1)\n",
      "Requirement already satisfied: matplotlib in /usr/local/lib/python3.8/dist-packages (from catboost) (3.5.3)\n",
      "Requirement already satisfied: scipy in /usr/local/lib/python3.8/dist-packages (from catboost) (1.7.3)\n",
      "Requirement already satisfied: six in /usr/local/lib/python3.8/dist-packages (from catboost) (1.15.0)\n",
      "Requirement already satisfied: numpy>=1.16.0 in /usr/local/lib/python3.8/dist-packages (from catboost) (1.22.4)\n",
      "Requirement already satisfied: pandas>=0.24.0 in /usr/local/lib/python3.8/dist-packages (from catboost) (1.3.5)\n",
      "Requirement already satisfied: plotly in /usr/local/lib/python3.8/dist-packages (from catboost) (5.5.0)\n",
      "Requirement already satisfied: pytz>=2017.3 in /usr/local/lib/python3.8/dist-packages (from pandas>=0.24.0->catboost) (2022.7.1)\n",
      "Requirement already satisfied: python-dateutil>=2.7.3 in /usr/local/lib/python3.8/dist-packages (from pandas>=0.24.0->catboost) (2.8.2)\n",
      "Requirement already satisfied: packaging>=20.0 in /usr/local/lib/python3.8/dist-packages (from matplotlib->catboost) (23.0)\n",
      "Requirement already satisfied: pillow>=6.2.0 in /usr/local/lib/python3.8/dist-packages (from matplotlib->catboost) (8.4.0)\n",
      "Requirement already satisfied: cycler>=0.10 in /usr/local/lib/python3.8/dist-packages (from matplotlib->catboost) (0.11.0)\n",
      "Requirement already satisfied: pyparsing>=2.2.1 in /usr/local/lib/python3.8/dist-packages (from matplotlib->catboost) (3.0.9)\n",
      "Requirement already satisfied: fonttools>=4.22.0 in /usr/local/lib/python3.8/dist-packages (from matplotlib->catboost) (4.38.0)\n",
      "Requirement already satisfied: kiwisolver>=1.0.1 in /usr/local/lib/python3.8/dist-packages (from matplotlib->catboost) (1.4.4)\n",
      "Requirement already satisfied: tenacity>=6.2.0 in /usr/local/lib/python3.8/dist-packages (from plotly->catboost) (8.2.1)\n",
      "Installing collected packages: catboost\n",
      "Successfully installed catboost-1.1.1\n"
     ]
    }
   ]
  },
  {
   "cell_type": "code",
   "execution_count": 3,
   "metadata": {
    "id": "BGqDPYpBecsU",
    "pycharm": {
     "name": "#%%\n"
    }
   },
   "outputs": [],
   "source": [
    "import numpy as np\n",
    "import pandas as pd\n",
    "\n",
    "from catboost import CatBoostRegressor\n",
    "from sklearn.ensemble import RandomForestRegressor\n",
    "from sklearn.linear_model import LinearRegression, Lasso\n",
    "from sklearn.feature_extraction.text import TfidfVectorizer\n",
    "from sklearn.model_selection import train_test_split, RandomizedSearchCV\n",
    "from sklearn.metrics import mean_squared_error\n",
    "from scipy.sparse import hstack"
   ]
  },
  {
   "cell_type": "code",
   "source": [
    "df = pd.read_csv('data.csv')"
   ],
   "metadata": {
    "id": "k-LagTHzee3Z",
    "pycharm": {
     "name": "#%%\n"
    }
   },
   "execution_count": 4,
   "outputs": []
  },
  {
   "cell_type": "code",
   "source": [
    "df"
   ],
   "metadata": {
    "colab": {
     "base_uri": "https://localhost:8080/",
     "height": 710
    },
    "id": "68x-8gcRe9qW",
    "outputId": "031596ca-5e52-4568-d861-54c1814d2dde",
    "pycharm": {
     "name": "#%%\n"
    }
   },
   "execution_count": 7,
   "outputs": [
    {
     "output_type": "execute_result",
     "data": {
      "text/plain": [
       "                             title      city marker_icon workplace_type  \\\n",
       "0                Mid iOS Developer   Wrocław      mobile         remote   \n",
       "1      PHP Web Developer - Symfony  Warszawa         php         remote   \n",
       "2      PHP Web Developer - Symfony  Warszawa         php         remote   \n",
       "3             IT Security Engineer  Warszawa    security  partly_remote   \n",
       "4             IT Security Engineer  Warszawa    security  partly_remote   \n",
       "...                            ...       ...         ...            ...   \n",
       "12001              Adobe Developer   Wrocław       other         remote   \n",
       "12002         Mid Python Developer   Wrocław      python         remote   \n",
       "12003        Mid Flutter Developer    Gdańsk      mobile  partly_remote   \n",
       "12004          Mid React Developer    Gdańsk  javascript         remote   \n",
       "12005        Senior Java Developer   Gliwice        java         remote   \n",
       "\n",
       "                 company_name experience_level                       skills  \\\n",
       "0                       CRED               mid            iOS Combine Swift   \n",
       "1                     digatus              mid                      API PHP   \n",
       "2                     digatus              mid                      API PHP   \n",
       "3       CloudFerro sp. z o.o.              mid     Linux Cybersecurity SIEM   \n",
       "4       CloudFerro sp. z o.o.              mid     Linux Cybersecurity SIEM   \n",
       "...                       ...              ...                          ...   \n",
       "12001  Experis Manpower Group           senior  Adobe Campaign Adobe Target   \n",
       "12002                sky gate              mid           Django GitFLow Git   \n",
       "12003                sky gate              mid      REST API GitHub Flutter   \n",
       "12004                sky gate              mid      GitHub React JavaScript   \n",
       "12005                  Devire           senior             JPA Java EE Java   \n",
       "\n",
       "      contract_type     from       to  \n",
       "0               b2b  20000.0  26000.0  \n",
       "1               b2b  15000.0  23000.0  \n",
       "2         permanent  13000.0  20000.0  \n",
       "3         permanent  13000.0  18000.0  \n",
       "4               b2b  13000.0  18000.0  \n",
       "...             ...      ...      ...  \n",
       "12001           b2b  26880.0  30240.0  \n",
       "12002           b2b   8000.0  16000.0  \n",
       "12003     permanent   9000.0  18000.0  \n",
       "12004     permanent   9000.0  18000.0  \n",
       "12005           b2b  21840.0  26880.0  \n",
       "\n",
       "[12006 rows x 10 columns]"
      ],
      "text/html": [
       "\n",
       "  <div id=\"df-8f5f09ea-ae41-4f89-959c-1d758031e406\">\n",
       "    <div class=\"colab-df-container\">\n",
       "      <div>\n",
       "<style scoped>\n",
       "    .dataframe tbody tr th:only-of-type {\n",
       "        vertical-align: middle;\n",
       "    }\n",
       "\n",
       "    .dataframe tbody tr th {\n",
       "        vertical-align: top;\n",
       "    }\n",
       "\n",
       "    .dataframe thead th {\n",
       "        text-align: right;\n",
       "    }\n",
       "</style>\n",
       "<table border=\"1\" class=\"dataframe\">\n",
       "  <thead>\n",
       "    <tr style=\"text-align: right;\">\n",
       "      <th></th>\n",
       "      <th>title</th>\n",
       "      <th>city</th>\n",
       "      <th>marker_icon</th>\n",
       "      <th>workplace_type</th>\n",
       "      <th>company_name</th>\n",
       "      <th>experience_level</th>\n",
       "      <th>skills</th>\n",
       "      <th>contract_type</th>\n",
       "      <th>from</th>\n",
       "      <th>to</th>\n",
       "    </tr>\n",
       "  </thead>\n",
       "  <tbody>\n",
       "    <tr>\n",
       "      <th>0</th>\n",
       "      <td>Mid iOS Developer</td>\n",
       "      <td>Wrocław</td>\n",
       "      <td>mobile</td>\n",
       "      <td>remote</td>\n",
       "      <td>CRED</td>\n",
       "      <td>mid</td>\n",
       "      <td>iOS Combine Swift</td>\n",
       "      <td>b2b</td>\n",
       "      <td>20000.0</td>\n",
       "      <td>26000.0</td>\n",
       "    </tr>\n",
       "    <tr>\n",
       "      <th>1</th>\n",
       "      <td>PHP Web Developer - Symfony</td>\n",
       "      <td>Warszawa</td>\n",
       "      <td>php</td>\n",
       "      <td>remote</td>\n",
       "      <td>digatus</td>\n",
       "      <td>mid</td>\n",
       "      <td>API PHP</td>\n",
       "      <td>b2b</td>\n",
       "      <td>15000.0</td>\n",
       "      <td>23000.0</td>\n",
       "    </tr>\n",
       "    <tr>\n",
       "      <th>2</th>\n",
       "      <td>PHP Web Developer - Symfony</td>\n",
       "      <td>Warszawa</td>\n",
       "      <td>php</td>\n",
       "      <td>remote</td>\n",
       "      <td>digatus</td>\n",
       "      <td>mid</td>\n",
       "      <td>API PHP</td>\n",
       "      <td>permanent</td>\n",
       "      <td>13000.0</td>\n",
       "      <td>20000.0</td>\n",
       "    </tr>\n",
       "    <tr>\n",
       "      <th>3</th>\n",
       "      <td>IT Security Engineer</td>\n",
       "      <td>Warszawa</td>\n",
       "      <td>security</td>\n",
       "      <td>partly_remote</td>\n",
       "      <td>CloudFerro sp. z o.o.</td>\n",
       "      <td>mid</td>\n",
       "      <td>Linux Cybersecurity SIEM</td>\n",
       "      <td>permanent</td>\n",
       "      <td>13000.0</td>\n",
       "      <td>18000.0</td>\n",
       "    </tr>\n",
       "    <tr>\n",
       "      <th>4</th>\n",
       "      <td>IT Security Engineer</td>\n",
       "      <td>Warszawa</td>\n",
       "      <td>security</td>\n",
       "      <td>partly_remote</td>\n",
       "      <td>CloudFerro sp. z o.o.</td>\n",
       "      <td>mid</td>\n",
       "      <td>Linux Cybersecurity SIEM</td>\n",
       "      <td>b2b</td>\n",
       "      <td>13000.0</td>\n",
       "      <td>18000.0</td>\n",
       "    </tr>\n",
       "    <tr>\n",
       "      <th>...</th>\n",
       "      <td>...</td>\n",
       "      <td>...</td>\n",
       "      <td>...</td>\n",
       "      <td>...</td>\n",
       "      <td>...</td>\n",
       "      <td>...</td>\n",
       "      <td>...</td>\n",
       "      <td>...</td>\n",
       "      <td>...</td>\n",
       "      <td>...</td>\n",
       "    </tr>\n",
       "    <tr>\n",
       "      <th>12001</th>\n",
       "      <td>Adobe Developer</td>\n",
       "      <td>Wrocław</td>\n",
       "      <td>other</td>\n",
       "      <td>remote</td>\n",
       "      <td>Experis Manpower Group</td>\n",
       "      <td>senior</td>\n",
       "      <td>Adobe Campaign Adobe Target</td>\n",
       "      <td>b2b</td>\n",
       "      <td>26880.0</td>\n",
       "      <td>30240.0</td>\n",
       "    </tr>\n",
       "    <tr>\n",
       "      <th>12002</th>\n",
       "      <td>Mid Python Developer</td>\n",
       "      <td>Wrocław</td>\n",
       "      <td>python</td>\n",
       "      <td>remote</td>\n",
       "      <td>sky gate</td>\n",
       "      <td>mid</td>\n",
       "      <td>Django GitFLow Git</td>\n",
       "      <td>b2b</td>\n",
       "      <td>8000.0</td>\n",
       "      <td>16000.0</td>\n",
       "    </tr>\n",
       "    <tr>\n",
       "      <th>12003</th>\n",
       "      <td>Mid Flutter Developer</td>\n",
       "      <td>Gdańsk</td>\n",
       "      <td>mobile</td>\n",
       "      <td>partly_remote</td>\n",
       "      <td>sky gate</td>\n",
       "      <td>mid</td>\n",
       "      <td>REST API GitHub Flutter</td>\n",
       "      <td>permanent</td>\n",
       "      <td>9000.0</td>\n",
       "      <td>18000.0</td>\n",
       "    </tr>\n",
       "    <tr>\n",
       "      <th>12004</th>\n",
       "      <td>Mid React Developer</td>\n",
       "      <td>Gdańsk</td>\n",
       "      <td>javascript</td>\n",
       "      <td>remote</td>\n",
       "      <td>sky gate</td>\n",
       "      <td>mid</td>\n",
       "      <td>GitHub React JavaScript</td>\n",
       "      <td>permanent</td>\n",
       "      <td>9000.0</td>\n",
       "      <td>18000.0</td>\n",
       "    </tr>\n",
       "    <tr>\n",
       "      <th>12005</th>\n",
       "      <td>Senior Java Developer</td>\n",
       "      <td>Gliwice</td>\n",
       "      <td>java</td>\n",
       "      <td>remote</td>\n",
       "      <td>Devire</td>\n",
       "      <td>senior</td>\n",
       "      <td>JPA Java EE Java</td>\n",
       "      <td>b2b</td>\n",
       "      <td>21840.0</td>\n",
       "      <td>26880.0</td>\n",
       "    </tr>\n",
       "  </tbody>\n",
       "</table>\n",
       "<p>12006 rows × 10 columns</p>\n",
       "</div>\n",
       "      <button class=\"colab-df-convert\" onclick=\"convertToInteractive('df-8f5f09ea-ae41-4f89-959c-1d758031e406')\"\n",
       "              title=\"Convert this dataframe to an interactive table.\"\n",
       "              style=\"display:none;\">\n",
       "        \n",
       "  <svg xmlns=\"http://www.w3.org/2000/svg\" height=\"24px\"viewBox=\"0 0 24 24\"\n",
       "       width=\"24px\">\n",
       "    <path d=\"M0 0h24v24H0V0z\" fill=\"none\"/>\n",
       "    <path d=\"M18.56 5.44l.94 2.06.94-2.06 2.06-.94-2.06-.94-.94-2.06-.94 2.06-2.06.94zm-11 1L8.5 8.5l.94-2.06 2.06-.94-2.06-.94L8.5 2.5l-.94 2.06-2.06.94zm10 10l.94 2.06.94-2.06 2.06-.94-2.06-.94-.94-2.06-.94 2.06-2.06.94z\"/><path d=\"M17.41 7.96l-1.37-1.37c-.4-.4-.92-.59-1.43-.59-.52 0-1.04.2-1.43.59L10.3 9.45l-7.72 7.72c-.78.78-.78 2.05 0 2.83L4 21.41c.39.39.9.59 1.41.59.51 0 1.02-.2 1.41-.59l7.78-7.78 2.81-2.81c.8-.78.8-2.07 0-2.86zM5.41 20L4 18.59l7.72-7.72 1.47 1.35L5.41 20z\"/>\n",
       "  </svg>\n",
       "      </button>\n",
       "      \n",
       "  <style>\n",
       "    .colab-df-container {\n",
       "      display:flex;\n",
       "      flex-wrap:wrap;\n",
       "      gap: 12px;\n",
       "    }\n",
       "\n",
       "    .colab-df-convert {\n",
       "      background-color: #E8F0FE;\n",
       "      border: none;\n",
       "      border-radius: 50%;\n",
       "      cursor: pointer;\n",
       "      display: none;\n",
       "      fill: #1967D2;\n",
       "      height: 32px;\n",
       "      padding: 0 0 0 0;\n",
       "      width: 32px;\n",
       "    }\n",
       "\n",
       "    .colab-df-convert:hover {\n",
       "      background-color: #E2EBFA;\n",
       "      box-shadow: 0px 1px 2px rgba(60, 64, 67, 0.3), 0px 1px 3px 1px rgba(60, 64, 67, 0.15);\n",
       "      fill: #174EA6;\n",
       "    }\n",
       "\n",
       "    [theme=dark] .colab-df-convert {\n",
       "      background-color: #3B4455;\n",
       "      fill: #D2E3FC;\n",
       "    }\n",
       "\n",
       "    [theme=dark] .colab-df-convert:hover {\n",
       "      background-color: #434B5C;\n",
       "      box-shadow: 0px 1px 3px 1px rgba(0, 0, 0, 0.15);\n",
       "      filter: drop-shadow(0px 1px 2px rgba(0, 0, 0, 0.3));\n",
       "      fill: #FFFFFF;\n",
       "    }\n",
       "  </style>\n",
       "\n",
       "      <script>\n",
       "        const buttonEl =\n",
       "          document.querySelector('#df-8f5f09ea-ae41-4f89-959c-1d758031e406 button.colab-df-convert');\n",
       "        buttonEl.style.display =\n",
       "          google.colab.kernel.accessAllowed ? 'block' : 'none';\n",
       "\n",
       "        async function convertToInteractive(key) {\n",
       "          const element = document.querySelector('#df-8f5f09ea-ae41-4f89-959c-1d758031e406');\n",
       "          const dataTable =\n",
       "            await google.colab.kernel.invokeFunction('convertToInteractive',\n",
       "                                                     [key], {});\n",
       "          if (!dataTable) return;\n",
       "\n",
       "          const docLinkHtml = 'Like what you see? Visit the ' +\n",
       "            '<a target=\"_blank\" href=https://colab.research.google.com/notebooks/data_table.ipynb>data table notebook</a>'\n",
       "            + ' to learn more about interactive tables.';\n",
       "          element.innerHTML = '';\n",
       "          dataTable['output_type'] = 'display_data';\n",
       "          await google.colab.output.renderOutput(dataTable, element);\n",
       "          const docLink = document.createElement('div');\n",
       "          docLink.innerHTML = docLinkHtml;\n",
       "          element.appendChild(docLink);\n",
       "        }\n",
       "      </script>\n",
       "    </div>\n",
       "  </div>\n",
       "  "
      ]
     },
     "metadata": {},
     "execution_count": 7
    }
   ]
  },
  {
   "cell_type": "code",
   "source": [
    "cat_features = [\n",
    "    'city',\n",
    "    'marker_icon',\n",
    "    'workplace_type',\n",
    "    'company_name',\n",
    "    'experience_level',\n",
    "    'contract_type'\n",
    "]\n",
    "\n",
    "text_features = [\n",
    "    'title',\n",
    "    'skills'\n",
    "]"
   ],
   "metadata": {
    "id": "OugF7xEUgg96",
    "pycharm": {
     "name": "#%%\n"
    }
   },
   "execution_count": 5,
   "outputs": []
  },
  {
   "cell_type": "code",
   "source": [
    "X, y_from, y_to = df.drop(['from', 'to'], axis=1), df['from'], df['to']"
   ],
   "metadata": {
    "id": "jUDl3WtK-ZIx",
    "pycharm": {
     "name": "#%%\n"
    }
   },
   "execution_count": 6,
   "outputs": []
  },
  {
   "cell_type": "code",
   "source": [
    "X.shape"
   ],
   "metadata": {
    "colab": {
     "base_uri": "https://localhost:8080/"
    },
    "id": "3Fzj5a94-0Ae",
    "outputId": "25d5eacd-3d3e-4260-d0cd-0027d4c71d71",
    "pycharm": {
     "name": "#%%\n"
    }
   },
   "execution_count": 10,
   "outputs": [
    {
     "output_type": "execute_result",
     "data": {
      "text/plain": [
       "(12006, 8)"
      ]
     },
     "metadata": {},
     "execution_count": 10
    }
   ]
  },
  {
   "cell_type": "code",
   "source": [
    "y_from.shape"
   ],
   "metadata": {
    "colab": {
     "base_uri": "https://localhost:8080/"
    },
    "id": "kcvPBlc4-1YK",
    "outputId": "09194e44-f825-43f4-a6fa-9f0633dfa272",
    "pycharm": {
     "name": "#%%\n"
    }
   },
   "execution_count": 11,
   "outputs": [
    {
     "output_type": "execute_result",
     "data": {
      "text/plain": [
       "(12006,)"
      ]
     },
     "metadata": {},
     "execution_count": 11
    }
   ]
  },
  {
   "cell_type": "code",
   "source": [
    "X_from_train, X_from_valid, y_from_train, y_from_valid = train_test_split(X, y_from, test_size=0.2, random_state=42)"
   ],
   "metadata": {
    "id": "qXRypCCR-3UY",
    "pycharm": {
     "name": "#%%\n"
    }
   },
   "execution_count": 5,
   "outputs": []
  },
  {
   "cell_type": "code",
   "source": [
    "X_to_train, X_to_valid, y_to_train, y_to_valid = train_test_split(X, y_to, test_size=0.2, random_state=42)"
   ],
   "metadata": {
    "id": "fxFqEpG5AIWv",
    "pycharm": {
     "name": "#%%\n"
    }
   },
   "execution_count": 6,
   "outputs": []
  },
  {
   "cell_type": "code",
   "source": [
    "X_from_train.head()"
   ],
   "metadata": {
    "colab": {
     "base_uri": "https://localhost:8080/",
     "height": 337
    },
    "id": "aVtWqn5HAN3-",
    "outputId": "e1728484-f4bc-4dcc-c92c-ca49f018bbf6",
    "pycharm": {
     "name": "#%%\n"
    }
   },
   "execution_count": 14,
   "outputs": [
    {
     "output_type": "execute_result",
     "data": {
      "text/plain": [
       "                                   title      city marker_icon workplace_type  \\\n",
       "7623  Cloud Network Engineer in Security    Gdańsk    security         remote   \n",
       "6118                     Analityk Danych     Sopot   analytics         office   \n",
       "2755               Regular QA Specialist    Poznań     testing         remote   \n",
       "6431        DevOps Engineer (AWS/pharma)      Łódź      devops         remote   \n",
       "288          Senior Java Cloud Developer  Warszawa        java  partly_remote   \n",
       "\n",
       "                company_name experience_level  \\\n",
       "7623                Codilime           senior   \n",
       "6118   Baukrane  Sp. z o. o.              mid   \n",
       "2755             Merixstudio              mid   \n",
       "6431                      7N           senior   \n",
       "288   DahliaMatic Sp. z o.o.           senior   \n",
       "\n",
       "                                               skills contract_type  \n",
       "7623                  Public Clouds Networks Firewall           b2b  \n",
       "6118                            Power BI power qu SQL     permanent  \n",
       "2755  Test Automation Web Applications Manual Testing           b2b  \n",
       "6431                       Terraform CI/CD Kubernetes           b2b  \n",
       "288                            IT studies Java Polish           b2b  "
      ],
      "text/html": [
       "\n",
       "  <div id=\"df-7be66c6b-23be-4a1f-97c0-f5cfcf3efb0f\">\n",
       "    <div class=\"colab-df-container\">\n",
       "      <div>\n",
       "<style scoped>\n",
       "    .dataframe tbody tr th:only-of-type {\n",
       "        vertical-align: middle;\n",
       "    }\n",
       "\n",
       "    .dataframe tbody tr th {\n",
       "        vertical-align: top;\n",
       "    }\n",
       "\n",
       "    .dataframe thead th {\n",
       "        text-align: right;\n",
       "    }\n",
       "</style>\n",
       "<table border=\"1\" class=\"dataframe\">\n",
       "  <thead>\n",
       "    <tr style=\"text-align: right;\">\n",
       "      <th></th>\n",
       "      <th>title</th>\n",
       "      <th>city</th>\n",
       "      <th>marker_icon</th>\n",
       "      <th>workplace_type</th>\n",
       "      <th>company_name</th>\n",
       "      <th>experience_level</th>\n",
       "      <th>skills</th>\n",
       "      <th>contract_type</th>\n",
       "    </tr>\n",
       "  </thead>\n",
       "  <tbody>\n",
       "    <tr>\n",
       "      <th>7623</th>\n",
       "      <td>Cloud Network Engineer in Security</td>\n",
       "      <td>Gdańsk</td>\n",
       "      <td>security</td>\n",
       "      <td>remote</td>\n",
       "      <td>Codilime</td>\n",
       "      <td>senior</td>\n",
       "      <td>Public Clouds Networks Firewall</td>\n",
       "      <td>b2b</td>\n",
       "    </tr>\n",
       "    <tr>\n",
       "      <th>6118</th>\n",
       "      <td>Analityk Danych</td>\n",
       "      <td>Sopot</td>\n",
       "      <td>analytics</td>\n",
       "      <td>office</td>\n",
       "      <td>Baukrane  Sp. z o. o.</td>\n",
       "      <td>mid</td>\n",
       "      <td>Power BI power qu SQL</td>\n",
       "      <td>permanent</td>\n",
       "    </tr>\n",
       "    <tr>\n",
       "      <th>2755</th>\n",
       "      <td>Regular QA Specialist</td>\n",
       "      <td>Poznań</td>\n",
       "      <td>testing</td>\n",
       "      <td>remote</td>\n",
       "      <td>Merixstudio</td>\n",
       "      <td>mid</td>\n",
       "      <td>Test Automation Web Applications Manual Testing</td>\n",
       "      <td>b2b</td>\n",
       "    </tr>\n",
       "    <tr>\n",
       "      <th>6431</th>\n",
       "      <td>DevOps Engineer (AWS/pharma)</td>\n",
       "      <td>Łódź</td>\n",
       "      <td>devops</td>\n",
       "      <td>remote</td>\n",
       "      <td>7N</td>\n",
       "      <td>senior</td>\n",
       "      <td>Terraform CI/CD Kubernetes</td>\n",
       "      <td>b2b</td>\n",
       "    </tr>\n",
       "    <tr>\n",
       "      <th>288</th>\n",
       "      <td>Senior Java Cloud Developer</td>\n",
       "      <td>Warszawa</td>\n",
       "      <td>java</td>\n",
       "      <td>partly_remote</td>\n",
       "      <td>DahliaMatic Sp. z o.o.</td>\n",
       "      <td>senior</td>\n",
       "      <td>IT studies Java Polish</td>\n",
       "      <td>b2b</td>\n",
       "    </tr>\n",
       "  </tbody>\n",
       "</table>\n",
       "</div>\n",
       "      <button class=\"colab-df-convert\" onclick=\"convertToInteractive('df-7be66c6b-23be-4a1f-97c0-f5cfcf3efb0f')\"\n",
       "              title=\"Convert this dataframe to an interactive table.\"\n",
       "              style=\"display:none;\">\n",
       "        \n",
       "  <svg xmlns=\"http://www.w3.org/2000/svg\" height=\"24px\"viewBox=\"0 0 24 24\"\n",
       "       width=\"24px\">\n",
       "    <path d=\"M0 0h24v24H0V0z\" fill=\"none\"/>\n",
       "    <path d=\"M18.56 5.44l.94 2.06.94-2.06 2.06-.94-2.06-.94-.94-2.06-.94 2.06-2.06.94zm-11 1L8.5 8.5l.94-2.06 2.06-.94-2.06-.94L8.5 2.5l-.94 2.06-2.06.94zm10 10l.94 2.06.94-2.06 2.06-.94-2.06-.94-.94-2.06-.94 2.06-2.06.94z\"/><path d=\"M17.41 7.96l-1.37-1.37c-.4-.4-.92-.59-1.43-.59-.52 0-1.04.2-1.43.59L10.3 9.45l-7.72 7.72c-.78.78-.78 2.05 0 2.83L4 21.41c.39.39.9.59 1.41.59.51 0 1.02-.2 1.41-.59l7.78-7.78 2.81-2.81c.8-.78.8-2.07 0-2.86zM5.41 20L4 18.59l7.72-7.72 1.47 1.35L5.41 20z\"/>\n",
       "  </svg>\n",
       "      </button>\n",
       "      \n",
       "  <style>\n",
       "    .colab-df-container {\n",
       "      display:flex;\n",
       "      flex-wrap:wrap;\n",
       "      gap: 12px;\n",
       "    }\n",
       "\n",
       "    .colab-df-convert {\n",
       "      background-color: #E8F0FE;\n",
       "      border: none;\n",
       "      border-radius: 50%;\n",
       "      cursor: pointer;\n",
       "      display: none;\n",
       "      fill: #1967D2;\n",
       "      height: 32px;\n",
       "      padding: 0 0 0 0;\n",
       "      width: 32px;\n",
       "    }\n",
       "\n",
       "    .colab-df-convert:hover {\n",
       "      background-color: #E2EBFA;\n",
       "      box-shadow: 0px 1px 2px rgba(60, 64, 67, 0.3), 0px 1px 3px 1px rgba(60, 64, 67, 0.15);\n",
       "      fill: #174EA6;\n",
       "    }\n",
       "\n",
       "    [theme=dark] .colab-df-convert {\n",
       "      background-color: #3B4455;\n",
       "      fill: #D2E3FC;\n",
       "    }\n",
       "\n",
       "    [theme=dark] .colab-df-convert:hover {\n",
       "      background-color: #434B5C;\n",
       "      box-shadow: 0px 1px 3px 1px rgba(0, 0, 0, 0.15);\n",
       "      filter: drop-shadow(0px 1px 2px rgba(0, 0, 0, 0.3));\n",
       "      fill: #FFFFFF;\n",
       "    }\n",
       "  </style>\n",
       "\n",
       "      <script>\n",
       "        const buttonEl =\n",
       "          document.querySelector('#df-7be66c6b-23be-4a1f-97c0-f5cfcf3efb0f button.colab-df-convert');\n",
       "        buttonEl.style.display =\n",
       "          google.colab.kernel.accessAllowed ? 'block' : 'none';\n",
       "\n",
       "        async function convertToInteractive(key) {\n",
       "          const element = document.querySelector('#df-7be66c6b-23be-4a1f-97c0-f5cfcf3efb0f');\n",
       "          const dataTable =\n",
       "            await google.colab.kernel.invokeFunction('convertToInteractive',\n",
       "                                                     [key], {});\n",
       "          if (!dataTable) return;\n",
       "\n",
       "          const docLinkHtml = 'Like what you see? Visit the ' +\n",
       "            '<a target=\"_blank\" href=https://colab.research.google.com/notebooks/data_table.ipynb>data table notebook</a>'\n",
       "            + ' to learn more about interactive tables.';\n",
       "          element.innerHTML = '';\n",
       "          dataTable['output_type'] = 'display_data';\n",
       "          await google.colab.output.renderOutput(dataTable, element);\n",
       "          const docLink = document.createElement('div');\n",
       "          docLink.innerHTML = docLinkHtml;\n",
       "          element.appendChild(docLink);\n",
       "        }\n",
       "      </script>\n",
       "    </div>\n",
       "  </div>\n",
       "  "
      ]
     },
     "metadata": {},
     "execution_count": 14
    }
   ]
  },
  {
   "cell_type": "markdown",
   "source": [
    "# Train models without text features"
   ],
   "metadata": {
    "id": "6jwTJ0Lc-MHd",
    "pycharm": {
     "name": "#%% md\n"
    }
   }
  },
  {
   "cell_type": "markdown",
   "source": [
    "## Catboost"
   ],
   "metadata": {
    "id": "CHCpTP8y7cn2",
    "pycharm": {
     "name": "#%% md\n"
    }
   }
  },
  {
   "cell_type": "code",
   "source": [
    "# one-hot max size\n",
    "model = CatBoostRegressor(iterations=10000, cat_features=cat_features, verbose=500)"
   ],
   "metadata": {
    "id": "1tC_Wr3De_yM",
    "pycharm": {
     "name": "#%%\n"
    }
   },
   "execution_count": 117,
   "outputs": []
  },
  {
   "cell_type": "code",
   "source": [
    "model.fit(X_from_train.drop(['title', 'skills'], axis=1), y_from_train, eval_set=(X_from_valid.drop(['title', 'skills'], axis=1), y_from_valid))"
   ],
   "metadata": {
    "colab": {
     "base_uri": "https://localhost:8080/"
    },
    "id": "ogzXG4Wv-Xyy",
    "outputId": "b2f0d8d9-12fc-4e82-9c7c-055c7d2cf434",
    "pycharm": {
     "name": "#%%\n"
    }
   },
   "execution_count": 118,
   "outputs": [
    {
     "output_type": "stream",
     "name": "stdout",
     "text": [
      "Learning rate set to 0.01783\n",
      "0:\tlearn: 6348.6539752\ttest: 6138.3083520\tbest: 6138.3083520 (0)\ttotal: 37.3ms\tremaining: 6m 12s\n",
      "500:\tlearn: 3153.6980013\ttest: 2897.5014702\tbest: 2897.5014702 (500)\ttotal: 4.72s\tremaining: 1m 29s\n",
      "1000:\tlearn: 2837.8061577\ttest: 2670.1119744\tbest: 2670.1119744 (1000)\ttotal: 8.83s\tremaining: 1m 19s\n",
      "1500:\tlearn: 2671.9482062\ttest: 2564.0570780\tbest: 2564.0570780 (1500)\ttotal: 14.5s\tremaining: 1m 21s\n",
      "2000:\tlearn: 2554.0324965\ttest: 2495.4932826\tbest: 2495.4445325 (1999)\ttotal: 18.5s\tremaining: 1m 13s\n",
      "2500:\tlearn: 2456.8759361\ttest: 2442.2758135\tbest: 2442.2758135 (2500)\ttotal: 22.6s\tremaining: 1m 7s\n",
      "3000:\tlearn: 2369.5927369\ttest: 2392.2293679\tbest: 2392.2293679 (3000)\ttotal: 28.1s\tremaining: 1m 5s\n",
      "3500:\tlearn: 2294.3006641\ttest: 2352.1104219\tbest: 2352.1104219 (3500)\ttotal: 32.2s\tremaining: 59.7s\n",
      "4000:\tlearn: 2227.4802116\ttest: 2325.4105105\tbest: 2325.2266606 (3991)\ttotal: 37.7s\tremaining: 56.5s\n",
      "4500:\tlearn: 2168.8492483\ttest: 2298.3561528\tbest: 2298.3561528 (4500)\ttotal: 41.7s\tremaining: 50.9s\n",
      "5000:\tlearn: 2110.0416772\ttest: 2273.8928789\tbest: 2273.8928789 (5000)\ttotal: 45.7s\tremaining: 45.7s\n",
      "5500:\tlearn: 2059.3557175\ttest: 2254.6081713\tbest: 2254.5568911 (5497)\ttotal: 51.2s\tremaining: 41.9s\n",
      "6000:\tlearn: 2008.5745753\ttest: 2235.1917071\tbest: 2235.1917071 (6000)\ttotal: 55.3s\tremaining: 36.8s\n",
      "6500:\tlearn: 1957.8564194\ttest: 2215.9422081\tbest: 2215.9422081 (6500)\ttotal: 59.3s\tremaining: 31.9s\n",
      "7000:\tlearn: 1913.7838784\ttest: 2200.0448273\tbest: 2200.0448273 (7000)\ttotal: 1m 4s\tremaining: 27.8s\n",
      "7500:\tlearn: 1873.4334978\ttest: 2185.5471997\tbest: 2185.5344019 (7499)\ttotal: 1m 8s\tremaining: 22.9s\n",
      "8000:\tlearn: 1834.7482275\ttest: 2171.4166660\tbest: 2171.3311574 (7988)\ttotal: 1m 12s\tremaining: 18.2s\n",
      "8500:\tlearn: 1801.4843247\ttest: 2164.0701596\tbest: 2164.0701596 (8500)\ttotal: 1m 18s\tremaining: 13.8s\n",
      "9000:\tlearn: 1767.1263917\ttest: 2155.8636424\tbest: 2155.8561391 (8999)\ttotal: 1m 22s\tremaining: 9.13s\n",
      "9500:\tlearn: 1734.8480849\ttest: 2147.9615441\tbest: 2147.9419352 (9497)\ttotal: 1m 27s\tremaining: 4.6s\n",
      "9999:\tlearn: 1704.4957271\ttest: 2140.6533162\tbest: 2140.6377044 (9997)\ttotal: 1m 31s\tremaining: 0us\n",
      "\n",
      "bestTest = 2140.637704\n",
      "bestIteration = 9997\n",
      "\n",
      "Shrink model to first 9998 iterations.\n"
     ]
    },
    {
     "output_type": "execute_result",
     "data": {
      "text/plain": [
       "<catboost.core.CatBoostRegressor at 0x7f0fa37677f0>"
      ]
     },
     "metadata": {},
     "execution_count": 118
    }
   ]
  },
  {
   "cell_type": "code",
   "source": [
    "pd.DataFrame({'feature_name': model.feature_names_, 'feature_importance': model.feature_importances_})"
   ],
   "metadata": {
    "colab": {
     "base_uri": "https://localhost:8080/",
     "height": 237
    },
    "id": "MceC7JofC509",
    "outputId": "bf55966e-d30e-43c9-d7f7-5d1f00c786ee",
    "pycharm": {
     "name": "#%%\n"
    }
   },
   "execution_count": 119,
   "outputs": [
    {
     "output_type": "execute_result",
     "data": {
      "text/plain": [
       "       feature_name  feature_importance\n",
       "0              city            3.655172\n",
       "1       marker_icon           20.311147\n",
       "2    workplace_type            6.825231\n",
       "3      company_name           33.177337\n",
       "4  experience_level           23.450636\n",
       "5     contract_type           12.580476"
      ],
      "text/html": [
       "\n",
       "  <div id=\"df-cac22047-0d54-440e-a560-8d3f68b0a03c\">\n",
       "    <div class=\"colab-df-container\">\n",
       "      <div>\n",
       "<style scoped>\n",
       "    .dataframe tbody tr th:only-of-type {\n",
       "        vertical-align: middle;\n",
       "    }\n",
       "\n",
       "    .dataframe tbody tr th {\n",
       "        vertical-align: top;\n",
       "    }\n",
       "\n",
       "    .dataframe thead th {\n",
       "        text-align: right;\n",
       "    }\n",
       "</style>\n",
       "<table border=\"1\" class=\"dataframe\">\n",
       "  <thead>\n",
       "    <tr style=\"text-align: right;\">\n",
       "      <th></th>\n",
       "      <th>feature_name</th>\n",
       "      <th>feature_importance</th>\n",
       "    </tr>\n",
       "  </thead>\n",
       "  <tbody>\n",
       "    <tr>\n",
       "      <th>0</th>\n",
       "      <td>city</td>\n",
       "      <td>3.655172</td>\n",
       "    </tr>\n",
       "    <tr>\n",
       "      <th>1</th>\n",
       "      <td>marker_icon</td>\n",
       "      <td>20.311147</td>\n",
       "    </tr>\n",
       "    <tr>\n",
       "      <th>2</th>\n",
       "      <td>workplace_type</td>\n",
       "      <td>6.825231</td>\n",
       "    </tr>\n",
       "    <tr>\n",
       "      <th>3</th>\n",
       "      <td>company_name</td>\n",
       "      <td>33.177337</td>\n",
       "    </tr>\n",
       "    <tr>\n",
       "      <th>4</th>\n",
       "      <td>experience_level</td>\n",
       "      <td>23.450636</td>\n",
       "    </tr>\n",
       "    <tr>\n",
       "      <th>5</th>\n",
       "      <td>contract_type</td>\n",
       "      <td>12.580476</td>\n",
       "    </tr>\n",
       "  </tbody>\n",
       "</table>\n",
       "</div>\n",
       "      <button class=\"colab-df-convert\" onclick=\"convertToInteractive('df-cac22047-0d54-440e-a560-8d3f68b0a03c')\"\n",
       "              title=\"Convert this dataframe to an interactive table.\"\n",
       "              style=\"display:none;\">\n",
       "        \n",
       "  <svg xmlns=\"http://www.w3.org/2000/svg\" height=\"24px\"viewBox=\"0 0 24 24\"\n",
       "       width=\"24px\">\n",
       "    <path d=\"M0 0h24v24H0V0z\" fill=\"none\"/>\n",
       "    <path d=\"M18.56 5.44l.94 2.06.94-2.06 2.06-.94-2.06-.94-.94-2.06-.94 2.06-2.06.94zm-11 1L8.5 8.5l.94-2.06 2.06-.94-2.06-.94L8.5 2.5l-.94 2.06-2.06.94zm10 10l.94 2.06.94-2.06 2.06-.94-2.06-.94-.94-2.06-.94 2.06-2.06.94z\"/><path d=\"M17.41 7.96l-1.37-1.37c-.4-.4-.92-.59-1.43-.59-.52 0-1.04.2-1.43.59L10.3 9.45l-7.72 7.72c-.78.78-.78 2.05 0 2.83L4 21.41c.39.39.9.59 1.41.59.51 0 1.02-.2 1.41-.59l7.78-7.78 2.81-2.81c.8-.78.8-2.07 0-2.86zM5.41 20L4 18.59l7.72-7.72 1.47 1.35L5.41 20z\"/>\n",
       "  </svg>\n",
       "      </button>\n",
       "      \n",
       "  <style>\n",
       "    .colab-df-container {\n",
       "      display:flex;\n",
       "      flex-wrap:wrap;\n",
       "      gap: 12px;\n",
       "    }\n",
       "\n",
       "    .colab-df-convert {\n",
       "      background-color: #E8F0FE;\n",
       "      border: none;\n",
       "      border-radius: 50%;\n",
       "      cursor: pointer;\n",
       "      display: none;\n",
       "      fill: #1967D2;\n",
       "      height: 32px;\n",
       "      padding: 0 0 0 0;\n",
       "      width: 32px;\n",
       "    }\n",
       "\n",
       "    .colab-df-convert:hover {\n",
       "      background-color: #E2EBFA;\n",
       "      box-shadow: 0px 1px 2px rgba(60, 64, 67, 0.3), 0px 1px 3px 1px rgba(60, 64, 67, 0.15);\n",
       "      fill: #174EA6;\n",
       "    }\n",
       "\n",
       "    [theme=dark] .colab-df-convert {\n",
       "      background-color: #3B4455;\n",
       "      fill: #D2E3FC;\n",
       "    }\n",
       "\n",
       "    [theme=dark] .colab-df-convert:hover {\n",
       "      background-color: #434B5C;\n",
       "      box-shadow: 0px 1px 3px 1px rgba(0, 0, 0, 0.15);\n",
       "      filter: drop-shadow(0px 1px 2px rgba(0, 0, 0, 0.3));\n",
       "      fill: #FFFFFF;\n",
       "    }\n",
       "  </style>\n",
       "\n",
       "      <script>\n",
       "        const buttonEl =\n",
       "          document.querySelector('#df-cac22047-0d54-440e-a560-8d3f68b0a03c button.colab-df-convert');\n",
       "        buttonEl.style.display =\n",
       "          google.colab.kernel.accessAllowed ? 'block' : 'none';\n",
       "\n",
       "        async function convertToInteractive(key) {\n",
       "          const element = document.querySelector('#df-cac22047-0d54-440e-a560-8d3f68b0a03c');\n",
       "          const dataTable =\n",
       "            await google.colab.kernel.invokeFunction('convertToInteractive',\n",
       "                                                     [key], {});\n",
       "          if (!dataTable) return;\n",
       "\n",
       "          const docLinkHtml = 'Like what you see? Visit the ' +\n",
       "            '<a target=\"_blank\" href=https://colab.research.google.com/notebooks/data_table.ipynb>data table notebook</a>'\n",
       "            + ' to learn more about interactive tables.';\n",
       "          element.innerHTML = '';\n",
       "          dataTable['output_type'] = 'display_data';\n",
       "          await google.colab.output.renderOutput(dataTable, element);\n",
       "          const docLink = document.createElement('div');\n",
       "          docLink.innerHTML = docLinkHtml;\n",
       "          element.appendChild(docLink);\n",
       "        }\n",
       "      </script>\n",
       "    </div>\n",
       "  </div>\n",
       "  "
      ]
     },
     "metadata": {},
     "execution_count": 119
    }
   ]
  },
  {
   "cell_type": "code",
   "source": [
    "y_from_pred = model.predict(X_from_valid.drop(['title', 'skills'], axis=1))"
   ],
   "metadata": {
    "id": "1y0iRTFNCJMK",
    "pycharm": {
     "name": "#%%\n"
    }
   },
   "execution_count": 120,
   "outputs": []
  },
  {
   "cell_type": "code",
   "source": [
    "pd.DataFrame({'y_from_pred': y_from_pred, 'y_from_valid': y_from_valid})"
   ],
   "metadata": {
    "colab": {
     "base_uri": "https://localhost:8080/",
     "height": 423
    },
    "id": "NnBtzrk8D_s7",
    "outputId": "8f2bd357-a4e5-402a-b2e8-9276188ad176",
    "pycharm": {
     "name": "#%%\n"
    }
   },
   "execution_count": 121,
   "outputs": [
    {
     "output_type": "execute_result",
     "data": {
      "text/plain": [
       "        y_from_pred  y_from_valid\n",
       "7740   20542.071464       21000.0\n",
       "10643   9696.035126        8500.0\n",
       "9351   23720.049273       25000.0\n",
       "7872   18065.290277       17000.0\n",
       "360    16463.185653       20800.0\n",
       "...             ...           ...\n",
       "5786   25688.330406       28000.0\n",
       "1195   23780.730908       36000.0\n",
       "7606   18441.998702       17000.0\n",
       "7628   11062.075455       11000.0\n",
       "10910   8754.732176        8600.0\n",
       "\n",
       "[2402 rows x 2 columns]"
      ],
      "text/html": [
       "\n",
       "  <div id=\"df-e48d4edb-438e-4d61-9e49-8e7de61773d5\">\n",
       "    <div class=\"colab-df-container\">\n",
       "      <div>\n",
       "<style scoped>\n",
       "    .dataframe tbody tr th:only-of-type {\n",
       "        vertical-align: middle;\n",
       "    }\n",
       "\n",
       "    .dataframe tbody tr th {\n",
       "        vertical-align: top;\n",
       "    }\n",
       "\n",
       "    .dataframe thead th {\n",
       "        text-align: right;\n",
       "    }\n",
       "</style>\n",
       "<table border=\"1\" class=\"dataframe\">\n",
       "  <thead>\n",
       "    <tr style=\"text-align: right;\">\n",
       "      <th></th>\n",
       "      <th>y_from_pred</th>\n",
       "      <th>y_from_valid</th>\n",
       "    </tr>\n",
       "  </thead>\n",
       "  <tbody>\n",
       "    <tr>\n",
       "      <th>7740</th>\n",
       "      <td>20542.071464</td>\n",
       "      <td>21000.0</td>\n",
       "    </tr>\n",
       "    <tr>\n",
       "      <th>10643</th>\n",
       "      <td>9696.035126</td>\n",
       "      <td>8500.0</td>\n",
       "    </tr>\n",
       "    <tr>\n",
       "      <th>9351</th>\n",
       "      <td>23720.049273</td>\n",
       "      <td>25000.0</td>\n",
       "    </tr>\n",
       "    <tr>\n",
       "      <th>7872</th>\n",
       "      <td>18065.290277</td>\n",
       "      <td>17000.0</td>\n",
       "    </tr>\n",
       "    <tr>\n",
       "      <th>360</th>\n",
       "      <td>16463.185653</td>\n",
       "      <td>20800.0</td>\n",
       "    </tr>\n",
       "    <tr>\n",
       "      <th>...</th>\n",
       "      <td>...</td>\n",
       "      <td>...</td>\n",
       "    </tr>\n",
       "    <tr>\n",
       "      <th>5786</th>\n",
       "      <td>25688.330406</td>\n",
       "      <td>28000.0</td>\n",
       "    </tr>\n",
       "    <tr>\n",
       "      <th>1195</th>\n",
       "      <td>23780.730908</td>\n",
       "      <td>36000.0</td>\n",
       "    </tr>\n",
       "    <tr>\n",
       "      <th>7606</th>\n",
       "      <td>18441.998702</td>\n",
       "      <td>17000.0</td>\n",
       "    </tr>\n",
       "    <tr>\n",
       "      <th>7628</th>\n",
       "      <td>11062.075455</td>\n",
       "      <td>11000.0</td>\n",
       "    </tr>\n",
       "    <tr>\n",
       "      <th>10910</th>\n",
       "      <td>8754.732176</td>\n",
       "      <td>8600.0</td>\n",
       "    </tr>\n",
       "  </tbody>\n",
       "</table>\n",
       "<p>2402 rows × 2 columns</p>\n",
       "</div>\n",
       "      <button class=\"colab-df-convert\" onclick=\"convertToInteractive('df-e48d4edb-438e-4d61-9e49-8e7de61773d5')\"\n",
       "              title=\"Convert this dataframe to an interactive table.\"\n",
       "              style=\"display:none;\">\n",
       "        \n",
       "  <svg xmlns=\"http://www.w3.org/2000/svg\" height=\"24px\"viewBox=\"0 0 24 24\"\n",
       "       width=\"24px\">\n",
       "    <path d=\"M0 0h24v24H0V0z\" fill=\"none\"/>\n",
       "    <path d=\"M18.56 5.44l.94 2.06.94-2.06 2.06-.94-2.06-.94-.94-2.06-.94 2.06-2.06.94zm-11 1L8.5 8.5l.94-2.06 2.06-.94-2.06-.94L8.5 2.5l-.94 2.06-2.06.94zm10 10l.94 2.06.94-2.06 2.06-.94-2.06-.94-.94-2.06-.94 2.06-2.06.94z\"/><path d=\"M17.41 7.96l-1.37-1.37c-.4-.4-.92-.59-1.43-.59-.52 0-1.04.2-1.43.59L10.3 9.45l-7.72 7.72c-.78.78-.78 2.05 0 2.83L4 21.41c.39.39.9.59 1.41.59.51 0 1.02-.2 1.41-.59l7.78-7.78 2.81-2.81c.8-.78.8-2.07 0-2.86zM5.41 20L4 18.59l7.72-7.72 1.47 1.35L5.41 20z\"/>\n",
       "  </svg>\n",
       "      </button>\n",
       "      \n",
       "  <style>\n",
       "    .colab-df-container {\n",
       "      display:flex;\n",
       "      flex-wrap:wrap;\n",
       "      gap: 12px;\n",
       "    }\n",
       "\n",
       "    .colab-df-convert {\n",
       "      background-color: #E8F0FE;\n",
       "      border: none;\n",
       "      border-radius: 50%;\n",
       "      cursor: pointer;\n",
       "      display: none;\n",
       "      fill: #1967D2;\n",
       "      height: 32px;\n",
       "      padding: 0 0 0 0;\n",
       "      width: 32px;\n",
       "    }\n",
       "\n",
       "    .colab-df-convert:hover {\n",
       "      background-color: #E2EBFA;\n",
       "      box-shadow: 0px 1px 2px rgba(60, 64, 67, 0.3), 0px 1px 3px 1px rgba(60, 64, 67, 0.15);\n",
       "      fill: #174EA6;\n",
       "    }\n",
       "\n",
       "    [theme=dark] .colab-df-convert {\n",
       "      background-color: #3B4455;\n",
       "      fill: #D2E3FC;\n",
       "    }\n",
       "\n",
       "    [theme=dark] .colab-df-convert:hover {\n",
       "      background-color: #434B5C;\n",
       "      box-shadow: 0px 1px 3px 1px rgba(0, 0, 0, 0.15);\n",
       "      filter: drop-shadow(0px 1px 2px rgba(0, 0, 0, 0.3));\n",
       "      fill: #FFFFFF;\n",
       "    }\n",
       "  </style>\n",
       "\n",
       "      <script>\n",
       "        const buttonEl =\n",
       "          document.querySelector('#df-e48d4edb-438e-4d61-9e49-8e7de61773d5 button.colab-df-convert');\n",
       "        buttonEl.style.display =\n",
       "          google.colab.kernel.accessAllowed ? 'block' : 'none';\n",
       "\n",
       "        async function convertToInteractive(key) {\n",
       "          const element = document.querySelector('#df-e48d4edb-438e-4d61-9e49-8e7de61773d5');\n",
       "          const dataTable =\n",
       "            await google.colab.kernel.invokeFunction('convertToInteractive',\n",
       "                                                     [key], {});\n",
       "          if (!dataTable) return;\n",
       "\n",
       "          const docLinkHtml = 'Like what you see? Visit the ' +\n",
       "            '<a target=\"_blank\" href=https://colab.research.google.com/notebooks/data_table.ipynb>data table notebook</a>'\n",
       "            + ' to learn more about interactive tables.';\n",
       "          element.innerHTML = '';\n",
       "          dataTable['output_type'] = 'display_data';\n",
       "          await google.colab.output.renderOutput(dataTable, element);\n",
       "          const docLink = document.createElement('div');\n",
       "          docLink.innerHTML = docLinkHtml;\n",
       "          element.appendChild(docLink);\n",
       "        }\n",
       "      </script>\n",
       "    </div>\n",
       "  </div>\n",
       "  "
      ]
     },
     "metadata": {},
     "execution_count": 121
    }
   ]
  },
  {
   "cell_type": "code",
   "source": [
    "np.sqrt(mean_squared_error(y_from_pred, y_from_valid))"
   ],
   "metadata": {
    "colab": {
     "base_uri": "https://localhost:8080/"
    },
    "id": "dI0WwdotDvM0",
    "outputId": "c5a5eca8-caed-4f86-8410-91b874159194",
    "pycharm": {
     "name": "#%%\n"
    }
   },
   "execution_count": 122,
   "outputs": [
    {
     "output_type": "execute_result",
     "data": {
      "text/plain": [
       "2140.6377043720227"
      ]
     },
     "metadata": {},
     "execution_count": 122
    }
   ]
  },
  {
   "cell_type": "markdown",
   "source": [
    "## RF"
   ],
   "metadata": {
    "id": "Ksb0kmri7ekI",
    "pycharm": {
     "name": "#%% md\n"
    }
   }
  },
  {
   "cell_type": "code",
   "source": [
    "X_ohe = pd.get_dummies(X.drop(['title', 'skills'], axis=1))"
   ],
   "metadata": {
    "id": "2xQEHKQbf4sL",
    "pycharm": {
     "name": "#%%\n"
    }
   },
   "execution_count": 7,
   "outputs": []
  },
  {
   "cell_type": "code",
   "source": [
    "X_ohe.head()"
   ],
   "metadata": {
    "colab": {
     "base_uri": "https://localhost:8080/",
     "height": 334
    },
    "id": "fKQ7qrVThWPp",
    "outputId": "d16ef47c-dd6b-4459-d128-488b469cef56",
    "pycharm": {
     "name": "#%%\n"
    }
   },
   "execution_count": 8,
   "outputs": [
    {
     "output_type": "execute_result",
     "data": {
      "text/plain": [
       "   city_96-321 Musuły  city_Aleksandrów Łódzki  city_Andrespol  city_Augustów  \\\n",
       "0                   0                        0               0              0   \n",
       "1                   0                        0               0              0   \n",
       "2                   0                        0               0              0   \n",
       "3                   0                        0               0              0   \n",
       "4                   0                        0               0              0   \n",
       "\n",
       "   city_Balice  city_Berlin  city_Białystok  city_Białystok   \\\n",
       "0            0            0               0                0   \n",
       "1            0            0               0                0   \n",
       "2            0            0               0                0   \n",
       "3            0            0               0                0   \n",
       "4            0            0               0                0   \n",
       "\n",
       "   city_Bielany Wrocławskie  city_Bielsko-Biała  ...  company_name_summ-it  \\\n",
       "0                         0                   0  ...                     0   \n",
       "1                         0                   0  ...                     0   \n",
       "2                         0                   0  ...                     0   \n",
       "3                         0                   0  ...                     0   \n",
       "4                         0                   0  ...                     0   \n",
       "\n",
       "   company_name_superdevs  company_name_travactory N.V.  \\\n",
       "0                       0                             0   \n",
       "1                       0                             0   \n",
       "2                       0                             0   \n",
       "3                       0                             0   \n",
       "4                       0                             0   \n",
       "\n",
       "   company_name_Świat Kwiatów  experience_level_junior  experience_level_mid  \\\n",
       "0                           0                        0                     1   \n",
       "1                           0                        0                     1   \n",
       "2                           0                        0                     1   \n",
       "3                           0                        0                     1   \n",
       "4                           0                        0                     1   \n",
       "\n",
       "   experience_level_senior  contract_type_b2b  contract_type_mandate_contract  \\\n",
       "0                        0                  1                               0   \n",
       "1                        0                  1                               0   \n",
       "2                        0                  0                               0   \n",
       "3                        0                  0                               0   \n",
       "4                        0                  1                               0   \n",
       "\n",
       "   contract_type_permanent  \n",
       "0                        0  \n",
       "1                        0  \n",
       "2                        1  \n",
       "3                        1  \n",
       "4                        0  \n",
       "\n",
       "[5 rows x 1112 columns]"
      ],
      "text/html": [
       "\n",
       "  <div id=\"df-ba82fa26-599b-4e3b-a6e7-0d4225b84367\">\n",
       "    <div class=\"colab-df-container\">\n",
       "      <div>\n",
       "<style scoped>\n",
       "    .dataframe tbody tr th:only-of-type {\n",
       "        vertical-align: middle;\n",
       "    }\n",
       "\n",
       "    .dataframe tbody tr th {\n",
       "        vertical-align: top;\n",
       "    }\n",
       "\n",
       "    .dataframe thead th {\n",
       "        text-align: right;\n",
       "    }\n",
       "</style>\n",
       "<table border=\"1\" class=\"dataframe\">\n",
       "  <thead>\n",
       "    <tr style=\"text-align: right;\">\n",
       "      <th></th>\n",
       "      <th>city_96-321 Musuły</th>\n",
       "      <th>city_Aleksandrów Łódzki</th>\n",
       "      <th>city_Andrespol</th>\n",
       "      <th>city_Augustów</th>\n",
       "      <th>city_Balice</th>\n",
       "      <th>city_Berlin</th>\n",
       "      <th>city_Białystok</th>\n",
       "      <th>city_Białystok</th>\n",
       "      <th>city_Bielany Wrocławskie</th>\n",
       "      <th>city_Bielsko-Biała</th>\n",
       "      <th>...</th>\n",
       "      <th>company_name_summ-it</th>\n",
       "      <th>company_name_superdevs</th>\n",
       "      <th>company_name_travactory N.V.</th>\n",
       "      <th>company_name_Świat Kwiatów</th>\n",
       "      <th>experience_level_junior</th>\n",
       "      <th>experience_level_mid</th>\n",
       "      <th>experience_level_senior</th>\n",
       "      <th>contract_type_b2b</th>\n",
       "      <th>contract_type_mandate_contract</th>\n",
       "      <th>contract_type_permanent</th>\n",
       "    </tr>\n",
       "  </thead>\n",
       "  <tbody>\n",
       "    <tr>\n",
       "      <th>0</th>\n",
       "      <td>0</td>\n",
       "      <td>0</td>\n",
       "      <td>0</td>\n",
       "      <td>0</td>\n",
       "      <td>0</td>\n",
       "      <td>0</td>\n",
       "      <td>0</td>\n",
       "      <td>0</td>\n",
       "      <td>0</td>\n",
       "      <td>0</td>\n",
       "      <td>...</td>\n",
       "      <td>0</td>\n",
       "      <td>0</td>\n",
       "      <td>0</td>\n",
       "      <td>0</td>\n",
       "      <td>0</td>\n",
       "      <td>1</td>\n",
       "      <td>0</td>\n",
       "      <td>1</td>\n",
       "      <td>0</td>\n",
       "      <td>0</td>\n",
       "    </tr>\n",
       "    <tr>\n",
       "      <th>1</th>\n",
       "      <td>0</td>\n",
       "      <td>0</td>\n",
       "      <td>0</td>\n",
       "      <td>0</td>\n",
       "      <td>0</td>\n",
       "      <td>0</td>\n",
       "      <td>0</td>\n",
       "      <td>0</td>\n",
       "      <td>0</td>\n",
       "      <td>0</td>\n",
       "      <td>...</td>\n",
       "      <td>0</td>\n",
       "      <td>0</td>\n",
       "      <td>0</td>\n",
       "      <td>0</td>\n",
       "      <td>0</td>\n",
       "      <td>1</td>\n",
       "      <td>0</td>\n",
       "      <td>1</td>\n",
       "      <td>0</td>\n",
       "      <td>0</td>\n",
       "    </tr>\n",
       "    <tr>\n",
       "      <th>2</th>\n",
       "      <td>0</td>\n",
       "      <td>0</td>\n",
       "      <td>0</td>\n",
       "      <td>0</td>\n",
       "      <td>0</td>\n",
       "      <td>0</td>\n",
       "      <td>0</td>\n",
       "      <td>0</td>\n",
       "      <td>0</td>\n",
       "      <td>0</td>\n",
       "      <td>...</td>\n",
       "      <td>0</td>\n",
       "      <td>0</td>\n",
       "      <td>0</td>\n",
       "      <td>0</td>\n",
       "      <td>0</td>\n",
       "      <td>1</td>\n",
       "      <td>0</td>\n",
       "      <td>0</td>\n",
       "      <td>0</td>\n",
       "      <td>1</td>\n",
       "    </tr>\n",
       "    <tr>\n",
       "      <th>3</th>\n",
       "      <td>0</td>\n",
       "      <td>0</td>\n",
       "      <td>0</td>\n",
       "      <td>0</td>\n",
       "      <td>0</td>\n",
       "      <td>0</td>\n",
       "      <td>0</td>\n",
       "      <td>0</td>\n",
       "      <td>0</td>\n",
       "      <td>0</td>\n",
       "      <td>...</td>\n",
       "      <td>0</td>\n",
       "      <td>0</td>\n",
       "      <td>0</td>\n",
       "      <td>0</td>\n",
       "      <td>0</td>\n",
       "      <td>1</td>\n",
       "      <td>0</td>\n",
       "      <td>0</td>\n",
       "      <td>0</td>\n",
       "      <td>1</td>\n",
       "    </tr>\n",
       "    <tr>\n",
       "      <th>4</th>\n",
       "      <td>0</td>\n",
       "      <td>0</td>\n",
       "      <td>0</td>\n",
       "      <td>0</td>\n",
       "      <td>0</td>\n",
       "      <td>0</td>\n",
       "      <td>0</td>\n",
       "      <td>0</td>\n",
       "      <td>0</td>\n",
       "      <td>0</td>\n",
       "      <td>...</td>\n",
       "      <td>0</td>\n",
       "      <td>0</td>\n",
       "      <td>0</td>\n",
       "      <td>0</td>\n",
       "      <td>0</td>\n",
       "      <td>1</td>\n",
       "      <td>0</td>\n",
       "      <td>1</td>\n",
       "      <td>0</td>\n",
       "      <td>0</td>\n",
       "    </tr>\n",
       "  </tbody>\n",
       "</table>\n",
       "<p>5 rows × 1112 columns</p>\n",
       "</div>\n",
       "      <button class=\"colab-df-convert\" onclick=\"convertToInteractive('df-ba82fa26-599b-4e3b-a6e7-0d4225b84367')\"\n",
       "              title=\"Convert this dataframe to an interactive table.\"\n",
       "              style=\"display:none;\">\n",
       "        \n",
       "  <svg xmlns=\"http://www.w3.org/2000/svg\" height=\"24px\"viewBox=\"0 0 24 24\"\n",
       "       width=\"24px\">\n",
       "    <path d=\"M0 0h24v24H0V0z\" fill=\"none\"/>\n",
       "    <path d=\"M18.56 5.44l.94 2.06.94-2.06 2.06-.94-2.06-.94-.94-2.06-.94 2.06-2.06.94zm-11 1L8.5 8.5l.94-2.06 2.06-.94-2.06-.94L8.5 2.5l-.94 2.06-2.06.94zm10 10l.94 2.06.94-2.06 2.06-.94-2.06-.94-.94-2.06-.94 2.06-2.06.94z\"/><path d=\"M17.41 7.96l-1.37-1.37c-.4-.4-.92-.59-1.43-.59-.52 0-1.04.2-1.43.59L10.3 9.45l-7.72 7.72c-.78.78-.78 2.05 0 2.83L4 21.41c.39.39.9.59 1.41.59.51 0 1.02-.2 1.41-.59l7.78-7.78 2.81-2.81c.8-.78.8-2.07 0-2.86zM5.41 20L4 18.59l7.72-7.72 1.47 1.35L5.41 20z\"/>\n",
       "  </svg>\n",
       "      </button>\n",
       "      \n",
       "  <style>\n",
       "    .colab-df-container {\n",
       "      display:flex;\n",
       "      flex-wrap:wrap;\n",
       "      gap: 12px;\n",
       "    }\n",
       "\n",
       "    .colab-df-convert {\n",
       "      background-color: #E8F0FE;\n",
       "      border: none;\n",
       "      border-radius: 50%;\n",
       "      cursor: pointer;\n",
       "      display: none;\n",
       "      fill: #1967D2;\n",
       "      height: 32px;\n",
       "      padding: 0 0 0 0;\n",
       "      width: 32px;\n",
       "    }\n",
       "\n",
       "    .colab-df-convert:hover {\n",
       "      background-color: #E2EBFA;\n",
       "      box-shadow: 0px 1px 2px rgba(60, 64, 67, 0.3), 0px 1px 3px 1px rgba(60, 64, 67, 0.15);\n",
       "      fill: #174EA6;\n",
       "    }\n",
       "\n",
       "    [theme=dark] .colab-df-convert {\n",
       "      background-color: #3B4455;\n",
       "      fill: #D2E3FC;\n",
       "    }\n",
       "\n",
       "    [theme=dark] .colab-df-convert:hover {\n",
       "      background-color: #434B5C;\n",
       "      box-shadow: 0px 1px 3px 1px rgba(0, 0, 0, 0.15);\n",
       "      filter: drop-shadow(0px 1px 2px rgba(0, 0, 0, 0.3));\n",
       "      fill: #FFFFFF;\n",
       "    }\n",
       "  </style>\n",
       "\n",
       "      <script>\n",
       "        const buttonEl =\n",
       "          document.querySelector('#df-ba82fa26-599b-4e3b-a6e7-0d4225b84367 button.colab-df-convert');\n",
       "        buttonEl.style.display =\n",
       "          google.colab.kernel.accessAllowed ? 'block' : 'none';\n",
       "\n",
       "        async function convertToInteractive(key) {\n",
       "          const element = document.querySelector('#df-ba82fa26-599b-4e3b-a6e7-0d4225b84367');\n",
       "          const dataTable =\n",
       "            await google.colab.kernel.invokeFunction('convertToInteractive',\n",
       "                                                     [key], {});\n",
       "          if (!dataTable) return;\n",
       "\n",
       "          const docLinkHtml = 'Like what you see? Visit the ' +\n",
       "            '<a target=\"_blank\" href=https://colab.research.google.com/notebooks/data_table.ipynb>data table notebook</a>'\n",
       "            + ' to learn more about interactive tables.';\n",
       "          element.innerHTML = '';\n",
       "          dataTable['output_type'] = 'display_data';\n",
       "          await google.colab.output.renderOutput(dataTable, element);\n",
       "          const docLink = document.createElement('div');\n",
       "          docLink.innerHTML = docLinkHtml;\n",
       "          element.appendChild(docLink);\n",
       "        }\n",
       "      </script>\n",
       "    </div>\n",
       "  </div>\n",
       "  "
      ]
     },
     "metadata": {},
     "execution_count": 8
    }
   ]
  },
  {
   "cell_type": "code",
   "source": [
    "X_ohe_from_train, X_ohe_from_valid, y_from_train, y_from_valid = train_test_split(X_ohe, y_from, test_size=0.2, random_state=42)"
   ],
   "metadata": {
    "id": "VuLNwHCKiRL5",
    "pycharm": {
     "name": "#%%\n"
    }
   },
   "execution_count": 131,
   "outputs": []
  },
  {
   "cell_type": "code",
   "source": [
    "rf = RandomForestRegressor(n_estimators=300)"
   ],
   "metadata": {
    "id": "Jb1BfqCuhX_e",
    "pycharm": {
     "name": "#%%\n"
    }
   },
   "execution_count": 132,
   "outputs": []
  },
  {
   "cell_type": "code",
   "source": [
    "rf.fit(X_ohe_from_train, y_from_train)"
   ],
   "metadata": {
    "colab": {
     "base_uri": "https://localhost:8080/"
    },
    "id": "iLWnSN6hh8ea",
    "outputId": "695f2afa-b873-4446-8317-ac3869e8cb92",
    "pycharm": {
     "name": "#%%\n"
    }
   },
   "execution_count": 135,
   "outputs": [
    {
     "output_type": "execute_result",
     "data": {
      "text/plain": [
       "RandomForestRegressor(n_estimators=300)"
      ]
     },
     "metadata": {},
     "execution_count": 135
    }
   ]
  },
  {
   "cell_type": "code",
   "source": [
    "y_from_pred = rf.predict(X_ohe_from_valid)"
   ],
   "metadata": {
    "id": "JVRiRiKlip68",
    "pycharm": {
     "name": "#%%\n"
    }
   },
   "execution_count": 137,
   "outputs": []
  },
  {
   "cell_type": "code",
   "source": [
    "pd.DataFrame({'y_from_pred': y_from_pred, 'y_from_valid': y_from_valid})"
   ],
   "metadata": {
    "colab": {
     "base_uri": "https://localhost:8080/",
     "height": 423
    },
    "id": "QzWE1R9niqzJ",
    "outputId": "4dfd0cd6-c18f-469e-bba1-d71444283995",
    "pycharm": {
     "name": "#%%\n"
    }
   },
   "execution_count": 138,
   "outputs": [
    {
     "output_type": "execute_result",
     "data": {
      "text/plain": [
       "        y_from_pred  y_from_valid\n",
       "7740   20169.222222       21000.0\n",
       "10643   8500.000000        8500.0\n",
       "9351   24930.000000       25000.0\n",
       "7872   16646.500000       17000.0\n",
       "360    12448.333333       20800.0\n",
       "...             ...           ...\n",
       "5786   28000.000000       28000.0\n",
       "1195   21585.316667       36000.0\n",
       "7606   16879.000000       17000.0\n",
       "7628   11061.266667       11000.0\n",
       "10910   8917.000000        8600.0\n",
       "\n",
       "[2402 rows x 2 columns]"
      ],
      "text/html": [
       "\n",
       "  <div id=\"df-bfd8147e-a12d-46a3-a031-2dd77e7b25a6\">\n",
       "    <div class=\"colab-df-container\">\n",
       "      <div>\n",
       "<style scoped>\n",
       "    .dataframe tbody tr th:only-of-type {\n",
       "        vertical-align: middle;\n",
       "    }\n",
       "\n",
       "    .dataframe tbody tr th {\n",
       "        vertical-align: top;\n",
       "    }\n",
       "\n",
       "    .dataframe thead th {\n",
       "        text-align: right;\n",
       "    }\n",
       "</style>\n",
       "<table border=\"1\" class=\"dataframe\">\n",
       "  <thead>\n",
       "    <tr style=\"text-align: right;\">\n",
       "      <th></th>\n",
       "      <th>y_from_pred</th>\n",
       "      <th>y_from_valid</th>\n",
       "    </tr>\n",
       "  </thead>\n",
       "  <tbody>\n",
       "    <tr>\n",
       "      <th>7740</th>\n",
       "      <td>20169.222222</td>\n",
       "      <td>21000.0</td>\n",
       "    </tr>\n",
       "    <tr>\n",
       "      <th>10643</th>\n",
       "      <td>8500.000000</td>\n",
       "      <td>8500.0</td>\n",
       "    </tr>\n",
       "    <tr>\n",
       "      <th>9351</th>\n",
       "      <td>24930.000000</td>\n",
       "      <td>25000.0</td>\n",
       "    </tr>\n",
       "    <tr>\n",
       "      <th>7872</th>\n",
       "      <td>16646.500000</td>\n",
       "      <td>17000.0</td>\n",
       "    </tr>\n",
       "    <tr>\n",
       "      <th>360</th>\n",
       "      <td>12448.333333</td>\n",
       "      <td>20800.0</td>\n",
       "    </tr>\n",
       "    <tr>\n",
       "      <th>...</th>\n",
       "      <td>...</td>\n",
       "      <td>...</td>\n",
       "    </tr>\n",
       "    <tr>\n",
       "      <th>5786</th>\n",
       "      <td>28000.000000</td>\n",
       "      <td>28000.0</td>\n",
       "    </tr>\n",
       "    <tr>\n",
       "      <th>1195</th>\n",
       "      <td>21585.316667</td>\n",
       "      <td>36000.0</td>\n",
       "    </tr>\n",
       "    <tr>\n",
       "      <th>7606</th>\n",
       "      <td>16879.000000</td>\n",
       "      <td>17000.0</td>\n",
       "    </tr>\n",
       "    <tr>\n",
       "      <th>7628</th>\n",
       "      <td>11061.266667</td>\n",
       "      <td>11000.0</td>\n",
       "    </tr>\n",
       "    <tr>\n",
       "      <th>10910</th>\n",
       "      <td>8917.000000</td>\n",
       "      <td>8600.0</td>\n",
       "    </tr>\n",
       "  </tbody>\n",
       "</table>\n",
       "<p>2402 rows × 2 columns</p>\n",
       "</div>\n",
       "      <button class=\"colab-df-convert\" onclick=\"convertToInteractive('df-bfd8147e-a12d-46a3-a031-2dd77e7b25a6')\"\n",
       "              title=\"Convert this dataframe to an interactive table.\"\n",
       "              style=\"display:none;\">\n",
       "        \n",
       "  <svg xmlns=\"http://www.w3.org/2000/svg\" height=\"24px\"viewBox=\"0 0 24 24\"\n",
       "       width=\"24px\">\n",
       "    <path d=\"M0 0h24v24H0V0z\" fill=\"none\"/>\n",
       "    <path d=\"M18.56 5.44l.94 2.06.94-2.06 2.06-.94-2.06-.94-.94-2.06-.94 2.06-2.06.94zm-11 1L8.5 8.5l.94-2.06 2.06-.94-2.06-.94L8.5 2.5l-.94 2.06-2.06.94zm10 10l.94 2.06.94-2.06 2.06-.94-2.06-.94-.94-2.06-.94 2.06-2.06.94z\"/><path d=\"M17.41 7.96l-1.37-1.37c-.4-.4-.92-.59-1.43-.59-.52 0-1.04.2-1.43.59L10.3 9.45l-7.72 7.72c-.78.78-.78 2.05 0 2.83L4 21.41c.39.39.9.59 1.41.59.51 0 1.02-.2 1.41-.59l7.78-7.78 2.81-2.81c.8-.78.8-2.07 0-2.86zM5.41 20L4 18.59l7.72-7.72 1.47 1.35L5.41 20z\"/>\n",
       "  </svg>\n",
       "      </button>\n",
       "      \n",
       "  <style>\n",
       "    .colab-df-container {\n",
       "      display:flex;\n",
       "      flex-wrap:wrap;\n",
       "      gap: 12px;\n",
       "    }\n",
       "\n",
       "    .colab-df-convert {\n",
       "      background-color: #E8F0FE;\n",
       "      border: none;\n",
       "      border-radius: 50%;\n",
       "      cursor: pointer;\n",
       "      display: none;\n",
       "      fill: #1967D2;\n",
       "      height: 32px;\n",
       "      padding: 0 0 0 0;\n",
       "      width: 32px;\n",
       "    }\n",
       "\n",
       "    .colab-df-convert:hover {\n",
       "      background-color: #E2EBFA;\n",
       "      box-shadow: 0px 1px 2px rgba(60, 64, 67, 0.3), 0px 1px 3px 1px rgba(60, 64, 67, 0.15);\n",
       "      fill: #174EA6;\n",
       "    }\n",
       "\n",
       "    [theme=dark] .colab-df-convert {\n",
       "      background-color: #3B4455;\n",
       "      fill: #D2E3FC;\n",
       "    }\n",
       "\n",
       "    [theme=dark] .colab-df-convert:hover {\n",
       "      background-color: #434B5C;\n",
       "      box-shadow: 0px 1px 3px 1px rgba(0, 0, 0, 0.15);\n",
       "      filter: drop-shadow(0px 1px 2px rgba(0, 0, 0, 0.3));\n",
       "      fill: #FFFFFF;\n",
       "    }\n",
       "  </style>\n",
       "\n",
       "      <script>\n",
       "        const buttonEl =\n",
       "          document.querySelector('#df-bfd8147e-a12d-46a3-a031-2dd77e7b25a6 button.colab-df-convert');\n",
       "        buttonEl.style.display =\n",
       "          google.colab.kernel.accessAllowed ? 'block' : 'none';\n",
       "\n",
       "        async function convertToInteractive(key) {\n",
       "          const element = document.querySelector('#df-bfd8147e-a12d-46a3-a031-2dd77e7b25a6');\n",
       "          const dataTable =\n",
       "            await google.colab.kernel.invokeFunction('convertToInteractive',\n",
       "                                                     [key], {});\n",
       "          if (!dataTable) return;\n",
       "\n",
       "          const docLinkHtml = 'Like what you see? Visit the ' +\n",
       "            '<a target=\"_blank\" href=https://colab.research.google.com/notebooks/data_table.ipynb>data table notebook</a>'\n",
       "            + ' to learn more about interactive tables.';\n",
       "          element.innerHTML = '';\n",
       "          dataTable['output_type'] = 'display_data';\n",
       "          await google.colab.output.renderOutput(dataTable, element);\n",
       "          const docLink = document.createElement('div');\n",
       "          docLink.innerHTML = docLinkHtml;\n",
       "          element.appendChild(docLink);\n",
       "        }\n",
       "      </script>\n",
       "    </div>\n",
       "  </div>\n",
       "  "
      ]
     },
     "metadata": {},
     "execution_count": 138
    }
   ]
  },
  {
   "cell_type": "code",
   "source": [
    "np.sqrt(mean_squared_error(y_from_pred, y_from_valid))"
   ],
   "metadata": {
    "colab": {
     "base_uri": "https://localhost:8080/"
    },
    "id": "QZyNUv6IiumJ",
    "outputId": "de3d6677-9270-4c35-9e57-1a98629aff12",
    "pycharm": {
     "name": "#%%\n"
    }
   },
   "execution_count": 139,
   "outputs": [
    {
     "output_type": "execute_result",
     "data": {
      "text/plain": [
       "1957.481172859356"
      ]
     },
     "metadata": {},
     "execution_count": 139
    }
   ]
  },
  {
   "cell_type": "markdown",
   "source": [
    "## LinearRegression"
   ],
   "metadata": {
    "id": "YU8Hyfwx7f6y",
    "pycharm": {
     "name": "#%% md\n"
    }
   }
  },
  {
   "cell_type": "code",
   "source": [
    "lr = Lasso(alpha=0.1)"
   ],
   "metadata": {
    "id": "IS0lVwyXzojR",
    "pycharm": {
     "name": "#%%\n"
    }
   },
   "execution_count": 166,
   "outputs": []
  },
  {
   "cell_type": "code",
   "source": [
    "lr.fit(X_ohe_from_train, y_from_train)"
   ],
   "metadata": {
    "colab": {
     "base_uri": "https://localhost:8080/"
    },
    "id": "yEQFfBlWz6Wz",
    "outputId": "98564022-5348-41d3-b773-8455a26ddf10",
    "pycharm": {
     "name": "#%%\n"
    }
   },
   "execution_count": 167,
   "outputs": [
    {
     "output_type": "execute_result",
     "data": {
      "text/plain": [
       "Lasso(alpha=0.1)"
      ]
     },
     "metadata": {},
     "execution_count": 167
    }
   ]
  },
  {
   "cell_type": "code",
   "source": [
    "y_from_pred = lr.predict(X_ohe_from_valid)"
   ],
   "metadata": {
    "id": "6DWDOltZ0Dbb",
    "pycharm": {
     "name": "#%%\n"
    }
   },
   "execution_count": 168,
   "outputs": []
  },
  {
   "cell_type": "code",
   "source": [
    "pd.DataFrame({'y_from_pred': y_from_pred, 'y_from_valid': y_from_valid})"
   ],
   "metadata": {
    "colab": {
     "base_uri": "https://localhost:8080/",
     "height": 423
    },
    "id": "-MJzDMmj0KIO",
    "outputId": "52f9a456-0b3e-4f26-ff9b-f1a5f5e58391",
    "pycharm": {
     "name": "#%%\n"
    }
   },
   "execution_count": 169,
   "outputs": [
    {
     "output_type": "execute_result",
     "data": {
      "text/plain": [
       "        y_from_pred  y_from_valid\n",
       "7740   23394.789451       21000.0\n",
       "10643   8580.594817        8500.0\n",
       "9351   20325.354301       25000.0\n",
       "7872   15961.225001       17000.0\n",
       "360    21167.939504       20800.0\n",
       "...             ...           ...\n",
       "5786   27933.569782       28000.0\n",
       "1195   25310.270911       36000.0\n",
       "7606   15929.931048       17000.0\n",
       "7628   13734.344775       11000.0\n",
       "10910   9806.680637        8600.0\n",
       "\n",
       "[2402 rows x 2 columns]"
      ],
      "text/html": [
       "\n",
       "  <div id=\"df-58da278a-bc53-44bf-9333-60022a424cca\">\n",
       "    <div class=\"colab-df-container\">\n",
       "      <div>\n",
       "<style scoped>\n",
       "    .dataframe tbody tr th:only-of-type {\n",
       "        vertical-align: middle;\n",
       "    }\n",
       "\n",
       "    .dataframe tbody tr th {\n",
       "        vertical-align: top;\n",
       "    }\n",
       "\n",
       "    .dataframe thead th {\n",
       "        text-align: right;\n",
       "    }\n",
       "</style>\n",
       "<table border=\"1\" class=\"dataframe\">\n",
       "  <thead>\n",
       "    <tr style=\"text-align: right;\">\n",
       "      <th></th>\n",
       "      <th>y_from_pred</th>\n",
       "      <th>y_from_valid</th>\n",
       "    </tr>\n",
       "  </thead>\n",
       "  <tbody>\n",
       "    <tr>\n",
       "      <th>7740</th>\n",
       "      <td>23394.789451</td>\n",
       "      <td>21000.0</td>\n",
       "    </tr>\n",
       "    <tr>\n",
       "      <th>10643</th>\n",
       "      <td>8580.594817</td>\n",
       "      <td>8500.0</td>\n",
       "    </tr>\n",
       "    <tr>\n",
       "      <th>9351</th>\n",
       "      <td>20325.354301</td>\n",
       "      <td>25000.0</td>\n",
       "    </tr>\n",
       "    <tr>\n",
       "      <th>7872</th>\n",
       "      <td>15961.225001</td>\n",
       "      <td>17000.0</td>\n",
       "    </tr>\n",
       "    <tr>\n",
       "      <th>360</th>\n",
       "      <td>21167.939504</td>\n",
       "      <td>20800.0</td>\n",
       "    </tr>\n",
       "    <tr>\n",
       "      <th>...</th>\n",
       "      <td>...</td>\n",
       "      <td>...</td>\n",
       "    </tr>\n",
       "    <tr>\n",
       "      <th>5786</th>\n",
       "      <td>27933.569782</td>\n",
       "      <td>28000.0</td>\n",
       "    </tr>\n",
       "    <tr>\n",
       "      <th>1195</th>\n",
       "      <td>25310.270911</td>\n",
       "      <td>36000.0</td>\n",
       "    </tr>\n",
       "    <tr>\n",
       "      <th>7606</th>\n",
       "      <td>15929.931048</td>\n",
       "      <td>17000.0</td>\n",
       "    </tr>\n",
       "    <tr>\n",
       "      <th>7628</th>\n",
       "      <td>13734.344775</td>\n",
       "      <td>11000.0</td>\n",
       "    </tr>\n",
       "    <tr>\n",
       "      <th>10910</th>\n",
       "      <td>9806.680637</td>\n",
       "      <td>8600.0</td>\n",
       "    </tr>\n",
       "  </tbody>\n",
       "</table>\n",
       "<p>2402 rows × 2 columns</p>\n",
       "</div>\n",
       "      <button class=\"colab-df-convert\" onclick=\"convertToInteractive('df-58da278a-bc53-44bf-9333-60022a424cca')\"\n",
       "              title=\"Convert this dataframe to an interactive table.\"\n",
       "              style=\"display:none;\">\n",
       "        \n",
       "  <svg xmlns=\"http://www.w3.org/2000/svg\" height=\"24px\"viewBox=\"0 0 24 24\"\n",
       "       width=\"24px\">\n",
       "    <path d=\"M0 0h24v24H0V0z\" fill=\"none\"/>\n",
       "    <path d=\"M18.56 5.44l.94 2.06.94-2.06 2.06-.94-2.06-.94-.94-2.06-.94 2.06-2.06.94zm-11 1L8.5 8.5l.94-2.06 2.06-.94-2.06-.94L8.5 2.5l-.94 2.06-2.06.94zm10 10l.94 2.06.94-2.06 2.06-.94-2.06-.94-.94-2.06-.94 2.06-2.06.94z\"/><path d=\"M17.41 7.96l-1.37-1.37c-.4-.4-.92-.59-1.43-.59-.52 0-1.04.2-1.43.59L10.3 9.45l-7.72 7.72c-.78.78-.78 2.05 0 2.83L4 21.41c.39.39.9.59 1.41.59.51 0 1.02-.2 1.41-.59l7.78-7.78 2.81-2.81c.8-.78.8-2.07 0-2.86zM5.41 20L4 18.59l7.72-7.72 1.47 1.35L5.41 20z\"/>\n",
       "  </svg>\n",
       "      </button>\n",
       "      \n",
       "  <style>\n",
       "    .colab-df-container {\n",
       "      display:flex;\n",
       "      flex-wrap:wrap;\n",
       "      gap: 12px;\n",
       "    }\n",
       "\n",
       "    .colab-df-convert {\n",
       "      background-color: #E8F0FE;\n",
       "      border: none;\n",
       "      border-radius: 50%;\n",
       "      cursor: pointer;\n",
       "      display: none;\n",
       "      fill: #1967D2;\n",
       "      height: 32px;\n",
       "      padding: 0 0 0 0;\n",
       "      width: 32px;\n",
       "    }\n",
       "\n",
       "    .colab-df-convert:hover {\n",
       "      background-color: #E2EBFA;\n",
       "      box-shadow: 0px 1px 2px rgba(60, 64, 67, 0.3), 0px 1px 3px 1px rgba(60, 64, 67, 0.15);\n",
       "      fill: #174EA6;\n",
       "    }\n",
       "\n",
       "    [theme=dark] .colab-df-convert {\n",
       "      background-color: #3B4455;\n",
       "      fill: #D2E3FC;\n",
       "    }\n",
       "\n",
       "    [theme=dark] .colab-df-convert:hover {\n",
       "      background-color: #434B5C;\n",
       "      box-shadow: 0px 1px 3px 1px rgba(0, 0, 0, 0.15);\n",
       "      filter: drop-shadow(0px 1px 2px rgba(0, 0, 0, 0.3));\n",
       "      fill: #FFFFFF;\n",
       "    }\n",
       "  </style>\n",
       "\n",
       "      <script>\n",
       "        const buttonEl =\n",
       "          document.querySelector('#df-58da278a-bc53-44bf-9333-60022a424cca button.colab-df-convert');\n",
       "        buttonEl.style.display =\n",
       "          google.colab.kernel.accessAllowed ? 'block' : 'none';\n",
       "\n",
       "        async function convertToInteractive(key) {\n",
       "          const element = document.querySelector('#df-58da278a-bc53-44bf-9333-60022a424cca');\n",
       "          const dataTable =\n",
       "            await google.colab.kernel.invokeFunction('convertToInteractive',\n",
       "                                                     [key], {});\n",
       "          if (!dataTable) return;\n",
       "\n",
       "          const docLinkHtml = 'Like what you see? Visit the ' +\n",
       "            '<a target=\"_blank\" href=https://colab.research.google.com/notebooks/data_table.ipynb>data table notebook</a>'\n",
       "            + ' to learn more about interactive tables.';\n",
       "          element.innerHTML = '';\n",
       "          dataTable['output_type'] = 'display_data';\n",
       "          await google.colab.output.renderOutput(dataTable, element);\n",
       "          const docLink = document.createElement('div');\n",
       "          docLink.innerHTML = docLinkHtml;\n",
       "          element.appendChild(docLink);\n",
       "        }\n",
       "      </script>\n",
       "    </div>\n",
       "  </div>\n",
       "  "
      ]
     },
     "metadata": {},
     "execution_count": 169
    }
   ]
  },
  {
   "cell_type": "code",
   "source": [
    "np.sqrt(mean_squared_error(y_from_pred, y_from_valid))"
   ],
   "metadata": {
    "colab": {
     "base_uri": "https://localhost:8080/"
    },
    "id": "AwiBeaa-0Gpe",
    "outputId": "d67348d1-722c-4c14-9342-4eb147fa9b52",
    "pycharm": {
     "name": "#%%\n"
    }
   },
   "execution_count": 170,
   "outputs": [
    {
     "output_type": "execute_result",
     "data": {
      "text/plain": [
       "2618.9630043723346"
      ]
     },
     "metadata": {},
     "execution_count": 170
    }
   ]
  },
  {
   "cell_type": "markdown",
   "source": [
    "# Train models with text features"
   ],
   "metadata": {
    "id": "-77UyyHavtAE",
    "pycharm": {
     "name": "#%% md\n"
    }
   }
  },
  {
   "cell_type": "markdown",
   "source": [
    "## Get sparse matrices\n"
   ],
   "metadata": {
    "id": "iFEQHXne-SZg",
    "pycharm": {
     "name": "#%% md\n"
    }
   }
  },
  {
   "cell_type": "code",
   "source": [
    "vectorizer = TfidfVectorizer()"
   ],
   "metadata": {
    "id": "k9AyI6vtgesA",
    "pycharm": {
     "name": "#%%\n"
    }
   },
   "execution_count": 9,
   "outputs": []
  },
  {
   "cell_type": "code",
   "source": [
    "skills_matrix = vectorizer.fit_transform(df.skills)"
   ],
   "metadata": {
    "id": "RJSFQruA7NB1",
    "pycharm": {
     "name": "#%%\n"
    }
   },
   "execution_count": 10,
   "outputs": []
  },
  {
   "cell_type": "code",
   "source": [
    "skills_matrix"
   ],
   "metadata": {
    "colab": {
     "base_uri": "https://localhost:8080/"
    },
    "id": "ypMzcxhew3qZ",
    "outputId": "74346eb6-cce9-4fbe-9d8b-8195080b7b8a",
    "pycharm": {
     "name": "#%%\n"
    }
   },
   "execution_count": 11,
   "outputs": [
    {
     "output_type": "execute_result",
     "data": {
      "text/plain": [
       "<12006x885 sparse matrix of type '<class 'numpy.float64'>'\n",
       "\twith 42232 stored elements in Compressed Sparse Row format>"
      ]
     },
     "metadata": {},
     "execution_count": 11
    }
   ]
  },
  {
   "cell_type": "code",
   "source": [
    "vectorizer.get_feature_names_out()"
   ],
   "metadata": {
    "colab": {
     "base_uri": "https://localhost:8080/"
    },
    "id": "bxsf_1VV8UvL",
    "outputId": "f1555c9a-1597-4cbc-d0e4-0a26937e5f00",
    "pycharm": {
     "name": "#%%\n"
    }
   },
   "execution_count": 12,
   "outputs": [
    {
     "output_type": "execute_result",
     "data": {
      "text/plain": [
       "array(['10', '11', '13', '14', '15', '16', '17', '18', '360', '365', '3d',\n",
       "       '4g', '4hana', '5g', 'aad', 'abap', 'access', 'active', 'adas',\n",
       "       'adf', 'administration', 'adobe', 'agile', 'ai', 'airflow', 'ajax',\n",
       "       'akeneo', 'akka', 'aks', 'algorithms', 'alto', 'amazon',\n",
       "       'analityczne', 'analityka', 'analiza', 'analysis', 'analytical',\n",
       "       'analytics', 'and', 'android', 'angielski', 'angular', 'angular12',\n",
       "       'angularjs', 'ansible', 'any', 'apache', 'apex', 'api', 'apis',\n",
       "       'aplication', 'app', 'appium', 'application', 'applications',\n",
       "       'apps', 'aqa', 'archimate', 'architect', 'architecture', 'arm',\n",
       "       'articulate', 'artifactory', 'aruba', 'as', 'as400', 'asp',\n",
       "       'asset', 'assurance', 'async', 'atlassian', 'aurora',\n",
       "       'authorization', 'automate', 'automated', 'automation', 'autosar',\n",
       "       'av', 'avalonia', 'await', 'aws', 'axiom', 'axiomsl', 'axure',\n",
       "       'azure', 'b2', 'backend', 'background', 'backlog', 'banking',\n",
       "       'bash', 'basic', 'bazy', 'bdd', 'be', 'bi', 'bid', 'big',\n",
       "       'bigdata', 'bigquery', 'binding', 'bioinformatics', 'biznesowa',\n",
       "       'bloc', 'blockchain', 'bloodhound', 'blue', 'boost', 'boot',\n",
       "       'bootstrap', 'bpm', 'bpmn', 'bps', 'brokers', 'browser', 'bucket',\n",
       "       'building', 'buildkite', 'burp', 'bus', 'business', 'bw', 'caf',\n",
       "       'campaign', 'cap', 'carthage', 'case', 'cases', 'cassandra',\n",
       "       'ccna', 'ccnp', 'cd', 'cdh', 'cdk', 'ce', 'center', 'centos',\n",
       "       'central', 'certificate', 'channeles', 'checkmk', 'checkpoint',\n",
       "       'ci', 'cicd', 'cisco', 'cissp', 'ck', 'clean', 'cli', 'clickhouse',\n",
       "       'client', 'cloud', 'cloudera', 'cloudformation', 'clouds',\n",
       "       'cluster', 'cmake', 'cms', 'co', 'coaching', 'coat', 'cobol',\n",
       "       'cocoapods', 'code', 'combine', 'commerce', 'communication',\n",
       "       'compose', 'composer', 'computer', 'computing', 'concepts',\n",
       "       'concurrent', 'conducting', 'confluence', 'consulting',\n",
       "       'containerisation', 'continuous', 'contract', 'corda', 'cordova',\n",
       "       'core', 'coreos', 'coroutines', 'couchbase', 'cpanel', 'cpe',\n",
       "       'cqrs', 'creative', 'crm', 'csa', 'csrm', 'css', 'css3',\n",
       "       'cucumber', 'customer', 'cybersecurity', 'cypress', 'danych',\n",
       "       'dart', 'data', 'databases', 'databricks', 'datadog', 'dax', 'db',\n",
       "       'dbms', 'dbt', 'debian', 'defi', 'defining', 'delivery', 'delphi',\n",
       "       'deployment', 'design', 'designer', 'detail', 'development',\n",
       "       'devops', 'devsecops', 'dhcp', 'digital', 'directory',\n",
       "       'distributed', 'django', 'dns', 'docker', 'doctrine',\n",
       "       'dokumentacji', 'domain', 'drf', 'driven', 'drupal', 'drupal8',\n",
       "       'dvb', 'dwh', 'dynamics', 'ec2', 'eclipse', 'ecmascript',\n",
       "       'ecommerce', 'ecs', 'editor', 'ee', 'ef', 'elasticsearch', 'elk',\n",
       "       'embedded', 'end', 'endpoint', 'engine', 'engineer', 'engineering',\n",
       "       'english', 'enterprise', 'entity', 'erp', 'es6', 'es7', 'esnext',\n",
       "       'etl', 'ewm', 'exadata', 'excel', 'exchange', 'experience',\n",
       "       'express', 'facebook', 'factors', 'factory', 'fastapi', 'fi',\n",
       "       'figma', 'finanse', 'fiori', 'firewall', 'flask', 'flink',\n",
       "       'fluent', 'flutter', 'forms', 'fortigate', 'fortinet', 'framer',\n",
       "       'framework', 'frameworks', 'french', 'front', 'fs', 'full',\n",
       "       'fullstack', 'funkcjonalne', 'fuseki', 'fx', 'gcp', 'german',\n",
       "       'gimp', 'gira', 'gis', 'git', 'gitflow', 'github', 'gitlab',\n",
       "       'gitops', 'glue', 'gmock', 'gnu', 'go', 'golang', 'golden',\n",
       "       'goldenpaths', 'google', 'googleworkspace', 'gosu', 'governance',\n",
       "       'gpo', 'gradle', 'graph', 'graphics', 'graphql', 'groovy', 'gsp',\n",
       "       'gstreamer', 'gui', 'hadoop', 'hana', 'hardware', 'hat', 'hcm',\n",
       "       'hdfs', 'helpdesk', 'hevo', 'hibernate', 'hig', 'hil', 'holder',\n",
       "       'hotjar', 'hr', 'hrm', 'htm', 'html', 'html5', 'http', 'hybris',\n",
       "       'hyper', 'ibm', 'icinga', 'ide', 'identity', 'ids', 'ii',\n",
       "       'illustrator', 'implementation', 'in', 'incident', 'indesign',\n",
       "       'information', 'infrastructure', 'inkscape', 'integration',\n",
       "       'intel', 'intelligence', 'interface', 'invision', 'io', 'ios',\n",
       "       'ip', 'ips', 'iptv', 'iso', 'istqb', 'it', 'itil', 'itom', 'itsm',\n",
       "       'iu5', 'j2ee', 'j2se', 'jakartaee', 'jamf', 'java', 'javascript',\n",
       "       'jbase', 'jenkins', 'jest', 'jetpack', 'jfs', 'jira', 'jmeter',\n",
       "       'jpa', 'jquery', 'js', 'json', 'jsp', 'juniper', 'junit', 'jvm',\n",
       "       'język', 'kafka', 'kanban', 'karka', 'keras', 'kibana', 'klientów',\n",
       "       'knowledge', 'komunikacja', 'komunikatywność', 'konfiguracja',\n",
       "       'kotlin', 'księgowość', 'kubernetes', 'l1', 'l2', 'l3', 'lake',\n",
       "       'lan', 'language', 'laravel', 'leadership', 'lean', 'learn',\n",
       "       'learning', 'lightning', 'linux', 'looker', 'ls', 'lua', 'lwc',\n",
       "       'lxc', 'm365', 'mac', 'machine', 'macos', 'magento', 'mainframe',\n",
       "       'management', 'manager', 'managment', 'manual', 'mariadb',\n",
       "       'master', 'material', 'maths', 'matlab', 'maui', 'maven',\n",
       "       'maxipanel', 'mdm', 'mern', 'message', 'metasploit', 'mfc',\n",
       "       'microintegrator', 'microservice', 'microservices', 'microsoft',\n",
       "       'miro', 'mitre', 'mobile', 'mockups', 'modeling', 'modelling',\n",
       "       'modern', 'mongodb', 'monitoring', 'monolith', 'mr', 'ms', 'ms365',\n",
       "       'mulesoft', 'murex', 'mvc', 'mvi', 'mvvm', 'mysql', 'myślenie',\n",
       "       'native', 'nest', 'nestjs', 'net', 'netsuite', 'network',\n",
       "       'networking', 'networks', 'new', 'nex', 'next', 'ngfw', 'ngrx',\n",
       "       'niemiecki', 'nist', 'nlp', 'node', 'nosql', 'notion', 'now',\n",
       "       'numpy', 'nunit', 'o2c', 'object', 'objective', 'objects',\n",
       "       'observability', 'octopus', 'odata', 'office', 'okd', 'on', 'oo',\n",
       "       'oop', 'oops', 'open', 'opencv', 'opengl', 'openshift',\n",
       "       'opensource', 'openstack', 'operating', 'opsgenie', 'or', 'oracle',\n",
       "       'organization', 'oriented', 'orm', 'os', 'other', 'ott',\n",
       "       'overseeing', 'owasp', 'owner', 'pagerduty', 'palo', 'pandas',\n",
       "       'parquet', 'paths', 'patterns', 'penetration', 'people', 'percona',\n",
       "       'photoshop', 'php', 'php7', 'phpunit', 'pim', 'pipelines', 'pixel',\n",
       "       'pixijs', 'pl', 'planning', 'plans', 'platform', 'player',\n",
       "       'playwright', 'plsql', 'pm', 'point', 'polish', 'polski',\n",
       "       'portfolio', 'post', 'postgresql', 'postman', 'postresql', 'power',\n",
       "       'powerbi', 'powershell', 'pozyskiwanie', 'praca', 'preferably',\n",
       "       'preparation', 'preprocessors', 'presales', 'presentations',\n",
       "       'prestashop', 'previous', 'prince', 'prince2', 'principles', 'pro',\n",
       "       'proactivity', 'problem', 'procesing', 'process', 'processes',\n",
       "       'processing', 'product', 'products', 'programming', 'project',\n",
       "       'promotion', 'protocol', 'protocols', 'prototyping', 'protractor',\n",
       "       'psm', 'public', 'puppet', 'pwa', 'pyhton', 'pyqt', 'pyspark',\n",
       "       'pytest', 'pyth', 'python', 'pyton', 'pytorch', 'qa', 'qlik', 'qu',\n",
       "       'quality', 'quasar', 'query', 'rabbitmq', 'rails', 'ran',\n",
       "       'rancher', 'rdbms', 'rds', 'react', 'reactive', 'reactjs', 'real',\n",
       "       'realm', 'red', 'redis', 'redmine', 'redshift', 'redux',\n",
       "       'regression', 'relacyjne', 'relational', 'relic', 'remedyforce',\n",
       "       'replicate', 'reporting', 'requirement', 'requirements',\n",
       "       'research', 'rest', 'restful', 'retail', 'review', 'roblox',\n",
       "       'robot', 'role', 'ror', 'routing', 'rpa', 'rspec', 'rtos', 'ruby',\n",
       "       'rust', 'rwd', 'rxdart', 'rxjava', 'rxjs', 'rxswift', 's3', 'saas',\n",
       "       'safe', 'salesforce', 'sap', 'sass', 'sast', 'scala', 'scalable',\n",
       "       'scalatest', 'scenarios', 'science', 'scikit', 'scipy', 'script',\n",
       "       'scripting', 'scrum', 'scss', 'sd', 'sdk', 'sdlc', 'se', 'secops',\n",
       "       'securit', 'security', 'selenide', 'selenium', 'sentinel', 'sep',\n",
       "       'server', 'serverless', 'service', 'servicenow', 'services',\n",
       "       'sharepoint', 'shell', 'shopware', 'siem', 'sil', 'similar',\n",
       "       'sketch', 'skills', 'slack', 'smalltalk', 'snowflake', 'soa',\n",
       "       'soap', 'soapui', 'soar', 'soc', 'software', 'solid', 'solr',\n",
       "       'solution', 'solving', 'soql', 'source', 'spark', 'specflow',\n",
       "       'specialist', 'spedtrans', 'spirng', 'splunk', 'spm', 'spock',\n",
       "       'spring', 'springboot', 'sprintboot', 'sprng', 'sql', 'squish',\n",
       "       'sre', 'ssas', 'ssdlc', 'ssh', 'ssis', 'ssl', 'sso', 'ssr', 'ssrs',\n",
       "       'st', 'stack', 'stake', 'statistics', 'stb', 'storefront',\n",
       "       'stories', 'storyline', 'strategy', 'studies', 'studio', 'styling',\n",
       "       'success', 'suite', 'support', 'supporting', 'suse', 'swift',\n",
       "       'swiftui', 'switching', 'switf', 'symfony', 'synapse', 'system',\n",
       "       'systemowa', 'systems', 'tabelau', 'tableau', 'tableu', 'tag',\n",
       "       'target', 'tcp', 'tcpdump', 'tdd', 'team', 'teamcity', 'teams',\n",
       "       'teamwork', 'tech', 'technical', 'technologies', 'technology',\n",
       "       'tenserflow', 'tensorflow', 'teradata', 'terminal', 'terraform',\n",
       "       'test', 'testing', 'testlink', 'testng', 'testrail', 'tests',\n",
       "       'testy', 'tfs', 'the', 'theory', 'thinking', 'threat', 'tibco',\n",
       "       'time', 'tmsa', 'togaf', 'tomcat', 'tool', 'tools', 'trello',\n",
       "       'trm', 'troubleshooting', 'tsql', 'twig', 'tworzenie', 'type',\n",
       "       'typescript', 'uat', 'ubuntu', 'ui', 'ui5', 'uikit', 'uipath',\n",
       "       'ulkit', 'umbraco', 'uml', 'unit', 'unity', 'unix', 'unreal',\n",
       "       'user', 'utm', 'ux', 'v10', 'vba', 'verilog', 'vfp',\n",
       "       'virtualization', 'visio', 'vision', 'visual', 'visualization',\n",
       "       'vmware', 'vpn', 'vr', 'vue', 'vuex', 'vulkan', 'waf', 'wallets',\n",
       "       'wan', 'warehouse', 'warehousing', 'waterfall', 'wdrożenia', 'web',\n",
       "       'webcon', 'webdriver', 'webflow', 'webforms', 'webgl', 'webpack',\n",
       "       'webscraping', 'webservices', 'windows', 'wireframes', 'wireshark',\n",
       "       'with', 'wlan', 'wms', 'woocommerce', 'word', 'wordpress',\n",
       "       'working', 'workplace', 'works', 'workshops', 'wpf', 'writing',\n",
       "       'wso2', 'xamarin', 'xcode', 'xd', 'xenserver', 'xml', 'xray',\n",
       "       'xtradb', 'yarn', 'zabbix', 'zendesk', 'zespołowa'], dtype=object)"
      ]
     },
     "metadata": {},
     "execution_count": 12
    }
   ]
  },
  {
   "cell_type": "code",
   "source": [
    "title_matrix = vectorizer.fit_transform(df.title)"
   ],
   "metadata": {
    "id": "ORw_pOvH7RNy",
    "pycharm": {
     "name": "#%%\n"
    }
   },
   "execution_count": 13,
   "outputs": []
  },
  {
   "cell_type": "code",
   "source": [
    "title_matrix"
   ],
   "metadata": {
    "colab": {
     "base_uri": "https://localhost:8080/"
    },
    "id": "5D6BGoIHw8eR",
    "outputId": "49c98adb-5ba8-4f5a-a117-c938bddd1fdb",
    "pycharm": {
     "name": "#%%\n"
    }
   },
   "execution_count": 14,
   "outputs": [
    {
     "output_type": "execute_result",
     "data": {
      "text/plain": [
       "<12006x652 sparse matrix of type '<class 'numpy.float64'>'\n",
       "\twith 38269 stored elements in Compressed Sparse Row format>"
      ]
     },
     "metadata": {},
     "execution_count": 14
    }
   ]
  },
  {
   "cell_type": "code",
   "source": [
    "vectorizer.get_feature_names_out()"
   ],
   "metadata": {
    "colab": {
     "base_uri": "https://localhost:8080/"
    },
    "id": "qX2ACqoH8al_",
    "outputId": "a65775a4-6573-476c-a210-f10eea4a65fc",
    "pycharm": {
     "name": "#%%\n"
    }
   },
   "execution_count": 15,
   "outputs": [
    {
     "output_type": "execute_result",
     "data": {
      "text/plain": [
       "array(['100', '2nd', '32420', '32424', '365', '3d', '3rd', '5g', 'aad',\n",
       "       'abap', 'access', 'account', 'active', 'address', 'admin',\n",
       "       'administrator', 'adobe', 'aem', 'agency', 'agile', 'ai',\n",
       "       'akademia', 'akeneo', 'akka', 'algorithmic', 'all', 'analityczka',\n",
       "       'analityk', 'analyst', 'analytics', 'and', 'android', 'androidów',\n",
       "       'angular', 'aosp', 'api', 'aplikacji', 'app', 'application',\n",
       "       'applications', 'apps', 'aps', 'aqa', 'architect', 'architecture',\n",
       "       'architekt', 'articulate', 'asap', 'asp', 'asset', 'assistant',\n",
       "       'associate', 'assurance', 'at', 'atlassian', 'auditor', 'automate',\n",
       "       'automation', 'automatyzujacy', 'automatyzujący', 'automotive',\n",
       "       'autor', 'autosar', 'aws', 'ax', 'axiomsl', 'azure', 'b2b', 'back',\n",
       "       'backend', 'background', 'banking', 'based', 'basis', 'baz', 'be',\n",
       "       'bez', 'bezpieczeństwa', 'bi', 'big', 'billing', 'bioinformatics',\n",
       "       'biopharma', 'biotech', 'biznesowo', 'biznesowy', 'biznesowych',\n",
       "       'blazor', 'blockchain', 'blue', 'bpm', 'branża', 'browser',\n",
       "       'budowlanego', 'bugsnag', 'business', 'cards', 'cat', 'cd', 'ce',\n",
       "       'center', 'central', 'centre', 'ceo', 'chapter', 'chief', 'ci',\n",
       "       'classic', 'classification', 'client', 'cloud', 'cloudops', 'cms',\n",
       "       'co', 'coach', 'coat', 'cobol', 'code', 'colleague', 'collections',\n",
       "       'commerce', 'commercial', 'comms', 'communications', 'compiler',\n",
       "       'compilers', 'compliance', 'computer', 'configuration',\n",
       "       'consulant', 'consultant', 'consulting', 'content', 'contract',\n",
       "       'controller', 'coordinator', 'corda', 'core', 'crimes', 'cro',\n",
       "       'customer', 'cv', 'cyber', 'cyberbezpieczeństwa', 'cybersec',\n",
       "       'cybersecurity', 'człowiek', 'danych', 'data', 'database',\n",
       "       'databricks', 'dba', 'debit', 'defender', 'delivery', 'delphi',\n",
       "       'department', 'deployment', 'design', 'designer', 'desk', 'dev',\n",
       "       'develop', 'developer', 'developera', 'development', 'device',\n",
       "       'devops', 'devsecops', 'digital', 'directory', 'distribution',\n",
       "       'django', 'dlt', 'do', 'dokumentacji', 'domain', 'driver',\n",
       "       'drupal', 'ds', 'dwh', 'dynamics', 'działu', 'e2e', 'ecom',\n",
       "       'ecomm', 'ecommerce', 'edlund', 'education', 'ee', 'ekspert',\n",
       "       'elixir', 'embedded', 'emobility', 'end', 'endpoint', 'eng',\n",
       "       'engine', 'engineer', 'engineering', 'english', 'enterprise',\n",
       "       'entertainment', 'erp', 'escalation', 'etl', 'executive',\n",
       "       'experience', 'experienced', 'expert', 'express', 'fast', 'fe',\n",
       "       'feature', 'fi', 'fin', 'finance', 'financial', 'fintech', 'fiori',\n",
       "       'flutter', 'focus', 'for', 'forecast', 'forms', 'fpga',\n",
       "       'framework', 'freelance', 'french', 'front', 'fronted', 'frontend',\n",
       "       'fulfillment', 'full', 'fullstack', 'fx', 'game', 'gameplay',\n",
       "       'gaming', 'gcp', 'genders', 'german', 'gier', 'global', 'globus',\n",
       "       'gms', 'golang', 'governance', 'graphic', 'graphics', 'groovy',\n",
       "       'growth', 'główny', 'hadoop', 'hana', 'hardware', 'hcl', 'hcm',\n",
       "       'head', 'helpdesk', 'high', 'hire', 'hr', 'hrm', 'html', 'hub',\n",
       "       'hw', 'hybrid', 'hybris', 'iam', 'ibm', 'id', 'identity', 'ii',\n",
       "       'iii', 'implementation', 'in', 'incident', 'industry',\n",
       "       'informatica', 'information', 'informatycznego', 'informatycznych',\n",
       "       'infra', 'infrastructure', 'infrastruktury', 'integration',\n",
       "       'integrations', 'intelligence', 'intermediate', 'intern',\n",
       "       'internal', 'inżynier', 'inżynierka', 'ios', 'is', 'it', 'itom',\n",
       "       'java', 'javascript', 'job', 'jquery', 'jr', 'js', 'junior',\n",
       "       'językiem', 'ka', 'kafka', 'kanadą', 'kierownik', 'komputerowych',\n",
       "       'konsultant', 'koordynator', 'korepetytor', 'korporacyjny',\n",
       "       'kotlin', 'kubernetes', 'kursu', 'l2', 'lan', 'laravel', 'lead',\n",
       "       'leader', 'learn', 'learning', 'level', 'lider', 'line', 'linia',\n",
       "       'linux', 'live', 'load', 'location', 'looker', 'low', 'ls', 'lub',\n",
       "       'm365', 'machine', 'magento', 'mainframe', 'management', 'manager',\n",
       "       'manual', 'manualny', 'market', 'marketingowych', 'master', 'mało',\n",
       "       'mały', 'mbd', 'media', 'merchant', 'meta', 'microservices',\n",
       "       'microsoft', 'mid', 'middle', 'middleware', 'migracji', 'mining',\n",
       "       'ml', 'mlops', 'mobile', 'motoryzacja', 'mrip', 'ms',\n",
       "       'multiplatform', 'murex', 'mvc', 'młodszy', 'nadzoru', 'native',\n",
       "       'nest', 'nestjs', 'net', 'netsuite', 'network', 'networking',\n",
       "       'next', 'nextjs', 'niemieckim', 'nlp', 'node', 'nodejs', 'of',\n",
       "       'offer', 'offerings', 'office', 'officer', 'on', 'onboarding',\n",
       "       'one', 'onsite', 'onstore', 'openshift', 'openwrt', 'operacyjnych',\n",
       "       'operation', 'operations', 'oprogramowania', 'ops', 'opt',\n",
       "       'optimization', 'option', 'or', 'oracle', 'oraz', 'organów',\n",
       "       'orkiestra', 'owner', 'part', 'partly', 'payments', 'penetration',\n",
       "       'pentester', 'pharma', 'php', 'pl', 'platform', 'platforms', 'pmo',\n",
       "       'poland', 'portfolio', 'postgresql', 'power', 'powerbuilder',\n",
       "       'poznań', 'practice', 'pre', 'premium', 'presales', 'prestashop',\n",
       "       'pricing', 'principal', 'problem', 'process', 'procesów', 'prod',\n",
       "       'product', 'production', 'productivity', 'program', 'programista',\n",
       "       'programistka', 'programistyczny', 'programmer', 'project',\n",
       "       'projekcie', 'projektach', 'projektant', 'projektu',\n",
       "       'psychometrics', 'pwa', 'python', 'qa', 'qc', 'qlik', 'qml',\n",
       "       'quality', 'quant', 'quarkus', 'query', 'rails', 'rancher',\n",
       "       'react', 'real', 'reality', 'regular', 'release', 'reliability',\n",
       "       'remote', 'remotely', 'rendering', 'representative', 'research',\n",
       "       'researcher', 'responsible', 'retail', 'rnd', 'roblox', 'robot',\n",
       "       'rollout', 'ror', 'rozwiązań', 'rpa', 'ruby', 'rust', 'safe',\n",
       "       'safety', 'sales', 'salesforce', 'sap', 'scala', 'scanning',\n",
       "       'scenariuszy', 'scientist', 'scraper', 'scrum', 'sd', 'sdk',\n",
       "       'security', 'selenium', 'sen', 'senior', 'ser', 'server',\n",
       "       'service', 'servicenow', 'services', 'servicing', 'serwisu',\n",
       "       'sharepoint', 'shopify', 'shopware', 'sieci', 'sieciowe', 'siem',\n",
       "       'site', 'sitecore', 'skills', 'smalltalk', 'snowflake', 'soa',\n",
       "       'software', 'solution', 'solutions', 'solver', 'spark', 'spec',\n",
       "       'specialist', 'specjalista', 'specjalistka', 'spex', 'splunk',\n",
       "       'spotkań', 'spring', 'sprzętowej', 'sql', 'sr', 'sre', 'stack',\n",
       "       'staff', 'starszy', 'startup', 'staż', 'stb', 'step', 'storefront',\n",
       "       'storyline', 'student', 'studio', 'success', 'support', 'suse',\n",
       "       'sw', 'swe', 'symfony', 'symphony', 'sys', 'sysops', 'system',\n",
       "       'systemowy', 'systems', 'systemu', 'systemy', 'systemów',\n",
       "       'szczecin', 'szkolenie', 'tax', 'team', 'tech', 'technical',\n",
       "       'technicznego', 'technicznej', 'techniczny', 'technology',\n",
       "       'telcom', 'teleinformatycznych', 'test', 'tester', 'testerka',\n",
       "       'testing', 'testów', 'the', 'tibco', 'time', 'tls', 'to', 'tools',\n",
       "       'trading', 'transformation', 'translator', 'travels', 'treasury',\n",
       "       'trener', 'tribe', 'trust', 'ts', 'tv', 'typescript', 'ui', 'ui5',\n",
       "       'uipath', 'unit', 'unity', 'unix', 'unreal', 'us', 'user', 'ux',\n",
       "       'użytkowników', 'vba', 'verification', 'video', 'virtual',\n",
       "       'vision', 'visual', 'vr', 'vue', 'vulnerability', 'wage', 'wan',\n",
       "       'want', 'warehouse', 'wdrożeń', 'web', 'webforms', 'webgl',\n",
       "       'webmaster', 'whiteboards', 'wifi', 'wirtualizacja', 'with',\n",
       "       'wordpress', 'work', 'workflow', 'working', 'writer', 'wroclaw',\n",
       "       'wso2', 'wsparcia', 'współpraca', 'wykładowca', 'właściciel',\n",
       "       'xamarin', 'zdalnie', 'zespołu', 'zone', 'łowca', 'адміністратор',\n",
       "       'системний'], dtype=object)"
      ]
     },
     "metadata": {},
     "execution_count": 15
    }
   ]
  },
  {
   "cell_type": "code",
   "source": [
    "text_sparse_matrix = hstack((skills_matrix, title_matrix))"
   ],
   "metadata": {
    "id": "O_DbEGxl7XPt",
    "pycharm": {
     "name": "#%%\n"
    }
   },
   "execution_count": 16,
   "outputs": []
  },
  {
   "cell_type": "code",
   "source": [
    "text_sparse_matrix"
   ],
   "metadata": {
    "colab": {
     "base_uri": "https://localhost:8080/"
    },
    "id": "RAab9am4xCrA",
    "outputId": "ccbd53b8-a05c-432b-87b3-e0eb745e336f",
    "pycharm": {
     "name": "#%%\n"
    }
   },
   "execution_count": 17,
   "outputs": [
    {
     "output_type": "execute_result",
     "data": {
      "text/plain": [
       "<12006x1537 sparse matrix of type '<class 'numpy.float64'>'\n",
       "\twith 80501 stored elements in COOrdinate format>"
      ]
     },
     "metadata": {},
     "execution_count": 17
    }
   ]
  },
  {
   "cell_type": "code",
   "source": [
    "X.drop(['title', 'skills'], axis=1)"
   ],
   "metadata": {
    "colab": {
     "base_uri": "https://localhost:8080/",
     "height": 423
    },
    "id": "lwsBrRb2zZku",
    "outputId": "0feff54d-9588-4742-d3fe-25dd19376362",
    "pycharm": {
     "name": "#%%\n"
    }
   },
   "execution_count": 45,
   "outputs": [
    {
     "output_type": "execute_result",
     "data": {
      "text/plain": [
       "           city marker_icon workplace_type            company_name  \\\n",
       "0       Wrocław      mobile         remote                   CRED    \n",
       "1      Warszawa         php         remote                 digatus   \n",
       "2      Warszawa         php         remote                 digatus   \n",
       "3      Warszawa    security  partly_remote   CloudFerro sp. z o.o.   \n",
       "4      Warszawa    security  partly_remote   CloudFerro sp. z o.o.   \n",
       "...         ...         ...            ...                     ...   \n",
       "12001   Wrocław       other         remote  Experis Manpower Group   \n",
       "12002   Wrocław      python         remote                sky gate   \n",
       "12003    Gdańsk      mobile  partly_remote                sky gate   \n",
       "12004    Gdańsk  javascript         remote                sky gate   \n",
       "12005   Gliwice        java         remote                  Devire   \n",
       "\n",
       "      experience_level contract_type  \n",
       "0                  mid           b2b  \n",
       "1                  mid           b2b  \n",
       "2                  mid     permanent  \n",
       "3                  mid     permanent  \n",
       "4                  mid           b2b  \n",
       "...                ...           ...  \n",
       "12001           senior           b2b  \n",
       "12002              mid           b2b  \n",
       "12003              mid     permanent  \n",
       "12004              mid     permanent  \n",
       "12005           senior           b2b  \n",
       "\n",
       "[12006 rows x 6 columns]"
      ],
      "text/html": [
       "\n",
       "  <div id=\"df-67fd0c38-3bb7-45d3-b5a1-313770688350\">\n",
       "    <div class=\"colab-df-container\">\n",
       "      <div>\n",
       "<style scoped>\n",
       "    .dataframe tbody tr th:only-of-type {\n",
       "        vertical-align: middle;\n",
       "    }\n",
       "\n",
       "    .dataframe tbody tr th {\n",
       "        vertical-align: top;\n",
       "    }\n",
       "\n",
       "    .dataframe thead th {\n",
       "        text-align: right;\n",
       "    }\n",
       "</style>\n",
       "<table border=\"1\" class=\"dataframe\">\n",
       "  <thead>\n",
       "    <tr style=\"text-align: right;\">\n",
       "      <th></th>\n",
       "      <th>city</th>\n",
       "      <th>marker_icon</th>\n",
       "      <th>workplace_type</th>\n",
       "      <th>company_name</th>\n",
       "      <th>experience_level</th>\n",
       "      <th>contract_type</th>\n",
       "    </tr>\n",
       "  </thead>\n",
       "  <tbody>\n",
       "    <tr>\n",
       "      <th>0</th>\n",
       "      <td>Wrocław</td>\n",
       "      <td>mobile</td>\n",
       "      <td>remote</td>\n",
       "      <td>CRED</td>\n",
       "      <td>mid</td>\n",
       "      <td>b2b</td>\n",
       "    </tr>\n",
       "    <tr>\n",
       "      <th>1</th>\n",
       "      <td>Warszawa</td>\n",
       "      <td>php</td>\n",
       "      <td>remote</td>\n",
       "      <td>digatus</td>\n",
       "      <td>mid</td>\n",
       "      <td>b2b</td>\n",
       "    </tr>\n",
       "    <tr>\n",
       "      <th>2</th>\n",
       "      <td>Warszawa</td>\n",
       "      <td>php</td>\n",
       "      <td>remote</td>\n",
       "      <td>digatus</td>\n",
       "      <td>mid</td>\n",
       "      <td>permanent</td>\n",
       "    </tr>\n",
       "    <tr>\n",
       "      <th>3</th>\n",
       "      <td>Warszawa</td>\n",
       "      <td>security</td>\n",
       "      <td>partly_remote</td>\n",
       "      <td>CloudFerro sp. z o.o.</td>\n",
       "      <td>mid</td>\n",
       "      <td>permanent</td>\n",
       "    </tr>\n",
       "    <tr>\n",
       "      <th>4</th>\n",
       "      <td>Warszawa</td>\n",
       "      <td>security</td>\n",
       "      <td>partly_remote</td>\n",
       "      <td>CloudFerro sp. z o.o.</td>\n",
       "      <td>mid</td>\n",
       "      <td>b2b</td>\n",
       "    </tr>\n",
       "    <tr>\n",
       "      <th>...</th>\n",
       "      <td>...</td>\n",
       "      <td>...</td>\n",
       "      <td>...</td>\n",
       "      <td>...</td>\n",
       "      <td>...</td>\n",
       "      <td>...</td>\n",
       "    </tr>\n",
       "    <tr>\n",
       "      <th>12001</th>\n",
       "      <td>Wrocław</td>\n",
       "      <td>other</td>\n",
       "      <td>remote</td>\n",
       "      <td>Experis Manpower Group</td>\n",
       "      <td>senior</td>\n",
       "      <td>b2b</td>\n",
       "    </tr>\n",
       "    <tr>\n",
       "      <th>12002</th>\n",
       "      <td>Wrocław</td>\n",
       "      <td>python</td>\n",
       "      <td>remote</td>\n",
       "      <td>sky gate</td>\n",
       "      <td>mid</td>\n",
       "      <td>b2b</td>\n",
       "    </tr>\n",
       "    <tr>\n",
       "      <th>12003</th>\n",
       "      <td>Gdańsk</td>\n",
       "      <td>mobile</td>\n",
       "      <td>partly_remote</td>\n",
       "      <td>sky gate</td>\n",
       "      <td>mid</td>\n",
       "      <td>permanent</td>\n",
       "    </tr>\n",
       "    <tr>\n",
       "      <th>12004</th>\n",
       "      <td>Gdańsk</td>\n",
       "      <td>javascript</td>\n",
       "      <td>remote</td>\n",
       "      <td>sky gate</td>\n",
       "      <td>mid</td>\n",
       "      <td>permanent</td>\n",
       "    </tr>\n",
       "    <tr>\n",
       "      <th>12005</th>\n",
       "      <td>Gliwice</td>\n",
       "      <td>java</td>\n",
       "      <td>remote</td>\n",
       "      <td>Devire</td>\n",
       "      <td>senior</td>\n",
       "      <td>b2b</td>\n",
       "    </tr>\n",
       "  </tbody>\n",
       "</table>\n",
       "<p>12006 rows × 6 columns</p>\n",
       "</div>\n",
       "      <button class=\"colab-df-convert\" onclick=\"convertToInteractive('df-67fd0c38-3bb7-45d3-b5a1-313770688350')\"\n",
       "              title=\"Convert this dataframe to an interactive table.\"\n",
       "              style=\"display:none;\">\n",
       "        \n",
       "  <svg xmlns=\"http://www.w3.org/2000/svg\" height=\"24px\"viewBox=\"0 0 24 24\"\n",
       "       width=\"24px\">\n",
       "    <path d=\"M0 0h24v24H0V0z\" fill=\"none\"/>\n",
       "    <path d=\"M18.56 5.44l.94 2.06.94-2.06 2.06-.94-2.06-.94-.94-2.06-.94 2.06-2.06.94zm-11 1L8.5 8.5l.94-2.06 2.06-.94-2.06-.94L8.5 2.5l-.94 2.06-2.06.94zm10 10l.94 2.06.94-2.06 2.06-.94-2.06-.94-.94-2.06-.94 2.06-2.06.94z\"/><path d=\"M17.41 7.96l-1.37-1.37c-.4-.4-.92-.59-1.43-.59-.52 0-1.04.2-1.43.59L10.3 9.45l-7.72 7.72c-.78.78-.78 2.05 0 2.83L4 21.41c.39.39.9.59 1.41.59.51 0 1.02-.2 1.41-.59l7.78-7.78 2.81-2.81c.8-.78.8-2.07 0-2.86zM5.41 20L4 18.59l7.72-7.72 1.47 1.35L5.41 20z\"/>\n",
       "  </svg>\n",
       "      </button>\n",
       "      \n",
       "  <style>\n",
       "    .colab-df-container {\n",
       "      display:flex;\n",
       "      flex-wrap:wrap;\n",
       "      gap: 12px;\n",
       "    }\n",
       "\n",
       "    .colab-df-convert {\n",
       "      background-color: #E8F0FE;\n",
       "      border: none;\n",
       "      border-radius: 50%;\n",
       "      cursor: pointer;\n",
       "      display: none;\n",
       "      fill: #1967D2;\n",
       "      height: 32px;\n",
       "      padding: 0 0 0 0;\n",
       "      width: 32px;\n",
       "    }\n",
       "\n",
       "    .colab-df-convert:hover {\n",
       "      background-color: #E2EBFA;\n",
       "      box-shadow: 0px 1px 2px rgba(60, 64, 67, 0.3), 0px 1px 3px 1px rgba(60, 64, 67, 0.15);\n",
       "      fill: #174EA6;\n",
       "    }\n",
       "\n",
       "    [theme=dark] .colab-df-convert {\n",
       "      background-color: #3B4455;\n",
       "      fill: #D2E3FC;\n",
       "    }\n",
       "\n",
       "    [theme=dark] .colab-df-convert:hover {\n",
       "      background-color: #434B5C;\n",
       "      box-shadow: 0px 1px 3px 1px rgba(0, 0, 0, 0.15);\n",
       "      filter: drop-shadow(0px 1px 2px rgba(0, 0, 0, 0.3));\n",
       "      fill: #FFFFFF;\n",
       "    }\n",
       "  </style>\n",
       "\n",
       "      <script>\n",
       "        const buttonEl =\n",
       "          document.querySelector('#df-67fd0c38-3bb7-45d3-b5a1-313770688350 button.colab-df-convert');\n",
       "        buttonEl.style.display =\n",
       "          google.colab.kernel.accessAllowed ? 'block' : 'none';\n",
       "\n",
       "        async function convertToInteractive(key) {\n",
       "          const element = document.querySelector('#df-67fd0c38-3bb7-45d3-b5a1-313770688350');\n",
       "          const dataTable =\n",
       "            await google.colab.kernel.invokeFunction('convertToInteractive',\n",
       "                                                     [key], {});\n",
       "          if (!dataTable) return;\n",
       "\n",
       "          const docLinkHtml = 'Like what you see? Visit the ' +\n",
       "            '<a target=\"_blank\" href=https://colab.research.google.com/notebooks/data_table.ipynb>data table notebook</a>'\n",
       "            + ' to learn more about interactive tables.';\n",
       "          element.innerHTML = '';\n",
       "          dataTable['output_type'] = 'display_data';\n",
       "          await google.colab.output.renderOutput(dataTable, element);\n",
       "          const docLink = document.createElement('div');\n",
       "          docLink.innerHTML = docLinkHtml;\n",
       "          element.appendChild(docLink);\n",
       "        }\n",
       "      </script>\n",
       "    </div>\n",
       "  </div>\n",
       "  "
      ]
     },
     "metadata": {},
     "execution_count": 45
    }
   ]
  },
  {
   "cell_type": "code",
   "source": [
    "pd.DataFrame(text_sparse_matrix.toarray())"
   ],
   "metadata": {
    "colab": {
     "base_uri": "https://localhost:8080/",
     "height": 423
    },
    "id": "X9dZVg6TzbxH",
    "outputId": "2527f8ea-2621-4ed0-97d8-49e475a9325e",
    "pycharm": {
     "name": "#%%\n"
    }
   },
   "execution_count": 46,
   "outputs": [
    {
     "output_type": "execute_result",
     "data": {
      "text/plain": [
       "       0     1     2     3     4     5     6     7     8     9     ...  1527  \\\n",
       "0       0.0   0.0   0.0   0.0   0.0   0.0   0.0   0.0   0.0   0.0  ...   0.0   \n",
       "1       0.0   0.0   0.0   0.0   0.0   0.0   0.0   0.0   0.0   0.0  ...   0.0   \n",
       "2       0.0   0.0   0.0   0.0   0.0   0.0   0.0   0.0   0.0   0.0  ...   0.0   \n",
       "3       0.0   0.0   0.0   0.0   0.0   0.0   0.0   0.0   0.0   0.0  ...   0.0   \n",
       "4       0.0   0.0   0.0   0.0   0.0   0.0   0.0   0.0   0.0   0.0  ...   0.0   \n",
       "...     ...   ...   ...   ...   ...   ...   ...   ...   ...   ...  ...   ...   \n",
       "12001   0.0   0.0   0.0   0.0   0.0   0.0   0.0   0.0   0.0   0.0  ...   0.0   \n",
       "12002   0.0   0.0   0.0   0.0   0.0   0.0   0.0   0.0   0.0   0.0  ...   0.0   \n",
       "12003   0.0   0.0   0.0   0.0   0.0   0.0   0.0   0.0   0.0   0.0  ...   0.0   \n",
       "12004   0.0   0.0   0.0   0.0   0.0   0.0   0.0   0.0   0.0   0.0  ...   0.0   \n",
       "12005   0.0   0.0   0.0   0.0   0.0   0.0   0.0   0.0   0.0   0.0  ...   0.0   \n",
       "\n",
       "       1528  1529  1530  1531  1532  1533  1534  1535  1536  \n",
       "0       0.0   0.0   0.0   0.0   0.0   0.0   0.0   0.0   0.0  \n",
       "1       0.0   0.0   0.0   0.0   0.0   0.0   0.0   0.0   0.0  \n",
       "2       0.0   0.0   0.0   0.0   0.0   0.0   0.0   0.0   0.0  \n",
       "3       0.0   0.0   0.0   0.0   0.0   0.0   0.0   0.0   0.0  \n",
       "4       0.0   0.0   0.0   0.0   0.0   0.0   0.0   0.0   0.0  \n",
       "...     ...   ...   ...   ...   ...   ...   ...   ...   ...  \n",
       "12001   0.0   0.0   0.0   0.0   0.0   0.0   0.0   0.0   0.0  \n",
       "12002   0.0   0.0   0.0   0.0   0.0   0.0   0.0   0.0   0.0  \n",
       "12003   0.0   0.0   0.0   0.0   0.0   0.0   0.0   0.0   0.0  \n",
       "12004   0.0   0.0   0.0   0.0   0.0   0.0   0.0   0.0   0.0  \n",
       "12005   0.0   0.0   0.0   0.0   0.0   0.0   0.0   0.0   0.0  \n",
       "\n",
       "[12006 rows x 1537 columns]"
      ],
      "text/html": [
       "\n",
       "  <div id=\"df-fcab29c2-3267-4f24-be35-a0d0f681d83d\">\n",
       "    <div class=\"colab-df-container\">\n",
       "      <div>\n",
       "<style scoped>\n",
       "    .dataframe tbody tr th:only-of-type {\n",
       "        vertical-align: middle;\n",
       "    }\n",
       "\n",
       "    .dataframe tbody tr th {\n",
       "        vertical-align: top;\n",
       "    }\n",
       "\n",
       "    .dataframe thead th {\n",
       "        text-align: right;\n",
       "    }\n",
       "</style>\n",
       "<table border=\"1\" class=\"dataframe\">\n",
       "  <thead>\n",
       "    <tr style=\"text-align: right;\">\n",
       "      <th></th>\n",
       "      <th>0</th>\n",
       "      <th>1</th>\n",
       "      <th>2</th>\n",
       "      <th>3</th>\n",
       "      <th>4</th>\n",
       "      <th>5</th>\n",
       "      <th>6</th>\n",
       "      <th>7</th>\n",
       "      <th>8</th>\n",
       "      <th>9</th>\n",
       "      <th>...</th>\n",
       "      <th>1527</th>\n",
       "      <th>1528</th>\n",
       "      <th>1529</th>\n",
       "      <th>1530</th>\n",
       "      <th>1531</th>\n",
       "      <th>1532</th>\n",
       "      <th>1533</th>\n",
       "      <th>1534</th>\n",
       "      <th>1535</th>\n",
       "      <th>1536</th>\n",
       "    </tr>\n",
       "  </thead>\n",
       "  <tbody>\n",
       "    <tr>\n",
       "      <th>0</th>\n",
       "      <td>0.0</td>\n",
       "      <td>0.0</td>\n",
       "      <td>0.0</td>\n",
       "      <td>0.0</td>\n",
       "      <td>0.0</td>\n",
       "      <td>0.0</td>\n",
       "      <td>0.0</td>\n",
       "      <td>0.0</td>\n",
       "      <td>0.0</td>\n",
       "      <td>0.0</td>\n",
       "      <td>...</td>\n",
       "      <td>0.0</td>\n",
       "      <td>0.0</td>\n",
       "      <td>0.0</td>\n",
       "      <td>0.0</td>\n",
       "      <td>0.0</td>\n",
       "      <td>0.0</td>\n",
       "      <td>0.0</td>\n",
       "      <td>0.0</td>\n",
       "      <td>0.0</td>\n",
       "      <td>0.0</td>\n",
       "    </tr>\n",
       "    <tr>\n",
       "      <th>1</th>\n",
       "      <td>0.0</td>\n",
       "      <td>0.0</td>\n",
       "      <td>0.0</td>\n",
       "      <td>0.0</td>\n",
       "      <td>0.0</td>\n",
       "      <td>0.0</td>\n",
       "      <td>0.0</td>\n",
       "      <td>0.0</td>\n",
       "      <td>0.0</td>\n",
       "      <td>0.0</td>\n",
       "      <td>...</td>\n",
       "      <td>0.0</td>\n",
       "      <td>0.0</td>\n",
       "      <td>0.0</td>\n",
       "      <td>0.0</td>\n",
       "      <td>0.0</td>\n",
       "      <td>0.0</td>\n",
       "      <td>0.0</td>\n",
       "      <td>0.0</td>\n",
       "      <td>0.0</td>\n",
       "      <td>0.0</td>\n",
       "    </tr>\n",
       "    <tr>\n",
       "      <th>2</th>\n",
       "      <td>0.0</td>\n",
       "      <td>0.0</td>\n",
       "      <td>0.0</td>\n",
       "      <td>0.0</td>\n",
       "      <td>0.0</td>\n",
       "      <td>0.0</td>\n",
       "      <td>0.0</td>\n",
       "      <td>0.0</td>\n",
       "      <td>0.0</td>\n",
       "      <td>0.0</td>\n",
       "      <td>...</td>\n",
       "      <td>0.0</td>\n",
       "      <td>0.0</td>\n",
       "      <td>0.0</td>\n",
       "      <td>0.0</td>\n",
       "      <td>0.0</td>\n",
       "      <td>0.0</td>\n",
       "      <td>0.0</td>\n",
       "      <td>0.0</td>\n",
       "      <td>0.0</td>\n",
       "      <td>0.0</td>\n",
       "    </tr>\n",
       "    <tr>\n",
       "      <th>3</th>\n",
       "      <td>0.0</td>\n",
       "      <td>0.0</td>\n",
       "      <td>0.0</td>\n",
       "      <td>0.0</td>\n",
       "      <td>0.0</td>\n",
       "      <td>0.0</td>\n",
       "      <td>0.0</td>\n",
       "      <td>0.0</td>\n",
       "      <td>0.0</td>\n",
       "      <td>0.0</td>\n",
       "      <td>...</td>\n",
       "      <td>0.0</td>\n",
       "      <td>0.0</td>\n",
       "      <td>0.0</td>\n",
       "      <td>0.0</td>\n",
       "      <td>0.0</td>\n",
       "      <td>0.0</td>\n",
       "      <td>0.0</td>\n",
       "      <td>0.0</td>\n",
       "      <td>0.0</td>\n",
       "      <td>0.0</td>\n",
       "    </tr>\n",
       "    <tr>\n",
       "      <th>4</th>\n",
       "      <td>0.0</td>\n",
       "      <td>0.0</td>\n",
       "      <td>0.0</td>\n",
       "      <td>0.0</td>\n",
       "      <td>0.0</td>\n",
       "      <td>0.0</td>\n",
       "      <td>0.0</td>\n",
       "      <td>0.0</td>\n",
       "      <td>0.0</td>\n",
       "      <td>0.0</td>\n",
       "      <td>...</td>\n",
       "      <td>0.0</td>\n",
       "      <td>0.0</td>\n",
       "      <td>0.0</td>\n",
       "      <td>0.0</td>\n",
       "      <td>0.0</td>\n",
       "      <td>0.0</td>\n",
       "      <td>0.0</td>\n",
       "      <td>0.0</td>\n",
       "      <td>0.0</td>\n",
       "      <td>0.0</td>\n",
       "    </tr>\n",
       "    <tr>\n",
       "      <th>...</th>\n",
       "      <td>...</td>\n",
       "      <td>...</td>\n",
       "      <td>...</td>\n",
       "      <td>...</td>\n",
       "      <td>...</td>\n",
       "      <td>...</td>\n",
       "      <td>...</td>\n",
       "      <td>...</td>\n",
       "      <td>...</td>\n",
       "      <td>...</td>\n",
       "      <td>...</td>\n",
       "      <td>...</td>\n",
       "      <td>...</td>\n",
       "      <td>...</td>\n",
       "      <td>...</td>\n",
       "      <td>...</td>\n",
       "      <td>...</td>\n",
       "      <td>...</td>\n",
       "      <td>...</td>\n",
       "      <td>...</td>\n",
       "      <td>...</td>\n",
       "    </tr>\n",
       "    <tr>\n",
       "      <th>12001</th>\n",
       "      <td>0.0</td>\n",
       "      <td>0.0</td>\n",
       "      <td>0.0</td>\n",
       "      <td>0.0</td>\n",
       "      <td>0.0</td>\n",
       "      <td>0.0</td>\n",
       "      <td>0.0</td>\n",
       "      <td>0.0</td>\n",
       "      <td>0.0</td>\n",
       "      <td>0.0</td>\n",
       "      <td>...</td>\n",
       "      <td>0.0</td>\n",
       "      <td>0.0</td>\n",
       "      <td>0.0</td>\n",
       "      <td>0.0</td>\n",
       "      <td>0.0</td>\n",
       "      <td>0.0</td>\n",
       "      <td>0.0</td>\n",
       "      <td>0.0</td>\n",
       "      <td>0.0</td>\n",
       "      <td>0.0</td>\n",
       "    </tr>\n",
       "    <tr>\n",
       "      <th>12002</th>\n",
       "      <td>0.0</td>\n",
       "      <td>0.0</td>\n",
       "      <td>0.0</td>\n",
       "      <td>0.0</td>\n",
       "      <td>0.0</td>\n",
       "      <td>0.0</td>\n",
       "      <td>0.0</td>\n",
       "      <td>0.0</td>\n",
       "      <td>0.0</td>\n",
       "      <td>0.0</td>\n",
       "      <td>...</td>\n",
       "      <td>0.0</td>\n",
       "      <td>0.0</td>\n",
       "      <td>0.0</td>\n",
       "      <td>0.0</td>\n",
       "      <td>0.0</td>\n",
       "      <td>0.0</td>\n",
       "      <td>0.0</td>\n",
       "      <td>0.0</td>\n",
       "      <td>0.0</td>\n",
       "      <td>0.0</td>\n",
       "    </tr>\n",
       "    <tr>\n",
       "      <th>12003</th>\n",
       "      <td>0.0</td>\n",
       "      <td>0.0</td>\n",
       "      <td>0.0</td>\n",
       "      <td>0.0</td>\n",
       "      <td>0.0</td>\n",
       "      <td>0.0</td>\n",
       "      <td>0.0</td>\n",
       "      <td>0.0</td>\n",
       "      <td>0.0</td>\n",
       "      <td>0.0</td>\n",
       "      <td>...</td>\n",
       "      <td>0.0</td>\n",
       "      <td>0.0</td>\n",
       "      <td>0.0</td>\n",
       "      <td>0.0</td>\n",
       "      <td>0.0</td>\n",
       "      <td>0.0</td>\n",
       "      <td>0.0</td>\n",
       "      <td>0.0</td>\n",
       "      <td>0.0</td>\n",
       "      <td>0.0</td>\n",
       "    </tr>\n",
       "    <tr>\n",
       "      <th>12004</th>\n",
       "      <td>0.0</td>\n",
       "      <td>0.0</td>\n",
       "      <td>0.0</td>\n",
       "      <td>0.0</td>\n",
       "      <td>0.0</td>\n",
       "      <td>0.0</td>\n",
       "      <td>0.0</td>\n",
       "      <td>0.0</td>\n",
       "      <td>0.0</td>\n",
       "      <td>0.0</td>\n",
       "      <td>...</td>\n",
       "      <td>0.0</td>\n",
       "      <td>0.0</td>\n",
       "      <td>0.0</td>\n",
       "      <td>0.0</td>\n",
       "      <td>0.0</td>\n",
       "      <td>0.0</td>\n",
       "      <td>0.0</td>\n",
       "      <td>0.0</td>\n",
       "      <td>0.0</td>\n",
       "      <td>0.0</td>\n",
       "    </tr>\n",
       "    <tr>\n",
       "      <th>12005</th>\n",
       "      <td>0.0</td>\n",
       "      <td>0.0</td>\n",
       "      <td>0.0</td>\n",
       "      <td>0.0</td>\n",
       "      <td>0.0</td>\n",
       "      <td>0.0</td>\n",
       "      <td>0.0</td>\n",
       "      <td>0.0</td>\n",
       "      <td>0.0</td>\n",
       "      <td>0.0</td>\n",
       "      <td>...</td>\n",
       "      <td>0.0</td>\n",
       "      <td>0.0</td>\n",
       "      <td>0.0</td>\n",
       "      <td>0.0</td>\n",
       "      <td>0.0</td>\n",
       "      <td>0.0</td>\n",
       "      <td>0.0</td>\n",
       "      <td>0.0</td>\n",
       "      <td>0.0</td>\n",
       "      <td>0.0</td>\n",
       "    </tr>\n",
       "  </tbody>\n",
       "</table>\n",
       "<p>12006 rows × 1537 columns</p>\n",
       "</div>\n",
       "      <button class=\"colab-df-convert\" onclick=\"convertToInteractive('df-fcab29c2-3267-4f24-be35-a0d0f681d83d')\"\n",
       "              title=\"Convert this dataframe to an interactive table.\"\n",
       "              style=\"display:none;\">\n",
       "        \n",
       "  <svg xmlns=\"http://www.w3.org/2000/svg\" height=\"24px\"viewBox=\"0 0 24 24\"\n",
       "       width=\"24px\">\n",
       "    <path d=\"M0 0h24v24H0V0z\" fill=\"none\"/>\n",
       "    <path d=\"M18.56 5.44l.94 2.06.94-2.06 2.06-.94-2.06-.94-.94-2.06-.94 2.06-2.06.94zm-11 1L8.5 8.5l.94-2.06 2.06-.94-2.06-.94L8.5 2.5l-.94 2.06-2.06.94zm10 10l.94 2.06.94-2.06 2.06-.94-2.06-.94-.94-2.06-.94 2.06-2.06.94z\"/><path d=\"M17.41 7.96l-1.37-1.37c-.4-.4-.92-.59-1.43-.59-.52 0-1.04.2-1.43.59L10.3 9.45l-7.72 7.72c-.78.78-.78 2.05 0 2.83L4 21.41c.39.39.9.59 1.41.59.51 0 1.02-.2 1.41-.59l7.78-7.78 2.81-2.81c.8-.78.8-2.07 0-2.86zM5.41 20L4 18.59l7.72-7.72 1.47 1.35L5.41 20z\"/>\n",
       "  </svg>\n",
       "      </button>\n",
       "      \n",
       "  <style>\n",
       "    .colab-df-container {\n",
       "      display:flex;\n",
       "      flex-wrap:wrap;\n",
       "      gap: 12px;\n",
       "    }\n",
       "\n",
       "    .colab-df-convert {\n",
       "      background-color: #E8F0FE;\n",
       "      border: none;\n",
       "      border-radius: 50%;\n",
       "      cursor: pointer;\n",
       "      display: none;\n",
       "      fill: #1967D2;\n",
       "      height: 32px;\n",
       "      padding: 0 0 0 0;\n",
       "      width: 32px;\n",
       "    }\n",
       "\n",
       "    .colab-df-convert:hover {\n",
       "      background-color: #E2EBFA;\n",
       "      box-shadow: 0px 1px 2px rgba(60, 64, 67, 0.3), 0px 1px 3px 1px rgba(60, 64, 67, 0.15);\n",
       "      fill: #174EA6;\n",
       "    }\n",
       "\n",
       "    [theme=dark] .colab-df-convert {\n",
       "      background-color: #3B4455;\n",
       "      fill: #D2E3FC;\n",
       "    }\n",
       "\n",
       "    [theme=dark] .colab-df-convert:hover {\n",
       "      background-color: #434B5C;\n",
       "      box-shadow: 0px 1px 3px 1px rgba(0, 0, 0, 0.15);\n",
       "      filter: drop-shadow(0px 1px 2px rgba(0, 0, 0, 0.3));\n",
       "      fill: #FFFFFF;\n",
       "    }\n",
       "  </style>\n",
       "\n",
       "      <script>\n",
       "        const buttonEl =\n",
       "          document.querySelector('#df-fcab29c2-3267-4f24-be35-a0d0f681d83d button.colab-df-convert');\n",
       "        buttonEl.style.display =\n",
       "          google.colab.kernel.accessAllowed ? 'block' : 'none';\n",
       "\n",
       "        async function convertToInteractive(key) {\n",
       "          const element = document.querySelector('#df-fcab29c2-3267-4f24-be35-a0d0f681d83d');\n",
       "          const dataTable =\n",
       "            await google.colab.kernel.invokeFunction('convertToInteractive',\n",
       "                                                     [key], {});\n",
       "          if (!dataTable) return;\n",
       "\n",
       "          const docLinkHtml = 'Like what you see? Visit the ' +\n",
       "            '<a target=\"_blank\" href=https://colab.research.google.com/notebooks/data_table.ipynb>data table notebook</a>'\n",
       "            + ' to learn more about interactive tables.';\n",
       "          element.innerHTML = '';\n",
       "          dataTable['output_type'] = 'display_data';\n",
       "          await google.colab.output.renderOutput(dataTable, element);\n",
       "          const docLink = document.createElement('div');\n",
       "          docLink.innerHTML = docLinkHtml;\n",
       "          element.appendChild(docLink);\n",
       "        }\n",
       "      </script>\n",
       "    </div>\n",
       "  </div>\n",
       "  "
      ]
     },
     "metadata": {},
     "execution_count": 46
    }
   ]
  },
  {
   "cell_type": "code",
   "source": [
    "X_text = pd.DataFrame(np.hstack((X.drop(['title', 'skills'], axis=1), text_sparse_matrix.toarray())))"
   ],
   "metadata": {
    "id": "hHZh2GRKxOua",
    "pycharm": {
     "name": "#%%\n"
    }
   },
   "execution_count": 18,
   "outputs": []
  },
  {
   "cell_type": "code",
   "source": [
    "X_text"
   ],
   "metadata": {
    "colab": {
     "base_uri": "https://localhost:8080/",
     "height": 557
    },
    "id": "yOQXbji93sOw",
    "outputId": "355b96c9-31b2-43d2-a162-c1f411f2318b",
    "pycharm": {
     "name": "#%%\n"
    }
   },
   "execution_count": 60,
   "outputs": [
    {
     "output_type": "execute_result",
     "data": {
      "text/plain": [
       "           0           1              2                       3       4     \\\n",
       "0       Wrocław      mobile         remote                   CRED      mid   \n",
       "1      Warszawa         php         remote                 digatus     mid   \n",
       "2      Warszawa         php         remote                 digatus     mid   \n",
       "3      Warszawa    security  partly_remote   CloudFerro sp. z o.o.     mid   \n",
       "4      Warszawa    security  partly_remote   CloudFerro sp. z o.o.     mid   \n",
       "...         ...         ...            ...                     ...     ...   \n",
       "12001   Wrocław       other         remote  Experis Manpower Group  senior   \n",
       "12002   Wrocław      python         remote                sky gate     mid   \n",
       "12003    Gdańsk      mobile  partly_remote                sky gate     mid   \n",
       "12004    Gdańsk  javascript         remote                sky gate     mid   \n",
       "12005   Gliwice        java         remote                  Devire  senior   \n",
       "\n",
       "            5    6    7    8    9     ... 1533 1534 1535 1536 1537 1538 1539  \\\n",
       "0            b2b  0.0  0.0  0.0  0.0  ...  0.0  0.0  0.0  0.0  0.0  0.0  0.0   \n",
       "1            b2b  0.0  0.0  0.0  0.0  ...  0.0  0.0  0.0  0.0  0.0  0.0  0.0   \n",
       "2      permanent  0.0  0.0  0.0  0.0  ...  0.0  0.0  0.0  0.0  0.0  0.0  0.0   \n",
       "3      permanent  0.0  0.0  0.0  0.0  ...  0.0  0.0  0.0  0.0  0.0  0.0  0.0   \n",
       "4            b2b  0.0  0.0  0.0  0.0  ...  0.0  0.0  0.0  0.0  0.0  0.0  0.0   \n",
       "...          ...  ...  ...  ...  ...  ...  ...  ...  ...  ...  ...  ...  ...   \n",
       "12001        b2b  0.0  0.0  0.0  0.0  ...  0.0  0.0  0.0  0.0  0.0  0.0  0.0   \n",
       "12002        b2b  0.0  0.0  0.0  0.0  ...  0.0  0.0  0.0  0.0  0.0  0.0  0.0   \n",
       "12003  permanent  0.0  0.0  0.0  0.0  ...  0.0  0.0  0.0  0.0  0.0  0.0  0.0   \n",
       "12004  permanent  0.0  0.0  0.0  0.0  ...  0.0  0.0  0.0  0.0  0.0  0.0  0.0   \n",
       "12005        b2b  0.0  0.0  0.0  0.0  ...  0.0  0.0  0.0  0.0  0.0  0.0  0.0   \n",
       "\n",
       "      1540 1541 1542  \n",
       "0      0.0  0.0  0.0  \n",
       "1      0.0  0.0  0.0  \n",
       "2      0.0  0.0  0.0  \n",
       "3      0.0  0.0  0.0  \n",
       "4      0.0  0.0  0.0  \n",
       "...    ...  ...  ...  \n",
       "12001  0.0  0.0  0.0  \n",
       "12002  0.0  0.0  0.0  \n",
       "12003  0.0  0.0  0.0  \n",
       "12004  0.0  0.0  0.0  \n",
       "12005  0.0  0.0  0.0  \n",
       "\n",
       "[12006 rows x 1543 columns]"
      ],
      "text/html": [
       "\n",
       "  <div id=\"df-bb8c878d-55c0-4056-836f-c8a3f9ad58cc\">\n",
       "    <div class=\"colab-df-container\">\n",
       "      <div>\n",
       "<style scoped>\n",
       "    .dataframe tbody tr th:only-of-type {\n",
       "        vertical-align: middle;\n",
       "    }\n",
       "\n",
       "    .dataframe tbody tr th {\n",
       "        vertical-align: top;\n",
       "    }\n",
       "\n",
       "    .dataframe thead th {\n",
       "        text-align: right;\n",
       "    }\n",
       "</style>\n",
       "<table border=\"1\" class=\"dataframe\">\n",
       "  <thead>\n",
       "    <tr style=\"text-align: right;\">\n",
       "      <th></th>\n",
       "      <th>0</th>\n",
       "      <th>1</th>\n",
       "      <th>2</th>\n",
       "      <th>3</th>\n",
       "      <th>4</th>\n",
       "      <th>5</th>\n",
       "      <th>6</th>\n",
       "      <th>7</th>\n",
       "      <th>8</th>\n",
       "      <th>9</th>\n",
       "      <th>...</th>\n",
       "      <th>1533</th>\n",
       "      <th>1534</th>\n",
       "      <th>1535</th>\n",
       "      <th>1536</th>\n",
       "      <th>1537</th>\n",
       "      <th>1538</th>\n",
       "      <th>1539</th>\n",
       "      <th>1540</th>\n",
       "      <th>1541</th>\n",
       "      <th>1542</th>\n",
       "    </tr>\n",
       "  </thead>\n",
       "  <tbody>\n",
       "    <tr>\n",
       "      <th>0</th>\n",
       "      <td>Wrocław</td>\n",
       "      <td>mobile</td>\n",
       "      <td>remote</td>\n",
       "      <td>CRED</td>\n",
       "      <td>mid</td>\n",
       "      <td>b2b</td>\n",
       "      <td>0.0</td>\n",
       "      <td>0.0</td>\n",
       "      <td>0.0</td>\n",
       "      <td>0.0</td>\n",
       "      <td>...</td>\n",
       "      <td>0.0</td>\n",
       "      <td>0.0</td>\n",
       "      <td>0.0</td>\n",
       "      <td>0.0</td>\n",
       "      <td>0.0</td>\n",
       "      <td>0.0</td>\n",
       "      <td>0.0</td>\n",
       "      <td>0.0</td>\n",
       "      <td>0.0</td>\n",
       "      <td>0.0</td>\n",
       "    </tr>\n",
       "    <tr>\n",
       "      <th>1</th>\n",
       "      <td>Warszawa</td>\n",
       "      <td>php</td>\n",
       "      <td>remote</td>\n",
       "      <td>digatus</td>\n",
       "      <td>mid</td>\n",
       "      <td>b2b</td>\n",
       "      <td>0.0</td>\n",
       "      <td>0.0</td>\n",
       "      <td>0.0</td>\n",
       "      <td>0.0</td>\n",
       "      <td>...</td>\n",
       "      <td>0.0</td>\n",
       "      <td>0.0</td>\n",
       "      <td>0.0</td>\n",
       "      <td>0.0</td>\n",
       "      <td>0.0</td>\n",
       "      <td>0.0</td>\n",
       "      <td>0.0</td>\n",
       "      <td>0.0</td>\n",
       "      <td>0.0</td>\n",
       "      <td>0.0</td>\n",
       "    </tr>\n",
       "    <tr>\n",
       "      <th>2</th>\n",
       "      <td>Warszawa</td>\n",
       "      <td>php</td>\n",
       "      <td>remote</td>\n",
       "      <td>digatus</td>\n",
       "      <td>mid</td>\n",
       "      <td>permanent</td>\n",
       "      <td>0.0</td>\n",
       "      <td>0.0</td>\n",
       "      <td>0.0</td>\n",
       "      <td>0.0</td>\n",
       "      <td>...</td>\n",
       "      <td>0.0</td>\n",
       "      <td>0.0</td>\n",
       "      <td>0.0</td>\n",
       "      <td>0.0</td>\n",
       "      <td>0.0</td>\n",
       "      <td>0.0</td>\n",
       "      <td>0.0</td>\n",
       "      <td>0.0</td>\n",
       "      <td>0.0</td>\n",
       "      <td>0.0</td>\n",
       "    </tr>\n",
       "    <tr>\n",
       "      <th>3</th>\n",
       "      <td>Warszawa</td>\n",
       "      <td>security</td>\n",
       "      <td>partly_remote</td>\n",
       "      <td>CloudFerro sp. z o.o.</td>\n",
       "      <td>mid</td>\n",
       "      <td>permanent</td>\n",
       "      <td>0.0</td>\n",
       "      <td>0.0</td>\n",
       "      <td>0.0</td>\n",
       "      <td>0.0</td>\n",
       "      <td>...</td>\n",
       "      <td>0.0</td>\n",
       "      <td>0.0</td>\n",
       "      <td>0.0</td>\n",
       "      <td>0.0</td>\n",
       "      <td>0.0</td>\n",
       "      <td>0.0</td>\n",
       "      <td>0.0</td>\n",
       "      <td>0.0</td>\n",
       "      <td>0.0</td>\n",
       "      <td>0.0</td>\n",
       "    </tr>\n",
       "    <tr>\n",
       "      <th>4</th>\n",
       "      <td>Warszawa</td>\n",
       "      <td>security</td>\n",
       "      <td>partly_remote</td>\n",
       "      <td>CloudFerro sp. z o.o.</td>\n",
       "      <td>mid</td>\n",
       "      <td>b2b</td>\n",
       "      <td>0.0</td>\n",
       "      <td>0.0</td>\n",
       "      <td>0.0</td>\n",
       "      <td>0.0</td>\n",
       "      <td>...</td>\n",
       "      <td>0.0</td>\n",
       "      <td>0.0</td>\n",
       "      <td>0.0</td>\n",
       "      <td>0.0</td>\n",
       "      <td>0.0</td>\n",
       "      <td>0.0</td>\n",
       "      <td>0.0</td>\n",
       "      <td>0.0</td>\n",
       "      <td>0.0</td>\n",
       "      <td>0.0</td>\n",
       "    </tr>\n",
       "    <tr>\n",
       "      <th>...</th>\n",
       "      <td>...</td>\n",
       "      <td>...</td>\n",
       "      <td>...</td>\n",
       "      <td>...</td>\n",
       "      <td>...</td>\n",
       "      <td>...</td>\n",
       "      <td>...</td>\n",
       "      <td>...</td>\n",
       "      <td>...</td>\n",
       "      <td>...</td>\n",
       "      <td>...</td>\n",
       "      <td>...</td>\n",
       "      <td>...</td>\n",
       "      <td>...</td>\n",
       "      <td>...</td>\n",
       "      <td>...</td>\n",
       "      <td>...</td>\n",
       "      <td>...</td>\n",
       "      <td>...</td>\n",
       "      <td>...</td>\n",
       "      <td>...</td>\n",
       "    </tr>\n",
       "    <tr>\n",
       "      <th>12001</th>\n",
       "      <td>Wrocław</td>\n",
       "      <td>other</td>\n",
       "      <td>remote</td>\n",
       "      <td>Experis Manpower Group</td>\n",
       "      <td>senior</td>\n",
       "      <td>b2b</td>\n",
       "      <td>0.0</td>\n",
       "      <td>0.0</td>\n",
       "      <td>0.0</td>\n",
       "      <td>0.0</td>\n",
       "      <td>...</td>\n",
       "      <td>0.0</td>\n",
       "      <td>0.0</td>\n",
       "      <td>0.0</td>\n",
       "      <td>0.0</td>\n",
       "      <td>0.0</td>\n",
       "      <td>0.0</td>\n",
       "      <td>0.0</td>\n",
       "      <td>0.0</td>\n",
       "      <td>0.0</td>\n",
       "      <td>0.0</td>\n",
       "    </tr>\n",
       "    <tr>\n",
       "      <th>12002</th>\n",
       "      <td>Wrocław</td>\n",
       "      <td>python</td>\n",
       "      <td>remote</td>\n",
       "      <td>sky gate</td>\n",
       "      <td>mid</td>\n",
       "      <td>b2b</td>\n",
       "      <td>0.0</td>\n",
       "      <td>0.0</td>\n",
       "      <td>0.0</td>\n",
       "      <td>0.0</td>\n",
       "      <td>...</td>\n",
       "      <td>0.0</td>\n",
       "      <td>0.0</td>\n",
       "      <td>0.0</td>\n",
       "      <td>0.0</td>\n",
       "      <td>0.0</td>\n",
       "      <td>0.0</td>\n",
       "      <td>0.0</td>\n",
       "      <td>0.0</td>\n",
       "      <td>0.0</td>\n",
       "      <td>0.0</td>\n",
       "    </tr>\n",
       "    <tr>\n",
       "      <th>12003</th>\n",
       "      <td>Gdańsk</td>\n",
       "      <td>mobile</td>\n",
       "      <td>partly_remote</td>\n",
       "      <td>sky gate</td>\n",
       "      <td>mid</td>\n",
       "      <td>permanent</td>\n",
       "      <td>0.0</td>\n",
       "      <td>0.0</td>\n",
       "      <td>0.0</td>\n",
       "      <td>0.0</td>\n",
       "      <td>...</td>\n",
       "      <td>0.0</td>\n",
       "      <td>0.0</td>\n",
       "      <td>0.0</td>\n",
       "      <td>0.0</td>\n",
       "      <td>0.0</td>\n",
       "      <td>0.0</td>\n",
       "      <td>0.0</td>\n",
       "      <td>0.0</td>\n",
       "      <td>0.0</td>\n",
       "      <td>0.0</td>\n",
       "    </tr>\n",
       "    <tr>\n",
       "      <th>12004</th>\n",
       "      <td>Gdańsk</td>\n",
       "      <td>javascript</td>\n",
       "      <td>remote</td>\n",
       "      <td>sky gate</td>\n",
       "      <td>mid</td>\n",
       "      <td>permanent</td>\n",
       "      <td>0.0</td>\n",
       "      <td>0.0</td>\n",
       "      <td>0.0</td>\n",
       "      <td>0.0</td>\n",
       "      <td>...</td>\n",
       "      <td>0.0</td>\n",
       "      <td>0.0</td>\n",
       "      <td>0.0</td>\n",
       "      <td>0.0</td>\n",
       "      <td>0.0</td>\n",
       "      <td>0.0</td>\n",
       "      <td>0.0</td>\n",
       "      <td>0.0</td>\n",
       "      <td>0.0</td>\n",
       "      <td>0.0</td>\n",
       "    </tr>\n",
       "    <tr>\n",
       "      <th>12005</th>\n",
       "      <td>Gliwice</td>\n",
       "      <td>java</td>\n",
       "      <td>remote</td>\n",
       "      <td>Devire</td>\n",
       "      <td>senior</td>\n",
       "      <td>b2b</td>\n",
       "      <td>0.0</td>\n",
       "      <td>0.0</td>\n",
       "      <td>0.0</td>\n",
       "      <td>0.0</td>\n",
       "      <td>...</td>\n",
       "      <td>0.0</td>\n",
       "      <td>0.0</td>\n",
       "      <td>0.0</td>\n",
       "      <td>0.0</td>\n",
       "      <td>0.0</td>\n",
       "      <td>0.0</td>\n",
       "      <td>0.0</td>\n",
       "      <td>0.0</td>\n",
       "      <td>0.0</td>\n",
       "      <td>0.0</td>\n",
       "    </tr>\n",
       "  </tbody>\n",
       "</table>\n",
       "<p>12006 rows × 1543 columns</p>\n",
       "</div>\n",
       "      <button class=\"colab-df-convert\" onclick=\"convertToInteractive('df-bb8c878d-55c0-4056-836f-c8a3f9ad58cc')\"\n",
       "              title=\"Convert this dataframe to an interactive table.\"\n",
       "              style=\"display:none;\">\n",
       "        \n",
       "  <svg xmlns=\"http://www.w3.org/2000/svg\" height=\"24px\"viewBox=\"0 0 24 24\"\n",
       "       width=\"24px\">\n",
       "    <path d=\"M0 0h24v24H0V0z\" fill=\"none\"/>\n",
       "    <path d=\"M18.56 5.44l.94 2.06.94-2.06 2.06-.94-2.06-.94-.94-2.06-.94 2.06-2.06.94zm-11 1L8.5 8.5l.94-2.06 2.06-.94-2.06-.94L8.5 2.5l-.94 2.06-2.06.94zm10 10l.94 2.06.94-2.06 2.06-.94-2.06-.94-.94-2.06-.94 2.06-2.06.94z\"/><path d=\"M17.41 7.96l-1.37-1.37c-.4-.4-.92-.59-1.43-.59-.52 0-1.04.2-1.43.59L10.3 9.45l-7.72 7.72c-.78.78-.78 2.05 0 2.83L4 21.41c.39.39.9.59 1.41.59.51 0 1.02-.2 1.41-.59l7.78-7.78 2.81-2.81c.8-.78.8-2.07 0-2.86zM5.41 20L4 18.59l7.72-7.72 1.47 1.35L5.41 20z\"/>\n",
       "  </svg>\n",
       "      </button>\n",
       "      \n",
       "  <style>\n",
       "    .colab-df-container {\n",
       "      display:flex;\n",
       "      flex-wrap:wrap;\n",
       "      gap: 12px;\n",
       "    }\n",
       "\n",
       "    .colab-df-convert {\n",
       "      background-color: #E8F0FE;\n",
       "      border: none;\n",
       "      border-radius: 50%;\n",
       "      cursor: pointer;\n",
       "      display: none;\n",
       "      fill: #1967D2;\n",
       "      height: 32px;\n",
       "      padding: 0 0 0 0;\n",
       "      width: 32px;\n",
       "    }\n",
       "\n",
       "    .colab-df-convert:hover {\n",
       "      background-color: #E2EBFA;\n",
       "      box-shadow: 0px 1px 2px rgba(60, 64, 67, 0.3), 0px 1px 3px 1px rgba(60, 64, 67, 0.15);\n",
       "      fill: #174EA6;\n",
       "    }\n",
       "\n",
       "    [theme=dark] .colab-df-convert {\n",
       "      background-color: #3B4455;\n",
       "      fill: #D2E3FC;\n",
       "    }\n",
       "\n",
       "    [theme=dark] .colab-df-convert:hover {\n",
       "      background-color: #434B5C;\n",
       "      box-shadow: 0px 1px 3px 1px rgba(0, 0, 0, 0.15);\n",
       "      filter: drop-shadow(0px 1px 2px rgba(0, 0, 0, 0.3));\n",
       "      fill: #FFFFFF;\n",
       "    }\n",
       "  </style>\n",
       "\n",
       "      <script>\n",
       "        const buttonEl =\n",
       "          document.querySelector('#df-bb8c878d-55c0-4056-836f-c8a3f9ad58cc button.colab-df-convert');\n",
       "        buttonEl.style.display =\n",
       "          google.colab.kernel.accessAllowed ? 'block' : 'none';\n",
       "\n",
       "        async function convertToInteractive(key) {\n",
       "          const element = document.querySelector('#df-bb8c878d-55c0-4056-836f-c8a3f9ad58cc');\n",
       "          const dataTable =\n",
       "            await google.colab.kernel.invokeFunction('convertToInteractive',\n",
       "                                                     [key], {});\n",
       "          if (!dataTable) return;\n",
       "\n",
       "          const docLinkHtml = 'Like what you see? Visit the ' +\n",
       "            '<a target=\"_blank\" href=https://colab.research.google.com/notebooks/data_table.ipynb>data table notebook</a>'\n",
       "            + ' to learn more about interactive tables.';\n",
       "          element.innerHTML = '';\n",
       "          dataTable['output_type'] = 'display_data';\n",
       "          await google.colab.output.renderOutput(dataTable, element);\n",
       "          const docLink = document.createElement('div');\n",
       "          docLink.innerHTML = docLinkHtml;\n",
       "          element.appendChild(docLink);\n",
       "        }\n",
       "      </script>\n",
       "    </div>\n",
       "  </div>\n",
       "  "
      ]
     },
     "metadata": {},
     "execution_count": 60
    }
   ]
  },
  {
   "cell_type": "code",
   "source": [
    "dict(zip(range(0, 6), cat_features))"
   ],
   "metadata": {
    "colab": {
     "base_uri": "https://localhost:8080/"
    },
    "id": "JaKSORue399W",
    "outputId": "b0d54529-2079-4ca9-b270-fcaa7a022b88",
    "pycharm": {
     "name": "#%%\n"
    }
   },
   "execution_count": 62,
   "outputs": [
    {
     "output_type": "execute_result",
     "data": {
      "text/plain": [
       "{0: 'city',\n",
       " 1: 'marker_icon',\n",
       " 2: 'workplace_type',\n",
       " 3: 'company_name',\n",
       " 4: 'experience_level',\n",
       " 5: 'contract_type'}"
      ]
     },
     "metadata": {},
     "execution_count": 62
    }
   ]
  },
  {
   "cell_type": "code",
   "source": [
    "X_text.rename(columns=dict(zip(range(0, 6), cat_features)), inplace=True)"
   ],
   "metadata": {
    "id": "90h3ZWAxymvK",
    "pycharm": {
     "name": "#%%\n"
    }
   },
   "execution_count": 63,
   "outputs": []
  },
  {
   "cell_type": "code",
   "source": [
    "X_text"
   ],
   "metadata": {
    "colab": {
     "base_uri": "https://localhost:8080/",
     "height": 557
    },
    "id": "N5M-rMbd4Ex9",
    "outputId": "6569b072-51e1-49e8-dfb5-632659b4a0b4",
    "pycharm": {
     "name": "#%%\n"
    }
   },
   "execution_count": 64,
   "outputs": [
    {
     "output_type": "execute_result",
     "data": {
      "text/plain": [
       "           city marker_icon workplace_type            company_name  \\\n",
       "0       Wrocław      mobile         remote                   CRED    \n",
       "1      Warszawa         php         remote                 digatus   \n",
       "2      Warszawa         php         remote                 digatus   \n",
       "3      Warszawa    security  partly_remote   CloudFerro sp. z o.o.   \n",
       "4      Warszawa    security  partly_remote   CloudFerro sp. z o.o.   \n",
       "...         ...         ...            ...                     ...   \n",
       "12001   Wrocław       other         remote  Experis Manpower Group   \n",
       "12002   Wrocław      python         remote                sky gate   \n",
       "12003    Gdańsk      mobile  partly_remote                sky gate   \n",
       "12004    Gdańsk  javascript         remote                sky gate   \n",
       "12005   Gliwice        java         remote                  Devire   \n",
       "\n",
       "      experience_level contract_type    6    7    8    9  ... 1533 1534 1535  \\\n",
       "0                  mid           b2b  0.0  0.0  0.0  0.0  ...  0.0  0.0  0.0   \n",
       "1                  mid           b2b  0.0  0.0  0.0  0.0  ...  0.0  0.0  0.0   \n",
       "2                  mid     permanent  0.0  0.0  0.0  0.0  ...  0.0  0.0  0.0   \n",
       "3                  mid     permanent  0.0  0.0  0.0  0.0  ...  0.0  0.0  0.0   \n",
       "4                  mid           b2b  0.0  0.0  0.0  0.0  ...  0.0  0.0  0.0   \n",
       "...                ...           ...  ...  ...  ...  ...  ...  ...  ...  ...   \n",
       "12001           senior           b2b  0.0  0.0  0.0  0.0  ...  0.0  0.0  0.0   \n",
       "12002              mid           b2b  0.0  0.0  0.0  0.0  ...  0.0  0.0  0.0   \n",
       "12003              mid     permanent  0.0  0.0  0.0  0.0  ...  0.0  0.0  0.0   \n",
       "12004              mid     permanent  0.0  0.0  0.0  0.0  ...  0.0  0.0  0.0   \n",
       "12005           senior           b2b  0.0  0.0  0.0  0.0  ...  0.0  0.0  0.0   \n",
       "\n",
       "      1536 1537 1538 1539 1540 1541 1542  \n",
       "0      0.0  0.0  0.0  0.0  0.0  0.0  0.0  \n",
       "1      0.0  0.0  0.0  0.0  0.0  0.0  0.0  \n",
       "2      0.0  0.0  0.0  0.0  0.0  0.0  0.0  \n",
       "3      0.0  0.0  0.0  0.0  0.0  0.0  0.0  \n",
       "4      0.0  0.0  0.0  0.0  0.0  0.0  0.0  \n",
       "...    ...  ...  ...  ...  ...  ...  ...  \n",
       "12001  0.0  0.0  0.0  0.0  0.0  0.0  0.0  \n",
       "12002  0.0  0.0  0.0  0.0  0.0  0.0  0.0  \n",
       "12003  0.0  0.0  0.0  0.0  0.0  0.0  0.0  \n",
       "12004  0.0  0.0  0.0  0.0  0.0  0.0  0.0  \n",
       "12005  0.0  0.0  0.0  0.0  0.0  0.0  0.0  \n",
       "\n",
       "[12006 rows x 1543 columns]"
      ],
      "text/html": [
       "\n",
       "  <div id=\"df-e66dcea5-8584-4df8-acd6-30e7e3cc29ae\">\n",
       "    <div class=\"colab-df-container\">\n",
       "      <div>\n",
       "<style scoped>\n",
       "    .dataframe tbody tr th:only-of-type {\n",
       "        vertical-align: middle;\n",
       "    }\n",
       "\n",
       "    .dataframe tbody tr th {\n",
       "        vertical-align: top;\n",
       "    }\n",
       "\n",
       "    .dataframe thead th {\n",
       "        text-align: right;\n",
       "    }\n",
       "</style>\n",
       "<table border=\"1\" class=\"dataframe\">\n",
       "  <thead>\n",
       "    <tr style=\"text-align: right;\">\n",
       "      <th></th>\n",
       "      <th>city</th>\n",
       "      <th>marker_icon</th>\n",
       "      <th>workplace_type</th>\n",
       "      <th>company_name</th>\n",
       "      <th>experience_level</th>\n",
       "      <th>contract_type</th>\n",
       "      <th>6</th>\n",
       "      <th>7</th>\n",
       "      <th>8</th>\n",
       "      <th>9</th>\n",
       "      <th>...</th>\n",
       "      <th>1533</th>\n",
       "      <th>1534</th>\n",
       "      <th>1535</th>\n",
       "      <th>1536</th>\n",
       "      <th>1537</th>\n",
       "      <th>1538</th>\n",
       "      <th>1539</th>\n",
       "      <th>1540</th>\n",
       "      <th>1541</th>\n",
       "      <th>1542</th>\n",
       "    </tr>\n",
       "  </thead>\n",
       "  <tbody>\n",
       "    <tr>\n",
       "      <th>0</th>\n",
       "      <td>Wrocław</td>\n",
       "      <td>mobile</td>\n",
       "      <td>remote</td>\n",
       "      <td>CRED</td>\n",
       "      <td>mid</td>\n",
       "      <td>b2b</td>\n",
       "      <td>0.0</td>\n",
       "      <td>0.0</td>\n",
       "      <td>0.0</td>\n",
       "      <td>0.0</td>\n",
       "      <td>...</td>\n",
       "      <td>0.0</td>\n",
       "      <td>0.0</td>\n",
       "      <td>0.0</td>\n",
       "      <td>0.0</td>\n",
       "      <td>0.0</td>\n",
       "      <td>0.0</td>\n",
       "      <td>0.0</td>\n",
       "      <td>0.0</td>\n",
       "      <td>0.0</td>\n",
       "      <td>0.0</td>\n",
       "    </tr>\n",
       "    <tr>\n",
       "      <th>1</th>\n",
       "      <td>Warszawa</td>\n",
       "      <td>php</td>\n",
       "      <td>remote</td>\n",
       "      <td>digatus</td>\n",
       "      <td>mid</td>\n",
       "      <td>b2b</td>\n",
       "      <td>0.0</td>\n",
       "      <td>0.0</td>\n",
       "      <td>0.0</td>\n",
       "      <td>0.0</td>\n",
       "      <td>...</td>\n",
       "      <td>0.0</td>\n",
       "      <td>0.0</td>\n",
       "      <td>0.0</td>\n",
       "      <td>0.0</td>\n",
       "      <td>0.0</td>\n",
       "      <td>0.0</td>\n",
       "      <td>0.0</td>\n",
       "      <td>0.0</td>\n",
       "      <td>0.0</td>\n",
       "      <td>0.0</td>\n",
       "    </tr>\n",
       "    <tr>\n",
       "      <th>2</th>\n",
       "      <td>Warszawa</td>\n",
       "      <td>php</td>\n",
       "      <td>remote</td>\n",
       "      <td>digatus</td>\n",
       "      <td>mid</td>\n",
       "      <td>permanent</td>\n",
       "      <td>0.0</td>\n",
       "      <td>0.0</td>\n",
       "      <td>0.0</td>\n",
       "      <td>0.0</td>\n",
       "      <td>...</td>\n",
       "      <td>0.0</td>\n",
       "      <td>0.0</td>\n",
       "      <td>0.0</td>\n",
       "      <td>0.0</td>\n",
       "      <td>0.0</td>\n",
       "      <td>0.0</td>\n",
       "      <td>0.0</td>\n",
       "      <td>0.0</td>\n",
       "      <td>0.0</td>\n",
       "      <td>0.0</td>\n",
       "    </tr>\n",
       "    <tr>\n",
       "      <th>3</th>\n",
       "      <td>Warszawa</td>\n",
       "      <td>security</td>\n",
       "      <td>partly_remote</td>\n",
       "      <td>CloudFerro sp. z o.o.</td>\n",
       "      <td>mid</td>\n",
       "      <td>permanent</td>\n",
       "      <td>0.0</td>\n",
       "      <td>0.0</td>\n",
       "      <td>0.0</td>\n",
       "      <td>0.0</td>\n",
       "      <td>...</td>\n",
       "      <td>0.0</td>\n",
       "      <td>0.0</td>\n",
       "      <td>0.0</td>\n",
       "      <td>0.0</td>\n",
       "      <td>0.0</td>\n",
       "      <td>0.0</td>\n",
       "      <td>0.0</td>\n",
       "      <td>0.0</td>\n",
       "      <td>0.0</td>\n",
       "      <td>0.0</td>\n",
       "    </tr>\n",
       "    <tr>\n",
       "      <th>4</th>\n",
       "      <td>Warszawa</td>\n",
       "      <td>security</td>\n",
       "      <td>partly_remote</td>\n",
       "      <td>CloudFerro sp. z o.o.</td>\n",
       "      <td>mid</td>\n",
       "      <td>b2b</td>\n",
       "      <td>0.0</td>\n",
       "      <td>0.0</td>\n",
       "      <td>0.0</td>\n",
       "      <td>0.0</td>\n",
       "      <td>...</td>\n",
       "      <td>0.0</td>\n",
       "      <td>0.0</td>\n",
       "      <td>0.0</td>\n",
       "      <td>0.0</td>\n",
       "      <td>0.0</td>\n",
       "      <td>0.0</td>\n",
       "      <td>0.0</td>\n",
       "      <td>0.0</td>\n",
       "      <td>0.0</td>\n",
       "      <td>0.0</td>\n",
       "    </tr>\n",
       "    <tr>\n",
       "      <th>...</th>\n",
       "      <td>...</td>\n",
       "      <td>...</td>\n",
       "      <td>...</td>\n",
       "      <td>...</td>\n",
       "      <td>...</td>\n",
       "      <td>...</td>\n",
       "      <td>...</td>\n",
       "      <td>...</td>\n",
       "      <td>...</td>\n",
       "      <td>...</td>\n",
       "      <td>...</td>\n",
       "      <td>...</td>\n",
       "      <td>...</td>\n",
       "      <td>...</td>\n",
       "      <td>...</td>\n",
       "      <td>...</td>\n",
       "      <td>...</td>\n",
       "      <td>...</td>\n",
       "      <td>...</td>\n",
       "      <td>...</td>\n",
       "      <td>...</td>\n",
       "    </tr>\n",
       "    <tr>\n",
       "      <th>12001</th>\n",
       "      <td>Wrocław</td>\n",
       "      <td>other</td>\n",
       "      <td>remote</td>\n",
       "      <td>Experis Manpower Group</td>\n",
       "      <td>senior</td>\n",
       "      <td>b2b</td>\n",
       "      <td>0.0</td>\n",
       "      <td>0.0</td>\n",
       "      <td>0.0</td>\n",
       "      <td>0.0</td>\n",
       "      <td>...</td>\n",
       "      <td>0.0</td>\n",
       "      <td>0.0</td>\n",
       "      <td>0.0</td>\n",
       "      <td>0.0</td>\n",
       "      <td>0.0</td>\n",
       "      <td>0.0</td>\n",
       "      <td>0.0</td>\n",
       "      <td>0.0</td>\n",
       "      <td>0.0</td>\n",
       "      <td>0.0</td>\n",
       "    </tr>\n",
       "    <tr>\n",
       "      <th>12002</th>\n",
       "      <td>Wrocław</td>\n",
       "      <td>python</td>\n",
       "      <td>remote</td>\n",
       "      <td>sky gate</td>\n",
       "      <td>mid</td>\n",
       "      <td>b2b</td>\n",
       "      <td>0.0</td>\n",
       "      <td>0.0</td>\n",
       "      <td>0.0</td>\n",
       "      <td>0.0</td>\n",
       "      <td>...</td>\n",
       "      <td>0.0</td>\n",
       "      <td>0.0</td>\n",
       "      <td>0.0</td>\n",
       "      <td>0.0</td>\n",
       "      <td>0.0</td>\n",
       "      <td>0.0</td>\n",
       "      <td>0.0</td>\n",
       "      <td>0.0</td>\n",
       "      <td>0.0</td>\n",
       "      <td>0.0</td>\n",
       "    </tr>\n",
       "    <tr>\n",
       "      <th>12003</th>\n",
       "      <td>Gdańsk</td>\n",
       "      <td>mobile</td>\n",
       "      <td>partly_remote</td>\n",
       "      <td>sky gate</td>\n",
       "      <td>mid</td>\n",
       "      <td>permanent</td>\n",
       "      <td>0.0</td>\n",
       "      <td>0.0</td>\n",
       "      <td>0.0</td>\n",
       "      <td>0.0</td>\n",
       "      <td>...</td>\n",
       "      <td>0.0</td>\n",
       "      <td>0.0</td>\n",
       "      <td>0.0</td>\n",
       "      <td>0.0</td>\n",
       "      <td>0.0</td>\n",
       "      <td>0.0</td>\n",
       "      <td>0.0</td>\n",
       "      <td>0.0</td>\n",
       "      <td>0.0</td>\n",
       "      <td>0.0</td>\n",
       "    </tr>\n",
       "    <tr>\n",
       "      <th>12004</th>\n",
       "      <td>Gdańsk</td>\n",
       "      <td>javascript</td>\n",
       "      <td>remote</td>\n",
       "      <td>sky gate</td>\n",
       "      <td>mid</td>\n",
       "      <td>permanent</td>\n",
       "      <td>0.0</td>\n",
       "      <td>0.0</td>\n",
       "      <td>0.0</td>\n",
       "      <td>0.0</td>\n",
       "      <td>...</td>\n",
       "      <td>0.0</td>\n",
       "      <td>0.0</td>\n",
       "      <td>0.0</td>\n",
       "      <td>0.0</td>\n",
       "      <td>0.0</td>\n",
       "      <td>0.0</td>\n",
       "      <td>0.0</td>\n",
       "      <td>0.0</td>\n",
       "      <td>0.0</td>\n",
       "      <td>0.0</td>\n",
       "    </tr>\n",
       "    <tr>\n",
       "      <th>12005</th>\n",
       "      <td>Gliwice</td>\n",
       "      <td>java</td>\n",
       "      <td>remote</td>\n",
       "      <td>Devire</td>\n",
       "      <td>senior</td>\n",
       "      <td>b2b</td>\n",
       "      <td>0.0</td>\n",
       "      <td>0.0</td>\n",
       "      <td>0.0</td>\n",
       "      <td>0.0</td>\n",
       "      <td>...</td>\n",
       "      <td>0.0</td>\n",
       "      <td>0.0</td>\n",
       "      <td>0.0</td>\n",
       "      <td>0.0</td>\n",
       "      <td>0.0</td>\n",
       "      <td>0.0</td>\n",
       "      <td>0.0</td>\n",
       "      <td>0.0</td>\n",
       "      <td>0.0</td>\n",
       "      <td>0.0</td>\n",
       "    </tr>\n",
       "  </tbody>\n",
       "</table>\n",
       "<p>12006 rows × 1543 columns</p>\n",
       "</div>\n",
       "      <button class=\"colab-df-convert\" onclick=\"convertToInteractive('df-e66dcea5-8584-4df8-acd6-30e7e3cc29ae')\"\n",
       "              title=\"Convert this dataframe to an interactive table.\"\n",
       "              style=\"display:none;\">\n",
       "        \n",
       "  <svg xmlns=\"http://www.w3.org/2000/svg\" height=\"24px\"viewBox=\"0 0 24 24\"\n",
       "       width=\"24px\">\n",
       "    <path d=\"M0 0h24v24H0V0z\" fill=\"none\"/>\n",
       "    <path d=\"M18.56 5.44l.94 2.06.94-2.06 2.06-.94-2.06-.94-.94-2.06-.94 2.06-2.06.94zm-11 1L8.5 8.5l.94-2.06 2.06-.94-2.06-.94L8.5 2.5l-.94 2.06-2.06.94zm10 10l.94 2.06.94-2.06 2.06-.94-2.06-.94-.94-2.06-.94 2.06-2.06.94z\"/><path d=\"M17.41 7.96l-1.37-1.37c-.4-.4-.92-.59-1.43-.59-.52 0-1.04.2-1.43.59L10.3 9.45l-7.72 7.72c-.78.78-.78 2.05 0 2.83L4 21.41c.39.39.9.59 1.41.59.51 0 1.02-.2 1.41-.59l7.78-7.78 2.81-2.81c.8-.78.8-2.07 0-2.86zM5.41 20L4 18.59l7.72-7.72 1.47 1.35L5.41 20z\"/>\n",
       "  </svg>\n",
       "      </button>\n",
       "      \n",
       "  <style>\n",
       "    .colab-df-container {\n",
       "      display:flex;\n",
       "      flex-wrap:wrap;\n",
       "      gap: 12px;\n",
       "    }\n",
       "\n",
       "    .colab-df-convert {\n",
       "      background-color: #E8F0FE;\n",
       "      border: none;\n",
       "      border-radius: 50%;\n",
       "      cursor: pointer;\n",
       "      display: none;\n",
       "      fill: #1967D2;\n",
       "      height: 32px;\n",
       "      padding: 0 0 0 0;\n",
       "      width: 32px;\n",
       "    }\n",
       "\n",
       "    .colab-df-convert:hover {\n",
       "      background-color: #E2EBFA;\n",
       "      box-shadow: 0px 1px 2px rgba(60, 64, 67, 0.3), 0px 1px 3px 1px rgba(60, 64, 67, 0.15);\n",
       "      fill: #174EA6;\n",
       "    }\n",
       "\n",
       "    [theme=dark] .colab-df-convert {\n",
       "      background-color: #3B4455;\n",
       "      fill: #D2E3FC;\n",
       "    }\n",
       "\n",
       "    [theme=dark] .colab-df-convert:hover {\n",
       "      background-color: #434B5C;\n",
       "      box-shadow: 0px 1px 3px 1px rgba(0, 0, 0, 0.15);\n",
       "      filter: drop-shadow(0px 1px 2px rgba(0, 0, 0, 0.3));\n",
       "      fill: #FFFFFF;\n",
       "    }\n",
       "  </style>\n",
       "\n",
       "      <script>\n",
       "        const buttonEl =\n",
       "          document.querySelector('#df-e66dcea5-8584-4df8-acd6-30e7e3cc29ae button.colab-df-convert');\n",
       "        buttonEl.style.display =\n",
       "          google.colab.kernel.accessAllowed ? 'block' : 'none';\n",
       "\n",
       "        async function convertToInteractive(key) {\n",
       "          const element = document.querySelector('#df-e66dcea5-8584-4df8-acd6-30e7e3cc29ae');\n",
       "          const dataTable =\n",
       "            await google.colab.kernel.invokeFunction('convertToInteractive',\n",
       "                                                     [key], {});\n",
       "          if (!dataTable) return;\n",
       "\n",
       "          const docLinkHtml = 'Like what you see? Visit the ' +\n",
       "            '<a target=\"_blank\" href=https://colab.research.google.com/notebooks/data_table.ipynb>data table notebook</a>'\n",
       "            + ' to learn more about interactive tables.';\n",
       "          element.innerHTML = '';\n",
       "          dataTable['output_type'] = 'display_data';\n",
       "          await google.colab.output.renderOutput(dataTable, element);\n",
       "          const docLink = document.createElement('div');\n",
       "          docLink.innerHTML = docLinkHtml;\n",
       "          element.appendChild(docLink);\n",
       "        }\n",
       "      </script>\n",
       "    </div>\n",
       "  </div>\n",
       "  "
      ]
     },
     "metadata": {},
     "execution_count": 64
    }
   ]
  },
  {
   "cell_type": "code",
   "source": [
    "X_text_from_train, X_text_from_valid, y_from_train, y_from_valid = train_test_split(X_text, y_from, test_size=0.2, random_state=42)"
   ],
   "metadata": {
    "id": "9kJlVJma0JZ-",
    "pycharm": {
     "name": "#%%\n"
    }
   },
   "execution_count": 19,
   "outputs": []
  },
  {
   "cell_type": "code",
   "source": [
    "X_text_to_train, X_text_to_valid, y_to_train, y_to_valid = train_test_split(X_text, y_to, test_size=0.2, random_state=42)"
   ],
   "metadata": {
    "id": "NBBrSalB2R7U",
    "pycharm": {
     "name": "#%%\n"
    }
   },
   "execution_count": 20,
   "outputs": []
  },
  {
   "cell_type": "markdown",
   "source": [
    "## Catboost"
   ],
   "metadata": {
    "id": "K1JdsXUv1Z53",
    "pycharm": {
     "name": "#%% md\n"
    }
   }
  },
  {
   "cell_type": "code",
   "source": [
    "# regularization and other hyperparams\n",
    "model = CatBoostRegressor(iterations=1500, cat_features=cat_features, verbose=100)"
   ],
   "metadata": {
    "id": "5tIHvq801au-",
    "pycharm": {
     "name": "#%%\n"
    }
   },
   "execution_count": 76,
   "outputs": []
  },
  {
   "cell_type": "code",
   "source": [
    "model.fit(X_text_from_train, y_from_train, eval_set=(X_text_from_valid, y_from_valid))"
   ],
   "metadata": {
    "colab": {
     "base_uri": "https://localhost:8080/"
    },
    "id": "qjZRvm-22-zB",
    "outputId": "dbffd87f-8220-4e18-d0c3-72d936704bd7",
    "pycharm": {
     "name": "#%%\n"
    }
   },
   "execution_count": 77,
   "outputs": [
    {
     "output_type": "stream",
     "name": "stdout",
     "text": [
      "Learning rate set to 0.056719\n",
      "0:\tlearn: 6257.1961980\ttest: 6050.0835367\tbest: 6050.0835367 (0)\ttotal: 34.4ms\tremaining: 51.6s\n",
      "100:\tlearn: 3233.4358992\ttest: 3030.4447674\tbest: 3030.4447674 (100)\ttotal: 4.33s\tremaining: 1m\n",
      "200:\tlearn: 2904.1712088\ttest: 2753.8727739\tbest: 2753.8727739 (200)\ttotal: 7.79s\tremaining: 50.4s\n",
      "300:\tlearn: 2659.7612714\ttest: 2552.3589476\tbest: 2552.3589476 (300)\ttotal: 11.1s\tremaining: 44.3s\n",
      "400:\tlearn: 2494.3780709\ttest: 2412.4640425\tbest: 2412.4640425 (400)\ttotal: 14.6s\tremaining: 39.9s\n",
      "500:\tlearn: 2362.1028281\ttest: 2303.2001020\tbest: 2303.2001020 (500)\ttotal: 19.2s\tremaining: 38.3s\n",
      "600:\tlearn: 2238.6938076\ttest: 2198.8214910\tbest: 2198.8214910 (600)\ttotal: 22.6s\tremaining: 33.7s\n",
      "700:\tlearn: 2138.0712438\ttest: 2119.8091287\tbest: 2119.8091287 (700)\ttotal: 25.9s\tremaining: 29.5s\n",
      "800:\tlearn: 2058.8532475\ttest: 2052.7598729\tbest: 2052.7598729 (800)\ttotal: 30.5s\tremaining: 26.6s\n",
      "900:\tlearn: 1989.2536871\ttest: 1997.9753583\tbest: 1997.9753583 (900)\ttotal: 33.8s\tremaining: 22.5s\n",
      "1000:\tlearn: 1923.8524075\ttest: 1947.1465716\tbest: 1947.1465716 (1000)\ttotal: 37.2s\tremaining: 18.6s\n",
      "1100:\tlearn: 1874.2451129\ttest: 1912.2166102\tbest: 1912.2166102 (1100)\ttotal: 41.4s\tremaining: 15s\n",
      "1200:\tlearn: 1830.6272429\ttest: 1883.7741113\tbest: 1883.7741113 (1200)\ttotal: 45.3s\tremaining: 11.3s\n",
      "1300:\tlearn: 1779.4350464\ttest: 1850.1074146\tbest: 1850.1074146 (1300)\ttotal: 48.6s\tremaining: 7.44s\n",
      "1400:\tlearn: 1733.0596071\ttest: 1821.6954441\tbest: 1821.6954441 (1400)\ttotal: 52.1s\tremaining: 3.68s\n",
      "1499:\tlearn: 1696.0346049\ttest: 1795.6873013\tbest: 1795.6873013 (1499)\ttotal: 56.7s\tremaining: 0us\n",
      "\n",
      "bestTest = 1795.687301\n",
      "bestIteration = 1499\n",
      "\n"
     ]
    },
    {
     "output_type": "execute_result",
     "data": {
      "text/plain": [
       "<catboost.core.CatBoostRegressor at 0x7f0f863f9cd0>"
      ]
     },
     "metadata": {},
     "execution_count": 77
    }
   ]
  },
  {
   "cell_type": "code",
   "source": [
    "pd.DataFrame({'feature_name': model.feature_names_, 'feature_importance': model.feature_importances_}).head(18)"
   ],
   "metadata": {
    "colab": {
     "base_uri": "https://localhost:8080/",
     "height": 613
    },
    "id": "NIbZPJ3G5CQg",
    "outputId": "75a86491-a091-4a3e-beda-034b0e64039b",
    "pycharm": {
     "name": "#%%\n"
    }
   },
   "execution_count": 71,
   "outputs": [
    {
     "output_type": "execute_result",
     "data": {
      "text/plain": [
       "        feature_name  feature_importance\n",
       "0               city            0.201636\n",
       "1        marker_icon            6.861168\n",
       "2     workplace_type            2.067576\n",
       "3       company_name           14.078319\n",
       "4   experience_level           29.457485\n",
       "5      contract_type            5.910137\n",
       "6                  6            0.000000\n",
       "7                  7            0.003986\n",
       "8                  8            0.038025\n",
       "9                  9            0.000000\n",
       "10                10            0.000000\n",
       "11                11            0.000000\n",
       "12                12            0.000000\n",
       "13                13            0.000000\n",
       "14                14            0.000464\n",
       "15                15            0.000000\n",
       "16                16            0.000000\n",
       "17                17            0.000000"
      ],
      "text/html": [
       "\n",
       "  <div id=\"df-90d104bb-1248-454d-8f69-74353f99f302\">\n",
       "    <div class=\"colab-df-container\">\n",
       "      <div>\n",
       "<style scoped>\n",
       "    .dataframe tbody tr th:only-of-type {\n",
       "        vertical-align: middle;\n",
       "    }\n",
       "\n",
       "    .dataframe tbody tr th {\n",
       "        vertical-align: top;\n",
       "    }\n",
       "\n",
       "    .dataframe thead th {\n",
       "        text-align: right;\n",
       "    }\n",
       "</style>\n",
       "<table border=\"1\" class=\"dataframe\">\n",
       "  <thead>\n",
       "    <tr style=\"text-align: right;\">\n",
       "      <th></th>\n",
       "      <th>feature_name</th>\n",
       "      <th>feature_importance</th>\n",
       "    </tr>\n",
       "  </thead>\n",
       "  <tbody>\n",
       "    <tr>\n",
       "      <th>0</th>\n",
       "      <td>city</td>\n",
       "      <td>0.201636</td>\n",
       "    </tr>\n",
       "    <tr>\n",
       "      <th>1</th>\n",
       "      <td>marker_icon</td>\n",
       "      <td>6.861168</td>\n",
       "    </tr>\n",
       "    <tr>\n",
       "      <th>2</th>\n",
       "      <td>workplace_type</td>\n",
       "      <td>2.067576</td>\n",
       "    </tr>\n",
       "    <tr>\n",
       "      <th>3</th>\n",
       "      <td>company_name</td>\n",
       "      <td>14.078319</td>\n",
       "    </tr>\n",
       "    <tr>\n",
       "      <th>4</th>\n",
       "      <td>experience_level</td>\n",
       "      <td>29.457485</td>\n",
       "    </tr>\n",
       "    <tr>\n",
       "      <th>5</th>\n",
       "      <td>contract_type</td>\n",
       "      <td>5.910137</td>\n",
       "    </tr>\n",
       "    <tr>\n",
       "      <th>6</th>\n",
       "      <td>6</td>\n",
       "      <td>0.000000</td>\n",
       "    </tr>\n",
       "    <tr>\n",
       "      <th>7</th>\n",
       "      <td>7</td>\n",
       "      <td>0.003986</td>\n",
       "    </tr>\n",
       "    <tr>\n",
       "      <th>8</th>\n",
       "      <td>8</td>\n",
       "      <td>0.038025</td>\n",
       "    </tr>\n",
       "    <tr>\n",
       "      <th>9</th>\n",
       "      <td>9</td>\n",
       "      <td>0.000000</td>\n",
       "    </tr>\n",
       "    <tr>\n",
       "      <th>10</th>\n",
       "      <td>10</td>\n",
       "      <td>0.000000</td>\n",
       "    </tr>\n",
       "    <tr>\n",
       "      <th>11</th>\n",
       "      <td>11</td>\n",
       "      <td>0.000000</td>\n",
       "    </tr>\n",
       "    <tr>\n",
       "      <th>12</th>\n",
       "      <td>12</td>\n",
       "      <td>0.000000</td>\n",
       "    </tr>\n",
       "    <tr>\n",
       "      <th>13</th>\n",
       "      <td>13</td>\n",
       "      <td>0.000000</td>\n",
       "    </tr>\n",
       "    <tr>\n",
       "      <th>14</th>\n",
       "      <td>14</td>\n",
       "      <td>0.000464</td>\n",
       "    </tr>\n",
       "    <tr>\n",
       "      <th>15</th>\n",
       "      <td>15</td>\n",
       "      <td>0.000000</td>\n",
       "    </tr>\n",
       "    <tr>\n",
       "      <th>16</th>\n",
       "      <td>16</td>\n",
       "      <td>0.000000</td>\n",
       "    </tr>\n",
       "    <tr>\n",
       "      <th>17</th>\n",
       "      <td>17</td>\n",
       "      <td>0.000000</td>\n",
       "    </tr>\n",
       "  </tbody>\n",
       "</table>\n",
       "</div>\n",
       "      <button class=\"colab-df-convert\" onclick=\"convertToInteractive('df-90d104bb-1248-454d-8f69-74353f99f302')\"\n",
       "              title=\"Convert this dataframe to an interactive table.\"\n",
       "              style=\"display:none;\">\n",
       "        \n",
       "  <svg xmlns=\"http://www.w3.org/2000/svg\" height=\"24px\"viewBox=\"0 0 24 24\"\n",
       "       width=\"24px\">\n",
       "    <path d=\"M0 0h24v24H0V0z\" fill=\"none\"/>\n",
       "    <path d=\"M18.56 5.44l.94 2.06.94-2.06 2.06-.94-2.06-.94-.94-2.06-.94 2.06-2.06.94zm-11 1L8.5 8.5l.94-2.06 2.06-.94-2.06-.94L8.5 2.5l-.94 2.06-2.06.94zm10 10l.94 2.06.94-2.06 2.06-.94-2.06-.94-.94-2.06-.94 2.06-2.06.94z\"/><path d=\"M17.41 7.96l-1.37-1.37c-.4-.4-.92-.59-1.43-.59-.52 0-1.04.2-1.43.59L10.3 9.45l-7.72 7.72c-.78.78-.78 2.05 0 2.83L4 21.41c.39.39.9.59 1.41.59.51 0 1.02-.2 1.41-.59l7.78-7.78 2.81-2.81c.8-.78.8-2.07 0-2.86zM5.41 20L4 18.59l7.72-7.72 1.47 1.35L5.41 20z\"/>\n",
       "  </svg>\n",
       "      </button>\n",
       "      \n",
       "  <style>\n",
       "    .colab-df-container {\n",
       "      display:flex;\n",
       "      flex-wrap:wrap;\n",
       "      gap: 12px;\n",
       "    }\n",
       "\n",
       "    .colab-df-convert {\n",
       "      background-color: #E8F0FE;\n",
       "      border: none;\n",
       "      border-radius: 50%;\n",
       "      cursor: pointer;\n",
       "      display: none;\n",
       "      fill: #1967D2;\n",
       "      height: 32px;\n",
       "      padding: 0 0 0 0;\n",
       "      width: 32px;\n",
       "    }\n",
       "\n",
       "    .colab-df-convert:hover {\n",
       "      background-color: #E2EBFA;\n",
       "      box-shadow: 0px 1px 2px rgba(60, 64, 67, 0.3), 0px 1px 3px 1px rgba(60, 64, 67, 0.15);\n",
       "      fill: #174EA6;\n",
       "    }\n",
       "\n",
       "    [theme=dark] .colab-df-convert {\n",
       "      background-color: #3B4455;\n",
       "      fill: #D2E3FC;\n",
       "    }\n",
       "\n",
       "    [theme=dark] .colab-df-convert:hover {\n",
       "      background-color: #434B5C;\n",
       "      box-shadow: 0px 1px 3px 1px rgba(0, 0, 0, 0.15);\n",
       "      filter: drop-shadow(0px 1px 2px rgba(0, 0, 0, 0.3));\n",
       "      fill: #FFFFFF;\n",
       "    }\n",
       "  </style>\n",
       "\n",
       "      <script>\n",
       "        const buttonEl =\n",
       "          document.querySelector('#df-90d104bb-1248-454d-8f69-74353f99f302 button.colab-df-convert');\n",
       "        buttonEl.style.display =\n",
       "          google.colab.kernel.accessAllowed ? 'block' : 'none';\n",
       "\n",
       "        async function convertToInteractive(key) {\n",
       "          const element = document.querySelector('#df-90d104bb-1248-454d-8f69-74353f99f302');\n",
       "          const dataTable =\n",
       "            await google.colab.kernel.invokeFunction('convertToInteractive',\n",
       "                                                     [key], {});\n",
       "          if (!dataTable) return;\n",
       "\n",
       "          const docLinkHtml = 'Like what you see? Visit the ' +\n",
       "            '<a target=\"_blank\" href=https://colab.research.google.com/notebooks/data_table.ipynb>data table notebook</a>'\n",
       "            + ' to learn more about interactive tables.';\n",
       "          element.innerHTML = '';\n",
       "          dataTable['output_type'] = 'display_data';\n",
       "          await google.colab.output.renderOutput(dataTable, element);\n",
       "          const docLink = document.createElement('div');\n",
       "          docLink.innerHTML = docLinkHtml;\n",
       "          element.appendChild(docLink);\n",
       "        }\n",
       "      </script>\n",
       "    </div>\n",
       "  </div>\n",
       "  "
      ]
     },
     "metadata": {},
     "execution_count": 71
    }
   ]
  },
  {
   "cell_type": "code",
   "source": [
    "y_from_pred = model.predict(X_text_from_valid)"
   ],
   "metadata": {
    "id": "OSFdPnnH5oAs",
    "pycharm": {
     "name": "#%%\n"
    }
   },
   "execution_count": 78,
   "outputs": []
  },
  {
   "cell_type": "code",
   "source": [
    "pd.DataFrame({'y_from_pred': y_from_pred, 'y_from_valid': y_from_valid})"
   ],
   "metadata": {
    "colab": {
     "base_uri": "https://localhost:8080/",
     "height": 423
    },
    "id": "Jjz5I7Ng5uTd",
    "outputId": "d9d3c3a5-04b7-4f2d-bdcf-d9de3d9c063e",
    "pycharm": {
     "name": "#%%\n"
    }
   },
   "execution_count": 79,
   "outputs": [
    {
     "output_type": "execute_result",
     "data": {
      "text/plain": [
       "        y_from_pred  y_from_valid\n",
       "7740   22521.364534       21000.0\n",
       "10643   8307.733511        8500.0\n",
       "9351   22077.373685       25000.0\n",
       "7872   19233.808448       17000.0\n",
       "360    15152.964211       20800.0\n",
       "...             ...           ...\n",
       "5786   23850.569535       28000.0\n",
       "1195   29445.487419       36000.0\n",
       "7606   17658.522237       17000.0\n",
       "7628   11006.586022       11000.0\n",
       "10910   9625.666020        8600.0\n",
       "\n",
       "[2402 rows x 2 columns]"
      ],
      "text/html": [
       "\n",
       "  <div id=\"df-8d0e8dcb-f614-439f-8208-866d1e50c503\">\n",
       "    <div class=\"colab-df-container\">\n",
       "      <div>\n",
       "<style scoped>\n",
       "    .dataframe tbody tr th:only-of-type {\n",
       "        vertical-align: middle;\n",
       "    }\n",
       "\n",
       "    .dataframe tbody tr th {\n",
       "        vertical-align: top;\n",
       "    }\n",
       "\n",
       "    .dataframe thead th {\n",
       "        text-align: right;\n",
       "    }\n",
       "</style>\n",
       "<table border=\"1\" class=\"dataframe\">\n",
       "  <thead>\n",
       "    <tr style=\"text-align: right;\">\n",
       "      <th></th>\n",
       "      <th>y_from_pred</th>\n",
       "      <th>y_from_valid</th>\n",
       "    </tr>\n",
       "  </thead>\n",
       "  <tbody>\n",
       "    <tr>\n",
       "      <th>7740</th>\n",
       "      <td>22521.364534</td>\n",
       "      <td>21000.0</td>\n",
       "    </tr>\n",
       "    <tr>\n",
       "      <th>10643</th>\n",
       "      <td>8307.733511</td>\n",
       "      <td>8500.0</td>\n",
       "    </tr>\n",
       "    <tr>\n",
       "      <th>9351</th>\n",
       "      <td>22077.373685</td>\n",
       "      <td>25000.0</td>\n",
       "    </tr>\n",
       "    <tr>\n",
       "      <th>7872</th>\n",
       "      <td>19233.808448</td>\n",
       "      <td>17000.0</td>\n",
       "    </tr>\n",
       "    <tr>\n",
       "      <th>360</th>\n",
       "      <td>15152.964211</td>\n",
       "      <td>20800.0</td>\n",
       "    </tr>\n",
       "    <tr>\n",
       "      <th>...</th>\n",
       "      <td>...</td>\n",
       "      <td>...</td>\n",
       "    </tr>\n",
       "    <tr>\n",
       "      <th>5786</th>\n",
       "      <td>23850.569535</td>\n",
       "      <td>28000.0</td>\n",
       "    </tr>\n",
       "    <tr>\n",
       "      <th>1195</th>\n",
       "      <td>29445.487419</td>\n",
       "      <td>36000.0</td>\n",
       "    </tr>\n",
       "    <tr>\n",
       "      <th>7606</th>\n",
       "      <td>17658.522237</td>\n",
       "      <td>17000.0</td>\n",
       "    </tr>\n",
       "    <tr>\n",
       "      <th>7628</th>\n",
       "      <td>11006.586022</td>\n",
       "      <td>11000.0</td>\n",
       "    </tr>\n",
       "    <tr>\n",
       "      <th>10910</th>\n",
       "      <td>9625.666020</td>\n",
       "      <td>8600.0</td>\n",
       "    </tr>\n",
       "  </tbody>\n",
       "</table>\n",
       "<p>2402 rows × 2 columns</p>\n",
       "</div>\n",
       "      <button class=\"colab-df-convert\" onclick=\"convertToInteractive('df-8d0e8dcb-f614-439f-8208-866d1e50c503')\"\n",
       "              title=\"Convert this dataframe to an interactive table.\"\n",
       "              style=\"display:none;\">\n",
       "        \n",
       "  <svg xmlns=\"http://www.w3.org/2000/svg\" height=\"24px\"viewBox=\"0 0 24 24\"\n",
       "       width=\"24px\">\n",
       "    <path d=\"M0 0h24v24H0V0z\" fill=\"none\"/>\n",
       "    <path d=\"M18.56 5.44l.94 2.06.94-2.06 2.06-.94-2.06-.94-.94-2.06-.94 2.06-2.06.94zm-11 1L8.5 8.5l.94-2.06 2.06-.94-2.06-.94L8.5 2.5l-.94 2.06-2.06.94zm10 10l.94 2.06.94-2.06 2.06-.94-2.06-.94-.94-2.06-.94 2.06-2.06.94z\"/><path d=\"M17.41 7.96l-1.37-1.37c-.4-.4-.92-.59-1.43-.59-.52 0-1.04.2-1.43.59L10.3 9.45l-7.72 7.72c-.78.78-.78 2.05 0 2.83L4 21.41c.39.39.9.59 1.41.59.51 0 1.02-.2 1.41-.59l7.78-7.78 2.81-2.81c.8-.78.8-2.07 0-2.86zM5.41 20L4 18.59l7.72-7.72 1.47 1.35L5.41 20z\"/>\n",
       "  </svg>\n",
       "      </button>\n",
       "      \n",
       "  <style>\n",
       "    .colab-df-container {\n",
       "      display:flex;\n",
       "      flex-wrap:wrap;\n",
       "      gap: 12px;\n",
       "    }\n",
       "\n",
       "    .colab-df-convert {\n",
       "      background-color: #E8F0FE;\n",
       "      border: none;\n",
       "      border-radius: 50%;\n",
       "      cursor: pointer;\n",
       "      display: none;\n",
       "      fill: #1967D2;\n",
       "      height: 32px;\n",
       "      padding: 0 0 0 0;\n",
       "      width: 32px;\n",
       "    }\n",
       "\n",
       "    .colab-df-convert:hover {\n",
       "      background-color: #E2EBFA;\n",
       "      box-shadow: 0px 1px 2px rgba(60, 64, 67, 0.3), 0px 1px 3px 1px rgba(60, 64, 67, 0.15);\n",
       "      fill: #174EA6;\n",
       "    }\n",
       "\n",
       "    [theme=dark] .colab-df-convert {\n",
       "      background-color: #3B4455;\n",
       "      fill: #D2E3FC;\n",
       "    }\n",
       "\n",
       "    [theme=dark] .colab-df-convert:hover {\n",
       "      background-color: #434B5C;\n",
       "      box-shadow: 0px 1px 3px 1px rgba(0, 0, 0, 0.15);\n",
       "      filter: drop-shadow(0px 1px 2px rgba(0, 0, 0, 0.3));\n",
       "      fill: #FFFFFF;\n",
       "    }\n",
       "  </style>\n",
       "\n",
       "      <script>\n",
       "        const buttonEl =\n",
       "          document.querySelector('#df-8d0e8dcb-f614-439f-8208-866d1e50c503 button.colab-df-convert');\n",
       "        buttonEl.style.display =\n",
       "          google.colab.kernel.accessAllowed ? 'block' : 'none';\n",
       "\n",
       "        async function convertToInteractive(key) {\n",
       "          const element = document.querySelector('#df-8d0e8dcb-f614-439f-8208-866d1e50c503');\n",
       "          const dataTable =\n",
       "            await google.colab.kernel.invokeFunction('convertToInteractive',\n",
       "                                                     [key], {});\n",
       "          if (!dataTable) return;\n",
       "\n",
       "          const docLinkHtml = 'Like what you see? Visit the ' +\n",
       "            '<a target=\"_blank\" href=https://colab.research.google.com/notebooks/data_table.ipynb>data table notebook</a>'\n",
       "            + ' to learn more about interactive tables.';\n",
       "          element.innerHTML = '';\n",
       "          dataTable['output_type'] = 'display_data';\n",
       "          await google.colab.output.renderOutput(dataTable, element);\n",
       "          const docLink = document.createElement('div');\n",
       "          docLink.innerHTML = docLinkHtml;\n",
       "          element.appendChild(docLink);\n",
       "        }\n",
       "      </script>\n",
       "    </div>\n",
       "  </div>\n",
       "  "
      ]
     },
     "metadata": {},
     "execution_count": 79
    }
   ]
  },
  {
   "cell_type": "code",
   "source": [
    "np.sqrt(mean_squared_error(y_from_pred, y_from_valid))"
   ],
   "metadata": {
    "colab": {
     "base_uri": "https://localhost:8080/"
    },
    "id": "xVyJkQq_5y4P",
    "outputId": "b1bc7ceb-13d6-4578-e5fb-2a209f2c3182",
    "pycharm": {
     "name": "#%%\n"
    }
   },
   "execution_count": 80,
   "outputs": [
    {
     "output_type": "execute_result",
     "data": {
      "text/plain": [
       "2255.096788278423"
      ]
     },
     "metadata": {},
     "execution_count": 80
    }
   ]
  },
  {
   "cell_type": "markdown",
   "source": [
    "## Tune hyperparams"
   ],
   "metadata": {
    "id": "wGXhPCoS4d8z",
    "pycharm": {
     "name": "#%% md\n"
    }
   }
  },
  {
   "cell_type": "code",
   "source": [
    "model = CatBoostRegressor(iterations=1000, cat_features=cat_features, verbose=500)"
   ],
   "metadata": {
    "id": "h4UEF1BWCW3X",
    "pycharm": {
     "name": "#%%\n"
    }
   },
   "execution_count": 85,
   "outputs": []
  },
  {
   "cell_type": "code",
   "source": [
    "grid = {'learning_rate': [0.01, 0.03, 0.06, 0.1],\n",
    "        'depth': [4, 6, 8, 10],\n",
    "        'l2_leaf_reg': [1, 3, 5, 7, 9]}"
   ],
   "metadata": {
    "id": "7gg2Z_E53JoE",
    "pycharm": {
     "name": "#%%\n"
    }
   },
   "execution_count": 88,
   "outputs": []
  },
  {
   "cell_type": "code",
   "source": [
    "randomized_search_result = model.randomized_search(grid,\n",
    "            X_text,\n",
    "            y_from,\n",
    "            cv=5,\n",
    "            shuffle=True,\n",
    "            train_size=0.8)"
   ],
   "metadata": {
    "colab": {
     "base_uri": "https://localhost:8080/"
    },
    "id": "_EN7b-e5CMWO",
    "outputId": "7e2a3638-93f6-47c8-dfa1-e6e1453b743b",
    "pycharm": {
     "name": "#%%\n"
    }
   },
   "execution_count": 89,
   "outputs": [
    {
     "output_type": "stream",
     "name": "stdout",
     "text": [
      "0:\tlearn: 16518.0534390\ttest: 16608.4874799\tbest: 16608.4874799 (0)\ttotal: 22.3ms\tremaining: 22.3s\n",
      "500:\tlearn: 2730.7901101\ttest: 2692.7155138\tbest: 2692.7155138 (500)\ttotal: 10s\tremaining: 9.98s\n",
      "999:\tlearn: 2334.5574019\ttest: 2322.3484876\tbest: 2322.3484876 (999)\ttotal: 20.5s\tremaining: 0us\n",
      "\n",
      "bestTest = 2322.348488\n",
      "bestIteration = 999\n",
      "\n",
      "0:\tloss: 2322.3484876\tbest: 2322.3484876 (0)\ttotal: 20.9s\tremaining: 3m 8s\n",
      "0:\tlearn: 16989.2166957\ttest: 17081.4124930\tbest: 17081.4124930 (0)\ttotal: 19.6ms\tremaining: 19.5s\n",
      "500:\tlearn: 3171.1855995\ttest: 3139.3051664\tbest: 3139.3051664 (500)\ttotal: 13.3s\tremaining: 13.2s\n",
      "999:\tlearn: 2766.1880593\ttest: 2744.6953879\tbest: 2744.6953879 (999)\ttotal: 23.4s\tremaining: 0us\n",
      "\n",
      "bestTest = 2744.695388\n",
      "bestIteration = 999\n",
      "\n",
      "1:\tloss: 2744.6953879\tbest: 2322.3484876 (0)\ttotal: 44.4s\tremaining: 2m 57s\n",
      "0:\tlearn: 15892.3306667\ttest: 15980.3039347\tbest: 15980.3039347 (0)\ttotal: 40.6ms\tremaining: 40.6s\n",
      "500:\tlearn: 2010.3383450\ttest: 2081.4270043\tbest: 2081.4270043 (500)\ttotal: 20.2s\tremaining: 20.1s\n",
      "999:\tlearn: 1590.3605841\ttest: 1775.9266257\tbest: 1775.9266257 (999)\ttotal: 40.6s\tremaining: 0us\n",
      "\n",
      "bestTest = 1775.926626\n",
      "bestIteration = 999\n",
      "\n",
      "2:\tloss: 1775.9266257\tbest: 1775.9266257 (2)\ttotal: 1m 25s\tremaining: 3m 18s\n",
      "0:\tlearn: 17303.6375770\ttest: 17397.0279259\tbest: 17397.0279259 (0)\ttotal: 36.1ms\tremaining: 36s\n",
      "500:\tlearn: 3513.6709287\ttest: 3480.0022249\tbest: 3480.0022249 (500)\ttotal: 19.2s\tremaining: 19.1s\n",
      "999:\tlearn: 3095.2519223\ttest: 3045.2797462\tbest: 3045.2797462 (999)\ttotal: 38.3s\tremaining: 0us\n",
      "\n",
      "bestTest = 3045.279746\n",
      "bestIteration = 999\n",
      "\n",
      "3:\tloss: 3045.2797462\tbest: 1775.9266257 (2)\ttotal: 2m 3s\tremaining: 3m 5s\n",
      "0:\tlearn: 15894.0464385\ttest: 15981.9804910\tbest: 15981.9804910 (0)\ttotal: 36ms\tremaining: 35.9s\n",
      "500:\tlearn: 2136.7378981\ttest: 2177.8783433\tbest: 2177.8783433 (500)\ttotal: 24.1s\tremaining: 24s\n",
      "999:\tlearn: 1743.8352738\ttest: 1878.4990616\tbest: 1878.4990616 (999)\ttotal: 44.5s\tremaining: 0us\n",
      "\n",
      "bestTest = 1878.499062\n",
      "bestIteration = 999\n",
      "\n",
      "4:\tloss: 1878.4990616\tbest: 1775.9266257 (2)\ttotal: 2m 47s\tremaining: 2m 47s\n",
      "0:\tlearn: 16989.6540796\ttest: 17081.7828736\tbest: 17081.7828736 (0)\ttotal: 41.6ms\tremaining: 41.5s\n",
      "500:\tlearn: 2887.3168533\ttest: 2850.9725649\tbest: 2850.9725649 (500)\ttotal: 18.4s\tremaining: 18.3s\n",
      "999:\tlearn: 2470.5657573\ttest: 2469.9268595\tbest: 2469.9268595 (999)\ttotal: 38.6s\tremaining: 0us\n",
      "\n",
      "bestTest = 2469.92686\n",
      "bestIteration = 999\n",
      "\n",
      "5:\tloss: 2469.9268595\tbest: 1775.9266257 (2)\ttotal: 3m 26s\tremaining: 2m 17s\n",
      "0:\tlearn: 16519.6862879\ttest: 16609.9525510\tbest: 16609.9525510 (0)\ttotal: 36ms\tremaining: 35.9s\n",
      "500:\tlearn: 2478.1912653\ttest: 2488.2639880\tbest: 2488.2639880 (500)\ttotal: 18.7s\tremaining: 18.6s\n",
      "999:\tlearn: 2098.9065630\ttest: 2155.2840446\tbest: 2155.2840446 (999)\ttotal: 39.3s\tremaining: 0us\n",
      "\n",
      "bestTest = 2155.284045\n",
      "bestIteration = 999\n",
      "\n",
      "6:\tloss: 2155.2840446\tbest: 1775.9266257 (2)\ttotal: 4m 5s\tremaining: 1m 45s\n",
      "0:\tlearn: 16511.2510273\ttest: 16603.6593709\tbest: 16603.6593709 (0)\ttotal: 93.3ms\tremaining: 1m 33s\n",
      "500:\tlearn: 1906.8558517\ttest: 2013.4942722\tbest: 2013.4835984 (499)\ttotal: 52.3s\tremaining: 52.1s\n",
      "999:\tlearn: 1422.4435490\ttest: 1662.4871164\tbest: 1662.4871164 (999)\ttotal: 1m 43s\tremaining: 0us\n",
      "\n",
      "bestTest = 1662.487116\n",
      "bestIteration = 999\n",
      "\n",
      "7:\tloss: 1662.4871164\tbest: 1662.4871164 (7)\ttotal: 5m 49s\tremaining: 1m 27s\n",
      "0:\tlearn: 16986.4635161\ttest: 17079.7727153\tbest: 17079.7727153 (0)\ttotal: 90.3ms\tremaining: 1m 30s\n",
      "500:\tlearn: 2535.1465547\ttest: 2531.3613300\tbest: 2531.3613300 (500)\ttotal: 50.1s\tremaining: 49.9s\n",
      "999:\tlearn: 2061.8250731\ttest: 2122.4716429\tbest: 2122.4716429 (999)\ttotal: 1m 41s\tremaining: 0us\n",
      "\n",
      "bestTest = 2122.471643\n",
      "bestIteration = 999\n",
      "\n",
      "8:\tloss: 2122.4716429\tbest: 1662.4871164 (7)\ttotal: 7m 31s\tremaining: 50.2s\n",
      "0:\tlearn: 17303.0037027\ttest: 17396.7765071\tbest: 17396.7765071 (0)\ttotal: 172ms\tremaining: 2m 51s\n",
      "500:\tlearn: 3314.6916052\ttest: 3262.9938972\tbest: 3262.9938972 (500)\ttotal: 48.6s\tremaining: 48.4s\n",
      "999:\tlearn: 2881.7895294\ttest: 2831.1982919\tbest: 2831.1982919 (999)\ttotal: 1m 39s\tremaining: 0us\n",
      "\n",
      "bestTest = 2831.198292\n",
      "bestIteration = 999\n",
      "\n",
      "9:\tloss: 2831.1982919\tbest: 1662.4871164 (7)\ttotal: 9m 11s\tremaining: 0us\n",
      "Estimating final quality...\n",
      "Training on fold [0/5]\n",
      "0:\tlearn: 16546.2971150\ttest: 16425.1919179\tbest: 16425.1919179 (0)\ttotal: 85.7ms\tremaining: 1m 25s\n",
      "500:\tlearn: 1862.5303372\ttest: 2824.5468700\tbest: 2824.5468700 (500)\ttotal: 45.6s\tremaining: 45.4s\n",
      "999:\tlearn: 1400.4785670\ttest: 2536.9743956\tbest: 2536.9743956 (999)\ttotal: 1m 32s\tremaining: 0us\n",
      "\n",
      "bestTest = 2536.974396\n",
      "bestIteration = 999\n",
      "\n",
      "Training on fold [1/5]\n",
      "0:\tlearn: 16515.5048309\ttest: 16575.3985239\tbest: 16575.3985239 (0)\ttotal: 14.5ms\tremaining: 14.5s\n",
      "500:\tlearn: 1836.7939579\ttest: 2919.4095384\tbest: 2919.4095384 (500)\ttotal: 45s\tremaining: 44.8s\n",
      "999:\tlearn: 1388.9019173\ttest: 2626.8758950\tbest: 2626.8758950 (999)\ttotal: 1m 29s\tremaining: 0us\n",
      "\n",
      "bestTest = 2626.875895\n",
      "bestIteration = 999\n",
      "\n",
      "Training on fold [2/5]\n",
      "0:\tlearn: 16511.9987334\ttest: 16619.4687060\tbest: 16619.4687060 (0)\ttotal: 106ms\tremaining: 1m 45s\n",
      "500:\tlearn: 1837.2452915\ttest: 2121.7891390\tbest: 2121.7758362 (499)\ttotal: 48.5s\tremaining: 48.3s\n",
      "999:\tlearn: 1378.7893376\ttest: 1799.0095634\tbest: 1799.0095634 (999)\ttotal: 1m 39s\tremaining: 0us\n",
      "\n",
      "bestTest = 1799.009563\n",
      "bestIteration = 999\n",
      "\n",
      "Training on fold [3/5]\n",
      "0:\tlearn: 16558.0523302\ttest: 16414.8916817\tbest: 16414.8916817 (0)\ttotal: 57ms\tremaining: 56.9s\n",
      "500:\tlearn: 1886.8398331\ttest: 1968.5502593\tbest: 1968.5502593 (500)\ttotal: 52.6s\tremaining: 52.4s\n",
      "999:\tlearn: 1400.8335986\ttest: 1650.8618574\tbest: 1650.8618574 (999)\ttotal: 1m 43s\tremaining: 0us\n",
      "\n",
      "bestTest = 1650.861857\n",
      "bestIteration = 999\n",
      "\n",
      "Training on fold [4/5]\n",
      "0:\tlearn: 16512.2343250\ttest: 16611.6793209\tbest: 16611.6793209 (0)\ttotal: 13.6ms\tremaining: 13.6s\n",
      "500:\tlearn: 1878.8219572\ttest: 2001.0779529\tbest: 2001.0779529 (500)\ttotal: 47.8s\tremaining: 47.6s\n",
      "999:\tlearn: 1400.0778152\ttest: 1661.3904656\tbest: 1661.3904656 (999)\ttotal: 1m 38s\tremaining: 0us\n",
      "\n",
      "bestTest = 1661.390466\n",
      "bestIteration = 999\n",
      "\n"
     ]
    }
   ]
  },
  {
   "cell_type": "code",
   "source": [
    "params = randomized_search_result['params']"
   ],
   "metadata": {
    "id": "KkVH9VU9NTPf",
    "pycharm": {
     "name": "#%%\n"
    }
   },
   "execution_count": 92,
   "outputs": []
  },
  {
   "cell_type": "code",
   "source": [
    "params"
   ],
   "metadata": {
    "colab": {
     "base_uri": "https://localhost:8080/"
    },
    "id": "umVbkzkTObYV",
    "outputId": "1e0c955c-5933-4972-a6e0-d222577c7a5e",
    "pycharm": {
     "name": "#%%\n"
    }
   },
   "execution_count": 93,
   "outputs": [
    {
     "output_type": "execute_result",
     "data": {
      "text/plain": [
       "{'depth': 8, 'l2_leaf_reg': 1, 'learning_rate': 0.06}"
      ]
     },
     "metadata": {},
     "execution_count": 93
    }
   ]
  },
  {
   "cell_type": "code",
   "source": [
    "model = CatBoostRegressor(iterations=2000, cat_features=cat_features, verbose=500, **params)"
   ],
   "metadata": {
    "id": "5lCcbkIdOZKo",
    "pycharm": {
     "name": "#%%\n"
    }
   },
   "execution_count": 99,
   "outputs": []
  },
  {
   "cell_type": "code",
   "source": [
    "model.fit(X_text_from_train, y_from_train, eval_set=(X_text_from_valid, y_from_valid))"
   ],
   "metadata": {
    "colab": {
     "base_uri": "https://localhost:8080/"
    },
    "id": "LH8tKiH1OhEW",
    "outputId": "2867559f-0fd9-4195-f85d-d9593fd7c1da",
    "pycharm": {
     "name": "#%%\n"
    }
   },
   "execution_count": 100,
   "outputs": [
    {
     "output_type": "stream",
     "name": "stdout",
     "text": [
      "0:\tlearn: 6236.8594592\ttest: 6032.1097328\tbest: 6032.1097328 (0)\ttotal: 93.6ms\tremaining: 3m 7s\n",
      "500:\tlearn: 1850.4797128\ttest: 1918.8568847\tbest: 1918.8568847 (500)\ttotal: 49.6s\tremaining: 2m 28s\n",
      "1000:\tlearn: 1391.6672163\ttest: 1608.6360635\tbest: 1608.6360635 (1000)\ttotal: 1m 39s\tremaining: 1m 38s\n",
      "1500:\tlearn: 1132.3558325\ttest: 1483.3294384\tbest: 1483.3294384 (1500)\ttotal: 2m 30s\tremaining: 49.9s\n",
      "1999:\tlearn: 955.8485442\ttest: 1409.3464562\tbest: 1409.3464562 (1999)\ttotal: 3m 19s\tremaining: 0us\n",
      "\n",
      "bestTest = 1409.346456\n",
      "bestIteration = 1999\n",
      "\n"
     ]
    },
    {
     "output_type": "execute_result",
     "data": {
      "text/plain": [
       "<catboost.core.CatBoostRegressor at 0x7f0f862c12b0>"
      ]
     },
     "metadata": {},
     "execution_count": 100
    }
   ]
  },
  {
   "cell_type": "code",
   "source": [
    "y_from_pred = model.predict(X_text_from_valid)"
   ],
   "metadata": {
    "id": "iS_AQTU6PANm",
    "pycharm": {
     "name": "#%%\n"
    }
   },
   "execution_count": 101,
   "outputs": []
  },
  {
   "cell_type": "code",
   "source": [
    "pd.DataFrame({'y_from_pred': y_from_pred, 'y_from_valid': y_from_valid})"
   ],
   "metadata": {
    "colab": {
     "base_uri": "https://localhost:8080/",
     "height": 423
    },
    "id": "MxIncsDTPCXc",
    "outputId": "af2355b7-e659-4198-d221-cdd158a0ddab",
    "pycharm": {
     "name": "#%%\n"
    }
   },
   "execution_count": 102,
   "outputs": [
    {
     "output_type": "execute_result",
     "data": {
      "text/plain": [
       "        y_from_pred  y_from_valid\n",
       "7740   21352.123661       21000.0\n",
       "10643   8539.259097        8500.0\n",
       "9351   21638.650677       25000.0\n",
       "7872   18320.901113       17000.0\n",
       "360    15568.144970       20800.0\n",
       "...             ...           ...\n",
       "5786   23527.333565       28000.0\n",
       "1195   32734.913282       36000.0\n",
       "7606   17478.773009       17000.0\n",
       "7628   10545.483678       11000.0\n",
       "10910   9874.807305        8600.0\n",
       "\n",
       "[2402 rows x 2 columns]"
      ],
      "text/html": [
       "\n",
       "  <div id=\"df-0e586d9a-10d3-4495-bc86-a076b27cd9aa\">\n",
       "    <div class=\"colab-df-container\">\n",
       "      <div>\n",
       "<style scoped>\n",
       "    .dataframe tbody tr th:only-of-type {\n",
       "        vertical-align: middle;\n",
       "    }\n",
       "\n",
       "    .dataframe tbody tr th {\n",
       "        vertical-align: top;\n",
       "    }\n",
       "\n",
       "    .dataframe thead th {\n",
       "        text-align: right;\n",
       "    }\n",
       "</style>\n",
       "<table border=\"1\" class=\"dataframe\">\n",
       "  <thead>\n",
       "    <tr style=\"text-align: right;\">\n",
       "      <th></th>\n",
       "      <th>y_from_pred</th>\n",
       "      <th>y_from_valid</th>\n",
       "    </tr>\n",
       "  </thead>\n",
       "  <tbody>\n",
       "    <tr>\n",
       "      <th>7740</th>\n",
       "      <td>21352.123661</td>\n",
       "      <td>21000.0</td>\n",
       "    </tr>\n",
       "    <tr>\n",
       "      <th>10643</th>\n",
       "      <td>8539.259097</td>\n",
       "      <td>8500.0</td>\n",
       "    </tr>\n",
       "    <tr>\n",
       "      <th>9351</th>\n",
       "      <td>21638.650677</td>\n",
       "      <td>25000.0</td>\n",
       "    </tr>\n",
       "    <tr>\n",
       "      <th>7872</th>\n",
       "      <td>18320.901113</td>\n",
       "      <td>17000.0</td>\n",
       "    </tr>\n",
       "    <tr>\n",
       "      <th>360</th>\n",
       "      <td>15568.144970</td>\n",
       "      <td>20800.0</td>\n",
       "    </tr>\n",
       "    <tr>\n",
       "      <th>...</th>\n",
       "      <td>...</td>\n",
       "      <td>...</td>\n",
       "    </tr>\n",
       "    <tr>\n",
       "      <th>5786</th>\n",
       "      <td>23527.333565</td>\n",
       "      <td>28000.0</td>\n",
       "    </tr>\n",
       "    <tr>\n",
       "      <th>1195</th>\n",
       "      <td>32734.913282</td>\n",
       "      <td>36000.0</td>\n",
       "    </tr>\n",
       "    <tr>\n",
       "      <th>7606</th>\n",
       "      <td>17478.773009</td>\n",
       "      <td>17000.0</td>\n",
       "    </tr>\n",
       "    <tr>\n",
       "      <th>7628</th>\n",
       "      <td>10545.483678</td>\n",
       "      <td>11000.0</td>\n",
       "    </tr>\n",
       "    <tr>\n",
       "      <th>10910</th>\n",
       "      <td>9874.807305</td>\n",
       "      <td>8600.0</td>\n",
       "    </tr>\n",
       "  </tbody>\n",
       "</table>\n",
       "<p>2402 rows × 2 columns</p>\n",
       "</div>\n",
       "      <button class=\"colab-df-convert\" onclick=\"convertToInteractive('df-0e586d9a-10d3-4495-bc86-a076b27cd9aa')\"\n",
       "              title=\"Convert this dataframe to an interactive table.\"\n",
       "              style=\"display:none;\">\n",
       "        \n",
       "  <svg xmlns=\"http://www.w3.org/2000/svg\" height=\"24px\"viewBox=\"0 0 24 24\"\n",
       "       width=\"24px\">\n",
       "    <path d=\"M0 0h24v24H0V0z\" fill=\"none\"/>\n",
       "    <path d=\"M18.56 5.44l.94 2.06.94-2.06 2.06-.94-2.06-.94-.94-2.06-.94 2.06-2.06.94zm-11 1L8.5 8.5l.94-2.06 2.06-.94-2.06-.94L8.5 2.5l-.94 2.06-2.06.94zm10 10l.94 2.06.94-2.06 2.06-.94-2.06-.94-.94-2.06-.94 2.06-2.06.94z\"/><path d=\"M17.41 7.96l-1.37-1.37c-.4-.4-.92-.59-1.43-.59-.52 0-1.04.2-1.43.59L10.3 9.45l-7.72 7.72c-.78.78-.78 2.05 0 2.83L4 21.41c.39.39.9.59 1.41.59.51 0 1.02-.2 1.41-.59l7.78-7.78 2.81-2.81c.8-.78.8-2.07 0-2.86zM5.41 20L4 18.59l7.72-7.72 1.47 1.35L5.41 20z\"/>\n",
       "  </svg>\n",
       "      </button>\n",
       "      \n",
       "  <style>\n",
       "    .colab-df-container {\n",
       "      display:flex;\n",
       "      flex-wrap:wrap;\n",
       "      gap: 12px;\n",
       "    }\n",
       "\n",
       "    .colab-df-convert {\n",
       "      background-color: #E8F0FE;\n",
       "      border: none;\n",
       "      border-radius: 50%;\n",
       "      cursor: pointer;\n",
       "      display: none;\n",
       "      fill: #1967D2;\n",
       "      height: 32px;\n",
       "      padding: 0 0 0 0;\n",
       "      width: 32px;\n",
       "    }\n",
       "\n",
       "    .colab-df-convert:hover {\n",
       "      background-color: #E2EBFA;\n",
       "      box-shadow: 0px 1px 2px rgba(60, 64, 67, 0.3), 0px 1px 3px 1px rgba(60, 64, 67, 0.15);\n",
       "      fill: #174EA6;\n",
       "    }\n",
       "\n",
       "    [theme=dark] .colab-df-convert {\n",
       "      background-color: #3B4455;\n",
       "      fill: #D2E3FC;\n",
       "    }\n",
       "\n",
       "    [theme=dark] .colab-df-convert:hover {\n",
       "      background-color: #434B5C;\n",
       "      box-shadow: 0px 1px 3px 1px rgba(0, 0, 0, 0.15);\n",
       "      filter: drop-shadow(0px 1px 2px rgba(0, 0, 0, 0.3));\n",
       "      fill: #FFFFFF;\n",
       "    }\n",
       "  </style>\n",
       "\n",
       "      <script>\n",
       "        const buttonEl =\n",
       "          document.querySelector('#df-0e586d9a-10d3-4495-bc86-a076b27cd9aa button.colab-df-convert');\n",
       "        buttonEl.style.display =\n",
       "          google.colab.kernel.accessAllowed ? 'block' : 'none';\n",
       "\n",
       "        async function convertToInteractive(key) {\n",
       "          const element = document.querySelector('#df-0e586d9a-10d3-4495-bc86-a076b27cd9aa');\n",
       "          const dataTable =\n",
       "            await google.colab.kernel.invokeFunction('convertToInteractive',\n",
       "                                                     [key], {});\n",
       "          if (!dataTable) return;\n",
       "\n",
       "          const docLinkHtml = 'Like what you see? Visit the ' +\n",
       "            '<a target=\"_blank\" href=https://colab.research.google.com/notebooks/data_table.ipynb>data table notebook</a>'\n",
       "            + ' to learn more about interactive tables.';\n",
       "          element.innerHTML = '';\n",
       "          dataTable['output_type'] = 'display_data';\n",
       "          await google.colab.output.renderOutput(dataTable, element);\n",
       "          const docLink = document.createElement('div');\n",
       "          docLink.innerHTML = docLinkHtml;\n",
       "          element.appendChild(docLink);\n",
       "        }\n",
       "      </script>\n",
       "    </div>\n",
       "  </div>\n",
       "  "
      ]
     },
     "metadata": {},
     "execution_count": 102
    }
   ]
  },
  {
   "cell_type": "code",
   "source": [
    "np.sqrt(mean_squared_error(y_from_pred, y_from_valid))"
   ],
   "metadata": {
    "colab": {
     "base_uri": "https://localhost:8080/"
    },
    "id": "poTQYVm3PEsx",
    "outputId": "15591ae3-22f0-43a7-85a2-409088ed795b",
    "pycharm": {
     "name": "#%%\n"
    }
   },
   "execution_count": 103,
   "outputs": [
    {
     "output_type": "execute_result",
     "data": {
      "text/plain": [
       "1947.9040547802526"
      ]
     },
     "metadata": {},
     "execution_count": 103
    }
   ]
  },
  {
   "cell_type": "code",
   "source": [
    "model.save_model('catboost_1')"
   ],
   "metadata": {
    "id": "bsMzaQLiQi3X",
    "pycharm": {
     "name": "#%%\n"
    }
   },
   "execution_count": 104,
   "outputs": []
  },
  {
   "cell_type": "code",
   "source": [
    "model = CatBoostRegressor(iterations=15000, cat_features=cat_features, verbose=500, **params)"
   ],
   "metadata": {
    "id": "2xtY-8cKQO7d",
    "pycharm": {
     "name": "#%%\n"
    }
   },
   "execution_count": 109,
   "outputs": []
  },
  {
   "cell_type": "code",
   "source": [
    "model.fit(X_text_from_train, y_from_train, eval_set=(X_text_from_valid, y_from_valid))"
   ],
   "metadata": {
    "colab": {
     "base_uri": "https://localhost:8080/"
    },
    "id": "ysgm1h66RtIm",
    "outputId": "2f28818a-b58e-4f73-b33a-8b9105453fc7",
    "pycharm": {
     "name": "#%%\n"
    }
   },
   "execution_count": 110,
   "outputs": [
    {
     "output_type": "stream",
     "name": "stdout",
     "text": [
      "0:\tlearn: 6236.8594592\ttest: 6032.1097328\tbest: 6032.1097328 (0)\ttotal: 96.3ms\tremaining: 24m 4s\n",
      "500:\tlearn: 1850.4797128\ttest: 1918.8568847\tbest: 1918.8568847 (500)\ttotal: 50.4s\tremaining: 24m 19s\n",
      "1000:\tlearn: 1391.6672163\ttest: 1608.6360635\tbest: 1608.6360635 (1000)\ttotal: 1m 39s\tremaining: 23m 16s\n",
      "1500:\tlearn: 1132.3558325\ttest: 1483.3294384\tbest: 1483.3294384 (1500)\ttotal: 2m 29s\tremaining: 22m 25s\n",
      "2000:\tlearn: 955.3488437\ttest: 1408.9850070\tbest: 1408.9850070 (2000)\ttotal: 3m 20s\tremaining: 21m 40s\n",
      "2500:\tlearn: 823.4649912\ttest: 1368.1856207\tbest: 1368.1856207 (2500)\ttotal: 4m 9s\tremaining: 20m 49s\n",
      "3000:\tlearn: 721.4862069\ttest: 1336.9812138\tbest: 1336.9094921 (2997)\ttotal: 4m 59s\tremaining: 19m 56s\n",
      "3500:\tlearn: 639.7413825\ttest: 1313.4686883\tbest: 1313.3952086 (3492)\ttotal: 5m 48s\tremaining: 19m 4s\n",
      "4000:\tlearn: 571.5523122\ttest: 1296.3299633\tbest: 1296.2136824 (3998)\ttotal: 6m 39s\tremaining: 18m 16s\n",
      "4500:\tlearn: 512.4095700\ttest: 1281.1051032\tbest: 1281.1051032 (4500)\ttotal: 7m 28s\tremaining: 17m 26s\n",
      "5000:\tlearn: 464.4801682\ttest: 1271.4995507\tbest: 1271.4995507 (5000)\ttotal: 8m 18s\tremaining: 16m 36s\n",
      "5500:\tlearn: 420.6730983\ttest: 1262.9658267\tbest: 1262.9468979 (5499)\ttotal: 9m 8s\tremaining: 15m 46s\n",
      "6000:\tlearn: 383.0405806\ttest: 1256.6354555\tbest: 1256.6354555 (6000)\ttotal: 9m 57s\tremaining: 14m 55s\n",
      "6500:\tlearn: 352.5855263\ttest: 1252.1261962\tbest: 1252.0926315 (6498)\ttotal: 10m 48s\tremaining: 14m 7s\n",
      "7000:\tlearn: 325.8126046\ttest: 1248.0371519\tbest: 1248.0371519 (7000)\ttotal: 11m 36s\tremaining: 13m 16s\n",
      "7500:\tlearn: 302.8953715\ttest: 1245.3904384\tbest: 1245.3798104 (7495)\ttotal: 12m 25s\tremaining: 12m 25s\n",
      "8000:\tlearn: 280.2663420\ttest: 1242.1055662\tbest: 1242.1055662 (8000)\ttotal: 13m 15s\tremaining: 11m 35s\n",
      "8500:\tlearn: 261.3204931\ttest: 1239.4196685\tbest: 1239.4106152 (8499)\ttotal: 14m 5s\tremaining: 10m 46s\n",
      "9000:\tlearn: 244.6867571\ttest: 1237.1852843\tbest: 1237.1852843 (9000)\ttotal: 14m 54s\tremaining: 9m 56s\n",
      "9500:\tlearn: 229.2908636\ttest: 1235.9107096\tbest: 1235.8368989 (9479)\ttotal: 15m 43s\tremaining: 9m 6s\n",
      "10000:\tlearn: 214.7609382\ttest: 1234.9255510\tbest: 1234.8818091 (9997)\ttotal: 16m 32s\tremaining: 8m 16s\n",
      "10500:\tlearn: 202.0825846\ttest: 1233.9585854\tbest: 1233.9441841 (10481)\ttotal: 17m 22s\tremaining: 7m 26s\n",
      "11000:\tlearn: 190.0776629\ttest: 1233.0741555\tbest: 1233.0741555 (11000)\ttotal: 18m 11s\tremaining: 6m 36s\n",
      "11500:\tlearn: 179.6495294\ttest: 1232.1620044\tbest: 1232.0630229 (11468)\ttotal: 18m 59s\tremaining: 5m 46s\n",
      "12000:\tlearn: 169.5711198\ttest: 1231.3766933\tbest: 1231.3204468 (11978)\ttotal: 19m 48s\tremaining: 4m 57s\n",
      "12500:\tlearn: 160.3540005\ttest: 1230.7519914\tbest: 1230.7315291 (12495)\ttotal: 20m 40s\tremaining: 4m 7s\n",
      "13000:\tlearn: 152.1342635\ttest: 1230.2666719\tbest: 1230.2627114 (12999)\ttotal: 21m 28s\tremaining: 3m 18s\n",
      "13500:\tlearn: 144.4986766\ttest: 1229.8228399\tbest: 1229.8228399 (13500)\ttotal: 22m 16s\tremaining: 2m 28s\n",
      "14000:\tlearn: 136.9647081\ttest: 1229.1280316\tbest: 1229.1062836 (13984)\ttotal: 23m 4s\tremaining: 1m 38s\n",
      "14500:\tlearn: 130.5125212\ttest: 1228.9252887\tbest: 1228.8752606 (14449)\ttotal: 23m 53s\tremaining: 49.3s\n",
      "14999:\tlearn: 124.0742827\ttest: 1228.7254211\tbest: 1228.6886709 (14975)\ttotal: 24m 42s\tremaining: 0us\n",
      "\n",
      "bestTest = 1228.688671\n",
      "bestIteration = 14975\n",
      "\n",
      "Shrink model to first 14976 iterations.\n"
     ]
    },
    {
     "output_type": "execute_result",
     "data": {
      "text/plain": [
       "<catboost.core.CatBoostRegressor at 0x7f0f86370940>"
      ]
     },
     "metadata": {},
     "execution_count": 110
    }
   ]
  },
  {
   "cell_type": "code",
   "source": [
    "model.save_model('catboost_2')"
   ],
   "metadata": {
    "id": "adiOs155b5_I",
    "pycharm": {
     "name": "#%%\n"
    }
   },
   "execution_count": 114,
   "outputs": []
  },
  {
   "cell_type": "code",
   "source": [
    "y_from_pred = model.predict(X_text_from_valid)"
   ],
   "metadata": {
    "id": "i3OaqG6dTlbg",
    "pycharm": {
     "name": "#%%\n"
    }
   },
   "execution_count": 111,
   "outputs": []
  },
  {
   "cell_type": "code",
   "source": [
    "pd.DataFrame({'y_from_pred': y_from_pred, 'y_from_valid': y_from_valid})"
   ],
   "metadata": {
    "colab": {
     "base_uri": "https://localhost:8080/",
     "height": 423
    },
    "id": "eDmAmiOIb3YU",
    "outputId": "6a70366e-394a-4348-d562-fc44c6c9f93d",
    "pycharm": {
     "name": "#%%\n"
    }
   },
   "execution_count": 113,
   "outputs": [
    {
     "output_type": "execute_result",
     "data": {
      "text/plain": [
       "        y_from_pred  y_from_valid\n",
       "7740   20935.171976       21000.0\n",
       "10643   8438.370548        8500.0\n",
       "9351   21858.247404       25000.0\n",
       "7872   17640.181673       17000.0\n",
       "360    15897.997970       20800.0\n",
       "...             ...           ...\n",
       "5786   24046.739982       28000.0\n",
       "1195   33467.121761       36000.0\n",
       "7606   17024.055049       17000.0\n",
       "7628   11088.978999       11000.0\n",
       "10910   9927.834623        8600.0\n",
       "\n",
       "[2402 rows x 2 columns]"
      ],
      "text/html": [
       "\n",
       "  <div id=\"df-59399363-da19-4ac5-a816-715d2daa84cf\">\n",
       "    <div class=\"colab-df-container\">\n",
       "      <div>\n",
       "<style scoped>\n",
       "    .dataframe tbody tr th:only-of-type {\n",
       "        vertical-align: middle;\n",
       "    }\n",
       "\n",
       "    .dataframe tbody tr th {\n",
       "        vertical-align: top;\n",
       "    }\n",
       "\n",
       "    .dataframe thead th {\n",
       "        text-align: right;\n",
       "    }\n",
       "</style>\n",
       "<table border=\"1\" class=\"dataframe\">\n",
       "  <thead>\n",
       "    <tr style=\"text-align: right;\">\n",
       "      <th></th>\n",
       "      <th>y_from_pred</th>\n",
       "      <th>y_from_valid</th>\n",
       "    </tr>\n",
       "  </thead>\n",
       "  <tbody>\n",
       "    <tr>\n",
       "      <th>7740</th>\n",
       "      <td>20935.171976</td>\n",
       "      <td>21000.0</td>\n",
       "    </tr>\n",
       "    <tr>\n",
       "      <th>10643</th>\n",
       "      <td>8438.370548</td>\n",
       "      <td>8500.0</td>\n",
       "    </tr>\n",
       "    <tr>\n",
       "      <th>9351</th>\n",
       "      <td>21858.247404</td>\n",
       "      <td>25000.0</td>\n",
       "    </tr>\n",
       "    <tr>\n",
       "      <th>7872</th>\n",
       "      <td>17640.181673</td>\n",
       "      <td>17000.0</td>\n",
       "    </tr>\n",
       "    <tr>\n",
       "      <th>360</th>\n",
       "      <td>15897.997970</td>\n",
       "      <td>20800.0</td>\n",
       "    </tr>\n",
       "    <tr>\n",
       "      <th>...</th>\n",
       "      <td>...</td>\n",
       "      <td>...</td>\n",
       "    </tr>\n",
       "    <tr>\n",
       "      <th>5786</th>\n",
       "      <td>24046.739982</td>\n",
       "      <td>28000.0</td>\n",
       "    </tr>\n",
       "    <tr>\n",
       "      <th>1195</th>\n",
       "      <td>33467.121761</td>\n",
       "      <td>36000.0</td>\n",
       "    </tr>\n",
       "    <tr>\n",
       "      <th>7606</th>\n",
       "      <td>17024.055049</td>\n",
       "      <td>17000.0</td>\n",
       "    </tr>\n",
       "    <tr>\n",
       "      <th>7628</th>\n",
       "      <td>11088.978999</td>\n",
       "      <td>11000.0</td>\n",
       "    </tr>\n",
       "    <tr>\n",
       "      <th>10910</th>\n",
       "      <td>9927.834623</td>\n",
       "      <td>8600.0</td>\n",
       "    </tr>\n",
       "  </tbody>\n",
       "</table>\n",
       "<p>2402 rows × 2 columns</p>\n",
       "</div>\n",
       "      <button class=\"colab-df-convert\" onclick=\"convertToInteractive('df-59399363-da19-4ac5-a816-715d2daa84cf')\"\n",
       "              title=\"Convert this dataframe to an interactive table.\"\n",
       "              style=\"display:none;\">\n",
       "        \n",
       "  <svg xmlns=\"http://www.w3.org/2000/svg\" height=\"24px\"viewBox=\"0 0 24 24\"\n",
       "       width=\"24px\">\n",
       "    <path d=\"M0 0h24v24H0V0z\" fill=\"none\"/>\n",
       "    <path d=\"M18.56 5.44l.94 2.06.94-2.06 2.06-.94-2.06-.94-.94-2.06-.94 2.06-2.06.94zm-11 1L8.5 8.5l.94-2.06 2.06-.94-2.06-.94L8.5 2.5l-.94 2.06-2.06.94zm10 10l.94 2.06.94-2.06 2.06-.94-2.06-.94-.94-2.06-.94 2.06-2.06.94z\"/><path d=\"M17.41 7.96l-1.37-1.37c-.4-.4-.92-.59-1.43-.59-.52 0-1.04.2-1.43.59L10.3 9.45l-7.72 7.72c-.78.78-.78 2.05 0 2.83L4 21.41c.39.39.9.59 1.41.59.51 0 1.02-.2 1.41-.59l7.78-7.78 2.81-2.81c.8-.78.8-2.07 0-2.86zM5.41 20L4 18.59l7.72-7.72 1.47 1.35L5.41 20z\"/>\n",
       "  </svg>\n",
       "      </button>\n",
       "      \n",
       "  <style>\n",
       "    .colab-df-container {\n",
       "      display:flex;\n",
       "      flex-wrap:wrap;\n",
       "      gap: 12px;\n",
       "    }\n",
       "\n",
       "    .colab-df-convert {\n",
       "      background-color: #E8F0FE;\n",
       "      border: none;\n",
       "      border-radius: 50%;\n",
       "      cursor: pointer;\n",
       "      display: none;\n",
       "      fill: #1967D2;\n",
       "      height: 32px;\n",
       "      padding: 0 0 0 0;\n",
       "      width: 32px;\n",
       "    }\n",
       "\n",
       "    .colab-df-convert:hover {\n",
       "      background-color: #E2EBFA;\n",
       "      box-shadow: 0px 1px 2px rgba(60, 64, 67, 0.3), 0px 1px 3px 1px rgba(60, 64, 67, 0.15);\n",
       "      fill: #174EA6;\n",
       "    }\n",
       "\n",
       "    [theme=dark] .colab-df-convert {\n",
       "      background-color: #3B4455;\n",
       "      fill: #D2E3FC;\n",
       "    }\n",
       "\n",
       "    [theme=dark] .colab-df-convert:hover {\n",
       "      background-color: #434B5C;\n",
       "      box-shadow: 0px 1px 3px 1px rgba(0, 0, 0, 0.15);\n",
       "      filter: drop-shadow(0px 1px 2px rgba(0, 0, 0, 0.3));\n",
       "      fill: #FFFFFF;\n",
       "    }\n",
       "  </style>\n",
       "\n",
       "      <script>\n",
       "        const buttonEl =\n",
       "          document.querySelector('#df-59399363-da19-4ac5-a816-715d2daa84cf button.colab-df-convert');\n",
       "        buttonEl.style.display =\n",
       "          google.colab.kernel.accessAllowed ? 'block' : 'none';\n",
       "\n",
       "        async function convertToInteractive(key) {\n",
       "          const element = document.querySelector('#df-59399363-da19-4ac5-a816-715d2daa84cf');\n",
       "          const dataTable =\n",
       "            await google.colab.kernel.invokeFunction('convertToInteractive',\n",
       "                                                     [key], {});\n",
       "          if (!dataTable) return;\n",
       "\n",
       "          const docLinkHtml = 'Like what you see? Visit the ' +\n",
       "            '<a target=\"_blank\" href=https://colab.research.google.com/notebooks/data_table.ipynb>data table notebook</a>'\n",
       "            + ' to learn more about interactive tables.';\n",
       "          element.innerHTML = '';\n",
       "          dataTable['output_type'] = 'display_data';\n",
       "          await google.colab.output.renderOutput(dataTable, element);\n",
       "          const docLink = document.createElement('div');\n",
       "          docLink.innerHTML = docLinkHtml;\n",
       "          element.appendChild(docLink);\n",
       "        }\n",
       "      </script>\n",
       "    </div>\n",
       "  </div>\n",
       "  "
      ]
     },
     "metadata": {},
     "execution_count": 113
    }
   ]
  },
  {
   "cell_type": "code",
   "source": [
    "np.sqrt(mean_squared_error(y_from_pred, y_from_valid))"
   ],
   "metadata": {
    "colab": {
     "base_uri": "https://localhost:8080/"
    },
    "id": "7HZnuTWPTqRF",
    "outputId": "9eae3b21-7254-4354-86ff-a03ce61a41f8",
    "pycharm": {
     "name": "#%%\n"
    }
   },
   "execution_count": 112,
   "outputs": [
    {
     "output_type": "execute_result",
     "data": {
      "text/plain": [
       "1746.498538891317"
      ]
     },
     "metadata": {},
     "execution_count": 112
    }
   ]
  },
  {
   "cell_type": "markdown",
   "source": [
    "## RF"
   ],
   "metadata": {
    "id": "KOwzBx4K7my-",
    "pycharm": {
     "name": "#%% md\n"
    }
   }
  },
  {
   "cell_type": "code",
   "source": [
    "X_text = pd.DataFrame(np.hstack((X_ohe, text_sparse_matrix.toarray())))"
   ],
   "metadata": {
    "id": "550CUPS67nWb",
    "pycharm": {
     "name": "#%%\n"
    }
   },
   "execution_count": 21,
   "outputs": []
  },
  {
   "cell_type": "code",
   "source": [
    "X_text"
   ],
   "metadata": {
    "colab": {
     "base_uri": "https://localhost:8080/",
     "height": 423
    },
    "id": "ZeiE4fN5kUzh",
    "outputId": "832e4e6e-9ae2-4dc7-ebc8-64965d475037",
    "pycharm": {
     "name": "#%%\n"
    }
   },
   "execution_count": 22,
   "outputs": [
    {
     "output_type": "execute_result",
     "data": {
      "text/plain": [
       "       0     1     2     3     4     5     6     7     8     9     ...  2639  \\\n",
       "0       0.0   0.0   0.0   0.0   0.0   0.0   0.0   0.0   0.0   0.0  ...   0.0   \n",
       "1       0.0   0.0   0.0   0.0   0.0   0.0   0.0   0.0   0.0   0.0  ...   0.0   \n",
       "2       0.0   0.0   0.0   0.0   0.0   0.0   0.0   0.0   0.0   0.0  ...   0.0   \n",
       "3       0.0   0.0   0.0   0.0   0.0   0.0   0.0   0.0   0.0   0.0  ...   0.0   \n",
       "4       0.0   0.0   0.0   0.0   0.0   0.0   0.0   0.0   0.0   0.0  ...   0.0   \n",
       "...     ...   ...   ...   ...   ...   ...   ...   ...   ...   ...  ...   ...   \n",
       "12001   0.0   0.0   0.0   0.0   0.0   0.0   0.0   0.0   0.0   0.0  ...   0.0   \n",
       "12002   0.0   0.0   0.0   0.0   0.0   0.0   0.0   0.0   0.0   0.0  ...   0.0   \n",
       "12003   0.0   0.0   0.0   0.0   0.0   0.0   0.0   0.0   0.0   0.0  ...   0.0   \n",
       "12004   0.0   0.0   0.0   0.0   0.0   0.0   0.0   0.0   0.0   0.0  ...   0.0   \n",
       "12005   0.0   0.0   0.0   0.0   0.0   0.0   0.0   0.0   0.0   0.0  ...   0.0   \n",
       "\n",
       "       2640  2641  2642  2643  2644  2645  2646  2647  2648  \n",
       "0       0.0   0.0   0.0   0.0   0.0   0.0   0.0   0.0   0.0  \n",
       "1       0.0   0.0   0.0   0.0   0.0   0.0   0.0   0.0   0.0  \n",
       "2       0.0   0.0   0.0   0.0   0.0   0.0   0.0   0.0   0.0  \n",
       "3       0.0   0.0   0.0   0.0   0.0   0.0   0.0   0.0   0.0  \n",
       "4       0.0   0.0   0.0   0.0   0.0   0.0   0.0   0.0   0.0  \n",
       "...     ...   ...   ...   ...   ...   ...   ...   ...   ...  \n",
       "12001   0.0   0.0   0.0   0.0   0.0   0.0   0.0   0.0   0.0  \n",
       "12002   0.0   0.0   0.0   0.0   0.0   0.0   0.0   0.0   0.0  \n",
       "12003   0.0   0.0   0.0   0.0   0.0   0.0   0.0   0.0   0.0  \n",
       "12004   0.0   0.0   0.0   0.0   0.0   0.0   0.0   0.0   0.0  \n",
       "12005   0.0   0.0   0.0   0.0   0.0   0.0   0.0   0.0   0.0  \n",
       "\n",
       "[12006 rows x 2649 columns]"
      ],
      "text/html": [
       "\n",
       "  <div id=\"df-5300e7e1-33b9-4982-bd46-03f9d85eb308\">\n",
       "    <div class=\"colab-df-container\">\n",
       "      <div>\n",
       "<style scoped>\n",
       "    .dataframe tbody tr th:only-of-type {\n",
       "        vertical-align: middle;\n",
       "    }\n",
       "\n",
       "    .dataframe tbody tr th {\n",
       "        vertical-align: top;\n",
       "    }\n",
       "\n",
       "    .dataframe thead th {\n",
       "        text-align: right;\n",
       "    }\n",
       "</style>\n",
       "<table border=\"1\" class=\"dataframe\">\n",
       "  <thead>\n",
       "    <tr style=\"text-align: right;\">\n",
       "      <th></th>\n",
       "      <th>0</th>\n",
       "      <th>1</th>\n",
       "      <th>2</th>\n",
       "      <th>3</th>\n",
       "      <th>4</th>\n",
       "      <th>5</th>\n",
       "      <th>6</th>\n",
       "      <th>7</th>\n",
       "      <th>8</th>\n",
       "      <th>9</th>\n",
       "      <th>...</th>\n",
       "      <th>2639</th>\n",
       "      <th>2640</th>\n",
       "      <th>2641</th>\n",
       "      <th>2642</th>\n",
       "      <th>2643</th>\n",
       "      <th>2644</th>\n",
       "      <th>2645</th>\n",
       "      <th>2646</th>\n",
       "      <th>2647</th>\n",
       "      <th>2648</th>\n",
       "    </tr>\n",
       "  </thead>\n",
       "  <tbody>\n",
       "    <tr>\n",
       "      <th>0</th>\n",
       "      <td>0.0</td>\n",
       "      <td>0.0</td>\n",
       "      <td>0.0</td>\n",
       "      <td>0.0</td>\n",
       "      <td>0.0</td>\n",
       "      <td>0.0</td>\n",
       "      <td>0.0</td>\n",
       "      <td>0.0</td>\n",
       "      <td>0.0</td>\n",
       "      <td>0.0</td>\n",
       "      <td>...</td>\n",
       "      <td>0.0</td>\n",
       "      <td>0.0</td>\n",
       "      <td>0.0</td>\n",
       "      <td>0.0</td>\n",
       "      <td>0.0</td>\n",
       "      <td>0.0</td>\n",
       "      <td>0.0</td>\n",
       "      <td>0.0</td>\n",
       "      <td>0.0</td>\n",
       "      <td>0.0</td>\n",
       "    </tr>\n",
       "    <tr>\n",
       "      <th>1</th>\n",
       "      <td>0.0</td>\n",
       "      <td>0.0</td>\n",
       "      <td>0.0</td>\n",
       "      <td>0.0</td>\n",
       "      <td>0.0</td>\n",
       "      <td>0.0</td>\n",
       "      <td>0.0</td>\n",
       "      <td>0.0</td>\n",
       "      <td>0.0</td>\n",
       "      <td>0.0</td>\n",
       "      <td>...</td>\n",
       "      <td>0.0</td>\n",
       "      <td>0.0</td>\n",
       "      <td>0.0</td>\n",
       "      <td>0.0</td>\n",
       "      <td>0.0</td>\n",
       "      <td>0.0</td>\n",
       "      <td>0.0</td>\n",
       "      <td>0.0</td>\n",
       "      <td>0.0</td>\n",
       "      <td>0.0</td>\n",
       "    </tr>\n",
       "    <tr>\n",
       "      <th>2</th>\n",
       "      <td>0.0</td>\n",
       "      <td>0.0</td>\n",
       "      <td>0.0</td>\n",
       "      <td>0.0</td>\n",
       "      <td>0.0</td>\n",
       "      <td>0.0</td>\n",
       "      <td>0.0</td>\n",
       "      <td>0.0</td>\n",
       "      <td>0.0</td>\n",
       "      <td>0.0</td>\n",
       "      <td>...</td>\n",
       "      <td>0.0</td>\n",
       "      <td>0.0</td>\n",
       "      <td>0.0</td>\n",
       "      <td>0.0</td>\n",
       "      <td>0.0</td>\n",
       "      <td>0.0</td>\n",
       "      <td>0.0</td>\n",
       "      <td>0.0</td>\n",
       "      <td>0.0</td>\n",
       "      <td>0.0</td>\n",
       "    </tr>\n",
       "    <tr>\n",
       "      <th>3</th>\n",
       "      <td>0.0</td>\n",
       "      <td>0.0</td>\n",
       "      <td>0.0</td>\n",
       "      <td>0.0</td>\n",
       "      <td>0.0</td>\n",
       "      <td>0.0</td>\n",
       "      <td>0.0</td>\n",
       "      <td>0.0</td>\n",
       "      <td>0.0</td>\n",
       "      <td>0.0</td>\n",
       "      <td>...</td>\n",
       "      <td>0.0</td>\n",
       "      <td>0.0</td>\n",
       "      <td>0.0</td>\n",
       "      <td>0.0</td>\n",
       "      <td>0.0</td>\n",
       "      <td>0.0</td>\n",
       "      <td>0.0</td>\n",
       "      <td>0.0</td>\n",
       "      <td>0.0</td>\n",
       "      <td>0.0</td>\n",
       "    </tr>\n",
       "    <tr>\n",
       "      <th>4</th>\n",
       "      <td>0.0</td>\n",
       "      <td>0.0</td>\n",
       "      <td>0.0</td>\n",
       "      <td>0.0</td>\n",
       "      <td>0.0</td>\n",
       "      <td>0.0</td>\n",
       "      <td>0.0</td>\n",
       "      <td>0.0</td>\n",
       "      <td>0.0</td>\n",
       "      <td>0.0</td>\n",
       "      <td>...</td>\n",
       "      <td>0.0</td>\n",
       "      <td>0.0</td>\n",
       "      <td>0.0</td>\n",
       "      <td>0.0</td>\n",
       "      <td>0.0</td>\n",
       "      <td>0.0</td>\n",
       "      <td>0.0</td>\n",
       "      <td>0.0</td>\n",
       "      <td>0.0</td>\n",
       "      <td>0.0</td>\n",
       "    </tr>\n",
       "    <tr>\n",
       "      <th>...</th>\n",
       "      <td>...</td>\n",
       "      <td>...</td>\n",
       "      <td>...</td>\n",
       "      <td>...</td>\n",
       "      <td>...</td>\n",
       "      <td>...</td>\n",
       "      <td>...</td>\n",
       "      <td>...</td>\n",
       "      <td>...</td>\n",
       "      <td>...</td>\n",
       "      <td>...</td>\n",
       "      <td>...</td>\n",
       "      <td>...</td>\n",
       "      <td>...</td>\n",
       "      <td>...</td>\n",
       "      <td>...</td>\n",
       "      <td>...</td>\n",
       "      <td>...</td>\n",
       "      <td>...</td>\n",
       "      <td>...</td>\n",
       "      <td>...</td>\n",
       "    </tr>\n",
       "    <tr>\n",
       "      <th>12001</th>\n",
       "      <td>0.0</td>\n",
       "      <td>0.0</td>\n",
       "      <td>0.0</td>\n",
       "      <td>0.0</td>\n",
       "      <td>0.0</td>\n",
       "      <td>0.0</td>\n",
       "      <td>0.0</td>\n",
       "      <td>0.0</td>\n",
       "      <td>0.0</td>\n",
       "      <td>0.0</td>\n",
       "      <td>...</td>\n",
       "      <td>0.0</td>\n",
       "      <td>0.0</td>\n",
       "      <td>0.0</td>\n",
       "      <td>0.0</td>\n",
       "      <td>0.0</td>\n",
       "      <td>0.0</td>\n",
       "      <td>0.0</td>\n",
       "      <td>0.0</td>\n",
       "      <td>0.0</td>\n",
       "      <td>0.0</td>\n",
       "    </tr>\n",
       "    <tr>\n",
       "      <th>12002</th>\n",
       "      <td>0.0</td>\n",
       "      <td>0.0</td>\n",
       "      <td>0.0</td>\n",
       "      <td>0.0</td>\n",
       "      <td>0.0</td>\n",
       "      <td>0.0</td>\n",
       "      <td>0.0</td>\n",
       "      <td>0.0</td>\n",
       "      <td>0.0</td>\n",
       "      <td>0.0</td>\n",
       "      <td>...</td>\n",
       "      <td>0.0</td>\n",
       "      <td>0.0</td>\n",
       "      <td>0.0</td>\n",
       "      <td>0.0</td>\n",
       "      <td>0.0</td>\n",
       "      <td>0.0</td>\n",
       "      <td>0.0</td>\n",
       "      <td>0.0</td>\n",
       "      <td>0.0</td>\n",
       "      <td>0.0</td>\n",
       "    </tr>\n",
       "    <tr>\n",
       "      <th>12003</th>\n",
       "      <td>0.0</td>\n",
       "      <td>0.0</td>\n",
       "      <td>0.0</td>\n",
       "      <td>0.0</td>\n",
       "      <td>0.0</td>\n",
       "      <td>0.0</td>\n",
       "      <td>0.0</td>\n",
       "      <td>0.0</td>\n",
       "      <td>0.0</td>\n",
       "      <td>0.0</td>\n",
       "      <td>...</td>\n",
       "      <td>0.0</td>\n",
       "      <td>0.0</td>\n",
       "      <td>0.0</td>\n",
       "      <td>0.0</td>\n",
       "      <td>0.0</td>\n",
       "      <td>0.0</td>\n",
       "      <td>0.0</td>\n",
       "      <td>0.0</td>\n",
       "      <td>0.0</td>\n",
       "      <td>0.0</td>\n",
       "    </tr>\n",
       "    <tr>\n",
       "      <th>12004</th>\n",
       "      <td>0.0</td>\n",
       "      <td>0.0</td>\n",
       "      <td>0.0</td>\n",
       "      <td>0.0</td>\n",
       "      <td>0.0</td>\n",
       "      <td>0.0</td>\n",
       "      <td>0.0</td>\n",
       "      <td>0.0</td>\n",
       "      <td>0.0</td>\n",
       "      <td>0.0</td>\n",
       "      <td>...</td>\n",
       "      <td>0.0</td>\n",
       "      <td>0.0</td>\n",
       "      <td>0.0</td>\n",
       "      <td>0.0</td>\n",
       "      <td>0.0</td>\n",
       "      <td>0.0</td>\n",
       "      <td>0.0</td>\n",
       "      <td>0.0</td>\n",
       "      <td>0.0</td>\n",
       "      <td>0.0</td>\n",
       "    </tr>\n",
       "    <tr>\n",
       "      <th>12005</th>\n",
       "      <td>0.0</td>\n",
       "      <td>0.0</td>\n",
       "      <td>0.0</td>\n",
       "      <td>0.0</td>\n",
       "      <td>0.0</td>\n",
       "      <td>0.0</td>\n",
       "      <td>0.0</td>\n",
       "      <td>0.0</td>\n",
       "      <td>0.0</td>\n",
       "      <td>0.0</td>\n",
       "      <td>...</td>\n",
       "      <td>0.0</td>\n",
       "      <td>0.0</td>\n",
       "      <td>0.0</td>\n",
       "      <td>0.0</td>\n",
       "      <td>0.0</td>\n",
       "      <td>0.0</td>\n",
       "      <td>0.0</td>\n",
       "      <td>0.0</td>\n",
       "      <td>0.0</td>\n",
       "      <td>0.0</td>\n",
       "    </tr>\n",
       "  </tbody>\n",
       "</table>\n",
       "<p>12006 rows × 2649 columns</p>\n",
       "</div>\n",
       "      <button class=\"colab-df-convert\" onclick=\"convertToInteractive('df-5300e7e1-33b9-4982-bd46-03f9d85eb308')\"\n",
       "              title=\"Convert this dataframe to an interactive table.\"\n",
       "              style=\"display:none;\">\n",
       "        \n",
       "  <svg xmlns=\"http://www.w3.org/2000/svg\" height=\"24px\"viewBox=\"0 0 24 24\"\n",
       "       width=\"24px\">\n",
       "    <path d=\"M0 0h24v24H0V0z\" fill=\"none\"/>\n",
       "    <path d=\"M18.56 5.44l.94 2.06.94-2.06 2.06-.94-2.06-.94-.94-2.06-.94 2.06-2.06.94zm-11 1L8.5 8.5l.94-2.06 2.06-.94-2.06-.94L8.5 2.5l-.94 2.06-2.06.94zm10 10l.94 2.06.94-2.06 2.06-.94-2.06-.94-.94-2.06-.94 2.06-2.06.94z\"/><path d=\"M17.41 7.96l-1.37-1.37c-.4-.4-.92-.59-1.43-.59-.52 0-1.04.2-1.43.59L10.3 9.45l-7.72 7.72c-.78.78-.78 2.05 0 2.83L4 21.41c.39.39.9.59 1.41.59.51 0 1.02-.2 1.41-.59l7.78-7.78 2.81-2.81c.8-.78.8-2.07 0-2.86zM5.41 20L4 18.59l7.72-7.72 1.47 1.35L5.41 20z\"/>\n",
       "  </svg>\n",
       "      </button>\n",
       "      \n",
       "  <style>\n",
       "    .colab-df-container {\n",
       "      display:flex;\n",
       "      flex-wrap:wrap;\n",
       "      gap: 12px;\n",
       "    }\n",
       "\n",
       "    .colab-df-convert {\n",
       "      background-color: #E8F0FE;\n",
       "      border: none;\n",
       "      border-radius: 50%;\n",
       "      cursor: pointer;\n",
       "      display: none;\n",
       "      fill: #1967D2;\n",
       "      height: 32px;\n",
       "      padding: 0 0 0 0;\n",
       "      width: 32px;\n",
       "    }\n",
       "\n",
       "    .colab-df-convert:hover {\n",
       "      background-color: #E2EBFA;\n",
       "      box-shadow: 0px 1px 2px rgba(60, 64, 67, 0.3), 0px 1px 3px 1px rgba(60, 64, 67, 0.15);\n",
       "      fill: #174EA6;\n",
       "    }\n",
       "\n",
       "    [theme=dark] .colab-df-convert {\n",
       "      background-color: #3B4455;\n",
       "      fill: #D2E3FC;\n",
       "    }\n",
       "\n",
       "    [theme=dark] .colab-df-convert:hover {\n",
       "      background-color: #434B5C;\n",
       "      box-shadow: 0px 1px 3px 1px rgba(0, 0, 0, 0.15);\n",
       "      filter: drop-shadow(0px 1px 2px rgba(0, 0, 0, 0.3));\n",
       "      fill: #FFFFFF;\n",
       "    }\n",
       "  </style>\n",
       "\n",
       "      <script>\n",
       "        const buttonEl =\n",
       "          document.querySelector('#df-5300e7e1-33b9-4982-bd46-03f9d85eb308 button.colab-df-convert');\n",
       "        buttonEl.style.display =\n",
       "          google.colab.kernel.accessAllowed ? 'block' : 'none';\n",
       "\n",
       "        async function convertToInteractive(key) {\n",
       "          const element = document.querySelector('#df-5300e7e1-33b9-4982-bd46-03f9d85eb308');\n",
       "          const dataTable =\n",
       "            await google.colab.kernel.invokeFunction('convertToInteractive',\n",
       "                                                     [key], {});\n",
       "          if (!dataTable) return;\n",
       "\n",
       "          const docLinkHtml = 'Like what you see? Visit the ' +\n",
       "            '<a target=\"_blank\" href=https://colab.research.google.com/notebooks/data_table.ipynb>data table notebook</a>'\n",
       "            + ' to learn more about interactive tables.';\n",
       "          element.innerHTML = '';\n",
       "          dataTable['output_type'] = 'display_data';\n",
       "          await google.colab.output.renderOutput(dataTable, element);\n",
       "          const docLink = document.createElement('div');\n",
       "          docLink.innerHTML = docLinkHtml;\n",
       "          element.appendChild(docLink);\n",
       "        }\n",
       "      </script>\n",
       "    </div>\n",
       "  </div>\n",
       "  "
      ]
     },
     "metadata": {},
     "execution_count": 22
    }
   ]
  },
  {
   "cell_type": "code",
   "source": [
    "X_text_from_train, X_text_from_valid, y_from_train, y_from_valid = train_test_split(X_text, y_from, test_size=0.2, random_state=42)"
   ],
   "metadata": {
    "id": "70JMc-V9kdxT",
    "pycharm": {
     "name": "#%%\n"
    }
   },
   "execution_count": 23,
   "outputs": []
  },
  {
   "cell_type": "code",
   "source": [
    "X_text_to_train, X_text_to_valid, y_to_train, y_to_valid = train_test_split(X_text, y_to, test_size=0.2, random_state=42)"
   ],
   "metadata": {
    "id": "SK8p_wNmPQ6_",
    "pycharm": {
     "name": "#%%\n"
    }
   },
   "execution_count": 24,
   "outputs": []
  },
  {
   "cell_type": "code",
   "source": [
    "rf = RandomForestRegressor(n_estimators=300)"
   ],
   "metadata": {
    "id": "wYTF78zykfgd",
    "pycharm": {
     "name": "#%%\n"
    }
   },
   "execution_count": 146,
   "outputs": []
  },
  {
   "cell_type": "code",
   "source": [
    "rf.fit(X_text_from_train, y_from_train)"
   ],
   "metadata": {
    "colab": {
     "base_uri": "https://localhost:8080/"
    },
    "id": "LCzpHKszkpPf",
    "outputId": "1133f523-8917-4ad8-9761-3981add79a2c",
    "pycharm": {
     "name": "#%%\n"
    }
   },
   "execution_count": 147,
   "outputs": [
    {
     "output_type": "execute_result",
     "data": {
      "text/plain": [
       "RandomForestRegressor(n_estimators=300)"
      ]
     },
     "metadata": {},
     "execution_count": 147
    }
   ]
  },
  {
   "cell_type": "code",
   "source": [
    "y_from_pred = rf.predict(X_text_from_valid)"
   ],
   "metadata": {
    "id": "9tQW8p3klA4y",
    "pycharm": {
     "name": "#%%\n"
    }
   },
   "execution_count": 148,
   "outputs": []
  },
  {
   "cell_type": "code",
   "source": [
    "pd.DataFrame({'y_from_pred': y_from_pred, 'y_from_valid': y_from_valid})"
   ],
   "metadata": {
    "colab": {
     "base_uri": "https://localhost:8080/",
     "height": 423
    },
    "id": "gW86kXn0lSI5",
    "outputId": "c7ae4d1d-363c-42c3-cb92-14a0726fe23f",
    "pycharm": {
     "name": "#%%\n"
    }
   },
   "execution_count": 149,
   "outputs": [
    {
     "output_type": "execute_result",
     "data": {
      "text/plain": [
       "        y_from_pred  y_from_valid\n",
       "7740   21000.000000       21000.0\n",
       "10643   8500.000000        8500.0\n",
       "9351   24843.200000       25000.0\n",
       "7872   16946.466667       17000.0\n",
       "360    12110.833333       20800.0\n",
       "...             ...           ...\n",
       "5786   27936.533333       28000.0\n",
       "1195   24662.433333       36000.0\n",
       "7606   16140.320000       17000.0\n",
       "7628   11096.333333       11000.0\n",
       "10910   8684.333333        8600.0\n",
       "\n",
       "[2402 rows x 2 columns]"
      ],
      "text/html": [
       "\n",
       "  <div id=\"df-6c78a402-d2b4-4574-a1cb-cb254cf5c22d\">\n",
       "    <div class=\"colab-df-container\">\n",
       "      <div>\n",
       "<style scoped>\n",
       "    .dataframe tbody tr th:only-of-type {\n",
       "        vertical-align: middle;\n",
       "    }\n",
       "\n",
       "    .dataframe tbody tr th {\n",
       "        vertical-align: top;\n",
       "    }\n",
       "\n",
       "    .dataframe thead th {\n",
       "        text-align: right;\n",
       "    }\n",
       "</style>\n",
       "<table border=\"1\" class=\"dataframe\">\n",
       "  <thead>\n",
       "    <tr style=\"text-align: right;\">\n",
       "      <th></th>\n",
       "      <th>y_from_pred</th>\n",
       "      <th>y_from_valid</th>\n",
       "    </tr>\n",
       "  </thead>\n",
       "  <tbody>\n",
       "    <tr>\n",
       "      <th>7740</th>\n",
       "      <td>21000.000000</td>\n",
       "      <td>21000.0</td>\n",
       "    </tr>\n",
       "    <tr>\n",
       "      <th>10643</th>\n",
       "      <td>8500.000000</td>\n",
       "      <td>8500.0</td>\n",
       "    </tr>\n",
       "    <tr>\n",
       "      <th>9351</th>\n",
       "      <td>24843.200000</td>\n",
       "      <td>25000.0</td>\n",
       "    </tr>\n",
       "    <tr>\n",
       "      <th>7872</th>\n",
       "      <td>16946.466667</td>\n",
       "      <td>17000.0</td>\n",
       "    </tr>\n",
       "    <tr>\n",
       "      <th>360</th>\n",
       "      <td>12110.833333</td>\n",
       "      <td>20800.0</td>\n",
       "    </tr>\n",
       "    <tr>\n",
       "      <th>...</th>\n",
       "      <td>...</td>\n",
       "      <td>...</td>\n",
       "    </tr>\n",
       "    <tr>\n",
       "      <th>5786</th>\n",
       "      <td>27936.533333</td>\n",
       "      <td>28000.0</td>\n",
       "    </tr>\n",
       "    <tr>\n",
       "      <th>1195</th>\n",
       "      <td>24662.433333</td>\n",
       "      <td>36000.0</td>\n",
       "    </tr>\n",
       "    <tr>\n",
       "      <th>7606</th>\n",
       "      <td>16140.320000</td>\n",
       "      <td>17000.0</td>\n",
       "    </tr>\n",
       "    <tr>\n",
       "      <th>7628</th>\n",
       "      <td>11096.333333</td>\n",
       "      <td>11000.0</td>\n",
       "    </tr>\n",
       "    <tr>\n",
       "      <th>10910</th>\n",
       "      <td>8684.333333</td>\n",
       "      <td>8600.0</td>\n",
       "    </tr>\n",
       "  </tbody>\n",
       "</table>\n",
       "<p>2402 rows × 2 columns</p>\n",
       "</div>\n",
       "      <button class=\"colab-df-convert\" onclick=\"convertToInteractive('df-6c78a402-d2b4-4574-a1cb-cb254cf5c22d')\"\n",
       "              title=\"Convert this dataframe to an interactive table.\"\n",
       "              style=\"display:none;\">\n",
       "        \n",
       "  <svg xmlns=\"http://www.w3.org/2000/svg\" height=\"24px\"viewBox=\"0 0 24 24\"\n",
       "       width=\"24px\">\n",
       "    <path d=\"M0 0h24v24H0V0z\" fill=\"none\"/>\n",
       "    <path d=\"M18.56 5.44l.94 2.06.94-2.06 2.06-.94-2.06-.94-.94-2.06-.94 2.06-2.06.94zm-11 1L8.5 8.5l.94-2.06 2.06-.94-2.06-.94L8.5 2.5l-.94 2.06-2.06.94zm10 10l.94 2.06.94-2.06 2.06-.94-2.06-.94-.94-2.06-.94 2.06-2.06.94z\"/><path d=\"M17.41 7.96l-1.37-1.37c-.4-.4-.92-.59-1.43-.59-.52 0-1.04.2-1.43.59L10.3 9.45l-7.72 7.72c-.78.78-.78 2.05 0 2.83L4 21.41c.39.39.9.59 1.41.59.51 0 1.02-.2 1.41-.59l7.78-7.78 2.81-2.81c.8-.78.8-2.07 0-2.86zM5.41 20L4 18.59l7.72-7.72 1.47 1.35L5.41 20z\"/>\n",
       "  </svg>\n",
       "      </button>\n",
       "      \n",
       "  <style>\n",
       "    .colab-df-container {\n",
       "      display:flex;\n",
       "      flex-wrap:wrap;\n",
       "      gap: 12px;\n",
       "    }\n",
       "\n",
       "    .colab-df-convert {\n",
       "      background-color: #E8F0FE;\n",
       "      border: none;\n",
       "      border-radius: 50%;\n",
       "      cursor: pointer;\n",
       "      display: none;\n",
       "      fill: #1967D2;\n",
       "      height: 32px;\n",
       "      padding: 0 0 0 0;\n",
       "      width: 32px;\n",
       "    }\n",
       "\n",
       "    .colab-df-convert:hover {\n",
       "      background-color: #E2EBFA;\n",
       "      box-shadow: 0px 1px 2px rgba(60, 64, 67, 0.3), 0px 1px 3px 1px rgba(60, 64, 67, 0.15);\n",
       "      fill: #174EA6;\n",
       "    }\n",
       "\n",
       "    [theme=dark] .colab-df-convert {\n",
       "      background-color: #3B4455;\n",
       "      fill: #D2E3FC;\n",
       "    }\n",
       "\n",
       "    [theme=dark] .colab-df-convert:hover {\n",
       "      background-color: #434B5C;\n",
       "      box-shadow: 0px 1px 3px 1px rgba(0, 0, 0, 0.15);\n",
       "      filter: drop-shadow(0px 1px 2px rgba(0, 0, 0, 0.3));\n",
       "      fill: #FFFFFF;\n",
       "    }\n",
       "  </style>\n",
       "\n",
       "      <script>\n",
       "        const buttonEl =\n",
       "          document.querySelector('#df-6c78a402-d2b4-4574-a1cb-cb254cf5c22d button.colab-df-convert');\n",
       "        buttonEl.style.display =\n",
       "          google.colab.kernel.accessAllowed ? 'block' : 'none';\n",
       "\n",
       "        async function convertToInteractive(key) {\n",
       "          const element = document.querySelector('#df-6c78a402-d2b4-4574-a1cb-cb254cf5c22d');\n",
       "          const dataTable =\n",
       "            await google.colab.kernel.invokeFunction('convertToInteractive',\n",
       "                                                     [key], {});\n",
       "          if (!dataTable) return;\n",
       "\n",
       "          const docLinkHtml = 'Like what you see? Visit the ' +\n",
       "            '<a target=\"_blank\" href=https://colab.research.google.com/notebooks/data_table.ipynb>data table notebook</a>'\n",
       "            + ' to learn more about interactive tables.';\n",
       "          element.innerHTML = '';\n",
       "          dataTable['output_type'] = 'display_data';\n",
       "          await google.colab.output.renderOutput(dataTable, element);\n",
       "          const docLink = document.createElement('div');\n",
       "          docLink.innerHTML = docLinkHtml;\n",
       "          element.appendChild(docLink);\n",
       "        }\n",
       "      </script>\n",
       "    </div>\n",
       "  </div>\n",
       "  "
      ]
     },
     "metadata": {},
     "execution_count": 149
    }
   ]
  },
  {
   "cell_type": "code",
   "source": [
    "np.sqrt(mean_squared_error(y_from_pred, y_from_valid))"
   ],
   "metadata": {
    "colab": {
     "base_uri": "https://localhost:8080/"
    },
    "id": "3xsTf9K-lYDU",
    "outputId": "b562f8cb-7baa-4ada-ce56-e6864cda501c",
    "pycharm": {
     "name": "#%%\n"
    }
   },
   "execution_count": 150,
   "outputs": [
    {
     "output_type": "execute_result",
     "data": {
      "text/plain": [
       "1592.3523102691113"
      ]
     },
     "metadata": {},
     "execution_count": 150
    }
   ]
  },
  {
   "cell_type": "markdown",
   "source": [
    "## Try different hyperparameters"
   ],
   "metadata": {
    "id": "RrFluYQJhoQR",
    "pycharm": {
     "name": "#%% md\n"
    }
   }
  },
  {
   "cell_type": "code",
   "source": [
    "rf = RandomForestRegressor(n_estimators=100)"
   ],
   "metadata": {
    "id": "c2CiTv5kIiEi",
    "pycharm": {
     "name": "#%%\n"
    }
   },
   "execution_count": 43,
   "outputs": []
  },
  {
   "cell_type": "code",
   "source": [
    "rf.fit(X_text_from_train, y_from_train)"
   ],
   "metadata": {
    "colab": {
     "base_uri": "https://localhost:8080/"
    },
    "id": "OA-Qket7Ij0d",
    "outputId": "620d26b7-71cf-4a2a-eb38-d4ef49ae989f",
    "pycharm": {
     "name": "#%%\n"
    }
   },
   "execution_count": 44,
   "outputs": [
    {
     "output_type": "execute_result",
     "data": {
      "text/plain": [
       "RandomForestRegressor()"
      ]
     },
     "metadata": {},
     "execution_count": 44
    }
   ]
  },
  {
   "cell_type": "code",
   "source": [
    "y_from_pred = rf.predict(X_text_from_valid)"
   ],
   "metadata": {
    "id": "TmMntqXGIk8M",
    "pycharm": {
     "name": "#%%\n"
    }
   },
   "execution_count": 45,
   "outputs": []
  },
  {
   "cell_type": "code",
   "source": [
    "np.sqrt(mean_squared_error(y_from_pred, y_from_valid))"
   ],
   "metadata": {
    "colab": {
     "base_uri": "https://localhost:8080/"
    },
    "id": "n_1ywHCGImXK",
    "outputId": "262662b1-b9c9-4028-83a7-3ccfe3f7dac2",
    "pycharm": {
     "name": "#%%\n"
    }
   },
   "execution_count": 46,
   "outputs": [
    {
     "output_type": "execute_result",
     "data": {
      "text/plain": [
       "1594.64084480068"
      ]
     },
     "metadata": {},
     "execution_count": 46
    }
   ]
  },
  {
   "cell_type": "code",
   "source": [
    "rf = RandomForestRegressor(n_estimators=600)"
   ],
   "metadata": {
    "id": "TZWitf-atA9U",
    "pycharm": {
     "name": "#%%\n"
    }
   },
   "execution_count": 36,
   "outputs": []
  },
  {
   "cell_type": "code",
   "source": [
    "rf.fit(X_text_from_train, y_from_train)"
   ],
   "metadata": {
    "colab": {
     "base_uri": "https://localhost:8080/"
    },
    "id": "8jGJrzeDtCHh",
    "outputId": "624b8127-25c7-4f22-ffaf-9f5a9ad29940",
    "pycharm": {
     "name": "#%%\n"
    }
   },
   "execution_count": 37,
   "outputs": [
    {
     "output_type": "execute_result",
     "data": {
      "text/plain": [
       "RandomForestRegressor(n_estimators=600)"
      ]
     },
     "metadata": {},
     "execution_count": 37
    }
   ]
  },
  {
   "cell_type": "code",
   "source": [
    "y_from_pred = rf.predict(X_text_from_valid)"
   ],
   "metadata": {
    "id": "cV7B3R0mtDps",
    "pycharm": {
     "name": "#%%\n"
    }
   },
   "execution_count": 38,
   "outputs": []
  },
  {
   "cell_type": "code",
   "source": [
    "np.sqrt(mean_squared_error(y_from_pred, y_from_valid))"
   ],
   "metadata": {
    "colab": {
     "base_uri": "https://localhost:8080/"
    },
    "id": "R1g2oFwWtEjb",
    "outputId": "663f698a-eb62-4ebb-e6b2-0ffe9a483956",
    "pycharm": {
     "name": "#%%\n"
    }
   },
   "execution_count": 39,
   "outputs": [
    {
     "output_type": "execute_result",
     "data": {
      "text/plain": [
       "1595.1121120359387"
      ]
     },
     "metadata": {},
     "execution_count": 39
    }
   ]
  },
  {
   "cell_type": "code",
   "source": [
    "rf = RandomForestRegressor(n_estimators=1000)"
   ],
   "metadata": {
    "id": "aEEDCEFjeWfO",
    "pycharm": {
     "name": "#%%\n"
    }
   },
   "execution_count": 21,
   "outputs": []
  },
  {
   "cell_type": "code",
   "source": [
    "rf.fit(X_text_from_train, y_from_train)"
   ],
   "metadata": {
    "colab": {
     "base_uri": "https://localhost:8080/"
    },
    "id": "pZilDIXmhKnX",
    "outputId": "ae906479-46aa-4f21-bfe9-ef7ef778a31c",
    "pycharm": {
     "name": "#%%\n"
    }
   },
   "execution_count": 22,
   "outputs": [
    {
     "output_type": "execute_result",
     "data": {
      "text/plain": [
       "RandomForestRegressor(n_estimators=1000)"
      ]
     },
     "metadata": {},
     "execution_count": 22
    }
   ]
  },
  {
   "cell_type": "code",
   "source": [
    "y_from_pred = rf.predict(X_text_from_valid)"
   ],
   "metadata": {
    "id": "ImiP80oUhOJU",
    "pycharm": {
     "name": "#%%\n"
    }
   },
   "execution_count": 23,
   "outputs": []
  },
  {
   "cell_type": "code",
   "source": [
    "# overfits\n",
    "np.sqrt(mean_squared_error(y_from_pred, y_from_valid))"
   ],
   "metadata": {
    "colab": {
     "base_uri": "https://localhost:8080/"
    },
    "id": "YRayk-4YhnnL",
    "outputId": "fc5e0966-d109-4e0c-d225-b391125854a9",
    "pycharm": {
     "name": "#%%\n"
    }
   },
   "execution_count": 24,
   "outputs": [
    {
     "output_type": "execute_result",
     "data": {
      "text/plain": [
       "1600.7506888724788"
      ]
     },
     "metadata": {},
     "execution_count": 24
    }
   ]
  },
  {
   "cell_type": "markdown",
   "source": [
    "## Tune hyperparams"
   ],
   "metadata": {
    "id": "mEDY4n5J1xBn",
    "pycharm": {
     "name": "#%% md\n"
    }
   }
  },
  {
   "cell_type": "code",
   "source": [
    "rf = RandomForestRegressor()"
   ],
   "metadata": {
    "id": "rBzURZYx3hys",
    "pycharm": {
     "name": "#%%\n"
    }
   },
   "execution_count": 25,
   "outputs": []
  },
  {
   "cell_type": "code",
   "source": [
    "grid = {'max_depth': [10, 20, 30, 40, 50, 60, 70, 80, 90, 100, None],\n",
    " 'max_features': ['auto', 'sqrt'],\n",
    " 'min_samples_leaf': [1, 2, 4],\n",
    " 'min_samples_split': [2, 5, 10],\n",
    " 'n_estimators': [100, 200, 300]}"
   ],
   "metadata": {
    "id": "OVtIJpty1yZb",
    "pycharm": {
     "name": "#%%\n"
    }
   },
   "execution_count": 29,
   "outputs": []
  },
  {
   "cell_type": "code",
   "source": [
    "rf_random = RandomizedSearchCV(estimator = rf, param_distributions = grid, n_iter = 20, cv = 5, random_state=42, n_jobs = -1)"
   ],
   "metadata": {
    "id": "Hj71AGD43aE_",
    "pycharm": {
     "name": "#%%\n"
    }
   },
   "execution_count": 39,
   "outputs": []
  },
  {
   "cell_type": "code",
   "source": [
    "rf_random.fit(X_text, y_from)"
   ],
   "metadata": {
    "colab": {
     "base_uri": "https://localhost:8080/"
    },
    "id": "Y3JElcjv3qSc",
    "outputId": "2f9c5314-711f-4f2f-89b0-f291706c4034",
    "pycharm": {
     "name": "#%%\n"
    }
   },
   "execution_count": 41,
   "outputs": [
    {
     "output_type": "execute_result",
     "data": {
      "text/plain": [
       "RandomizedSearchCV(cv=5,\n",
       "                   estimator=RandomForestRegressor(max_depth=70,\n",
       "                                                   max_features='sqrt',\n",
       "                                                   n_estimators=300),\n",
       "                   n_iter=20, n_jobs=-1,\n",
       "                   param_distributions={'max_depth': [10, 20, 30, 40, 50, 60,\n",
       "                                                      70, 80, 90, 100, None],\n",
       "                                        'max_features': ['auto', 'sqrt'],\n",
       "                                        'min_samples_leaf': [1, 2, 4],\n",
       "                                        'min_samples_split': [2, 5, 10],\n",
       "                                        'n_estimators': [100, 200, 300]},\n",
       "                   random_state=42)"
      ]
     },
     "metadata": {},
     "execution_count": 41
    }
   ]
  },
  {
   "cell_type": "code",
   "source": [
    "rf_random.best_params_"
   ],
   "metadata": {
    "colab": {
     "base_uri": "https://localhost:8080/"
    },
    "id": "cAJ8Q-N43y1F",
    "outputId": "29e6c100-5578-4cd8-c322-95a0fb055007",
    "pycharm": {
     "name": "#%%\n"
    }
   },
   "execution_count": 42,
   "outputs": [
    {
     "output_type": "execute_result",
     "data": {
      "text/plain": [
       "{'n_estimators': 300,\n",
       " 'min_samples_split': 5,\n",
       " 'min_samples_leaf': 1,\n",
       " 'max_features': 'sqrt',\n",
       " 'max_depth': 90}"
      ]
     },
     "metadata": {},
     "execution_count": 42
    }
   ]
  },
  {
   "cell_type": "code",
   "source": [
    "rf_best = rf_random.best_estimator_"
   ],
   "metadata": {
    "id": "LXRzMTzSDGWE",
    "pycharm": {
     "name": "#%%\n"
    }
   },
   "execution_count": 47,
   "outputs": []
  },
  {
   "cell_type": "code",
   "source": [
    "y_from_pred = rf_best.predict(X_text_from_valid)"
   ],
   "metadata": {
    "id": "Uc9eue9ZDfAc",
    "pycharm": {
     "name": "#%%\n"
    }
   },
   "execution_count": 48,
   "outputs": []
  },
  {
   "cell_type": "code",
   "source": [
    "np.sqrt(mean_squared_error(y_from_pred, y_from_valid))"
   ],
   "metadata": {
    "colab": {
     "base_uri": "https://localhost:8080/"
    },
    "id": "SEjZRCixJ9pG",
    "outputId": "a7d7abdb-89fb-40e6-f314-40875036c925",
    "pycharm": {
     "name": "#%%\n"
    }
   },
   "execution_count": 49,
   "outputs": [
    {
     "output_type": "execute_result",
     "data": {
      "text/plain": [
       "702.5530263271226"
      ]
     },
     "metadata": {},
     "execution_count": 49
    }
   ]
  },
  {
   "cell_type": "code",
   "source": [
    "params = {'n_estimators': 300,\n",
    " 'min_samples_split': 5,\n",
    " 'min_samples_leaf': 1,\n",
    " 'max_features': 'sqrt',\n",
    " 'max_depth': 90}"
   ],
   "metadata": {
    "id": "MYBqWImLYx7R",
    "pycharm": {
     "name": "#%%\n"
    }
   },
   "execution_count": 43,
   "outputs": []
  },
  {
   "cell_type": "code",
   "source": [
    "rf = RandomForestRegressor(**params)"
   ],
   "metadata": {
    "id": "ulinuOtQYudI",
    "pycharm": {
     "name": "#%%\n"
    }
   },
   "execution_count": 44,
   "outputs": []
  },
  {
   "cell_type": "code",
   "source": [
    "rf.fit(X_text_from_train, y_from_train)"
   ],
   "metadata": {
    "colab": {
     "base_uri": "https://localhost:8080/"
    },
    "id": "rGHpl_EeJ_vl",
    "outputId": "347032f3-ad07-4f7e-92aa-ea3ef0bcd4ab",
    "pycharm": {
     "name": "#%%\n"
    }
   },
   "execution_count": 45,
   "outputs": [
    {
     "output_type": "execute_result",
     "data": {
      "text/plain": [
       "RandomForestRegressor(max_depth=90, max_features='sqrt', min_samples_split=5,\n",
       "                      n_estimators=300)"
      ]
     },
     "metadata": {},
     "execution_count": 45
    }
   ]
  },
  {
   "cell_type": "code",
   "source": [
    "y_from_pred = rf.predict(X_text_from_valid)"
   ],
   "metadata": {
    "id": "qJNRUD1nKJoF",
    "pycharm": {
     "name": "#%%\n"
    }
   },
   "execution_count": 46,
   "outputs": []
  },
  {
   "cell_type": "code",
   "source": [
    "np.sqrt(mean_squared_error(y_from_pred, y_from_valid))"
   ],
   "metadata": {
    "colab": {
     "base_uri": "https://localhost:8080/"
    },
    "id": "RpqUDJl9YoKN",
    "outputId": "e1554377-e759-4936-9bc2-f5df96cc9f2e",
    "pycharm": {
     "name": "#%%\n"
    }
   },
   "execution_count": 47,
   "outputs": [
    {
     "output_type": "execute_result",
     "data": {
      "text/plain": [
       "1629.6816747515322"
      ]
     },
     "metadata": {},
     "execution_count": 47
    }
   ]
  },
  {
   "cell_type": "code",
   "source": [],
   "metadata": {
    "id": "4V1RtE0iYpS4",
    "pycharm": {
     "name": "#%%\n"
    }
   },
   "execution_count": null,
   "outputs": []
  }
 ]
}