{
 "cells": [
  {
   "cell_type": "markdown",
   "id": "6751cb56",
   "metadata": {
    "_uuid": "945c0f151b28ca53b79e0f7cf5b107af959a3370",
    "papermill": {
     "duration": 0.034588,
     "end_time": "2021-09-15T08:53:26.506502",
     "exception": false,
     "start_time": "2021-09-15T08:53:26.471914",
     "status": "completed"
    },
    "tags": []
   },
   "source": [
    "<center>\n",
    "<img src=\"https://habrastorage.org/webt/ia/m9/zk/iam9zkyzqebnf_okxipihkgjwnw.jpeg\">\n",
    "\n",
    "## [mlcourse.ai](https://mlcourse.ai) - Open Machine Learning Course\n",
    "    \n",
    "Authors: [Ilya Baryshnikov](https://www.linkedin.com/in/baryshnikov-ilya/), [Maxim Uvarov](https://www.linkedin.com/in/maxis42/), and [Yury Kashnitsky](https://yorko.github.io). Translated and edited by [Inga Kaydanova](https://www.linkedin.com/in/inga-kaidanova-a92398b1/), [Egor Polusmak](https://www.linkedin.com/in/egor-polusmak/), [Anastasia Manokhina](https://www.linkedin.com/in/anastasiamanokhina/), and [Yuanyuan Pao](https://www.linkedin.com/in/yuanyuanpao/). This material is subject to the terms and conditions of the [Creative Commons CC BY-NC-SA 4.0](https://creativecommons.org/licenses/by-nc-sa/4.0/) license. Free use is permitted for any non-commercial purpose."
   ]
  },
  {
   "cell_type": "markdown",
   "id": "cb6ae913",
   "metadata": {
    "_uuid": "66409c8728e75df39a1390bcb634ae50c6b37652",
    "papermill": {
     "duration": 0.032864,
     "end_time": "2021-09-15T08:53:26.574613",
     "exception": false,
     "start_time": "2021-09-15T08:53:26.541749",
     "status": "completed"
    },
    "tags": []
   },
   "source": [
    "# <center>Assignment #2 (demo)\n",
    "## <center>Analyzing cardiovascular disease data "
   ]
  },
  {
   "cell_type": "markdown",
   "id": "d95642eb",
   "metadata": {
    "_uuid": "5cea59b8adb04c5a07a32c5b70a829319ba0cf2a",
    "papermill": {
     "duration": 0.032734,
     "end_time": "2021-09-15T08:53:26.640342",
     "exception": false,
     "start_time": "2021-09-15T08:53:26.607608",
     "status": "completed"
    },
    "tags": []
   },
   "source": [
    "In this assignment, you will answer questions about a dataset on cardiovascular disease. You do not need to download the data: it is already in the repository. There are some Tasks that will require you to write code. Complete them and then answer the questions in the [form](https://docs.google.com/forms/d/13cE_tSIb6hsScQvvWUJeu1MEHE5L6vnxQUbDYpXsf24). \n",
    "\n",
    "#### Problem\n",
    "\n",
    "Predict the presence or absence of cardiovascular disease (CVD) using the patient examination results.\n",
    "\n",
    "#### Data description\n",
    "\n",
    "There are 3 types of input features:\n",
    "\n",
    "- *Objective*: factual information;\n",
    "- *Examination*: results of medical examination;\n",
    "- *Subjective*: information given by the patient.\n",
    "\n",
    "| Feature | Variable Type | Variable      | Value Type |\n",
    "|---------|--------------|---------------|------------|\n",
    "| Age | Objective Feature | age | int (days) |\n",
    "| Height | Objective Feature | height | int (cm) |\n",
    "| Weight | Objective Feature | weight | float (kg) |\n",
    "| Gender | Objective Feature | gender | categorical code |\n",
    "| Systolic blood pressure | Examination Feature | ap_hi | int |\n",
    "| Diastolic blood pressure | Examination Feature | ap_lo | int |\n",
    "| Cholesterol | Examination Feature | cholesterol | 1: normal, 2: above normal, 3: well above normal |\n",
    "| Glucose | Examination Feature | gluc | 1: normal, 2: above normal, 3: well above normal |\n",
    "| Smoking | Subjective Feature | smoke | binary |\n",
    "| Alcohol intake | Subjective Feature | alco | binary |\n",
    "| Physical activity | Subjective Feature | active | binary |\n",
    "| Presence or absence of cardiovascular disease | Target Variable | cardio | binary |\n",
    "\n",
    "All of the dataset values were collected at the moment of medical examination."
   ]
  },
  {
   "cell_type": "markdown",
   "id": "eed671b1",
   "metadata": {
    "_uuid": "10749a7f9b46749e3a90ff697bc298760045c333",
    "papermill": {
     "duration": 0.032494,
     "end_time": "2021-09-15T08:53:26.706345",
     "exception": false,
     "start_time": "2021-09-15T08:53:26.673851",
     "status": "completed"
    },
    "tags": []
   },
   "source": [
    "Let's get to know our data by performing a preliminary data analysis.\n",
    "\n",
    "#  Part 1. Preliminary data analysis\n",
    "\n",
    "First, we will initialize the environment:"
   ]
  },
  {
   "cell_type": "code",
   "execution_count": 1,
   "id": "b7d46c2c",
   "metadata": {
    "_uuid": "85426734e890fcf72416f29a953da115c1171080",
    "execution": {
     "iopub.execute_input": "2021-09-15T08:53:26.776656Z",
     "iopub.status.busy": "2021-09-15T08:53:26.775525Z",
     "iopub.status.idle": "2021-09-15T08:53:27.624028Z",
     "shell.execute_reply": "2021-09-15T08:53:27.623247Z",
     "shell.execute_reply.started": "2021-09-15T08:51:55.232004Z"
    },
    "papermill": {
     "duration": 0.885393,
     "end_time": "2021-09-15T08:53:27.624195",
     "exception": false,
     "start_time": "2021-09-15T08:53:26.738802",
     "status": "completed"
    },
    "tags": []
   },
   "outputs": [],
   "source": [
    "# Import all required modules\n",
    "import pandas as pd\n",
    "import numpy as np\n",
    "\n",
    "# Disable warnings\n",
    "import warnings\n",
    "warnings.filterwarnings(\"ignore\")\n",
    "\n",
    "# Import plotting modules\n",
    "import seaborn as sns\n",
    "sns.set()\n",
    "import matplotlib\n",
    "import matplotlib.pyplot as plt\n",
    "import matplotlib.ticker\n",
    "%matplotlib inline"
   ]
  },
  {
   "cell_type": "markdown",
   "id": "92825d5a",
   "metadata": {
    "_uuid": "cbcf821e4bea8a7f7fb1ee4a9bf285b6c4b588ee",
    "papermill": {
     "duration": 0.034202,
     "end_time": "2021-09-15T08:53:27.692741",
     "exception": false,
     "start_time": "2021-09-15T08:53:27.658539",
     "status": "completed"
    },
    "tags": []
   },
   "source": [
    "You will use the `seaborn` library for visual analysis, so let's set that up too:"
   ]
  },
  {
   "cell_type": "code",
   "execution_count": 2,
   "id": "6c49990f",
   "metadata": {
    "_uuid": "b33601a0cadc2fb2d92f211c31bf99a502f71d48",
    "execution": {
     "iopub.execute_input": "2021-09-15T08:53:27.765988Z",
     "iopub.status.busy": "2021-09-15T08:53:27.765355Z",
     "iopub.status.idle": "2021-09-15T08:53:27.768169Z",
     "shell.execute_reply": "2021-09-15T08:53:27.768582Z",
     "shell.execute_reply.started": "2021-09-15T08:51:56.110603Z"
    },
    "papermill": {
     "duration": 0.042459,
     "end_time": "2021-09-15T08:53:27.768757",
     "exception": false,
     "start_time": "2021-09-15T08:53:27.726298",
     "status": "completed"
    },
    "tags": []
   },
   "outputs": [],
   "source": [
    "# Tune the visual settings for figures in `seaborn`\n",
    "sns.set_context(\n",
    "    \"notebook\", \n",
    "    font_scale=1.5,       \n",
    "    rc={ \n",
    "        \"figure.figsize\": (11, 8), \n",
    "        \"axes.titlesize\": 18 \n",
    "    }\n",
    ")\n",
    "\n",
    "from matplotlib import rcParams\n",
    "rcParams['figure.figsize'] = 11, 8"
   ]
  },
  {
   "cell_type": "markdown",
   "id": "9df652fb",
   "metadata": {
    "_uuid": "89381351e4b95530b355e0e55bc4536c0a813d10",
    "papermill": {
     "duration": 0.033161,
     "end_time": "2021-09-15T08:53:27.834986",
     "exception": false,
     "start_time": "2021-09-15T08:53:27.801825",
     "status": "completed"
    },
    "tags": []
   },
   "source": [
    "To make it simple, we will work only with the training part of the dataset:"
   ]
  },
  {
   "cell_type": "code",
   "execution_count": 3,
   "id": "2239142b",
   "metadata": {
    "_uuid": "2bd0005e660693a061577ca5244b48ccebf36719",
    "execution": {
     "iopub.execute_input": "2021-09-15T08:53:27.909323Z",
     "iopub.status.busy": "2021-09-15T08:53:27.908442Z",
     "iopub.status.idle": "2021-09-15T08:53:28.066530Z",
     "shell.execute_reply": "2021-09-15T08:53:28.067263Z",
     "shell.execute_reply.started": "2021-09-15T08:51:56.117783Z"
    },
    "papermill": {
     "duration": 0.197688,
     "end_time": "2021-09-15T08:53:28.067487",
     "exception": false,
     "start_time": "2021-09-15T08:53:27.869799",
     "status": "completed"
    },
    "tags": []
   },
   "outputs": [
    {
     "name": "stdout",
     "output_type": "stream",
     "text": [
      "Dataset size:  (70000, 13)\n"
     ]
    },
    {
     "data": {
      "text/html": [
       "<div>\n",
       "<style scoped>\n",
       "    .dataframe tbody tr th:only-of-type {\n",
       "        vertical-align: middle;\n",
       "    }\n",
       "\n",
       "    .dataframe tbody tr th {\n",
       "        vertical-align: top;\n",
       "    }\n",
       "\n",
       "    .dataframe thead th {\n",
       "        text-align: right;\n",
       "    }\n",
       "</style>\n",
       "<table border=\"1\" class=\"dataframe\">\n",
       "  <thead>\n",
       "    <tr style=\"text-align: right;\">\n",
       "      <th></th>\n",
       "      <th>id</th>\n",
       "      <th>age</th>\n",
       "      <th>gender</th>\n",
       "      <th>height</th>\n",
       "      <th>weight</th>\n",
       "      <th>ap_hi</th>\n",
       "      <th>ap_lo</th>\n",
       "      <th>cholesterol</th>\n",
       "      <th>gluc</th>\n",
       "      <th>smoke</th>\n",
       "      <th>alco</th>\n",
       "      <th>active</th>\n",
       "      <th>cardio</th>\n",
       "    </tr>\n",
       "  </thead>\n",
       "  <tbody>\n",
       "    <tr>\n",
       "      <th>0</th>\n",
       "      <td>0</td>\n",
       "      <td>18393</td>\n",
       "      <td>2</td>\n",
       "      <td>168</td>\n",
       "      <td>62.0</td>\n",
       "      <td>110</td>\n",
       "      <td>80</td>\n",
       "      <td>1</td>\n",
       "      <td>1</td>\n",
       "      <td>0</td>\n",
       "      <td>0</td>\n",
       "      <td>1</td>\n",
       "      <td>0</td>\n",
       "    </tr>\n",
       "    <tr>\n",
       "      <th>1</th>\n",
       "      <td>1</td>\n",
       "      <td>20228</td>\n",
       "      <td>1</td>\n",
       "      <td>156</td>\n",
       "      <td>85.0</td>\n",
       "      <td>140</td>\n",
       "      <td>90</td>\n",
       "      <td>3</td>\n",
       "      <td>1</td>\n",
       "      <td>0</td>\n",
       "      <td>0</td>\n",
       "      <td>1</td>\n",
       "      <td>1</td>\n",
       "    </tr>\n",
       "    <tr>\n",
       "      <th>2</th>\n",
       "      <td>2</td>\n",
       "      <td>18857</td>\n",
       "      <td>1</td>\n",
       "      <td>165</td>\n",
       "      <td>64.0</td>\n",
       "      <td>130</td>\n",
       "      <td>70</td>\n",
       "      <td>3</td>\n",
       "      <td>1</td>\n",
       "      <td>0</td>\n",
       "      <td>0</td>\n",
       "      <td>0</td>\n",
       "      <td>1</td>\n",
       "    </tr>\n",
       "    <tr>\n",
       "      <th>3</th>\n",
       "      <td>3</td>\n",
       "      <td>17623</td>\n",
       "      <td>2</td>\n",
       "      <td>169</td>\n",
       "      <td>82.0</td>\n",
       "      <td>150</td>\n",
       "      <td>100</td>\n",
       "      <td>1</td>\n",
       "      <td>1</td>\n",
       "      <td>0</td>\n",
       "      <td>0</td>\n",
       "      <td>1</td>\n",
       "      <td>1</td>\n",
       "    </tr>\n",
       "    <tr>\n",
       "      <th>4</th>\n",
       "      <td>4</td>\n",
       "      <td>17474</td>\n",
       "      <td>1</td>\n",
       "      <td>156</td>\n",
       "      <td>56.0</td>\n",
       "      <td>100</td>\n",
       "      <td>60</td>\n",
       "      <td>1</td>\n",
       "      <td>1</td>\n",
       "      <td>0</td>\n",
       "      <td>0</td>\n",
       "      <td>0</td>\n",
       "      <td>0</td>\n",
       "    </tr>\n",
       "  </tbody>\n",
       "</table>\n",
       "</div>"
      ],
      "text/plain": [
       "   id    age  gender  height  weight  ap_hi  ap_lo  cholesterol  gluc  smoke  \\\n",
       "0   0  18393       2     168    62.0    110     80            1     1      0   \n",
       "1   1  20228       1     156    85.0    140     90            3     1      0   \n",
       "2   2  18857       1     165    64.0    130     70            3     1      0   \n",
       "3   3  17623       2     169    82.0    150    100            1     1      0   \n",
       "4   4  17474       1     156    56.0    100     60            1     1      0   \n",
       "\n",
       "   alco  active  cardio  \n",
       "0     0       1       0  \n",
       "1     0       1       1  \n",
       "2     0       0       1  \n",
       "3     0       1       1  \n",
       "4     0       0       0  "
      ]
     },
     "execution_count": 3,
     "metadata": {},
     "output_type": "execute_result"
    }
   ],
   "source": [
    "df = pd.read_csv('../input/mlbootcamp5_train.csv')\n",
    "print('Dataset size: ', df.shape)\n",
    "df.head()"
   ]
  },
  {
   "cell_type": "markdown",
   "id": "03c40503",
   "metadata": {
    "_uuid": "636bf459023fbc1d1f1b73863c5246397dc26e6d",
    "papermill": {
     "duration": 0.035295,
     "end_time": "2021-09-15T08:53:28.139661",
     "exception": false,
     "start_time": "2021-09-15T08:53:28.104366",
     "status": "completed"
    },
    "tags": []
   },
   "source": [
    "It would be instructive to peek into the values of our variables.\n",
    " \n",
    "Let's convert the data into *long* format and depict the value counts of the categorical features using [`factorplot()`](https://seaborn.pydata.org/generated/seaborn.factorplot.html)."
   ]
  },
  {
   "cell_type": "code",
   "execution_count": 4,
   "id": "8e5fd9ab",
   "metadata": {
    "_uuid": "334ad6a83e7bb58f2c65ec512bfc401a0948c17a",
    "execution": {
     "iopub.execute_input": "2021-09-15T08:53:28.226604Z",
     "iopub.status.busy": "2021-09-15T08:53:28.225927Z",
     "iopub.status.idle": "2021-09-15T08:53:29.037966Z",
     "shell.execute_reply": "2021-09-15T08:53:29.038442Z",
     "shell.execute_reply.started": "2021-09-15T08:51:56.300124Z"
    },
    "papermill": {
     "duration": 0.864083,
     "end_time": "2021-09-15T08:53:29.038599",
     "exception": false,
     "start_time": "2021-09-15T08:53:28.174516",
     "status": "completed"
    },
    "tags": []
   },
   "outputs": [
    {
     "data": {
      "image/png": "[encoded data removed]",
      "text/plain": [
       "<Figure size 933.9x864 with 1 Axes>"
      ]
     },
     "metadata": {
      "needs_background": "light"
     },
     "output_type": "display_data"
    }
   ],
   "source": [
    "df_uniques = pd.melt(frame=df, value_vars=['gender','cholesterol', \n",
    "                                           'gluc', 'smoke', 'alco', \n",
    "                                           'active', 'cardio'])\n",
    "df_uniques = pd.DataFrame(df_uniques.groupby(['variable', \n",
    "                                              'value'])['value'].count()) \\\n",
    "    .sort_index(level=[0, 1]) \\\n",
    "    .rename(columns={'value': 'count'}) \\\n",
    "    .reset_index()\n",
    "\n",
    "sns.factorplot(x='variable', y='count', hue='value', \n",
    "               data=df_uniques, kind='bar', size=12);"
   ]
  },
  {
   "cell_type": "markdown",
   "id": "77ad0b07",
   "metadata": {
    "_uuid": "cb94ec9ddf78c607cdec5536581b8ec4004ac16b",
    "papermill": {
     "duration": 0.035796,
     "end_time": "2021-09-15T08:53:29.110213",
     "exception": false,
     "start_time": "2021-09-15T08:53:29.074417",
     "status": "completed"
    },
    "tags": []
   },
   "source": [
    "We can see that the target classes are balanced. That's great!\n",
    "\n",
    "Let's split the dataset by target values. Can you already spot the most significant feature by just looking at the plot?"
   ]
  },
  {
   "cell_type": "code",
   "execution_count": 5,
   "id": "10488f11",
   "metadata": {
    "_uuid": "a712d76f8c11588a9aebd4be6a00f01c53a8d80a",
    "execution": {
     "iopub.execute_input": "2021-09-15T08:53:29.192637Z",
     "iopub.status.busy": "2021-09-15T08:53:29.191975Z",
     "iopub.status.idle": "2021-09-15T08:53:30.285979Z",
     "shell.execute_reply": "2021-09-15T08:53:30.286488Z",
     "shell.execute_reply.started": "2021-09-15T08:51:57.039619Z"
    },
    "papermill": {
     "duration": 1.141105,
     "end_time": "2021-09-15T08:53:30.286656",
     "exception": false,
     "start_time": "2021-09-15T08:53:29.145551",
     "status": "completed"
    },
    "tags": []
   },
   "outputs": [
    {
     "data": {
      "image/png": "[encoded data removed]",
      "text/plain": [
       "<Figure size 1365.9x648 with 2 Axes>"
      ]
     },
     "metadata": {
      "needs_background": "light"
     },
     "output_type": "display_data"
    }
   ],
   "source": [
    "df_uniques = pd.melt(frame=df, value_vars=['gender','cholesterol', \n",
    "                                           'gluc', 'smoke', 'alco', \n",
    "                                           'active'], \n",
    "                     id_vars=['cardio'])\n",
    "df_uniques = pd.DataFrame(df_uniques.groupby(['variable', 'value', \n",
    "                                              'cardio'])['value'].count()) \\\n",
    "    .sort_index(level=[0, 1]) \\\n",
    "    .rename(columns={'value': 'count'}) \\\n",
    "    .reset_index()\n",
    "\n",
    "sns.factorplot(x='variable', y='count', hue='value', \n",
    "               col='cardio', data=df_uniques, kind='bar', size=9);"
   ]
  },
  {
   "cell_type": "markdown",
   "id": "aaf77dfe",
   "metadata": {
    "_uuid": "4f4fdb7b979c6594b3060a0b80473fabbdf6acd0",
    "papermill": {
     "duration": 0.037078,
     "end_time": "2021-09-15T08:53:30.361220",
     "exception": false,
     "start_time": "2021-09-15T08:53:30.324142",
     "status": "completed"
    },
    "tags": []
   },
   "source": [
    "You can see that the distribution of cholesterol and glucose levels great differs by the value of the target variable. Is this a coincidence?\n",
    "\n",
    "Now, let's calculate some statistics for the feature unique values:"
   ]
  },
  {
   "cell_type": "code",
   "execution_count": 6,
   "id": "0badd728",
   "metadata": {
    "_uuid": "e9cbba719f93f6b544567638be7332b7385fc715",
    "execution": {
     "iopub.execute_input": "2021-09-15T08:53:30.438093Z",
     "iopub.status.busy": "2021-09-15T08:53:30.437478Z",
     "iopub.status.idle": "2021-09-15T08:53:30.463932Z",
     "shell.execute_reply": "2021-09-15T08:53:30.464520Z",
     "shell.execute_reply.started": "2021-09-15T08:51:58.052692Z"
    },
    "papermill": {
     "duration": 0.066566,
     "end_time": "2021-09-15T08:53:30.464701",
     "exception": false,
     "start_time": "2021-09-15T08:53:30.398135",
     "status": "completed"
    },
    "tags": []
   },
   "outputs": [
    {
     "name": "stdout",
     "output_type": "stream",
     "text": [
      "id\n",
      "70000\n",
      "----------\n",
      "age\n",
      "8076\n",
      "----------\n",
      "gender\n",
      "2 [(1, 45530), (2, 24470)]\n",
      "----------\n",
      "height\n",
      "109\n",
      "----------\n",
      "weight\n",
      "287\n",
      "----------\n",
      "ap_hi\n",
      "153\n",
      "----------\n",
      "ap_lo\n",
      "157\n",
      "----------\n",
      "cholesterol\n",
      "3 [(1, 52385), (2, 9549), (3, 8066)]\n",
      "----------\n",
      "gluc\n",
      "3 [(1, 59479), (2, 5190), (3, 5331)]\n",
      "----------\n",
      "smoke\n",
      "2 [(0, 63831), (1, 6169)]\n",
      "----------\n",
      "alco\n",
      "2 [(0, 66236), (1, 3764)]\n",
      "----------\n",
      "active\n",
      "2 [(0, 13739), (1, 56261)]\n",
      "----------\n",
      "cardio\n",
      "2 [(0, 35021), (1, 34979)]\n",
      "----------\n"
     ]
    }
   ],
   "source": [
    "for c in df.columns:\n",
    "    n = df[c].nunique()\n",
    "    print(c)\n",
    "    if n <= 3:\n",
    "        print(n, sorted(df[c].value_counts().to_dict().items()))\n",
    "    else:\n",
    "        print(n)\n",
    "    print(10 * '-')"
   ]
  },
  {
   "cell_type": "markdown",
   "id": "d4dba448",
   "metadata": {
    "_uuid": "53507160b237077bf8b19fb987b910669c04ba8b",
    "papermill": {
     "duration": 0.035957,
     "end_time": "2021-09-15T08:53:30.537381",
     "exception": false,
     "start_time": "2021-09-15T08:53:30.501424",
     "status": "completed"
    },
    "tags": []
   },
   "source": [
    "In the end, we have:\n",
    "- 5 numerical features (excluding *id*);\n",
    "- 7 categorical features;\n",
    "- 70000 records in total."
   ]
  },
  {
   "cell_type": "markdown",
   "id": "657833e4",
   "metadata": {
    "_uuid": "5f9dc83567c83c1ab2eeb4b855d3f8460c1a735e",
    "papermill": {
     "duration": 0.036425,
     "end_time": "2021-09-15T08:53:30.610498",
     "exception": false,
     "start_time": "2021-09-15T08:53:30.574073",
     "status": "completed"
    },
    "tags": []
   },
   "source": [
    "## 1.1. Basic observations"
   ]
  },
  {
   "cell_type": "markdown",
   "id": "4a1093b1",
   "metadata": {
    "_uuid": "129e6509399146154e8c7e293a2fd11f5d267fa4",
    "papermill": {
     "duration": 0.037476,
     "end_time": "2021-09-15T08:53:30.685337",
     "exception": false,
     "start_time": "2021-09-15T08:53:30.647861",
     "status": "completed"
    },
    "tags": []
   },
   "source": [
    "**Question 1.1. (1 point). How many men and women are present in this dataset? Values of the `gender` feature were not given (whether \"1\" stands for women or for men) – figure this out by looking analyzing height, making the assumption that men are taller on average. **\n",
    "1. 45530 women and 24470 men\n",
    "2. 45530 men and 24470 women\n",
    "3. 45470 women and 24530 men\n",
    "4. 45470 men and 24530 women"
   ]
  },
  {
   "cell_type": "markdown",
   "id": "3ff4db3c",
   "metadata": {
    "papermill": {
     "duration": 0.036871,
     "end_time": "2021-09-15T08:53:30.759283",
     "exception": false,
     "start_time": "2021-09-15T08:53:30.722412",
     "status": "completed"
    },
    "tags": []
   },
   "source": [
    "Answer is 1 \\\n",
    "(Man is 2, Woman is 1)."
   ]
  },
  {
   "cell_type": "code",
   "execution_count": 7,
   "id": "e5d63421",
   "metadata": {
    "execution": {
     "iopub.execute_input": "2021-09-15T08:53:30.841619Z",
     "iopub.status.busy": "2021-09-15T08:53:30.840912Z",
     "iopub.status.idle": "2021-09-15T08:53:31.219948Z",
     "shell.execute_reply": "2021-09-15T08:53:31.219371Z",
     "shell.execute_reply.started": "2021-09-15T08:51:58.084290Z"
    },
    "papermill": {
     "duration": 0.421192,
     "end_time": "2021-09-15T08:53:31.220109",
     "exception": false,
     "start_time": "2021-09-15T08:53:30.798917",
     "status": "completed"
    },
    "tags": []
   },
   "outputs": [
    {
     "data": {
      "text/plain": [
       "gender\n",
       "1    161.355612\n",
       "2    169.947895\n",
       "Name: height, dtype: float64"
      ]
     },
     "execution_count": 7,
     "metadata": {},
     "output_type": "execute_result"
    },
    {
     "data": {
      "image/png": "[encoded data removed]",
      "text/plain": [
       "<Figure size 792x576 with 1 Axes>"
      ]
     },
     "metadata": {
      "needs_background": "light"
     },
     "output_type": "display_data"
    }
   ],
   "source": [
    "df['gender'].value_counts()\n",
    "sns.boxplot(x='gender', y='height', data=df)\n",
    "df.groupby('gender')['height'].mean()"
   ]
  },
  {
   "cell_type": "markdown",
   "id": "ce855482",
   "metadata": {
    "_uuid": "d6b36cf91cd63fcce92c4177475820bd6b94ec89",
    "papermill": {
     "duration": 0.038449,
     "end_time": "2021-09-15T08:53:31.297573",
     "exception": false,
     "start_time": "2021-09-15T08:53:31.259124",
     "status": "completed"
    },
    "tags": []
   },
   "source": [
    "**Question 1.2. (1 point). Which gender more often reports consuming alcohol - men or women?**\n",
    "1. women\n",
    "2. men"
   ]
  },
  {
   "cell_type": "markdown",
   "id": "667e2692",
   "metadata": {
    "papermill": {
     "duration": 0.038812,
     "end_time": "2021-09-15T08:53:31.375299",
     "exception": false,
     "start_time": "2021-09-15T08:53:31.336487",
     "status": "completed"
    },
    "tags": []
   },
   "source": [
    "Men consumes more."
   ]
  },
  {
   "cell_type": "code",
   "execution_count": 8,
   "id": "88933f62",
   "metadata": {
    "execution": {
     "iopub.execute_input": "2021-09-15T08:53:31.458749Z",
     "iopub.status.busy": "2021-09-15T08:53:31.458137Z",
     "iopub.status.idle": "2021-09-15T08:53:31.469428Z",
     "shell.execute_reply": "2021-09-15T08:53:31.469916Z",
     "shell.execute_reply.started": "2021-09-15T08:51:58.450969Z"
    },
    "papermill": {
     "duration": 0.055606,
     "end_time": "2021-09-15T08:53:31.470076",
     "exception": false,
     "start_time": "2021-09-15T08:53:31.414470",
     "status": "completed"
    },
    "tags": []
   },
   "outputs": [
    {
     "data": {
      "text/plain": [
       "gender  alco\n",
       "1       0       0.974500\n",
       "        1       0.025500\n",
       "2       0       0.893625\n",
       "        1       0.106375\n",
       "Name: alco, dtype: float64"
      ]
     },
     "execution_count": 8,
     "metadata": {},
     "output_type": "execute_result"
    }
   ],
   "source": [
    "#sns.boxplot(x='gender', y='alco', data=df)\n",
    "df.groupby('gender')['alco'].value_counts(normalize=True)"
   ]
  },
  {
   "cell_type": "markdown",
   "id": "89d109e8",
   "metadata": {
    "_uuid": "8b98389e26edd01374d6217d8dd1e2d5ffff9d1c",
    "papermill": {
     "duration": 0.039403,
     "end_time": "2021-09-15T08:53:31.547640",
     "exception": false,
     "start_time": "2021-09-15T08:53:31.508237",
     "status": "completed"
    },
    "tags": []
   },
   "source": [
    "**Question 1.3. (1 point). What is the difference between the percentages of smokers among men and women (rounded)?**\n",
    "1. 4\n",
    "2. 16\n",
    "3. 20\n",
    "4. 24"
   ]
  },
  {
   "cell_type": "code",
   "execution_count": 9,
   "id": "fabc0e7c",
   "metadata": {
    "execution": {
     "iopub.execute_input": "2021-09-15T08:53:31.630417Z",
     "iopub.status.busy": "2021-09-15T08:53:31.629730Z",
     "iopub.status.idle": "2021-09-15T08:53:31.642500Z",
     "shell.execute_reply": "2021-09-15T08:53:31.641979Z",
     "shell.execute_reply.started": "2021-09-15T08:51:58.465187Z"
    },
    "papermill": {
     "duration": 0.056711,
     "end_time": "2021-09-15T08:53:31.642637",
     "exception": false,
     "start_time": "2021-09-15T08:53:31.585926",
     "status": "completed"
    },
    "tags": []
   },
   "outputs": [
    {
     "data": {
      "text/plain": [
       "gender  smoke\n",
       "1       0        0.982144\n",
       "        1        0.017856\n",
       "2       0        0.781120\n",
       "        1        0.218880\n",
       "Name: smoke, dtype: float64"
      ]
     },
     "execution_count": 9,
     "metadata": {},
     "output_type": "execute_result"
    }
   ],
   "source": [
    "df.groupby('gender')['smoke'].value_counts(normalize=True)\n",
    "#df.groupby('gender')['smoke'].mean()"
   ]
  },
  {
   "cell_type": "markdown",
   "id": "8189b7a9",
   "metadata": {
    "_uuid": "c92554c5fe98a07b298cec98eaa2622a3bedbeeb",
    "papermill": {
     "duration": 0.039797,
     "end_time": "2021-09-15T08:53:31.722091",
     "exception": false,
     "start_time": "2021-09-15T08:53:31.682294",
     "status": "completed"
    },
    "tags": []
   },
   "source": [
    "**Question 1.4. (1 point). What is the difference between median values of age for smokers and non-smokers (in months, rounded)? You'll need to figure out the units of feature `age` in this dataset.**\n",
    "\n",
    "1. 5\n",
    "2. 10\n",
    "3. 15\n",
    "4. 20"
   ]
  },
  {
   "cell_type": "code",
   "execution_count": 10,
   "id": "0e8c3146",
   "metadata": {
    "execution": {
     "iopub.execute_input": "2021-09-15T08:53:31.810645Z",
     "iopub.status.busy": "2021-09-15T08:53:31.810002Z",
     "iopub.status.idle": "2021-09-15T08:53:31.821081Z",
     "shell.execute_reply": "2021-09-15T08:53:31.820509Z",
     "shell.execute_reply.started": "2021-09-15T08:51:58.478771Z"
    },
    "papermill": {
     "duration": 0.059055,
     "end_time": "2021-09-15T08:53:31.821234",
     "exception": false,
     "start_time": "2021-09-15T08:53:31.762179",
     "status": "completed"
    },
    "tags": []
   },
   "outputs": [
    {
     "data": {
      "text/plain": [
       "19.613963039014372"
      ]
     },
     "execution_count": 10,
     "metadata": {},
     "output_type": "execute_result"
    }
   ],
   "source": [
    "abs(df[df['smoke'] == 1]['age'].median() - df[df['smoke'] == 0]['age'].median()) / 365.25 * 12"
   ]
  },
  {
   "cell_type": "markdown",
   "id": "06a280d2",
   "metadata": {
    "_uuid": "ac5d59876eb97782eab5f038aa8b2335e014d9bf",
    "papermill": {
     "duration": 0.039362,
     "end_time": "2021-09-15T08:53:31.901840",
     "exception": false,
     "start_time": "2021-09-15T08:53:31.862478",
     "status": "completed"
    },
    "tags": []
   },
   "source": [
    "## 1.2. Risk maps\n",
    "### Task:"
   ]
  },
  {
   "cell_type": "markdown",
   "id": "9014839a",
   "metadata": {
    "_uuid": "9efc6fd8ff26ea2ddf95e7e0b70ef3b802f83af5",
    "papermill": {
     "duration": 0.040401,
     "end_time": "2021-09-15T08:53:31.981728",
     "exception": false,
     "start_time": "2021-09-15T08:53:31.941327",
     "status": "completed"
    },
    "tags": []
   },
   "source": [
    "On the website for the European Society of Cardiology, a [SCORE scale](https://www.escardio.org/Education/Practice-Tools/CVD-prevention-toolbox/SCORE-Risk-Charts) is provided. It is used for calculating the risk of death from a cardiovascular decease in the next 10 years. Here it is:\n",
    "<img src=https://habrastorage.org/webt/ik/gx/hr/ikgxhr3w1vzqihgitgrbdorfb14.png width=30%>\n",
    "\n",
    "Let's take a look at the upper-right rectangle, which shows a subset of smoking men aged from 60 to 65. (It's not obvious, but the values in the figure represent the upper bound).\n",
    "\n",
    "We see the value 9 in the lower-left corner of the rectangle and 47 in the upper-right. This means that, for people in this gender-age group whose systolic pressure is less than 120, the risk of a CVD is estimated to be 5 times lower than for those with the pressure in the interval [160,180).\n",
    "\n",
    "Let's calculate that same ratio using our data.\n",
    "\n",
    "Clarifications:\n",
    "- Calculate ``age_years`` feature – round age to the nearest number of years. For this task, select only the people of age 60 to 64, inclusive.\n",
    "- Cholesterol level categories differ between the figure and our dataset. The conversion for the ``cholesterol`` feature is as follows: 4 mmol/l $\\rightarrow$ 1, 5-7 mmol/l $\\rightarrow$ 2, 8 mmol/l $\\rightarrow$ 3."
   ]
  },
  {
   "cell_type": "code",
   "execution_count": 11,
   "id": "59118c39",
   "metadata": {
    "_uuid": "8caffb39e65c95e4cfebfe448bbe224af4d0766c",
    "execution": {
     "iopub.execute_input": "2021-09-15T08:53:32.068047Z",
     "iopub.status.busy": "2021-09-15T08:53:32.067367Z",
     "iopub.status.idle": "2021-09-15T08:53:32.075981Z",
     "shell.execute_reply": "2021-09-15T08:53:32.075335Z",
     "shell.execute_reply.started": "2021-09-15T08:51:58.490802Z"
    },
    "papermill": {
     "duration": 0.054216,
     "end_time": "2021-09-15T08:53:32.076146",
     "exception": false,
     "start_time": "2021-09-15T08:53:32.021930",
     "status": "completed"
    },
    "tags": []
   },
   "outputs": [],
   "source": [
    "df['age_years'] = (df['age'] / 365.25).round().astype('int')\n",
    "df['cholesterol'] = df['cholesterol'].map({1:'4 mmol/l', 2: '5-7 mmol/l', 3: '8 mmol/l'})"
   ]
  },
  {
   "cell_type": "markdown",
   "id": "e283f064",
   "metadata": {
    "_uuid": "e71f8859a7fb8f23a78ac84b861d41c8f1b9e11f",
    "papermill": {
     "duration": 0.040517,
     "end_time": "2021-09-15T08:53:32.157550",
     "exception": false,
     "start_time": "2021-09-15T08:53:32.117033",
     "status": "completed"
    },
    "tags": []
   },
   "source": [
    "**Question 1.5. (2 points). Calculate the fraction of the people with CVD for the two segments described above. What is the ratio of these two fractions?**\n",
    "\n",
    "1. 1\n",
    "2. 2\n",
    "3. 3\n",
    "4. 4"
   ]
  },
  {
   "cell_type": "code",
   "execution_count": 12,
   "id": "1b372034",
   "metadata": {
    "execution": {
     "iopub.execute_input": "2021-09-15T08:53:32.246961Z",
     "iopub.status.busy": "2021-09-15T08:53:32.245864Z",
     "iopub.status.idle": "2021-09-15T08:53:32.263294Z",
     "shell.execute_reply": "2021-09-15T08:53:32.262773Z",
     "shell.execute_reply.started": "2021-09-15T08:51:58.503080Z"
    },
    "papermill": {
     "duration": 0.065417,
     "end_time": "2021-09-15T08:53:32.263435",
     "exception": false,
     "start_time": "2021-09-15T08:53:32.198018",
     "status": "completed"
    },
    "tags": []
   },
   "outputs": [
    {
     "data": {
      "text/plain": [
       "3.281818181818182"
      ]
     },
     "execution_count": 12,
     "metadata": {},
     "output_type": "execute_result"
    }
   ],
   "source": [
    "smoking_old_men = df[(df['gender'] == 2)  # TAB autofills\n",
    "                     & (df['smoke'] == 1) & (df['age_years'] >= 60) \n",
    "                     & (df['age_years'] < 65)]\n",
    "ratio1 = smoking_old_men[(smoking_old_men['cholesterol'] == '4 mmol/l') \n",
    "                & (smoking_old_men['ap_hi'] < 120)]['cardio'].mean()\n",
    "ratio2 = smoking_old_men[(smoking_old_men['cholesterol'] == '8 mmol/l') \n",
    "                & (smoking_old_men['ap_hi'] >= 160)\n",
    "                & (smoking_old_men['ap_hi'] < 180)]['cardio'].mean()\n",
    "\n",
    "ratio2 / ratio1"
   ]
  },
  {
   "cell_type": "markdown",
   "id": "7921c05f",
   "metadata": {
    "_uuid": "54cef692e0af3745091c7177d63a2d6c36044474",
    "papermill": {
     "duration": 0.039014,
     "end_time": "2021-09-15T08:53:32.342195",
     "exception": false,
     "start_time": "2021-09-15T08:53:32.303181",
     "status": "completed"
    },
    "tags": []
   },
   "source": [
    "## 1.3. Analyzing BMI\n",
    "### Task:"
   ]
  },
  {
   "cell_type": "markdown",
   "id": "db8178fd",
   "metadata": {
    "_uuid": "c52b4b1c20956e3cc420bb13e7bb12d80aa3ef1a",
    "papermill": {
     "duration": 0.038608,
     "end_time": "2021-09-15T08:53:32.419783",
     "exception": false,
     "start_time": "2021-09-15T08:53:32.381175",
     "status": "completed"
    },
    "tags": []
   },
   "source": [
    "Create a new feature – BMI ([Body Mass Index](https://en.wikipedia.org/wiki/Body_mass_index)). To do this, divide weight in kilogramms by the square of the height in meters. Normal BMI values are said to be from 18.5 to 25. "
   ]
  },
  {
   "cell_type": "code",
   "execution_count": 13,
   "id": "3ad7b53b",
   "metadata": {
    "_uuid": "5b3134f2597650ae95d0196393b30797518f0498",
    "execution": {
     "iopub.execute_input": "2021-09-15T08:53:32.503049Z",
     "iopub.status.busy": "2021-09-15T08:53:32.502285Z",
     "iopub.status.idle": "2021-09-15T08:53:32.517990Z",
     "shell.execute_reply": "2021-09-15T08:53:32.517178Z",
     "shell.execute_reply.started": "2021-09-15T08:51:58.523694Z"
    },
    "papermill": {
     "duration": 0.059279,
     "end_time": "2021-09-15T08:53:32.518130",
     "exception": false,
     "start_time": "2021-09-15T08:53:32.458851",
     "status": "completed"
    },
    "tags": []
   },
   "outputs": [
    {
     "data": {
      "text/html": [
       "<div>\n",
       "<style scoped>\n",
       "    .dataframe tbody tr th:only-of-type {\n",
       "        vertical-align: middle;\n",
       "    }\n",
       "\n",
       "    .dataframe tbody tr th {\n",
       "        vertical-align: top;\n",
       "    }\n",
       "\n",
       "    .dataframe thead th {\n",
       "        text-align: right;\n",
       "    }\n",
       "</style>\n",
       "<table border=\"1\" class=\"dataframe\">\n",
       "  <thead>\n",
       "    <tr style=\"text-align: right;\">\n",
       "      <th></th>\n",
       "      <th>id</th>\n",
       "      <th>age</th>\n",
       "      <th>gender</th>\n",
       "      <th>height</th>\n",
       "      <th>weight</th>\n",
       "      <th>ap_hi</th>\n",
       "      <th>ap_lo</th>\n",
       "      <th>cholesterol</th>\n",
       "      <th>gluc</th>\n",
       "      <th>smoke</th>\n",
       "      <th>alco</th>\n",
       "      <th>active</th>\n",
       "      <th>cardio</th>\n",
       "      <th>age_years</th>\n",
       "      <th>BMI</th>\n",
       "    </tr>\n",
       "  </thead>\n",
       "  <tbody>\n",
       "    <tr>\n",
       "      <th>0</th>\n",
       "      <td>0</td>\n",
       "      <td>18393</td>\n",
       "      <td>2</td>\n",
       "      <td>168</td>\n",
       "      <td>62.0</td>\n",
       "      <td>110</td>\n",
       "      <td>80</td>\n",
       "      <td>4 mmol/l</td>\n",
       "      <td>1</td>\n",
       "      <td>0</td>\n",
       "      <td>0</td>\n",
       "      <td>1</td>\n",
       "      <td>0</td>\n",
       "      <td>50</td>\n",
       "      <td>21.967120</td>\n",
       "    </tr>\n",
       "    <tr>\n",
       "      <th>1</th>\n",
       "      <td>1</td>\n",
       "      <td>20228</td>\n",
       "      <td>1</td>\n",
       "      <td>156</td>\n",
       "      <td>85.0</td>\n",
       "      <td>140</td>\n",
       "      <td>90</td>\n",
       "      <td>8 mmol/l</td>\n",
       "      <td>1</td>\n",
       "      <td>0</td>\n",
       "      <td>0</td>\n",
       "      <td>1</td>\n",
       "      <td>1</td>\n",
       "      <td>55</td>\n",
       "      <td>34.927679</td>\n",
       "    </tr>\n",
       "    <tr>\n",
       "      <th>2</th>\n",
       "      <td>2</td>\n",
       "      <td>18857</td>\n",
       "      <td>1</td>\n",
       "      <td>165</td>\n",
       "      <td>64.0</td>\n",
       "      <td>130</td>\n",
       "      <td>70</td>\n",
       "      <td>8 mmol/l</td>\n",
       "      <td>1</td>\n",
       "      <td>0</td>\n",
       "      <td>0</td>\n",
       "      <td>0</td>\n",
       "      <td>1</td>\n",
       "      <td>52</td>\n",
       "      <td>23.507805</td>\n",
       "    </tr>\n",
       "    <tr>\n",
       "      <th>3</th>\n",
       "      <td>3</td>\n",
       "      <td>17623</td>\n",
       "      <td>2</td>\n",
       "      <td>169</td>\n",
       "      <td>82.0</td>\n",
       "      <td>150</td>\n",
       "      <td>100</td>\n",
       "      <td>4 mmol/l</td>\n",
       "      <td>1</td>\n",
       "      <td>0</td>\n",
       "      <td>0</td>\n",
       "      <td>1</td>\n",
       "      <td>1</td>\n",
       "      <td>48</td>\n",
       "      <td>28.710479</td>\n",
       "    </tr>\n",
       "    <tr>\n",
       "      <th>4</th>\n",
       "      <td>4</td>\n",
       "      <td>17474</td>\n",
       "      <td>1</td>\n",
       "      <td>156</td>\n",
       "      <td>56.0</td>\n",
       "      <td>100</td>\n",
       "      <td>60</td>\n",
       "      <td>4 mmol/l</td>\n",
       "      <td>1</td>\n",
       "      <td>0</td>\n",
       "      <td>0</td>\n",
       "      <td>0</td>\n",
       "      <td>0</td>\n",
       "      <td>48</td>\n",
       "      <td>23.011177</td>\n",
       "    </tr>\n",
       "  </tbody>\n",
       "</table>\n",
       "</div>"
      ],
      "text/plain": [
       "   id    age  gender  height  weight  ap_hi  ap_lo cholesterol  gluc  smoke  \\\n",
       "0   0  18393       2     168    62.0    110     80    4 mmol/l     1      0   \n",
       "1   1  20228       1     156    85.0    140     90    8 mmol/l     1      0   \n",
       "2   2  18857       1     165    64.0    130     70    8 mmol/l     1      0   \n",
       "3   3  17623       2     169    82.0    150    100    4 mmol/l     1      0   \n",
       "4   4  17474       1     156    56.0    100     60    4 mmol/l     1      0   \n",
       "\n",
       "   alco  active  cardio  age_years        BMI  \n",
       "0     0       1       0         50  21.967120  \n",
       "1     0       1       1         55  34.927679  \n",
       "2     0       0       1         52  23.507805  \n",
       "3     0       1       1         48  28.710479  \n",
       "4     0       0       0         48  23.011177  "
      ]
     },
     "execution_count": 13,
     "metadata": {},
     "output_type": "execute_result"
    }
   ],
   "source": [
    "df['BMI'] = df['weight'] / (df['height'] / 100) ** 2\n",
    "df.head()"
   ]
  },
  {
   "cell_type": "markdown",
   "id": "ea60bfbc",
   "metadata": {
    "_uuid": "1c2baed24cc5b3abb94b5c6c09d571f29b39213b",
    "papermill": {
     "duration": 0.043494,
     "end_time": "2021-09-15T08:53:32.604441",
     "exception": false,
     "start_time": "2021-09-15T08:53:32.560947",
     "status": "completed"
    },
    "tags": []
   },
   "source": [
    "**Question 1.6. (2 points). Choose the correct statements:**\n",
    "\n",
    "1. Median BMI in the sample is within the range of normal BMI values.\n",
    "2. The BMI for women is on average higher than for men.\n",
    "3. Healthy people have, on average, a higher BMI than the people with CVD.\n",
    "4. For healthy, non-drinking men, BMI is closer to the norm than for healthy, non-drinking women"
   ]
  },
  {
   "cell_type": "code",
   "execution_count": 14,
   "id": "bd1885e9",
   "metadata": {
    "execution": {
     "iopub.execute_input": "2021-09-15T08:53:32.696616Z",
     "iopub.status.busy": "2021-09-15T08:53:32.692822Z",
     "iopub.status.idle": "2021-09-15T08:53:32.741778Z",
     "shell.execute_reply": "2021-09-15T08:53:32.742323Z",
     "shell.execute_reply.started": "2021-09-15T08:51:58.541491Z"
    },
    "papermill": {
     "duration": 0.094716,
     "end_time": "2021-09-15T08:53:32.742496",
     "exception": false,
     "start_time": "2021-09-15T08:53:32.647780",
     "status": "completed"
    },
    "tags": []
   },
   "outputs": [
    {
     "data": {
      "text/html": [
       "<div>\n",
       "<style scoped>\n",
       "    .dataframe tbody tr th:only-of-type {\n",
       "        vertical-align: middle;\n",
       "    }\n",
       "\n",
       "    .dataframe tbody tr th {\n",
       "        vertical-align: top;\n",
       "    }\n",
       "\n",
       "    .dataframe thead th {\n",
       "        text-align: right;\n",
       "    }\n",
       "</style>\n",
       "<table border=\"1\" class=\"dataframe\">\n",
       "  <thead>\n",
       "    <tr style=\"text-align: right;\">\n",
       "      <th></th>\n",
       "      <th>count</th>\n",
       "      <th>mean</th>\n",
       "      <th>std</th>\n",
       "      <th>min</th>\n",
       "      <th>25%</th>\n",
       "      <th>50%</th>\n",
       "      <th>75%</th>\n",
       "      <th>max</th>\n",
       "    </tr>\n",
       "    <tr>\n",
       "      <th>gender</th>\n",
       "      <th></th>\n",
       "      <th></th>\n",
       "      <th></th>\n",
       "      <th></th>\n",
       "      <th></th>\n",
       "      <th></th>\n",
       "      <th></th>\n",
       "      <th></th>\n",
       "    </tr>\n",
       "  </thead>\n",
       "  <tbody>\n",
       "    <tr>\n",
       "      <th>1</th>\n",
       "      <td>22332.0</td>\n",
       "      <td>26.845407</td>\n",
       "      <td>5.843207</td>\n",
       "      <td>9.331007</td>\n",
       "      <td>23.43750</td>\n",
       "      <td>25.654372</td>\n",
       "      <td>29.384676</td>\n",
       "      <td>237.768633</td>\n",
       "    </tr>\n",
       "    <tr>\n",
       "      <th>2</th>\n",
       "      <td>10748.0</td>\n",
       "      <td>25.872638</td>\n",
       "      <td>4.918895</td>\n",
       "      <td>14.609204</td>\n",
       "      <td>23.30668</td>\n",
       "      <td>25.102391</td>\n",
       "      <td>27.755102</td>\n",
       "      <td>170.414201</td>\n",
       "    </tr>\n",
       "  </tbody>\n",
       "</table>\n",
       "</div>"
      ],
      "text/plain": [
       "          count       mean       std        min       25%        50%  \\\n",
       "gender                                                                 \n",
       "1       22332.0  26.845407  5.843207   9.331007  23.43750  25.654372   \n",
       "2       10748.0  25.872638  4.918895  14.609204  23.30668  25.102391   \n",
       "\n",
       "              75%         max  \n",
       "gender                         \n",
       "1       29.384676  237.768633  \n",
       "2       27.755102  170.414201  "
      ]
     },
     "execution_count": 14,
     "metadata": {},
     "output_type": "execute_result"
    }
   ],
   "source": [
    "df['BMI'].describe()\n",
    "\n",
    "#sns.boxplot(x='gender', y='BMI', data=df)\n",
    "df.groupby('gender')['BMI'].describe()\n",
    "\n",
    "df.groupby('cardio')['BMI'].describe()\n",
    "\n",
    "df[(df['cardio'] == 0) & (df['alco'] == 0)].groupby('gender')['BMI'].describe()\n",
    "#df.groupby(['gender', 'alco', 'cardio'])['BMI'].median().to_frame()"
   ]
  },
  {
   "cell_type": "markdown",
   "id": "234ab50f",
   "metadata": {
    "_uuid": "2e059032eee1d57c896e24a98b659a5ab16144fd",
    "papermill": {
     "duration": 0.041374,
     "end_time": "2021-09-15T08:53:32.825702",
     "exception": false,
     "start_time": "2021-09-15T08:53:32.784328",
     "status": "completed"
    },
    "tags": []
   },
   "source": [
    "## 1.4. Cleaning data"
   ]
  },
  {
   "cell_type": "markdown",
   "id": "1919eaa1",
   "metadata": {
    "_uuid": "26ccfbcb212c3631b4941a294906c027b974301a",
    "papermill": {
     "duration": 0.039465,
     "end_time": "2021-09-15T08:53:32.905263",
     "exception": false,
     "start_time": "2021-09-15T08:53:32.865798",
     "status": "completed"
    },
    "tags": []
   },
   "source": [
    "### Task:\n",
    "We can see that the data is not perfect. It contains \"dirt\" and inaccuracies. We'll see this better as we visualize the data.\n",
    "\n",
    "Filter out the following patient segments (we consider these as erroneous data)\n",
    "\n",
    "- diastolic pressure is higher than systolic \n",
    "- height is strictly less than 2.5 percentile (Use `pd.Series.quantile` to compute this value. If you are not familiar with the function, please read the docs.)\n",
    "- height is strictly more than 97.5 percentile\n",
    "- weight is strictly less than 2.5 percentile\n",
    "- weight is strictly more than 97.5 percentile\n",
    "\n",
    "This is not everything that we can do to clean this data, but this is sufficient for now."
   ]
  },
  {
   "cell_type": "code",
   "execution_count": 15,
   "id": "5343f742",
   "metadata": {
    "_uuid": "483fd26f0aff141810dcb084095c380acafbfbdd",
    "execution": {
     "iopub.execute_input": "2021-09-15T08:53:32.989334Z",
     "iopub.status.busy": "2021-09-15T08:53:32.988715Z",
     "iopub.status.idle": "2021-09-15T08:53:33.009737Z",
     "shell.execute_reply": "2021-09-15T08:53:33.010229Z",
     "shell.execute_reply.started": "2021-09-15T08:51:58.596127Z"
    },
    "papermill": {
     "duration": 0.064262,
     "end_time": "2021-09-15T08:53:33.010409",
     "exception": false,
     "start_time": "2021-09-15T08:53:32.946147",
     "status": "completed"
    },
    "tags": []
   },
   "outputs": [
    {
     "data": {
      "text/plain": [
       "0.9037"
      ]
     },
     "execution_count": 15,
     "metadata": {},
     "output_type": "execute_result"
    }
   ],
   "source": [
    "#df.drop(df['ap_lo'] > df['ap_hi'], axis=0, inplace=True)\n",
    "\n",
    "filtered_df = df[(df['ap_lo'] <= df['ap_hi']) & \n",
    "                 (df['height'] >= df['height'].quantile(0.025)) &\n",
    "                 (df['height'] <= df['height'].quantile(0.975)) & \n",
    "                 (df['weight'] >= df['weight'].quantile(0.025)) &\n",
    "                 (df['weight'] <= df['weight'].quantile(0.975))]\n",
    "\n",
    "filtered_df.shape\n",
    "filtered_df.shape[0] / df.shape[0]"
   ]
  },
  {
   "cell_type": "markdown",
   "id": "187716dd",
   "metadata": {
    "_uuid": "f807adaa6459d1c75d202bb973831369d6eeb20e",
    "papermill": {
     "duration": 0.042041,
     "end_time": "2021-09-15T08:53:33.092960",
     "exception": false,
     "start_time": "2021-09-15T08:53:33.050919",
     "status": "completed"
    },
    "tags": []
   },
   "source": [
    "**Question 1.7. (2 points). What percent of the original data (rounded) did we throw away?**\n",
    "\n",
    "1. 8\n",
    "2. 9\n",
    "3. 10\n",
    "4. 11"
   ]
  },
  {
   "cell_type": "markdown",
   "id": "ca1cd70d",
   "metadata": {
    "_uuid": "a9f14b459f71ac2304e73145fc199a90131965e7",
    "papermill": {
     "duration": 0.041283,
     "end_time": "2021-09-15T08:53:33.182189",
     "exception": false,
     "start_time": "2021-09-15T08:53:33.140906",
     "status": "completed"
    },
    "tags": []
   },
   "source": [
    "# Part 2. Visual data analysis\n",
    "\n",
    "## 2.1. Correlation matrix visualization\n",
    "\n",
    "To understand the features better, you can create a matrix of the correlation coefficients between the features. Use the initial dataset (non-filtered).\n",
    "\n",
    "### Task:\n",
    "\n",
    "Plot a correlation matrix using [`heatmap()`](http://seaborn.pydata.org/generated/seaborn.heatmap.html). You can create the matrix using the standard `pandas` tools with the default parameters."
   ]
  },
  {
   "cell_type": "code",
   "execution_count": 16,
   "id": "99fa6ca4",
   "metadata": {
    "_uuid": "a9c19a7bf2dd564b484e8269886340c13967fede",
    "execution": {
     "iopub.execute_input": "2021-09-15T08:53:33.266629Z",
     "iopub.status.busy": "2021-09-15T08:53:33.266015Z",
     "iopub.status.idle": "2021-09-15T08:53:33.808440Z",
     "shell.execute_reply": "2021-09-15T08:53:33.808974Z",
     "shell.execute_reply.started": "2021-09-15T08:51:58.625078Z"
    },
    "papermill": {
     "duration": 0.586363,
     "end_time": "2021-09-15T08:53:33.809157",
     "exception": false,
     "start_time": "2021-09-15T08:53:33.222794",
     "status": "completed"
    },
    "tags": []
   },
   "outputs": [
    {
     "data": {
      "image/png": "[encoded data removed]",
      "text/plain": [
       "<Figure size 792x576 with 2 Axes>"
      ]
     },
     "metadata": {
      "needs_background": "light"
     },
     "output_type": "display_data"
    }
   ],
   "source": [
    "df = filtered_df.copy()\n",
    "sns.heatmap(df.corr());"
   ]
  },
  {
   "cell_type": "markdown",
   "id": "4cbd1ac2",
   "metadata": {
    "_uuid": "987ff630db004c51cc9e89e0c6cf6d14d619c4c0",
    "papermill": {
     "duration": 0.041275,
     "end_time": "2021-09-15T08:53:33.892528",
     "exception": false,
     "start_time": "2021-09-15T08:53:33.851253",
     "status": "completed"
    },
    "tags": []
   },
   "source": [
    "** Question 2.1. (1 point).** Which pair of features has the strongest Pearson's correlation with the *gender* feature?\n",
    "\n",
    "1. Cardio, Cholesterol\n",
    "2. Height, Smoke\n",
    "3. Smoke, Alco\n",
    "4. Height, Weight"
   ]
  },
  {
   "cell_type": "code",
   "execution_count": 17,
   "id": "d2cb4f5e",
   "metadata": {
    "execution": {
     "iopub.execute_input": "2021-09-15T08:53:33.982607Z",
     "iopub.status.busy": "2021-09-15T08:53:33.981619Z",
     "iopub.status.idle": "2021-09-15T08:53:33.985916Z",
     "shell.execute_reply": "2021-09-15T08:53:33.986432Z",
     "shell.execute_reply.started": "2021-09-15T08:51:59.128782Z"
    },
    "papermill": {
     "duration": 0.052368,
     "end_time": "2021-09-15T08:53:33.986620",
     "exception": false,
     "start_time": "2021-09-15T08:53:33.934252",
     "status": "completed"
    },
    "tags": []
   },
   "outputs": [
    {
     "data": {
      "text/plain": [
       "'2. Height & Smoke'"
      ]
     },
     "execution_count": 17,
     "metadata": {},
     "output_type": "execute_result"
    }
   ],
   "source": [
    "\"2. Height & Smoke\""
   ]
  },
  {
   "cell_type": "markdown",
   "id": "5dcfc924",
   "metadata": {
    "_uuid": "01edf6a3a68f47f07164b3e4cb9e6ab5ef1efcd6",
    "papermill": {
     "duration": 0.04279,
     "end_time": "2021-09-15T08:53:34.073898",
     "exception": false,
     "start_time": "2021-09-15T08:53:34.031108",
     "status": "completed"
    },
    "tags": []
   },
   "source": [
    "## 2.2. Height distribution of men and women\n",
    "\n",
    "From our exploration of the unique values earlier, we know that the gender is encoded by the values *1* and *2*. Although you do not know the mapping of these values to gender, you can figure that out graphically by looking at the mean values of height and weight for each value of the *gender* feature.\n",
    "\n",
    "### Task:\n",
    "\n",
    "Create a violin plot for the height and gender using [`violinplot()`](https://seaborn.pydata.org/generated/seaborn.violinplot.html). Use the parameters:\n",
    "- `hue` to split by gender;\n",
    "- `scale` to evaluate the number of records for each gender.\n",
    "\n",
    "In order for the plot to render correctly, you need to convert your `DataFrame` to *long* format using the `melt()` function from `pandas`. Here is [an example](https://stackoverflow.com/a/41575149/3338479) of this for your reference."
   ]
  },
  {
   "cell_type": "code",
   "execution_count": 18,
   "id": "df21ec68",
   "metadata": {
    "_uuid": "71d38ccddbe26ca51c69fbdba7cc4405ee459de4",
    "execution": {
     "iopub.execute_input": "2021-09-15T08:53:34.167808Z",
     "iopub.status.busy": "2021-09-15T08:53:34.167107Z",
     "iopub.status.idle": "2021-09-15T08:53:34.795586Z",
     "shell.execute_reply": "2021-09-15T08:53:34.795042Z",
     "shell.execute_reply.started": "2021-09-15T08:51:59.136368Z"
    },
    "papermill": {
     "duration": 0.678413,
     "end_time": "2021-09-15T08:53:34.795743",
     "exception": false,
     "start_time": "2021-09-15T08:53:34.117330",
     "status": "completed"
    },
    "tags": []
   },
   "outputs": [
    {
     "data": {
      "image/png": "[encoded data removed]",
      "text/plain": [
       "<Figure size 792x576 with 1 Axes>"
      ]
     },
     "metadata": {
      "needs_background": "light"
     },
     "output_type": "display_data"
    }
   ],
   "source": [
    "df_melt = pd.melt(frame=df, value_vars=['height'], id_vars=['gender'])\n",
    "sns.violinplot(x='variable', y='value', hue='gender', palette='muted', split=False, scale='count', scale_hue=False, data=df_melt);"
   ]
  },
  {
   "cell_type": "markdown",
   "id": "70777ca8",
   "metadata": {
    "papermill": {
     "duration": 0.047838,
     "end_time": "2021-09-15T08:53:34.888496",
     "exception": false,
     "start_time": "2021-09-15T08:53:34.840658",
     "status": "completed"
    },
    "tags": []
   },
   "source": [
    "**Question 2.2. (1 point).** Which pair of features has the strongest Spearman correlation?\n",
    "\n",
    "1. Height, Weight\n",
    "2. Age, Weight\n",
    "3. Cholesterol, Gluc\n",
    "4. Cardio, Cholesterol\n",
    "5. Ap_hi, Ap_lo\n",
    "6. Smoke, Alco"
   ]
  },
  {
   "cell_type": "markdown",
   "id": "7f2ddeb0",
   "metadata": {
    "papermill": {
     "duration": 0.044581,
     "end_time": "2021-09-15T08:53:34.979089",
     "exception": false,
     "start_time": "2021-09-15T08:53:34.934508",
     "status": "completed"
    },
    "tags": []
   },
   "source": [
    "## 2.3. Rank correlation\n",
    "\n",
    "In most cases, *the Pearson coefficient of linear correlation* is more than enough to discover patterns in data. \n",
    "But let's go a little further and calculate a [rank correlation](https://en.wikipedia.org/wiki/Rank_correlation). It will help us to identify such feature pairs in which the lower rank in the variational series of one feature always precedes the higher rank in the another one (and we have the opposite in the case of negative correlation).\n",
    "\n",
    "### Task:\n",
    "\n",
    "Calculate and plot a correlation matrix using the [Spearman's rank correlation coefficient](https://en.wikipedia.org/wiki/Spearman%27s_rank_correlation_coefficient).\n"
   ]
  },
  {
   "cell_type": "code",
   "execution_count": 19,
   "id": "89dbaf0a",
   "metadata": {
    "execution": {
     "iopub.execute_input": "2021-09-15T08:53:35.073083Z",
     "iopub.status.busy": "2021-09-15T08:53:35.072444Z",
     "iopub.status.idle": "2021-09-15T08:53:35.661038Z",
     "shell.execute_reply": "2021-09-15T08:53:35.661556Z",
     "shell.execute_reply.started": "2021-09-15T08:51:59.765930Z"
    },
    "papermill": {
     "duration": 0.637852,
     "end_time": "2021-09-15T08:53:35.661775",
     "exception": false,
     "start_time": "2021-09-15T08:53:35.023923",
     "status": "completed"
    },
    "tags": []
   },
   "outputs": [
    {
     "data": {
      "text/plain": [
       "<AxesSubplot:>"
      ]
     },
     "execution_count": 19,
     "metadata": {},
     "output_type": "execute_result"
    },
    {
     "data": {
      "image/png": "[encoded data removed]",
      "text/plain": [
       "<Figure size 792x576 with 2 Axes>"
      ]
     },
     "metadata": {
      "needs_background": "light"
     },
     "output_type": "display_data"
    }
   ],
   "source": [
    "sns.heatmap(df.corr(method='spearman'))"
   ]
  },
  {
   "cell_type": "markdown",
   "id": "4fb4b66b",
   "metadata": {
    "_uuid": "2282d0651afdbe69cdb68b266e509f20a865a63f",
    "papermill": {
     "duration": 0.047042,
     "end_time": "2021-09-15T08:53:35.755239",
     "exception": false,
     "start_time": "2021-09-15T08:53:35.708197",
     "status": "completed"
    },
    "tags": []
   },
   "source": [
    "**Question 2.3. (1 point).** Why do these features have strong rank correlation?\n",
    "\n",
    "1. Inaccuracies in the data (data acquisition errors).\n",
    "2. Relation is wrong, these features should not be related.\n",
    "3. Nature of the data."
   ]
  },
  {
   "cell_type": "markdown",
   "id": "476d725a",
   "metadata": {
    "_uuid": "25b4b303156fd6f9178c9b23fba4ff3f220a5977",
    "papermill": {
     "duration": 0.045328,
     "end_time": "2021-09-15T08:53:35.846487",
     "exception": false,
     "start_time": "2021-09-15T08:53:35.801159",
     "status": "completed"
    },
    "tags": []
   },
   "source": [
    "## 2.4. Age\n",
    "\n",
    "Previously, we calculated the age of the respondents in years at the moment of examination."
   ]
  },
  {
   "cell_type": "markdown",
   "id": "5e2fa956",
   "metadata": {
    "_uuid": "d48bb97cba3968e7f73c790226278f6fa818871b",
    "papermill": {
     "duration": 0.044621,
     "end_time": "2021-09-15T08:53:35.936699",
     "exception": false,
     "start_time": "2021-09-15T08:53:35.892078",
     "status": "completed"
    },
    "tags": []
   },
   "source": [
    "### Task:\n",
    "\n",
    "Create a *count plot* using [`countplot()`](http://seaborn.pydata.org/generated/seaborn.countplot.html) with the age on the *X* axis and the number of people on the *Y* axis. Your resulting plot should have two columns for each age, corresponding to the number of people for each *cardio* class of that age."
   ]
  },
  {
   "cell_type": "code",
   "execution_count": 20,
   "id": "047b4c92",
   "metadata": {
    "_uuid": "fd07f3aab9891fd86228d5880a7a38cc88b282ba",
    "execution": {
     "iopub.execute_input": "2021-09-15T08:53:36.033662Z",
     "iopub.status.busy": "2021-09-15T08:53:36.033033Z",
     "iopub.status.idle": "2021-09-15T08:53:36.714122Z",
     "shell.execute_reply": "2021-09-15T08:53:36.714660Z",
     "shell.execute_reply.started": "2021-09-15T08:52:21.114756Z"
    },
    "papermill": {
     "duration": 0.732742,
     "end_time": "2021-09-15T08:53:36.714906",
     "exception": false,
     "start_time": "2021-09-15T08:53:35.982164",
     "status": "completed"
    },
    "tags": []
   },
   "outputs": [
    {
     "data": {
      "image/png": "[encoded data removed]",
      "text/plain": [
       "<Figure size 792x576 with 1 Axes>"
      ]
     },
     "metadata": {
      "needs_background": "light"
     },
     "output_type": "display_data"
    }
   ],
   "source": [
    "sns.countplot(x='age_years', hue='cardio', data=df);"
   ]
  },
  {
   "cell_type": "markdown",
   "id": "a1100b1e",
   "metadata": {
    "_uuid": "49557c7bd46d729c27aa8190df65cc25e45e7528",
    "papermill": {
     "duration": 0.049234,
     "end_time": "2021-09-15T08:53:36.811268",
     "exception": false,
     "start_time": "2021-09-15T08:53:36.762034",
     "status": "completed"
    },
    "tags": []
   },
   "source": [
    "**Question 2.4. (1 point).** What is the smallest age at which the number of people with CVD outnumber the number of people without CVD?\n",
    "\n",
    "1. 44\n",
    "2. 55\n",
    "3. 64\n",
    "4. 70"
   ]
  }
 ],
 "metadata": {
  "kernelspec": {
   "display_name": "Python 3",
   "language": "python",
   "name": "python3"
  },
  "language_info": {
   "codemirror_mode": {
    "name": "ipython",
    "version": 3
   },
   "file_extension": ".py",
   "mimetype": "text/x-python",
   "name": "python",
   "nbconvert_exporter": "python",
   "pygments_lexer": "ipython3",
   "version": "3.7.10"
  },
  "papermill": {
   "default_parameters": {},
   "duration": 18.370005,
   "end_time": "2021-09-15T08:53:37.466818",
   "environment_variables": {},
   "exception": null,
   "input_path": "__notebook__.ipynb",
   "output_path": "__notebook__.ipynb",
   "parameters": {},
   "start_time": "2021-09-15T08:53:19.096813",
   "version": "2.3.3"
  }
 },
 "nbformat": 4,
 "nbformat_minor": 5
}
