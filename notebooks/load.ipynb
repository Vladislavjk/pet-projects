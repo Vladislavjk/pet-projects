{
  "nbformat": 4,
  "nbformat_minor": 0,
  "metadata": {
    "colab": {
      "provenance": []
    },
    "kernelspec": {
      "name": "python3",
      "display_name": "Python 3"
    },
    "language_info": {
      "name": "python"
    }
  },
  "cells": [
    {
      "cell_type": "code",
      "execution_count": 1,
      "metadata": {
        "id": "hr29gYRdcKmn"
      },
      "outputs": [],
      "source": [
        "import requests\n",
        "import pandas as pd\n",
        "import json\n",
        "\n",
        "from matplotlib import pyplot as plt\n",
        "from pandas import json_normalize"
      ]
    },
    {
      "cell_type": "code",
      "source": [
        "url = 'https://justjoin.it/api/offers'"
      ],
      "metadata": {
        "id": "Y_99ZuSOcSVU"
      },
      "execution_count": 2,
      "outputs": []
    },
    {
      "cell_type": "code",
      "source": [
        "response = requests.get(url)\n",
        "\n",
        "assert 200 == response.status_code\n",
        "\n",
        "data = response.json()"
      ],
      "metadata": {
        "id": "ab5GDl6To8qS"
      },
      "execution_count": 3,
      "outputs": []
    },
    {
      "cell_type": "code",
      "source": [
        "len(data)"
      ],
      "metadata": {
        "colab": {
          "base_uri": "https://localhost:8080/"
        },
        "id": "RT1VcTDvpME6",
        "outputId": "2bb5e093-7b81-400d-d48c-1af5b5a1dcb7"
      },
      "execution_count": 4,
      "outputs": [
        {
          "output_type": "execute_result",
          "data": {
            "text/plain": [
              "14925"
            ]
          },
          "metadata": {},
          "execution_count": 4
        }
      ]
    },
    {
      "cell_type": "code",
      "source": [
        "data[0]"
      ],
      "metadata": {
        "colab": {
          "base_uri": "https://localhost:8080/"
        },
        "id": "NFBfltibrTiG",
        "outputId": "c1b07b69-2149-46ae-b174-f7aceb1ec84f"
      },
      "execution_count": 5,
      "outputs": [
        {
          "output_type": "execute_result",
          "data": {
            "text/plain": [
              "{'title': 'Java Developer in test',\n",
              " 'street': 'centrum',\n",
              " 'city': 'Warszawa',\n",
              " 'country_code': 'PL',\n",
              " 'address_text': 'centrum, Warszawa',\n",
              " 'marker_icon': 'java',\n",
              " 'workplace_type': 'remote',\n",
              " 'company_name': 'Luxoft Poland',\n",
              " 'company_url': 'https://career.luxoft.com/locations/poland/',\n",
              " 'company_size': '1500 ',\n",
              " 'experience_level': 'mid',\n",
              " 'latitude': '52.2302091',\n",
              " 'longitude': '21.0113922',\n",
              " 'published_at': '2023-02-26T13:00:11.131Z',\n",
              " 'remote_interview': False,\n",
              " 'open_to_hire_ukrainians': False,\n",
              " 'id': 'luxoft-poland-java-developer-in-test',\n",
              " 'display_offer': True,\n",
              " 'employment_types': [{'type': 'permanent', 'salary': None}],\n",
              " 'company_logo_url': 'https://bucket.justjoin.it/offers/company_logos/thumb/8c5c2f629de112201f71fd9cc5c919f8c179d264.png?1676378768',\n",
              " 'skills': [{'name': 'JMeter', 'level': 3},\n",
              "  {'name': 'Selenium', 'level': 3},\n",
              "  {'name': 'Java', 'level': 3}],\n",
              " 'remote': True,\n",
              " 'multilocation': [{'city': 'Warszawa',\n",
              "   'slug': 'luxoft-poland-java-developer-in-test',\n",
              "   'street': 'centrum'},\n",
              "  {'city': 'Zielona Góra',\n",
              "   'slug': 'luxoft-poland-java-developer-in-test-zielona-gora',\n",
              "   'street': 'centrum'},\n",
              "  {'city': 'Bielsko-Biała',\n",
              "   'slug': 'luxoft-poland-java-developer-in-test-bielsko-biala',\n",
              "   'street': 'centrum'},\n",
              "  {'city': 'Białystok',\n",
              "   'slug': 'luxoft-poland-java-developer-in-test-bialystok',\n",
              "   'street': 'centrum'},\n",
              "  {'city': 'Gorzów Wielkopolski',\n",
              "   'slug': 'luxoft-poland-java-developer-in-test-gorzow-wielkopolski',\n",
              "   'street': 'centrum'},\n",
              "  {'city': 'Olsztyn',\n",
              "   'slug': 'luxoft-poland-java-developer-in-test-olsztyn',\n",
              "   'street': 'centrum'},\n",
              "  {'city': 'Bydgoszcz',\n",
              "   'slug': 'luxoft-poland-java-developer-in-test-bydgoszcz',\n",
              "   'street': 'centrum'},\n",
              "  {'city': 'Kielce',\n",
              "   'slug': 'luxoft-poland-java-developer-in-test-kielce',\n",
              "   'street': 'centrum'},\n",
              "  {'city': 'Lublin',\n",
              "   'slug': 'luxoft-poland-java-developer-in-test-lublin',\n",
              "   'street': 'centrum'},\n",
              "  {'city': 'Szczecin',\n",
              "   'slug': 'luxoft-poland-java-developer-in-test-szczecin',\n",
              "   'street': 'centrum'},\n",
              "  {'city': 'Kraków',\n",
              "   'slug': 'luxoft-poland-java-developer-in-test-krakow',\n",
              "   'street': 'centrum'},\n",
              "  {'city': 'Poznań',\n",
              "   'slug': 'luxoft-poland-java-developer-in-test-poznan',\n",
              "   'street': 'centrum'},\n",
              "  {'city': 'Toruń',\n",
              "   'slug': 'luxoft-poland-java-developer-in-test-torun',\n",
              "   'street': 'centrum'},\n",
              "  {'city': 'Wrocław',\n",
              "   'slug': 'luxoft-poland-java-developer-in-test-wroclaw',\n",
              "   'street': 'centrum'},\n",
              "  {'city': 'Gdańsk',\n",
              "   'slug': 'luxoft-poland-java-developer-in-test-gdansk',\n",
              "   'street': 'centrum'},\n",
              "  {'city': 'Łódź',\n",
              "   'slug': 'luxoft-poland-java-developer-in-test-lodz',\n",
              "   'street': 'centrum'},\n",
              "  {'city': 'Opole',\n",
              "   'slug': 'luxoft-poland-java-developer-in-test-opole',\n",
              "   'street': 'centrum'},\n",
              "  {'city': 'Katowice',\n",
              "   'slug': 'luxoft-poland-java-developer-in-test-katowice',\n",
              "   'street': 'centrum'},\n",
              "  {'city': 'Rzeszów',\n",
              "   'slug': 'luxoft-poland-java-developer-in-test-rzeszow',\n",
              "   'street': 'centrum'}],\n",
              " 'way_of_apply': 'form'}"
            ]
          },
          "metadata": {},
          "execution_count": 5
        }
      ]
    },
    {
      "cell_type": "code",
      "source": [
        "data[103]"
      ],
      "metadata": {
        "colab": {
          "base_uri": "https://localhost:8080/"
        },
        "id": "kIz4W1Tbr6jJ",
        "outputId": "98b477d4-216a-4a76-f08f-ad8cbd2125b2"
      },
      "execution_count": 6,
      "outputs": [
        {
          "output_type": "execute_result",
          "data": {
            "text/plain": [
              "{'title': 'Webmaster / PHP Developer',\n",
              " 'street': 'Przyokopowa 33',\n",
              " 'city': 'Warszawa',\n",
              " 'country_code': 'PL',\n",
              " 'address_text': 'Przyokopowa 33, Warszawa',\n",
              " 'marker_icon': 'php',\n",
              " 'workplace_type': 'partly_remote',\n",
              " 'company_name': 'Instytut Monitorowania Mediów S.A.',\n",
              " 'company_url': 'https://www.imm.com.pl/',\n",
              " 'company_size': '100+',\n",
              " 'experience_level': 'mid',\n",
              " 'latitude': '52.2314807',\n",
              " 'longitude': '20.9802472',\n",
              " 'published_at': '2023-02-26T12:00:14.570Z',\n",
              " 'remote_interview': True,\n",
              " 'open_to_hire_ukrainians': False,\n",
              " 'id': 'instytut-monitorowania-mediow-s-a-webmaster-php-developer',\n",
              " 'display_offer': True,\n",
              " 'employment_types': [{'type': 'permanent', 'salary': None}],\n",
              " 'company_logo_url': 'https://bucket.justjoin.it/offers/company_logos/thumb/d12745ac34988749138ca1c654e99b736e96e022.png?1676626098',\n",
              " 'skills': [{'name': 'CSS', 'level': 3},\n",
              "  {'name': 'WordPress', 'level': 3},\n",
              "  {'name': 'HTML', 'level': 3}],\n",
              " 'remote': False,\n",
              " 'multilocation': [{'city': 'Warszawa',\n",
              "   'street': 'Przyokopowa 33',\n",
              "   'slug': 'instytut-monitorowania-mediow-s-a-webmaster-php-developer'}],\n",
              " 'way_of_apply': 'form'}"
            ]
          },
          "metadata": {},
          "execution_count": 6
        }
      ]
    },
    {
      "cell_type": "code",
      "source": [
        "df = json_normalize(data)"
      ],
      "metadata": {
        "id": "4MZIV3PytgVe"
      },
      "execution_count": 7,
      "outputs": []
    },
    {
      "cell_type": "markdown",
      "source": [
        "# EDA"
      ],
      "metadata": {
        "id": "oObeOpr84_ac"
      }
    },
    {
      "cell_type": "code",
      "source": [
        "df.info()"
      ],
      "metadata": {
        "colab": {
          "base_uri": "https://localhost:8080/"
        },
        "id": "c3QVLlPM0YCT",
        "outputId": "0003422e-3feb-4dbd-8a52-b68540f1a8a3"
      },
      "execution_count": 8,
      "outputs": [
        {
          "output_type": "stream",
          "name": "stdout",
          "text": [
            "<class 'pandas.core.frame.DataFrame'>\n",
            "RangeIndex: 14925 entries, 0 to 14924\n",
            "Data columns (total 24 columns):\n",
            " #   Column                   Non-Null Count  Dtype \n",
            "---  ------                   --------------  ----- \n",
            " 0   title                    14925 non-null  object\n",
            " 1   street                   14925 non-null  object\n",
            " 2   city                     14925 non-null  object\n",
            " 3   country_code             14920 non-null  object\n",
            " 4   address_text             14925 non-null  object\n",
            " 5   marker_icon              14925 non-null  object\n",
            " 6   workplace_type           14925 non-null  object\n",
            " 7   company_name             14925 non-null  object\n",
            " 8   company_url              14925 non-null  object\n",
            " 9   company_size             14925 non-null  object\n",
            " 10  experience_level         14925 non-null  object\n",
            " 11  latitude                 14925 non-null  object\n",
            " 12  longitude                14925 non-null  object\n",
            " 13  published_at             14925 non-null  object\n",
            " 14  remote_interview         14925 non-null  bool  \n",
            " 15  open_to_hire_ukrainians  14925 non-null  bool  \n",
            " 16  id                       14925 non-null  object\n",
            " 17  display_offer            14925 non-null  bool  \n",
            " 18  employment_types         14925 non-null  object\n",
            " 19  company_logo_url         14925 non-null  object\n",
            " 20  skills                   14925 non-null  object\n",
            " 21  remote                   14925 non-null  bool  \n",
            " 22  multilocation            14925 non-null  object\n",
            " 23  way_of_apply             14925 non-null  object\n",
            "dtypes: bool(4), object(20)\n",
            "memory usage: 2.3+ MB\n"
          ]
        }
      ]
    },
    {
      "cell_type": "code",
      "source": [
        "df.workplace_type.hist()"
      ],
      "metadata": {
        "colab": {
          "base_uri": "https://localhost:8080/",
          "height": 283
        },
        "id": "Xeufp_gd5HiU",
        "outputId": "5caddb9a-cb7e-4a92-ade4-1748578d4b49"
      },
      "execution_count": 9,
      "outputs": [
        {
          "output_type": "execute_result",
          "data": {
            "text/plain": [
              "<AxesSubplot:>"
            ]
          },
          "metadata": {},
          "execution_count": 9
        },
        {
          "output_type": "display_data",
          "data": {
            "text/plain": [
              "<Figure size 432x288 with 1 Axes>"
            ],
            "image/png": "[encoded data removed]"
          },
          "metadata": {
            "needs_background": "light"
          }
        }
      ]
    },
    {
      "cell_type": "code",
      "source": [
        "df.title.describe()"
      ],
      "metadata": {
        "colab": {
          "base_uri": "https://localhost:8080/"
        },
        "id": "wpkMDHvh67ik",
        "outputId": "772e4abe-e250-4717-8a4f-4ca72c91993f"
      },
      "execution_count": 10,
      "outputs": [
        {
          "output_type": "execute_result",
          "data": {
            "text/plain": [
              "count               14925\n",
              "unique               2412\n",
              "top       DevOps Engineer\n",
              "freq                  273\n",
              "Name: title, dtype: object"
            ]
          },
          "metadata": {},
          "execution_count": 10
        }
      ]
    },
    {
      "cell_type": "code",
      "source": [
        "df.company_size.describe()"
      ],
      "metadata": {
        "colab": {
          "base_uri": "https://localhost:8080/"
        },
        "id": "IVxYt9Z0-jDo",
        "outputId": "aa259211-dd62-40c4-a096-07fb8dd6dabd"
      },
      "execution_count": 11,
      "outputs": [
        {
          "output_type": "execute_result",
          "data": {
            "text/plain": [
              "count     14925\n",
              "unique      377\n",
              "top        100+\n",
              "freq        674\n",
              "Name: company_size, dtype: object"
            ]
          },
          "metadata": {},
          "execution_count": 11
        }
      ]
    },
    {
      "cell_type": "code",
      "source": [
        "df.company_name.describe()"
      ],
      "metadata": {
        "colab": {
          "base_uri": "https://localhost:8080/"
        },
        "id": "bJxn3FEeAJr4",
        "outputId": "c0994641-d66b-4f83-80cb-a6cb74cf542e"
      },
      "execution_count": 12,
      "outputs": [
        {
          "output_type": "execute_result",
          "data": {
            "text/plain": [
              "count     14925\n",
              "unique     1218\n",
              "top       WIPRO\n",
              "freq        342\n",
              "Name: company_name, dtype: object"
            ]
          },
          "metadata": {},
          "execution_count": 12
        }
      ]
    },
    {
      "cell_type": "markdown",
      "source": [
        "#### Remove non-PL jobs\n"
      ],
      "metadata": {
        "id": "8Lv4DAEL1gNw"
      }
    },
    {
      "cell_type": "code",
      "source": [
        "df.country_code.describe()"
      ],
      "metadata": {
        "colab": {
          "base_uri": "https://localhost:8080/"
        },
        "id": "U4HwTIFn1F0P",
        "outputId": "b7d9aa94-7f28-450e-f23b-ab899ad1d4d5"
      },
      "execution_count": 13,
      "outputs": [
        {
          "output_type": "execute_result",
          "data": {
            "text/plain": [
              "count     14920\n",
              "unique       33\n",
              "top          PL\n",
              "freq      14620\n",
              "Name: country_code, dtype: object"
            ]
          },
          "metadata": {},
          "execution_count": 13
        }
      ]
    },
    {
      "cell_type": "code",
      "source": [
        "df = df[df.country_code == 'PL']"
      ],
      "metadata": {
        "id": "tgOkrKtd1eZ-"
      },
      "execution_count": 14,
      "outputs": []
    },
    {
      "cell_type": "code",
      "source": [
        "df.shape"
      ],
      "metadata": {
        "colab": {
          "base_uri": "https://localhost:8080/"
        },
        "id": "12CTt6W71qB0",
        "outputId": "a38a4410-09cd-4078-ab88-8d2ccd539e7d"
      },
      "execution_count": 15,
      "outputs": [
        {
          "output_type": "execute_result",
          "data": {
            "text/plain": [
              "(14620, 24)"
            ]
          },
          "metadata": {},
          "execution_count": 15
        }
      ]
    },
    {
      "cell_type": "markdown",
      "source": [
        "### Process employment_types"
      ],
      "metadata": {
        "id": "jnq5dCVDlXXv"
      }
    },
    {
      "cell_type": "code",
      "source": [
        "df.employment_types[3715]"
      ],
      "metadata": {
        "colab": {
          "base_uri": "https://localhost:8080/"
        },
        "id": "V8Bxt9CqdQTH",
        "outputId": "cb344b33-7dfc-4fcf-c288-6c6b9924faa1"
      },
      "execution_count": 16,
      "outputs": [
        {
          "output_type": "execute_result",
          "data": {
            "text/plain": [
              "[{'type': 'b2b', 'salary': {'from': 10000, 'to': 15000, 'currency': 'pln'}}]"
            ]
          },
          "metadata": {},
          "execution_count": 16
        }
      ]
    },
    {
      "cell_type": "code",
      "source": [
        "new_df = pd.DataFrame(columns=df.columns)\n",
        "for i, employment_types in enumerate(df.employment_types):\n",
        "  for x in employment_types:\n",
        "    try:\n",
        "      temp = df[i:i + 1]\n",
        "      employment_dict = json.loads(str(x).replace('\\'', '\"'))\n",
        "      temp.loc[:, [\"contract_type\", \"from\", \"to\", \"currency\"]] = [employment_dict['type'], employment_dict['salary']['from'], employment_dict['salary']['to'], employment_dict['salary']['currency']]\n",
        "      new_df = new_df.append(temp)\n",
        "    except:\n",
        "      pass\n",
        "      #print(f'Fail - {x}')"
      ],
      "metadata": {
        "colab": {
          "base_uri": "https://localhost:8080/"
        },
        "id": "pqhWCeTDNGym",
        "outputId": "925629a4-6d08-4bc0-d2fe-1b916c8afd35"
      },
      "execution_count": 17,
      "outputs": [
        {
          "output_type": "stream",
          "name": "stderr",
          "text": [
            "/usr/local/lib/python3.8/dist-packages/pandas/core/indexing.py:1797: SettingWithCopyWarning: \n",
            "A value is trying to be set on a copy of a slice from a DataFrame.\n",
            "Try using .loc[row_indexer,col_indexer] = value instead\n",
            "\n",
            "See the caveats in the documentation: https://pandas.pydata.org/pandas-docs/stable/user_guide/indexing.html#returning-a-view-versus-a-copy\n",
            "  self._setitem_single_column(loc, v, pi)\n"
          ]
        }
      ]
    },
    {
      "cell_type": "code",
      "source": [
        "new_df.head()"
      ],
      "metadata": {
        "colab": {
          "base_uri": "https://localhost:8080/",
          "height": 646
        },
        "id": "NFO47lAIRLIw",
        "outputId": "f60bcbd2-5e55-4839-f913-9ff25464b8e7"
      },
      "execution_count": 18,
      "outputs": [
        {
          "output_type": "execute_result",
          "data": {
            "text/plain": [
              "                          title                  street      city  \\\n",
              "1               Project Manager  Al. Jerozolimskie 47/8  Warszawa   \n",
              "3                Data Scientist                 Centrum    Kraków   \n",
              "4      Senior Big Data Engineer                  50-077   Wrocław   \n",
              "4      Senior Big Data Engineer                  50-077   Wrocław   \n",
              "6  Regular Full Stack Developer                Inflacka  Warszawa   \n",
              "\n",
              "  country_code                      address_text marker_icon workplace_type  \\\n",
              "1           PL  Al. Jerozolimskie 47/8, Warszawa          pm         remote   \n",
              "3           PL                   Centrum, Kraków        data         remote   \n",
              "4           PL                   50-077, Wrocław        data         remote   \n",
              "4           PL                   50-077, Wrocław        data         remote   \n",
              "6           PL                Inflacka, Warszawa         net  partly_remote   \n",
              "\n",
              "          company_name              company_url company_size  ...  \\\n",
              "1  Panowie Programiści  http://p-programisci.pl        25-30  ...   \n",
              "3                 ITDS       http://www.itds.pl         200+  ...   \n",
              "4      Maandag® Poland  https://www.maandag.pl/          50+  ...   \n",
              "4      Maandag® Poland  https://www.maandag.pl/          50+  ...   \n",
              "6                 KPMG       http://www.kpmg.pl         2000  ...   \n",
              "\n",
              "                                    employment_types  \\\n",
              "1  [{'type': 'b2b', 'salary': {'from': 8000, 'to'...   \n",
              "3  [{'type': 'b2b', 'salary': {'from': 16000, 'to...   \n",
              "4  [{'type': 'b2b', 'salary': {'from': 24000, 'to...   \n",
              "4  [{'type': 'b2b', 'salary': {'from': 24000, 'to...   \n",
              "6  [{'type': 'permanent', 'salary': {'from': 9700...   \n",
              "\n",
              "                                    company_logo_url  \\\n",
              "1  https://bucket.justjoin.it/offers/company_logo...   \n",
              "3  https://bucket.justjoin.it/offers/company_logo...   \n",
              "4  https://bucket.justjoin.it/offers/company_logo...   \n",
              "4  https://bucket.justjoin.it/offers/company_logo...   \n",
              "6  https://bucket.justjoin.it/offers/company_logo...   \n",
              "\n",
              "                                              skills remote  \\\n",
              "1  [{'name': 'Trello', 'level': 3}, {'name': 'Not...   True   \n",
              "3  [{'name': 'Service Designer', 'level': 1}, {'n...   True   \n",
              "4  [{'name': 'Java', 'level': 4}, {'name': 'NoSQL...   True   \n",
              "4  [{'name': 'Java', 'level': 4}, {'name': 'NoSQL...   True   \n",
              "6  [{'name': 'SQL', 'level': 3}, {'name': 'C#', '...  False   \n",
              "\n",
              "                                       multilocation way_of_apply  \\\n",
              "1  [{'city': 'Kraków', 'slug': 'panowie-programis...     redirect   \n",
              "3  [{'city': 'Kraków', 'street': 'Centrum', 'slug...         form   \n",
              "4  [{'city': 'Wrocław', 'street': '50-077', 'slug...     redirect   \n",
              "4  [{'city': 'Wrocław', 'street': '50-077', 'slug...     redirect   \n",
              "6  [{'city': 'Warszawa', 'slug': 'kpmg-regular-fu...     redirect   \n",
              "\n",
              "  contract_type     from       to currency  \n",
              "1           b2b   8000.0  10000.0      pln  \n",
              "3           b2b  16000.0  21000.0      pln  \n",
              "4           b2b  24000.0  28800.0      pln  \n",
              "4     permanent  17500.0  20500.0      pln  \n",
              "6     permanent   9700.0  18000.0      pln  \n",
              "\n",
              "[5 rows x 28 columns]"
            ],
            "text/html": [
              "\n",
              "  <div id=\"df-f9e70369-1702-461d-9a82-e35bccf3560d\">\n",
              "    <div class=\"colab-df-container\">\n",
              "      <div>\n",
              "<style scoped>\n",
              "    .dataframe tbody tr th:only-of-type {\n",
              "        vertical-align: middle;\n",
              "    }\n",
              "\n",
              "    .dataframe tbody tr th {\n",
              "        vertical-align: top;\n",
              "    }\n",
              "\n",
              "    .dataframe thead th {\n",
              "        text-align: right;\n",
              "    }\n",
              "</style>\n",
              "<table border=\"1\" class=\"dataframe\">\n",
              "  <thead>\n",
              "    <tr style=\"text-align: right;\">\n",
              "      <th></th>\n",
              "      <th>title</th>\n",
              "      <th>street</th>\n",
              "      <th>city</th>\n",
              "      <th>country_code</th>\n",
              "      <th>address_text</th>\n",
              "      <th>marker_icon</th>\n",
              "      <th>workplace_type</th>\n",
              "      <th>company_name</th>\n",
              "      <th>company_url</th>\n",
              "      <th>company_size</th>\n",
              "      <th>...</th>\n",
              "      <th>employment_types</th>\n",
              "      <th>company_logo_url</th>\n",
              "      <th>skills</th>\n",
              "      <th>remote</th>\n",
              "      <th>multilocation</th>\n",
              "      <th>way_of_apply</th>\n",
              "      <th>contract_type</th>\n",
              "      <th>from</th>\n",
              "      <th>to</th>\n",
              "      <th>currency</th>\n",
              "    </tr>\n",
              "  </thead>\n",
              "  <tbody>\n",
              "    <tr>\n",
              "      <th>1</th>\n",
              "      <td>Project Manager</td>\n",
              "      <td>Al. Jerozolimskie 47/8</td>\n",
              "      <td>Warszawa</td>\n",
              "      <td>PL</td>\n",
              "      <td>Al. Jerozolimskie 47/8, Warszawa</td>\n",
              "      <td>pm</td>\n",
              "      <td>remote</td>\n",
              "      <td>Panowie Programiści</td>\n",
              "      <td>http://p-programisci.pl</td>\n",
              "      <td>25-30</td>\n",
              "      <td>...</td>\n",
              "      <td>[{'type': 'b2b', 'salary': {'from': 8000, 'to'...</td>\n",
              "      <td>https://bucket.justjoin.it/offers/company_logo...</td>\n",
              "      <td>[{'name': 'Trello', 'level': 3}, {'name': 'Not...</td>\n",
              "      <td>True</td>\n",
              "      <td>[{'city': 'Kraków', 'slug': 'panowie-programis...</td>\n",
              "      <td>redirect</td>\n",
              "      <td>b2b</td>\n",
              "      <td>8000.0</td>\n",
              "      <td>10000.0</td>\n",
              "      <td>pln</td>\n",
              "    </tr>\n",
              "    <tr>\n",
              "      <th>3</th>\n",
              "      <td>Data Scientist</td>\n",
              "      <td>Centrum</td>\n",
              "      <td>Kraków</td>\n",
              "      <td>PL</td>\n",
              "      <td>Centrum, Kraków</td>\n",
              "      <td>data</td>\n",
              "      <td>remote</td>\n",
              "      <td>ITDS</td>\n",
              "      <td>http://www.itds.pl</td>\n",
              "      <td>200+</td>\n",
              "      <td>...</td>\n",
              "      <td>[{'type': 'b2b', 'salary': {'from': 16000, 'to...</td>\n",
              "      <td>https://bucket.justjoin.it/offers/company_logo...</td>\n",
              "      <td>[{'name': 'Service Designer', 'level': 1}, {'n...</td>\n",
              "      <td>True</td>\n",
              "      <td>[{'city': 'Kraków', 'street': 'Centrum', 'slug...</td>\n",
              "      <td>form</td>\n",
              "      <td>b2b</td>\n",
              "      <td>16000.0</td>\n",
              "      <td>21000.0</td>\n",
              "      <td>pln</td>\n",
              "    </tr>\n",
              "    <tr>\n",
              "      <th>4</th>\n",
              "      <td>Senior Big Data Engineer</td>\n",
              "      <td>50-077</td>\n",
              "      <td>Wrocław</td>\n",
              "      <td>PL</td>\n",
              "      <td>50-077, Wrocław</td>\n",
              "      <td>data</td>\n",
              "      <td>remote</td>\n",
              "      <td>Maandag® Poland</td>\n",
              "      <td>https://www.maandag.pl/</td>\n",
              "      <td>50+</td>\n",
              "      <td>...</td>\n",
              "      <td>[{'type': 'b2b', 'salary': {'from': 24000, 'to...</td>\n",
              "      <td>https://bucket.justjoin.it/offers/company_logo...</td>\n",
              "      <td>[{'name': 'Java', 'level': 4}, {'name': 'NoSQL...</td>\n",
              "      <td>True</td>\n",
              "      <td>[{'city': 'Wrocław', 'street': '50-077', 'slug...</td>\n",
              "      <td>redirect</td>\n",
              "      <td>b2b</td>\n",
              "      <td>24000.0</td>\n",
              "      <td>28800.0</td>\n",
              "      <td>pln</td>\n",
              "    </tr>\n",
              "    <tr>\n",
              "      <th>4</th>\n",
              "      <td>Senior Big Data Engineer</td>\n",
              "      <td>50-077</td>\n",
              "      <td>Wrocław</td>\n",
              "      <td>PL</td>\n",
              "      <td>50-077, Wrocław</td>\n",
              "      <td>data</td>\n",
              "      <td>remote</td>\n",
              "      <td>Maandag® Poland</td>\n",
              "      <td>https://www.maandag.pl/</td>\n",
              "      <td>50+</td>\n",
              "      <td>...</td>\n",
              "      <td>[{'type': 'b2b', 'salary': {'from': 24000, 'to...</td>\n",
              "      <td>https://bucket.justjoin.it/offers/company_logo...</td>\n",
              "      <td>[{'name': 'Java', 'level': 4}, {'name': 'NoSQL...</td>\n",
              "      <td>True</td>\n",
              "      <td>[{'city': 'Wrocław', 'street': '50-077', 'slug...</td>\n",
              "      <td>redirect</td>\n",
              "      <td>permanent</td>\n",
              "      <td>17500.0</td>\n",
              "      <td>20500.0</td>\n",
              "      <td>pln</td>\n",
              "    </tr>\n",
              "    <tr>\n",
              "      <th>6</th>\n",
              "      <td>Regular Full Stack Developer</td>\n",
              "      <td>Inflacka</td>\n",
              "      <td>Warszawa</td>\n",
              "      <td>PL</td>\n",
              "      <td>Inflacka, Warszawa</td>\n",
              "      <td>net</td>\n",
              "      <td>partly_remote</td>\n",
              "      <td>KPMG</td>\n",
              "      <td>http://www.kpmg.pl</td>\n",
              "      <td>2000</td>\n",
              "      <td>...</td>\n",
              "      <td>[{'type': 'permanent', 'salary': {'from': 9700...</td>\n",
              "      <td>https://bucket.justjoin.it/offers/company_logo...</td>\n",
              "      <td>[{'name': 'SQL', 'level': 3}, {'name': 'C#', '...</td>\n",
              "      <td>False</td>\n",
              "      <td>[{'city': 'Warszawa', 'slug': 'kpmg-regular-fu...</td>\n",
              "      <td>redirect</td>\n",
              "      <td>permanent</td>\n",
              "      <td>9700.0</td>\n",
              "      <td>18000.0</td>\n",
              "      <td>pln</td>\n",
              "    </tr>\n",
              "  </tbody>\n",
              "</table>\n",
              "<p>5 rows × 28 columns</p>\n",
              "</div>\n",
              "      <button class=\"colab-df-convert\" onclick=\"convertToInteractive('df-f9e70369-1702-461d-9a82-e35bccf3560d')\"\n",
              "              title=\"Convert this dataframe to an interactive table.\"\n",
              "              style=\"display:none;\">\n",
              "        \n",
              "  <svg xmlns=\"http://www.w3.org/2000/svg\" height=\"24px\"viewBox=\"0 0 24 24\"\n",
              "       width=\"24px\">\n",
              "    <path d=\"M0 0h24v24H0V0z\" fill=\"none\"/>\n",
              "    <path d=\"M18.56 5.44l.94 2.06.94-2.06 2.06-.94-2.06-.94-.94-2.06-.94 2.06-2.06.94zm-11 1L8.5 8.5l.94-2.06 2.06-.94-2.06-.94L8.5 2.5l-.94 2.06-2.06.94zm10 10l.94 2.06.94-2.06 2.06-.94-2.06-.94-.94-2.06-.94 2.06-2.06.94z\"/><path d=\"M17.41 7.96l-1.37-1.37c-.4-.4-.92-.59-1.43-.59-.52 0-1.04.2-1.43.59L10.3 9.45l-7.72 7.72c-.78.78-.78 2.05 0 2.83L4 21.41c.39.39.9.59 1.41.59.51 0 1.02-.2 1.41-.59l7.78-7.78 2.81-2.81c.8-.78.8-2.07 0-2.86zM5.41 20L4 18.59l7.72-7.72 1.47 1.35L5.41 20z\"/>\n",
              "  </svg>\n",
              "      </button>\n",
              "      \n",
              "  <style>\n",
              "    .colab-df-container {\n",
              "      display:flex;\n",
              "      flex-wrap:wrap;\n",
              "      gap: 12px;\n",
              "    }\n",
              "\n",
              "    .colab-df-convert {\n",
              "      background-color: #E8F0FE;\n",
              "      border: none;\n",
              "      border-radius: 50%;\n",
              "      cursor: pointer;\n",
              "      display: none;\n",
              "      fill: #1967D2;\n",
              "      height: 32px;\n",
              "      padding: 0 0 0 0;\n",
              "      width: 32px;\n",
              "    }\n",
              "\n",
              "    .colab-df-convert:hover {\n",
              "      background-color: #E2EBFA;\n",
              "      box-shadow: 0px 1px 2px rgba(60, 64, 67, 0.3), 0px 1px 3px 1px rgba(60, 64, 67, 0.15);\n",
              "      fill: #174EA6;\n",
              "    }\n",
              "\n",
              "    [theme=dark] .colab-df-convert {\n",
              "      background-color: #3B4455;\n",
              "      fill: #D2E3FC;\n",
              "    }\n",
              "\n",
              "    [theme=dark] .colab-df-convert:hover {\n",
              "      background-color: #434B5C;\n",
              "      box-shadow: 0px 1px 3px 1px rgba(0, 0, 0, 0.15);\n",
              "      filter: drop-shadow(0px 1px 2px rgba(0, 0, 0, 0.3));\n",
              "      fill: #FFFFFF;\n",
              "    }\n",
              "  </style>\n",
              "\n",
              "      <script>\n",
              "        const buttonEl =\n",
              "          document.querySelector('#df-f9e70369-1702-461d-9a82-e35bccf3560d button.colab-df-convert');\n",
              "        buttonEl.style.display =\n",
              "          google.colab.kernel.accessAllowed ? 'block' : 'none';\n",
              "\n",
              "        async function convertToInteractive(key) {\n",
              "          const element = document.querySelector('#df-f9e70369-1702-461d-9a82-e35bccf3560d');\n",
              "          const dataTable =\n",
              "            await google.colab.kernel.invokeFunction('convertToInteractive',\n",
              "                                                     [key], {});\n",
              "          if (!dataTable) return;\n",
              "\n",
              "          const docLinkHtml = 'Like what you see? Visit the ' +\n",
              "            '<a target=\"_blank\" href=https://colab.research.google.com/notebooks/data_table.ipynb>data table notebook</a>'\n",
              "            + ' to learn more about interactive tables.';\n",
              "          element.innerHTML = '';\n",
              "          dataTable['output_type'] = 'display_data';\n",
              "          await google.colab.output.renderOutput(dataTable, element);\n",
              "          const docLink = document.createElement('div');\n",
              "          docLink.innerHTML = docLinkHtml;\n",
              "          element.appendChild(docLink);\n",
              "        }\n",
              "      </script>\n",
              "    </div>\n",
              "  </div>\n",
              "  "
            ]
          },
          "metadata": {},
          "execution_count": 18
        }
      ]
    },
    {
      "cell_type": "markdown",
      "source": [
        "### Process skills"
      ],
      "metadata": {
        "id": "aYt824wsWWwi"
      }
    },
    {
      "cell_type": "code",
      "source": [
        "new_df.skills = [' '.join([skill['name'] for skill in skills]) for skills in new_df.skills]"
      ],
      "metadata": {
        "id": "M9drFsMiX2iR"
      },
      "execution_count": 19,
      "outputs": []
    },
    {
      "cell_type": "markdown",
      "source": [
        "### Remove non-pln currency"
      ],
      "metadata": {
        "id": "RCfHbZfnlyTQ"
      }
    },
    {
      "cell_type": "code",
      "source": [
        "new_df.currency.hist()"
      ],
      "metadata": {
        "colab": {
          "base_uri": "https://localhost:8080/",
          "height": 282
        },
        "id": "Qn1NW1KlWuCr",
        "outputId": "599e8c78-6abd-41d4-c687-bac5347d9791"
      },
      "execution_count": 20,
      "outputs": [
        {
          "output_type": "execute_result",
          "data": {
            "text/plain": [
              "<AxesSubplot:>"
            ]
          },
          "metadata": {},
          "execution_count": 20
        },
        {
          "output_type": "display_data",
          "data": {
            "text/plain": [
              "<Figure size 432x288 with 1 Axes>"
            ],
            "image/png": "[encoded data removed]"
          },
          "metadata": {
            "needs_background": "light"
          }
        }
      ]
    },
    {
      "cell_type": "code",
      "source": [
        "new_df = new_df[new_df['currency'] == 'pln']"
      ],
      "metadata": {
        "id": "x8fuiVlCl1j0"
      },
      "execution_count": 21,
      "outputs": []
    },
    {
      "cell_type": "code",
      "source": [
        "new_df.shape"
      ],
      "metadata": {
        "colab": {
          "base_uri": "https://localhost:8080/"
        },
        "id": "NvQwIJGTmFul",
        "outputId": "c92d5612-4a13-4b72-de6d-1b5acdb3deec"
      },
      "execution_count": 22,
      "outputs": [
        {
          "output_type": "execute_result",
          "data": {
            "text/plain": [
              "(11777, 28)"
            ]
          },
          "metadata": {},
          "execution_count": 22
        }
      ]
    },
    {
      "cell_type": "markdown",
      "source": [
        "### Drop columns"
      ],
      "metadata": {
        "id": "gRMEdSBIlNP-"
      }
    },
    {
      "cell_type": "code",
      "source": [
        "new_df.columns"
      ],
      "metadata": {
        "colab": {
          "base_uri": "https://localhost:8080/"
        },
        "id": "HvclrluJN4Jp",
        "outputId": "6bc1e19d-ad03-4544-8ad5-57f1aeebdb18"
      },
      "execution_count": 23,
      "outputs": [
        {
          "output_type": "execute_result",
          "data": {
            "text/plain": [
              "Index(['title', 'street', 'city', 'country_code', 'address_text',\n",
              "       'marker_icon', 'workplace_type', 'company_name', 'company_url',\n",
              "       'company_size', 'experience_level', 'latitude', 'longitude',\n",
              "       'published_at', 'remote_interview', 'open_to_hire_ukrainians', 'id',\n",
              "       'display_offer', 'employment_types', 'company_logo_url', 'skills',\n",
              "       'remote', 'multilocation', 'way_of_apply', 'contract_type', 'from',\n",
              "       'to', 'currency'],\n",
              "      dtype='object')"
            ]
          },
          "metadata": {},
          "execution_count": 23
        }
      ]
    },
    {
      "cell_type": "code",
      "source": [
        "drop_columns = [\n",
        "    'street',\n",
        "    'address_text',\n",
        "    'company_url',\n",
        "    'country_code',\n",
        "    'latitude',\n",
        "    'longitude',\n",
        "    'published_at',\n",
        "    'employment_types',\n",
        "    'open_to_hire_ukrainians',\n",
        "    'id',\n",
        "    'display_offer',\n",
        "    'company_logo_url',\n",
        "    'remote_interview',\n",
        "    'remote',\n",
        "    'multilocation',\n",
        "    'currency',\n",
        "    'way_of_apply',\n",
        "    'company_size'\n",
        "]"
      ],
      "metadata": {
        "id": "S32aUulHlRqE"
      },
      "execution_count": 24,
      "outputs": []
    },
    {
      "cell_type": "code",
      "source": [
        "new_df.drop(drop_columns, axis=1)"
      ],
      "metadata": {
        "colab": {
          "base_uri": "https://localhost:8080/",
          "height": 658
        },
        "id": "4ik2cRO7lSjN",
        "outputId": "ceae3cd6-6563-4700-c9aa-398f9397d7da"
      },
      "execution_count": 26,
      "outputs": [
        {
          "output_type": "execute_result",
          "data": {
            "text/plain": [
              "                              title      city marker_icon workplace_type  \\\n",
              "1                   Project Manager  Warszawa          pm         remote   \n",
              "3                    Data Scientist    Kraków        data         remote   \n",
              "4          Senior Big Data Engineer   Wrocław        data         remote   \n",
              "4          Senior Big Data Engineer   Wrocław        data         remote   \n",
              "6      Regular Full Stack Developer  Warszawa         net  partly_remote   \n",
              "...                             ...       ...         ...            ...   \n",
              "14919               Adobe Developer   Wrocław       other         remote   \n",
              "14921          Mid Python Developer   Wrocław      python         remote   \n",
              "14922         Mid Flutter Developer    Gdańsk      mobile  partly_remote   \n",
              "14923           Mid React Developer    Gdańsk  javascript         remote   \n",
              "14924         Senior Java Developer   Gliwice        java         remote   \n",
              "\n",
              "                 company_name experience_level  \\\n",
              "1         Panowie Programiści              mid   \n",
              "3                        ITDS              mid   \n",
              "4             Maandag® Poland           senior   \n",
              "4             Maandag® Poland           senior   \n",
              "6                        KPMG              mid   \n",
              "...                       ...              ...   \n",
              "14919  Experis Manpower Group           senior   \n",
              "14921                sky gate              mid   \n",
              "14922                sky gate              mid   \n",
              "14923                sky gate              mid   \n",
              "14924                  Devire           senior   \n",
              "\n",
              "                                   skills contract_type     from       to  \n",
              "1                      Trello Notion JIRA           b2b   8000.0  10000.0  \n",
              "3      Service Designer Data Science Data           b2b  16000.0  21000.0  \n",
              "4                     Java NoSQL Big Data           b2b  24000.0  28800.0  \n",
              "4                     Java NoSQL Big Data     permanent  17500.0  20500.0  \n",
              "6             SQL C# Software Development     permanent   9700.0  18000.0  \n",
              "...                                   ...           ...      ...      ...  \n",
              "14919         Adobe Campaign Adobe Target           b2b  26880.0  30240.0  \n",
              "14921                  Django GitFLow Git           b2b   8000.0  16000.0  \n",
              "14922             REST API GitHub Flutter     permanent   9000.0  18000.0  \n",
              "14923             GitHub React JavaScript     permanent   9000.0  18000.0  \n",
              "14924                    JPA Java EE Java           b2b  21840.0  26880.0  \n",
              "\n",
              "[11777 rows x 10 columns]"
            ],
            "text/html": [
              "\n",
              "  <div id=\"df-28802275-6459-4969-ac3b-fd927d219170\">\n",
              "    <div class=\"colab-df-container\">\n",
              "      <div>\n",
              "<style scoped>\n",
              "    .dataframe tbody tr th:only-of-type {\n",
              "        vertical-align: middle;\n",
              "    }\n",
              "\n",
              "    .dataframe tbody tr th {\n",
              "        vertical-align: top;\n",
              "    }\n",
              "\n",
              "    .dataframe thead th {\n",
              "        text-align: right;\n",
              "    }\n",
              "</style>\n",
              "<table border=\"1\" class=\"dataframe\">\n",
              "  <thead>\n",
              "    <tr style=\"text-align: right;\">\n",
              "      <th></th>\n",
              "      <th>title</th>\n",
              "      <th>city</th>\n",
              "      <th>marker_icon</th>\n",
              "      <th>workplace_type</th>\n",
              "      <th>company_name</th>\n",
              "      <th>experience_level</th>\n",
              "      <th>skills</th>\n",
              "      <th>contract_type</th>\n",
              "      <th>from</th>\n",
              "      <th>to</th>\n",
              "    </tr>\n",
              "  </thead>\n",
              "  <tbody>\n",
              "    <tr>\n",
              "      <th>1</th>\n",
              "      <td>Project Manager</td>\n",
              "      <td>Warszawa</td>\n",
              "      <td>pm</td>\n",
              "      <td>remote</td>\n",
              "      <td>Panowie Programiści</td>\n",
              "      <td>mid</td>\n",
              "      <td>Trello Notion JIRA</td>\n",
              "      <td>b2b</td>\n",
              "      <td>8000.0</td>\n",
              "      <td>10000.0</td>\n",
              "    </tr>\n",
              "    <tr>\n",
              "      <th>3</th>\n",
              "      <td>Data Scientist</td>\n",
              "      <td>Kraków</td>\n",
              "      <td>data</td>\n",
              "      <td>remote</td>\n",
              "      <td>ITDS</td>\n",
              "      <td>mid</td>\n",
              "      <td>Service Designer Data Science Data</td>\n",
              "      <td>b2b</td>\n",
              "      <td>16000.0</td>\n",
              "      <td>21000.0</td>\n",
              "    </tr>\n",
              "    <tr>\n",
              "      <th>4</th>\n",
              "      <td>Senior Big Data Engineer</td>\n",
              "      <td>Wrocław</td>\n",
              "      <td>data</td>\n",
              "      <td>remote</td>\n",
              "      <td>Maandag® Poland</td>\n",
              "      <td>senior</td>\n",
              "      <td>Java NoSQL Big Data</td>\n",
              "      <td>b2b</td>\n",
              "      <td>24000.0</td>\n",
              "      <td>28800.0</td>\n",
              "    </tr>\n",
              "    <tr>\n",
              "      <th>4</th>\n",
              "      <td>Senior Big Data Engineer</td>\n",
              "      <td>Wrocław</td>\n",
              "      <td>data</td>\n",
              "      <td>remote</td>\n",
              "      <td>Maandag® Poland</td>\n",
              "      <td>senior</td>\n",
              "      <td>Java NoSQL Big Data</td>\n",
              "      <td>permanent</td>\n",
              "      <td>17500.0</td>\n",
              "      <td>20500.0</td>\n",
              "    </tr>\n",
              "    <tr>\n",
              "      <th>6</th>\n",
              "      <td>Regular Full Stack Developer</td>\n",
              "      <td>Warszawa</td>\n",
              "      <td>net</td>\n",
              "      <td>partly_remote</td>\n",
              "      <td>KPMG</td>\n",
              "      <td>mid</td>\n",
              "      <td>SQL C# Software Development</td>\n",
              "      <td>permanent</td>\n",
              "      <td>9700.0</td>\n",
              "      <td>18000.0</td>\n",
              "    </tr>\n",
              "    <tr>\n",
              "      <th>...</th>\n",
              "      <td>...</td>\n",
              "      <td>...</td>\n",
              "      <td>...</td>\n",
              "      <td>...</td>\n",
              "      <td>...</td>\n",
              "      <td>...</td>\n",
              "      <td>...</td>\n",
              "      <td>...</td>\n",
              "      <td>...</td>\n",
              "      <td>...</td>\n",
              "    </tr>\n",
              "    <tr>\n",
              "      <th>14919</th>\n",
              "      <td>Adobe Developer</td>\n",
              "      <td>Wrocław</td>\n",
              "      <td>other</td>\n",
              "      <td>remote</td>\n",
              "      <td>Experis Manpower Group</td>\n",
              "      <td>senior</td>\n",
              "      <td>Adobe Campaign Adobe Target</td>\n",
              "      <td>b2b</td>\n",
              "      <td>26880.0</td>\n",
              "      <td>30240.0</td>\n",
              "    </tr>\n",
              "    <tr>\n",
              "      <th>14921</th>\n",
              "      <td>Mid Python Developer</td>\n",
              "      <td>Wrocław</td>\n",
              "      <td>python</td>\n",
              "      <td>remote</td>\n",
              "      <td>sky gate</td>\n",
              "      <td>mid</td>\n",
              "      <td>Django GitFLow Git</td>\n",
              "      <td>b2b</td>\n",
              "      <td>8000.0</td>\n",
              "      <td>16000.0</td>\n",
              "    </tr>\n",
              "    <tr>\n",
              "      <th>14922</th>\n",
              "      <td>Mid Flutter Developer</td>\n",
              "      <td>Gdańsk</td>\n",
              "      <td>mobile</td>\n",
              "      <td>partly_remote</td>\n",
              "      <td>sky gate</td>\n",
              "      <td>mid</td>\n",
              "      <td>REST API GitHub Flutter</td>\n",
              "      <td>permanent</td>\n",
              "      <td>9000.0</td>\n",
              "      <td>18000.0</td>\n",
              "    </tr>\n",
              "    <tr>\n",
              "      <th>14923</th>\n",
              "      <td>Mid React Developer</td>\n",
              "      <td>Gdańsk</td>\n",
              "      <td>javascript</td>\n",
              "      <td>remote</td>\n",
              "      <td>sky gate</td>\n",
              "      <td>mid</td>\n",
              "      <td>GitHub React JavaScript</td>\n",
              "      <td>permanent</td>\n",
              "      <td>9000.0</td>\n",
              "      <td>18000.0</td>\n",
              "    </tr>\n",
              "    <tr>\n",
              "      <th>14924</th>\n",
              "      <td>Senior Java Developer</td>\n",
              "      <td>Gliwice</td>\n",
              "      <td>java</td>\n",
              "      <td>remote</td>\n",
              "      <td>Devire</td>\n",
              "      <td>senior</td>\n",
              "      <td>JPA Java EE Java</td>\n",
              "      <td>b2b</td>\n",
              "      <td>21840.0</td>\n",
              "      <td>26880.0</td>\n",
              "    </tr>\n",
              "  </tbody>\n",
              "</table>\n",
              "<p>11777 rows × 10 columns</p>\n",
              "</div>\n",
              "      <button class=\"colab-df-convert\" onclick=\"convertToInteractive('df-28802275-6459-4969-ac3b-fd927d219170')\"\n",
              "              title=\"Convert this dataframe to an interactive table.\"\n",
              "              style=\"display:none;\">\n",
              "        \n",
              "  <svg xmlns=\"http://www.w3.org/2000/svg\" height=\"24px\"viewBox=\"0 0 24 24\"\n",
              "       width=\"24px\">\n",
              "    <path d=\"M0 0h24v24H0V0z\" fill=\"none\"/>\n",
              "    <path d=\"M18.56 5.44l.94 2.06.94-2.06 2.06-.94-2.06-.94-.94-2.06-.94 2.06-2.06.94zm-11 1L8.5 8.5l.94-2.06 2.06-.94-2.06-.94L8.5 2.5l-.94 2.06-2.06.94zm10 10l.94 2.06.94-2.06 2.06-.94-2.06-.94-.94-2.06-.94 2.06-2.06.94z\"/><path d=\"M17.41 7.96l-1.37-1.37c-.4-.4-.92-.59-1.43-.59-.52 0-1.04.2-1.43.59L10.3 9.45l-7.72 7.72c-.78.78-.78 2.05 0 2.83L4 21.41c.39.39.9.59 1.41.59.51 0 1.02-.2 1.41-.59l7.78-7.78 2.81-2.81c.8-.78.8-2.07 0-2.86zM5.41 20L4 18.59l7.72-7.72 1.47 1.35L5.41 20z\"/>\n",
              "  </svg>\n",
              "      </button>\n",
              "      \n",
              "  <style>\n",
              "    .colab-df-container {\n",
              "      display:flex;\n",
              "      flex-wrap:wrap;\n",
              "      gap: 12px;\n",
              "    }\n",
              "\n",
              "    .colab-df-convert {\n",
              "      background-color: #E8F0FE;\n",
              "      border: none;\n",
              "      border-radius: 50%;\n",
              "      cursor: pointer;\n",
              "      display: none;\n",
              "      fill: #1967D2;\n",
              "      height: 32px;\n",
              "      padding: 0 0 0 0;\n",
              "      width: 32px;\n",
              "    }\n",
              "\n",
              "    .colab-df-convert:hover {\n",
              "      background-color: #E2EBFA;\n",
              "      box-shadow: 0px 1px 2px rgba(60, 64, 67, 0.3), 0px 1px 3px 1px rgba(60, 64, 67, 0.15);\n",
              "      fill: #174EA6;\n",
              "    }\n",
              "\n",
              "    [theme=dark] .colab-df-convert {\n",
              "      background-color: #3B4455;\n",
              "      fill: #D2E3FC;\n",
              "    }\n",
              "\n",
              "    [theme=dark] .colab-df-convert:hover {\n",
              "      background-color: #434B5C;\n",
              "      box-shadow: 0px 1px 3px 1px rgba(0, 0, 0, 0.15);\n",
              "      filter: drop-shadow(0px 1px 2px rgba(0, 0, 0, 0.3));\n",
              "      fill: #FFFFFF;\n",
              "    }\n",
              "  </style>\n",
              "\n",
              "      <script>\n",
              "        const buttonEl =\n",
              "          document.querySelector('#df-28802275-6459-4969-ac3b-fd927d219170 button.colab-df-convert');\n",
              "        buttonEl.style.display =\n",
              "          google.colab.kernel.accessAllowed ? 'block' : 'none';\n",
              "\n",
              "        async function convertToInteractive(key) {\n",
              "          const element = document.querySelector('#df-28802275-6459-4969-ac3b-fd927d219170');\n",
              "          const dataTable =\n",
              "            await google.colab.kernel.invokeFunction('convertToInteractive',\n",
              "                                                     [key], {});\n",
              "          if (!dataTable) return;\n",
              "\n",
              "          const docLinkHtml = 'Like what you see? Visit the ' +\n",
              "            '<a target=\"_blank\" href=https://colab.research.google.com/notebooks/data_table.ipynb>data table notebook</a>'\n",
              "            + ' to learn more about interactive tables.';\n",
              "          element.innerHTML = '';\n",
              "          dataTable['output_type'] = 'display_data';\n",
              "          await google.colab.output.renderOutput(dataTable, element);\n",
              "          const docLink = document.createElement('div');\n",
              "          docLink.innerHTML = docLinkHtml;\n",
              "          element.appendChild(docLink);\n",
              "        }\n",
              "      </script>\n",
              "    </div>\n",
              "  </div>\n",
              "  "
            ]
          },
          "metadata": {},
          "execution_count": 26
        }
      ]
    },
    {
      "cell_type": "code",
      "source": [],
      "metadata": {
        "id": "r_-1hechla8J"
      },
      "execution_count": 25,
      "outputs": []
    }
  ]
}